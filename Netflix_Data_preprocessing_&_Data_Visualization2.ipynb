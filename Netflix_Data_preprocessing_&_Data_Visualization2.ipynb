{
  "nbformat": 4,
  "nbformat_minor": 0,
  "metadata": {
    "colab": {
      "provenance": []
    },
    "kernelspec": {
      "name": "python3",
      "display_name": "Python 3"
    },
    "language_info": {
      "name": "python"
    }
  },
  "cells": [
    {
      "cell_type": "markdown",
      "source": [
        "# Importing Libraries"
      ],
      "metadata": {
        "id": "9vH6--wR8GZE"
      }
    },
    {
      "cell_type": "code",
      "execution_count": null,
      "metadata": {
        "id": "XYNHMqp58AZV"
      },
      "outputs": [],
      "source": [
        "from pylab import *\n",
        "import pandas as pd"
      ]
    },
    {
      "cell_type": "markdown",
      "source": [
        "# Loading Dataset"
      ],
      "metadata": {
        "id": "ZXYFRXIt8Nhu"
      }
    },
    {
      "cell_type": "code",
      "source": [
        "from google.colab import drive\n",
        "drive.mount('/content/drive')\n",
        "df = pd.read_csv('/content/drive/MyDrive/netflix1.csv')"
      ],
      "metadata": {
        "colab": {
          "base_uri": "https://localhost:8080/"
        },
        "id": "gRaFB0BB8RMb",
        "outputId": "814194b2-39b3-43f8-e32e-aca289dfe43e"
      },
      "execution_count": null,
      "outputs": [
        {
          "output_type": "stream",
          "name": "stdout",
          "text": [
            "Drive already mounted at /content/drive; to attempt to forcibly remount, call drive.mount(\"/content/drive\", force_remount=True).\n"
          ]
        }
      ]
    },
    {
      "cell_type": "code",
      "source": [
        "df.head()"
      ],
      "metadata": {
        "colab": {
          "base_uri": "https://localhost:8080/",
          "height": 206
        },
        "id": "s7pUVN9-8h-Y",
        "outputId": "4e01b2fc-2da0-4738-ee2c-b3427fe96c88"
      },
      "execution_count": null,
      "outputs": [
        {
          "output_type": "execute_result",
          "data": {
            "text/plain": [
              "  show_id     type                             title         director  \\\n",
              "0      s1    Movie              Dick Johnson Is Dead  Kirsten Johnson   \n",
              "1      s3  TV Show                         Ganglands  Julien Leclercq   \n",
              "2      s6  TV Show                     Midnight Mass    Mike Flanagan   \n",
              "3     s14    Movie  Confessions of an Invisible Girl    Bruno Garotti   \n",
              "4      s8    Movie                           Sankofa     Haile Gerima   \n",
              "\n",
              "         country date_added  release_year rating  duration  \\\n",
              "0  United States  9/25/2021          2020  PG-13    90 min   \n",
              "1         France  9/24/2021          2021  TV-MA  1 Season   \n",
              "2  United States  9/24/2021          2021  TV-MA  1 Season   \n",
              "3         Brazil  9/22/2021          2021  TV-PG    91 min   \n",
              "4  United States  9/24/2021          1993  TV-MA   125 min   \n",
              "\n",
              "                                           listed_in  \n",
              "0                                      Documentaries  \n",
              "1  Crime TV Shows, International TV Shows, TV Act...  \n",
              "2                 TV Dramas, TV Horror, TV Mysteries  \n",
              "3                 Children & Family Movies, Comedies  \n",
              "4   Dramas, Independent Movies, International Movies  "
            ],
            "text/html": [
              "\n",
              "  <div id=\"df-85bbd017-4ab9-44bc-9564-8b4c95892882\">\n",
              "    <div class=\"colab-df-container\">\n",
              "      <div>\n",
              "<style scoped>\n",
              "    .dataframe tbody tr th:only-of-type {\n",
              "        vertical-align: middle;\n",
              "    }\n",
              "\n",
              "    .dataframe tbody tr th {\n",
              "        vertical-align: top;\n",
              "    }\n",
              "\n",
              "    .dataframe thead th {\n",
              "        text-align: right;\n",
              "    }\n",
              "</style>\n",
              "<table border=\"1\" class=\"dataframe\">\n",
              "  <thead>\n",
              "    <tr style=\"text-align: right;\">\n",
              "      <th></th>\n",
              "      <th>show_id</th>\n",
              "      <th>type</th>\n",
              "      <th>title</th>\n",
              "      <th>director</th>\n",
              "      <th>country</th>\n",
              "      <th>date_added</th>\n",
              "      <th>release_year</th>\n",
              "      <th>rating</th>\n",
              "      <th>duration</th>\n",
              "      <th>listed_in</th>\n",
              "    </tr>\n",
              "  </thead>\n",
              "  <tbody>\n",
              "    <tr>\n",
              "      <th>0</th>\n",
              "      <td>s1</td>\n",
              "      <td>Movie</td>\n",
              "      <td>Dick Johnson Is Dead</td>\n",
              "      <td>Kirsten Johnson</td>\n",
              "      <td>United States</td>\n",
              "      <td>9/25/2021</td>\n",
              "      <td>2020</td>\n",
              "      <td>PG-13</td>\n",
              "      <td>90 min</td>\n",
              "      <td>Documentaries</td>\n",
              "    </tr>\n",
              "    <tr>\n",
              "      <th>1</th>\n",
              "      <td>s3</td>\n",
              "      <td>TV Show</td>\n",
              "      <td>Ganglands</td>\n",
              "      <td>Julien Leclercq</td>\n",
              "      <td>France</td>\n",
              "      <td>9/24/2021</td>\n",
              "      <td>2021</td>\n",
              "      <td>TV-MA</td>\n",
              "      <td>1 Season</td>\n",
              "      <td>Crime TV Shows, International TV Shows, TV Act...</td>\n",
              "    </tr>\n",
              "    <tr>\n",
              "      <th>2</th>\n",
              "      <td>s6</td>\n",
              "      <td>TV Show</td>\n",
              "      <td>Midnight Mass</td>\n",
              "      <td>Mike Flanagan</td>\n",
              "      <td>United States</td>\n",
              "      <td>9/24/2021</td>\n",
              "      <td>2021</td>\n",
              "      <td>TV-MA</td>\n",
              "      <td>1 Season</td>\n",
              "      <td>TV Dramas, TV Horror, TV Mysteries</td>\n",
              "    </tr>\n",
              "    <tr>\n",
              "      <th>3</th>\n",
              "      <td>s14</td>\n",
              "      <td>Movie</td>\n",
              "      <td>Confessions of an Invisible Girl</td>\n",
              "      <td>Bruno Garotti</td>\n",
              "      <td>Brazil</td>\n",
              "      <td>9/22/2021</td>\n",
              "      <td>2021</td>\n",
              "      <td>TV-PG</td>\n",
              "      <td>91 min</td>\n",
              "      <td>Children &amp; Family Movies, Comedies</td>\n",
              "    </tr>\n",
              "    <tr>\n",
              "      <th>4</th>\n",
              "      <td>s8</td>\n",
              "      <td>Movie</td>\n",
              "      <td>Sankofa</td>\n",
              "      <td>Haile Gerima</td>\n",
              "      <td>United States</td>\n",
              "      <td>9/24/2021</td>\n",
              "      <td>1993</td>\n",
              "      <td>TV-MA</td>\n",
              "      <td>125 min</td>\n",
              "      <td>Dramas, Independent Movies, International Movies</td>\n",
              "    </tr>\n",
              "  </tbody>\n",
              "</table>\n",
              "</div>\n",
              "      <button class=\"colab-df-convert\" onclick=\"convertToInteractive('df-85bbd017-4ab9-44bc-9564-8b4c95892882')\"\n",
              "              title=\"Convert this dataframe to an interactive table.\"\n",
              "              style=\"display:none;\">\n",
              "        \n",
              "  <svg xmlns=\"http://www.w3.org/2000/svg\" height=\"24px\"viewBox=\"0 0 24 24\"\n",
              "       width=\"24px\">\n",
              "    <path d=\"M0 0h24v24H0V0z\" fill=\"none\"/>\n",
              "    <path d=\"M18.56 5.44l.94 2.06.94-2.06 2.06-.94-2.06-.94-.94-2.06-.94 2.06-2.06.94zm-11 1L8.5 8.5l.94-2.06 2.06-.94-2.06-.94L8.5 2.5l-.94 2.06-2.06.94zm10 10l.94 2.06.94-2.06 2.06-.94-2.06-.94-.94-2.06-.94 2.06-2.06.94z\"/><path d=\"M17.41 7.96l-1.37-1.37c-.4-.4-.92-.59-1.43-.59-.52 0-1.04.2-1.43.59L10.3 9.45l-7.72 7.72c-.78.78-.78 2.05 0 2.83L4 21.41c.39.39.9.59 1.41.59.51 0 1.02-.2 1.41-.59l7.78-7.78 2.81-2.81c.8-.78.8-2.07 0-2.86zM5.41 20L4 18.59l7.72-7.72 1.47 1.35L5.41 20z\"/>\n",
              "  </svg>\n",
              "      </button>\n",
              "      \n",
              "  <style>\n",
              "    .colab-df-container {\n",
              "      display:flex;\n",
              "      flex-wrap:wrap;\n",
              "      gap: 12px;\n",
              "    }\n",
              "\n",
              "    .colab-df-convert {\n",
              "      background-color: #E8F0FE;\n",
              "      border: none;\n",
              "      border-radius: 50%;\n",
              "      cursor: pointer;\n",
              "      display: none;\n",
              "      fill: #1967D2;\n",
              "      height: 32px;\n",
              "      padding: 0 0 0 0;\n",
              "      width: 32px;\n",
              "    }\n",
              "\n",
              "    .colab-df-convert:hover {\n",
              "      background-color: #E2EBFA;\n",
              "      box-shadow: 0px 1px 2px rgba(60, 64, 67, 0.3), 0px 1px 3px 1px rgba(60, 64, 67, 0.15);\n",
              "      fill: #174EA6;\n",
              "    }\n",
              "\n",
              "    [theme=dark] .colab-df-convert {\n",
              "      background-color: #3B4455;\n",
              "      fill: #D2E3FC;\n",
              "    }\n",
              "\n",
              "    [theme=dark] .colab-df-convert:hover {\n",
              "      background-color: #434B5C;\n",
              "      box-shadow: 0px 1px 3px 1px rgba(0, 0, 0, 0.15);\n",
              "      filter: drop-shadow(0px 1px 2px rgba(0, 0, 0, 0.3));\n",
              "      fill: #FFFFFF;\n",
              "    }\n",
              "  </style>\n",
              "\n",
              "      <script>\n",
              "        const buttonEl =\n",
              "          document.querySelector('#df-85bbd017-4ab9-44bc-9564-8b4c95892882 button.colab-df-convert');\n",
              "        buttonEl.style.display =\n",
              "          google.colab.kernel.accessAllowed ? 'block' : 'none';\n",
              "\n",
              "        async function convertToInteractive(key) {\n",
              "          const element = document.querySelector('#df-85bbd017-4ab9-44bc-9564-8b4c95892882');\n",
              "          const dataTable =\n",
              "            await google.colab.kernel.invokeFunction('convertToInteractive',\n",
              "                                                     [key], {});\n",
              "          if (!dataTable) return;\n",
              "\n",
              "          const docLinkHtml = 'Like what you see? Visit the ' +\n",
              "            '<a target=\"_blank\" href=https://colab.research.google.com/notebooks/data_table.ipynb>data table notebook</a>'\n",
              "            + ' to learn more about interactive tables.';\n",
              "          element.innerHTML = '';\n",
              "          dataTable['output_type'] = 'display_data';\n",
              "          await google.colab.output.renderOutput(dataTable, element);\n",
              "          const docLink = document.createElement('div');\n",
              "          docLink.innerHTML = docLinkHtml;\n",
              "          element.appendChild(docLink);\n",
              "        }\n",
              "      </script>\n",
              "    </div>\n",
              "  </div>\n",
              "  "
            ]
          },
          "metadata": {},
          "execution_count": 43
        }
      ]
    },
    {
      "cell_type": "markdown",
      "source": [
        "# Data Pre-processing"
      ],
      "metadata": {
        "id": "Tz1bHDyv8mXK"
      }
    },
    {
      "cell_type": "markdown",
      "source": [
        "## Removing unnecessary columns"
      ],
      "metadata": {
        "id": "Ay4qcYWR9LRy"
      }
    },
    {
      "cell_type": "code",
      "source": [
        "#show_id is not required for data analysis\n",
        "df.drop(['show_id'],axis=\"columns\",inplace=True)"
      ],
      "metadata": {
        "id": "2VuQyJwV8olf"
      },
      "execution_count": null,
      "outputs": []
    },
    {
      "cell_type": "code",
      "source": [
        "df.columns                      \n",
        "#show_id has been successfully removed"
      ],
      "metadata": {
        "colab": {
          "base_uri": "https://localhost:8080/"
        },
        "id": "Hdl3MdAr9x_l",
        "outputId": "a5f30cd2-34bc-4887-8e7c-27717f62f8db"
      },
      "execution_count": null,
      "outputs": [
        {
          "output_type": "execute_result",
          "data": {
            "text/plain": [
              "Index(['type', 'title', 'director', 'country', 'date_added', 'release_year',\n",
              "       'rating', 'duration', 'listed_in'],\n",
              "      dtype='object')"
            ]
          },
          "metadata": {},
          "execution_count": 45
        }
      ]
    },
    {
      "cell_type": "code",
      "source": [
        "df.shape"
      ],
      "metadata": {
        "colab": {
          "base_uri": "https://localhost:8080/"
        },
        "id": "lhdQU5AT-RjI",
        "outputId": "8d5bca62-f390-4a32-a585-c115f8d40e3e"
      },
      "execution_count": null,
      "outputs": [
        {
          "output_type": "execute_result",
          "data": {
            "text/plain": [
              "(8790, 9)"
            ]
          },
          "metadata": {},
          "execution_count": 46
        }
      ]
    },
    {
      "cell_type": "code",
      "source": [
        "df.info()                          #no null values"
      ],
      "metadata": {
        "colab": {
          "base_uri": "https://localhost:8080/"
        },
        "id": "revuemsg-X68",
        "outputId": "455171c6-0cc4-4b2f-df3d-3f3c832bebd8"
      },
      "execution_count": null,
      "outputs": [
        {
          "output_type": "stream",
          "name": "stdout",
          "text": [
            "<class 'pandas.core.frame.DataFrame'>\n",
            "RangeIndex: 8790 entries, 0 to 8789\n",
            "Data columns (total 9 columns):\n",
            " #   Column        Non-Null Count  Dtype \n",
            "---  ------        --------------  ----- \n",
            " 0   type          8790 non-null   object\n",
            " 1   title         8790 non-null   object\n",
            " 2   director      8790 non-null   object\n",
            " 3   country       8790 non-null   object\n",
            " 4   date_added    8790 non-null   object\n",
            " 5   release_year  8790 non-null   int64 \n",
            " 6   rating        8790 non-null   object\n",
            " 7   duration      8790 non-null   object\n",
            " 8   listed_in     8790 non-null   object\n",
            "dtypes: int64(1), object(8)\n",
            "memory usage: 618.2+ KB\n"
          ]
        }
      ]
    },
    {
      "cell_type": "markdown",
      "source": [
        "## Dropping Duplicates"
      ],
      "metadata": {
        "id": "Q9LCqP-zEeC_"
      }
    },
    {
      "cell_type": "code",
      "source": [
        "df.drop_duplicates(inplace=True)"
      ],
      "metadata": {
        "id": "Tg1MLkGl-cVy"
      },
      "execution_count": null,
      "outputs": []
    },
    {
      "cell_type": "code",
      "source": [
        "df.shape                       #duplicates have been removed."
      ],
      "metadata": {
        "colab": {
          "base_uri": "https://localhost:8080/"
        },
        "id": "VzP1_NFw-jVp",
        "outputId": "3a76c364-b9a8-45a8-8607-4299340451e2"
      },
      "execution_count": null,
      "outputs": [
        {
          "output_type": "execute_result",
          "data": {
            "text/plain": [
              "(8787, 9)"
            ]
          },
          "metadata": {},
          "execution_count": 49
        }
      ]
    },
    {
      "cell_type": "markdown",
      "source": [
        "## Data Formatting"
      ],
      "metadata": {
        "id": "EW6HXUoTEwUv"
      }
    },
    {
      "cell_type": "code",
      "source": [
        "#converting date_added column to a more convenient column by replacing the column with the year added \n",
        "def y(date):\n",
        "  h = date[-4:]\n",
        "  return h\n",
        "\n",
        "H = list(df['date_added'])\n",
        "s = []\n",
        "for i in H:\n",
        "  s.append(y(i))\n",
        "\n",
        "df['date_added'].replace(to_replace=H,value=s,inplace=True)\n",
        "df.head()\n"
      ],
      "metadata": {
        "colab": {
          "base_uri": "https://localhost:8080/",
          "height": 206
        },
        "id": "L6eGT3rn-r_l",
        "outputId": "cbea740c-18d3-4043-fa1b-b12bcbbf51fb"
      },
      "execution_count": null,
      "outputs": [
        {
          "output_type": "execute_result",
          "data": {
            "text/plain": [
              "      type                             title         director        country  \\\n",
              "0    Movie              Dick Johnson Is Dead  Kirsten Johnson  United States   \n",
              "1  TV Show                         Ganglands  Julien Leclercq         France   \n",
              "2  TV Show                     Midnight Mass    Mike Flanagan  United States   \n",
              "3    Movie  Confessions of an Invisible Girl    Bruno Garotti         Brazil   \n",
              "4    Movie                           Sankofa     Haile Gerima  United States   \n",
              "\n",
              "  date_added  release_year rating  duration  \\\n",
              "0       2021          2020  PG-13    90 min   \n",
              "1       2021          2021  TV-MA  1 Season   \n",
              "2       2021          2021  TV-MA  1 Season   \n",
              "3       2021          2021  TV-PG    91 min   \n",
              "4       2021          1993  TV-MA   125 min   \n",
              "\n",
              "                                           listed_in  \n",
              "0                                      Documentaries  \n",
              "1  Crime TV Shows, International TV Shows, TV Act...  \n",
              "2                 TV Dramas, TV Horror, TV Mysteries  \n",
              "3                 Children & Family Movies, Comedies  \n",
              "4   Dramas, Independent Movies, International Movies  "
            ],
            "text/html": [
              "\n",
              "  <div id=\"df-f43673e3-a37a-400e-b11e-b67eefc37424\">\n",
              "    <div class=\"colab-df-container\">\n",
              "      <div>\n",
              "<style scoped>\n",
              "    .dataframe tbody tr th:only-of-type {\n",
              "        vertical-align: middle;\n",
              "    }\n",
              "\n",
              "    .dataframe tbody tr th {\n",
              "        vertical-align: top;\n",
              "    }\n",
              "\n",
              "    .dataframe thead th {\n",
              "        text-align: right;\n",
              "    }\n",
              "</style>\n",
              "<table border=\"1\" class=\"dataframe\">\n",
              "  <thead>\n",
              "    <tr style=\"text-align: right;\">\n",
              "      <th></th>\n",
              "      <th>type</th>\n",
              "      <th>title</th>\n",
              "      <th>director</th>\n",
              "      <th>country</th>\n",
              "      <th>date_added</th>\n",
              "      <th>release_year</th>\n",
              "      <th>rating</th>\n",
              "      <th>duration</th>\n",
              "      <th>listed_in</th>\n",
              "    </tr>\n",
              "  </thead>\n",
              "  <tbody>\n",
              "    <tr>\n",
              "      <th>0</th>\n",
              "      <td>Movie</td>\n",
              "      <td>Dick Johnson Is Dead</td>\n",
              "      <td>Kirsten Johnson</td>\n",
              "      <td>United States</td>\n",
              "      <td>2021</td>\n",
              "      <td>2020</td>\n",
              "      <td>PG-13</td>\n",
              "      <td>90 min</td>\n",
              "      <td>Documentaries</td>\n",
              "    </tr>\n",
              "    <tr>\n",
              "      <th>1</th>\n",
              "      <td>TV Show</td>\n",
              "      <td>Ganglands</td>\n",
              "      <td>Julien Leclercq</td>\n",
              "      <td>France</td>\n",
              "      <td>2021</td>\n",
              "      <td>2021</td>\n",
              "      <td>TV-MA</td>\n",
              "      <td>1 Season</td>\n",
              "      <td>Crime TV Shows, International TV Shows, TV Act...</td>\n",
              "    </tr>\n",
              "    <tr>\n",
              "      <th>2</th>\n",
              "      <td>TV Show</td>\n",
              "      <td>Midnight Mass</td>\n",
              "      <td>Mike Flanagan</td>\n",
              "      <td>United States</td>\n",
              "      <td>2021</td>\n",
              "      <td>2021</td>\n",
              "      <td>TV-MA</td>\n",
              "      <td>1 Season</td>\n",
              "      <td>TV Dramas, TV Horror, TV Mysteries</td>\n",
              "    </tr>\n",
              "    <tr>\n",
              "      <th>3</th>\n",
              "      <td>Movie</td>\n",
              "      <td>Confessions of an Invisible Girl</td>\n",
              "      <td>Bruno Garotti</td>\n",
              "      <td>Brazil</td>\n",
              "      <td>2021</td>\n",
              "      <td>2021</td>\n",
              "      <td>TV-PG</td>\n",
              "      <td>91 min</td>\n",
              "      <td>Children &amp; Family Movies, Comedies</td>\n",
              "    </tr>\n",
              "    <tr>\n",
              "      <th>4</th>\n",
              "      <td>Movie</td>\n",
              "      <td>Sankofa</td>\n",
              "      <td>Haile Gerima</td>\n",
              "      <td>United States</td>\n",
              "      <td>2021</td>\n",
              "      <td>1993</td>\n",
              "      <td>TV-MA</td>\n",
              "      <td>125 min</td>\n",
              "      <td>Dramas, Independent Movies, International Movies</td>\n",
              "    </tr>\n",
              "  </tbody>\n",
              "</table>\n",
              "</div>\n",
              "      <button class=\"colab-df-convert\" onclick=\"convertToInteractive('df-f43673e3-a37a-400e-b11e-b67eefc37424')\"\n",
              "              title=\"Convert this dataframe to an interactive table.\"\n",
              "              style=\"display:none;\">\n",
              "        \n",
              "  <svg xmlns=\"http://www.w3.org/2000/svg\" height=\"24px\"viewBox=\"0 0 24 24\"\n",
              "       width=\"24px\">\n",
              "    <path d=\"M0 0h24v24H0V0z\" fill=\"none\"/>\n",
              "    <path d=\"M18.56 5.44l.94 2.06.94-2.06 2.06-.94-2.06-.94-.94-2.06-.94 2.06-2.06.94zm-11 1L8.5 8.5l.94-2.06 2.06-.94-2.06-.94L8.5 2.5l-.94 2.06-2.06.94zm10 10l.94 2.06.94-2.06 2.06-.94-2.06-.94-.94-2.06-.94 2.06-2.06.94z\"/><path d=\"M17.41 7.96l-1.37-1.37c-.4-.4-.92-.59-1.43-.59-.52 0-1.04.2-1.43.59L10.3 9.45l-7.72 7.72c-.78.78-.78 2.05 0 2.83L4 21.41c.39.39.9.59 1.41.59.51 0 1.02-.2 1.41-.59l7.78-7.78 2.81-2.81c.8-.78.8-2.07 0-2.86zM5.41 20L4 18.59l7.72-7.72 1.47 1.35L5.41 20z\"/>\n",
              "  </svg>\n",
              "      </button>\n",
              "      \n",
              "  <style>\n",
              "    .colab-df-container {\n",
              "      display:flex;\n",
              "      flex-wrap:wrap;\n",
              "      gap: 12px;\n",
              "    }\n",
              "\n",
              "    .colab-df-convert {\n",
              "      background-color: #E8F0FE;\n",
              "      border: none;\n",
              "      border-radius: 50%;\n",
              "      cursor: pointer;\n",
              "      display: none;\n",
              "      fill: #1967D2;\n",
              "      height: 32px;\n",
              "      padding: 0 0 0 0;\n",
              "      width: 32px;\n",
              "    }\n",
              "\n",
              "    .colab-df-convert:hover {\n",
              "      background-color: #E2EBFA;\n",
              "      box-shadow: 0px 1px 2px rgba(60, 64, 67, 0.3), 0px 1px 3px 1px rgba(60, 64, 67, 0.15);\n",
              "      fill: #174EA6;\n",
              "    }\n",
              "\n",
              "    [theme=dark] .colab-df-convert {\n",
              "      background-color: #3B4455;\n",
              "      fill: #D2E3FC;\n",
              "    }\n",
              "\n",
              "    [theme=dark] .colab-df-convert:hover {\n",
              "      background-color: #434B5C;\n",
              "      box-shadow: 0px 1px 3px 1px rgba(0, 0, 0, 0.15);\n",
              "      filter: drop-shadow(0px 1px 2px rgba(0, 0, 0, 0.3));\n",
              "      fill: #FFFFFF;\n",
              "    }\n",
              "  </style>\n",
              "\n",
              "      <script>\n",
              "        const buttonEl =\n",
              "          document.querySelector('#df-f43673e3-a37a-400e-b11e-b67eefc37424 button.colab-df-convert');\n",
              "        buttonEl.style.display =\n",
              "          google.colab.kernel.accessAllowed ? 'block' : 'none';\n",
              "\n",
              "        async function convertToInteractive(key) {\n",
              "          const element = document.querySelector('#df-f43673e3-a37a-400e-b11e-b67eefc37424');\n",
              "          const dataTable =\n",
              "            await google.colab.kernel.invokeFunction('convertToInteractive',\n",
              "                                                     [key], {});\n",
              "          if (!dataTable) return;\n",
              "\n",
              "          const docLinkHtml = 'Like what you see? Visit the ' +\n",
              "            '<a target=\"_blank\" href=https://colab.research.google.com/notebooks/data_table.ipynb>data table notebook</a>'\n",
              "            + ' to learn more about interactive tables.';\n",
              "          element.innerHTML = '';\n",
              "          dataTable['output_type'] = 'display_data';\n",
              "          await google.colab.output.renderOutput(dataTable, element);\n",
              "          const docLink = document.createElement('div');\n",
              "          docLink.innerHTML = docLinkHtml;\n",
              "          element.appendChild(docLink);\n",
              "        }\n",
              "      </script>\n",
              "    </div>\n",
              "  </div>\n",
              "  "
            ]
          },
          "metadata": {},
          "execution_count": 50
        }
      ]
    },
    {
      "cell_type": "code",
      "source": [
        "df['date_added'].unique()              #All relevant values"
      ],
      "metadata": {
        "colab": {
          "base_uri": "https://localhost:8080/"
        },
        "id": "4CJ-7pDuA8t4",
        "outputId": "6b72af2c-9889-4e7e-eaf1-51da3d7a3822"
      },
      "execution_count": null,
      "outputs": [
        {
          "output_type": "execute_result",
          "data": {
            "text/plain": [
              "array(['2021', '2019', '2018', '2020', '2017', '2016', '2015', '2014',\n",
              "       '2013', '2012', '2011', '2009', '2008', '2010'], dtype=object)"
            ]
          },
          "metadata": {},
          "execution_count": 51
        }
      ]
    },
    {
      "cell_type": "code",
      "source": [
        "df.rename(columns={'date_added':'year_added'},inplace = True)\n"
      ],
      "metadata": {
        "id": "5UHTT5LyBCV4"
      },
      "execution_count": null,
      "outputs": []
    },
    {
      "cell_type": "code",
      "source": [
        "df.head()                         #Column name has been changed successfully"
      ],
      "metadata": {
        "colab": {
          "base_uri": "https://localhost:8080/",
          "height": 206
        },
        "id": "phRFpzuiBUBi",
        "outputId": "5c45f6fc-484e-4cfb-cbef-89d81c30c8f9"
      },
      "execution_count": null,
      "outputs": [
        {
          "output_type": "execute_result",
          "data": {
            "text/plain": [
              "      type                             title         director        country  \\\n",
              "0    Movie              Dick Johnson Is Dead  Kirsten Johnson  United States   \n",
              "1  TV Show                         Ganglands  Julien Leclercq         France   \n",
              "2  TV Show                     Midnight Mass    Mike Flanagan  United States   \n",
              "3    Movie  Confessions of an Invisible Girl    Bruno Garotti         Brazil   \n",
              "4    Movie                           Sankofa     Haile Gerima  United States   \n",
              "\n",
              "  year_added  release_year rating  duration  \\\n",
              "0       2021          2020  PG-13    90 min   \n",
              "1       2021          2021  TV-MA  1 Season   \n",
              "2       2021          2021  TV-MA  1 Season   \n",
              "3       2021          2021  TV-PG    91 min   \n",
              "4       2021          1993  TV-MA   125 min   \n",
              "\n",
              "                                           listed_in  \n",
              "0                                      Documentaries  \n",
              "1  Crime TV Shows, International TV Shows, TV Act...  \n",
              "2                 TV Dramas, TV Horror, TV Mysteries  \n",
              "3                 Children & Family Movies, Comedies  \n",
              "4   Dramas, Independent Movies, International Movies  "
            ],
            "text/html": [
              "\n",
              "  <div id=\"df-3b24a0c8-3d8e-4373-b5ff-b186c930b2cf\">\n",
              "    <div class=\"colab-df-container\">\n",
              "      <div>\n",
              "<style scoped>\n",
              "    .dataframe tbody tr th:only-of-type {\n",
              "        vertical-align: middle;\n",
              "    }\n",
              "\n",
              "    .dataframe tbody tr th {\n",
              "        vertical-align: top;\n",
              "    }\n",
              "\n",
              "    .dataframe thead th {\n",
              "        text-align: right;\n",
              "    }\n",
              "</style>\n",
              "<table border=\"1\" class=\"dataframe\">\n",
              "  <thead>\n",
              "    <tr style=\"text-align: right;\">\n",
              "      <th></th>\n",
              "      <th>type</th>\n",
              "      <th>title</th>\n",
              "      <th>director</th>\n",
              "      <th>country</th>\n",
              "      <th>year_added</th>\n",
              "      <th>release_year</th>\n",
              "      <th>rating</th>\n",
              "      <th>duration</th>\n",
              "      <th>listed_in</th>\n",
              "    </tr>\n",
              "  </thead>\n",
              "  <tbody>\n",
              "    <tr>\n",
              "      <th>0</th>\n",
              "      <td>Movie</td>\n",
              "      <td>Dick Johnson Is Dead</td>\n",
              "      <td>Kirsten Johnson</td>\n",
              "      <td>United States</td>\n",
              "      <td>2021</td>\n",
              "      <td>2020</td>\n",
              "      <td>PG-13</td>\n",
              "      <td>90 min</td>\n",
              "      <td>Documentaries</td>\n",
              "    </tr>\n",
              "    <tr>\n",
              "      <th>1</th>\n",
              "      <td>TV Show</td>\n",
              "      <td>Ganglands</td>\n",
              "      <td>Julien Leclercq</td>\n",
              "      <td>France</td>\n",
              "      <td>2021</td>\n",
              "      <td>2021</td>\n",
              "      <td>TV-MA</td>\n",
              "      <td>1 Season</td>\n",
              "      <td>Crime TV Shows, International TV Shows, TV Act...</td>\n",
              "    </tr>\n",
              "    <tr>\n",
              "      <th>2</th>\n",
              "      <td>TV Show</td>\n",
              "      <td>Midnight Mass</td>\n",
              "      <td>Mike Flanagan</td>\n",
              "      <td>United States</td>\n",
              "      <td>2021</td>\n",
              "      <td>2021</td>\n",
              "      <td>TV-MA</td>\n",
              "      <td>1 Season</td>\n",
              "      <td>TV Dramas, TV Horror, TV Mysteries</td>\n",
              "    </tr>\n",
              "    <tr>\n",
              "      <th>3</th>\n",
              "      <td>Movie</td>\n",
              "      <td>Confessions of an Invisible Girl</td>\n",
              "      <td>Bruno Garotti</td>\n",
              "      <td>Brazil</td>\n",
              "      <td>2021</td>\n",
              "      <td>2021</td>\n",
              "      <td>TV-PG</td>\n",
              "      <td>91 min</td>\n",
              "      <td>Children &amp; Family Movies, Comedies</td>\n",
              "    </tr>\n",
              "    <tr>\n",
              "      <th>4</th>\n",
              "      <td>Movie</td>\n",
              "      <td>Sankofa</td>\n",
              "      <td>Haile Gerima</td>\n",
              "      <td>United States</td>\n",
              "      <td>2021</td>\n",
              "      <td>1993</td>\n",
              "      <td>TV-MA</td>\n",
              "      <td>125 min</td>\n",
              "      <td>Dramas, Independent Movies, International Movies</td>\n",
              "    </tr>\n",
              "  </tbody>\n",
              "</table>\n",
              "</div>\n",
              "      <button class=\"colab-df-convert\" onclick=\"convertToInteractive('df-3b24a0c8-3d8e-4373-b5ff-b186c930b2cf')\"\n",
              "              title=\"Convert this dataframe to an interactive table.\"\n",
              "              style=\"display:none;\">\n",
              "        \n",
              "  <svg xmlns=\"http://www.w3.org/2000/svg\" height=\"24px\"viewBox=\"0 0 24 24\"\n",
              "       width=\"24px\">\n",
              "    <path d=\"M0 0h24v24H0V0z\" fill=\"none\"/>\n",
              "    <path d=\"M18.56 5.44l.94 2.06.94-2.06 2.06-.94-2.06-.94-.94-2.06-.94 2.06-2.06.94zm-11 1L8.5 8.5l.94-2.06 2.06-.94-2.06-.94L8.5 2.5l-.94 2.06-2.06.94zm10 10l.94 2.06.94-2.06 2.06-.94-2.06-.94-.94-2.06-.94 2.06-2.06.94z\"/><path d=\"M17.41 7.96l-1.37-1.37c-.4-.4-.92-.59-1.43-.59-.52 0-1.04.2-1.43.59L10.3 9.45l-7.72 7.72c-.78.78-.78 2.05 0 2.83L4 21.41c.39.39.9.59 1.41.59.51 0 1.02-.2 1.41-.59l7.78-7.78 2.81-2.81c.8-.78.8-2.07 0-2.86zM5.41 20L4 18.59l7.72-7.72 1.47 1.35L5.41 20z\"/>\n",
              "  </svg>\n",
              "      </button>\n",
              "      \n",
              "  <style>\n",
              "    .colab-df-container {\n",
              "      display:flex;\n",
              "      flex-wrap:wrap;\n",
              "      gap: 12px;\n",
              "    }\n",
              "\n",
              "    .colab-df-convert {\n",
              "      background-color: #E8F0FE;\n",
              "      border: none;\n",
              "      border-radius: 50%;\n",
              "      cursor: pointer;\n",
              "      display: none;\n",
              "      fill: #1967D2;\n",
              "      height: 32px;\n",
              "      padding: 0 0 0 0;\n",
              "      width: 32px;\n",
              "    }\n",
              "\n",
              "    .colab-df-convert:hover {\n",
              "      background-color: #E2EBFA;\n",
              "      box-shadow: 0px 1px 2px rgba(60, 64, 67, 0.3), 0px 1px 3px 1px rgba(60, 64, 67, 0.15);\n",
              "      fill: #174EA6;\n",
              "    }\n",
              "\n",
              "    [theme=dark] .colab-df-convert {\n",
              "      background-color: #3B4455;\n",
              "      fill: #D2E3FC;\n",
              "    }\n",
              "\n",
              "    [theme=dark] .colab-df-convert:hover {\n",
              "      background-color: #434B5C;\n",
              "      box-shadow: 0px 1px 3px 1px rgba(0, 0, 0, 0.15);\n",
              "      filter: drop-shadow(0px 1px 2px rgba(0, 0, 0, 0.3));\n",
              "      fill: #FFFFFF;\n",
              "    }\n",
              "  </style>\n",
              "\n",
              "      <script>\n",
              "        const buttonEl =\n",
              "          document.querySelector('#df-3b24a0c8-3d8e-4373-b5ff-b186c930b2cf button.colab-df-convert');\n",
              "        buttonEl.style.display =\n",
              "          google.colab.kernel.accessAllowed ? 'block' : 'none';\n",
              "\n",
              "        async function convertToInteractive(key) {\n",
              "          const element = document.querySelector('#df-3b24a0c8-3d8e-4373-b5ff-b186c930b2cf');\n",
              "          const dataTable =\n",
              "            await google.colab.kernel.invokeFunction('convertToInteractive',\n",
              "                                                     [key], {});\n",
              "          if (!dataTable) return;\n",
              "\n",
              "          const docLinkHtml = 'Like what you see? Visit the ' +\n",
              "            '<a target=\"_blank\" href=https://colab.research.google.com/notebooks/data_table.ipynb>data table notebook</a>'\n",
              "            + ' to learn more about interactive tables.';\n",
              "          element.innerHTML = '';\n",
              "          dataTable['output_type'] = 'display_data';\n",
              "          await google.colab.output.renderOutput(dataTable, element);\n",
              "          const docLink = document.createElement('div');\n",
              "          docLink.innerHTML = docLinkHtml;\n",
              "          element.appendChild(docLink);\n",
              "        }\n",
              "      </script>\n",
              "    </div>\n",
              "  </div>\n",
              "  "
            ]
          },
          "metadata": {},
          "execution_count": 53
        }
      ]
    },
    {
      "cell_type": "code",
      "source": [
        "#Director statistics\n",
        "df['director'].value_counts()"
      ],
      "metadata": {
        "colab": {
          "base_uri": "https://localhost:8080/"
        },
        "id": "HfBEEe70Bk2n",
        "outputId": "244600d7-e0a1-45db-f1fa-ac1081cd9eb9"
      },
      "execution_count": null,
      "outputs": [
        {
          "output_type": "execute_result",
          "data": {
            "text/plain": [
              "Not Given                         2587\n",
              "Rajiv Chilaka                       20\n",
              "Raúl Campos, Jan Suter              18\n",
              "Alastair Fothergill                 18\n",
              "Marcus Raboy                        16\n",
              "                                  ... \n",
              "Parthiban                            1\n",
              "Scott McAboy                         1\n",
              "Raymie Muzquiz, Stu Livingston       1\n",
              "Joe Menendez                         1\n",
              "Mozez Singh                          1\n",
              "Name: director, Length: 4528, dtype: int64"
            ]
          },
          "metadata": {},
          "execution_count": 54
        }
      ]
    },
    {
      "cell_type": "code",
      "source": [
        "2587/df['director'].size *100     #Since there are huge number of unknown values, all the rows with irrelevant director names are removed."
      ],
      "metadata": {
        "colab": {
          "base_uri": "https://localhost:8080/"
        },
        "id": "TEvBGpcHIsL7",
        "outputId": "132d9003-6177-4b6e-f8d5-4701ba0ff265"
      },
      "execution_count": null,
      "outputs": [
        {
          "output_type": "execute_result",
          "data": {
            "text/plain": [
              "29.441219984067374"
            ]
          },
          "metadata": {},
          "execution_count": 57
        }
      ]
    },
    {
      "cell_type": "code",
      "source": [
        "#To avoid false creditation by filling the \"Not Given\" by any other director's name, it is very important that all the rows with director unknown must be removed. (MCAR - Missing Completley At Random)\n",
        "df.drop(df[df[\"director\"]==\"Not Given\"].index,inplace=True)\n"
      ],
      "metadata": {
        "id": "QTW07OQZBs58"
      },
      "execution_count": null,
      "outputs": []
    },
    {
      "cell_type": "code",
      "source": [
        "df.shape"
      ],
      "metadata": {
        "colab": {
          "base_uri": "https://localhost:8080/"
        },
        "id": "-NfBm6vUCd8J",
        "outputId": "1099b786-b4b4-402e-c857-2f60fa279925"
      },
      "execution_count": null,
      "outputs": [
        {
          "output_type": "execute_result",
          "data": {
            "text/plain": [
              "(6200, 9)"
            ]
          },
          "metadata": {},
          "execution_count": 59
        }
      ]
    },
    {
      "cell_type": "code",
      "source": [
        "M = list(df['title'].unique())\n",
        "\"Not Given\" in M                      #Title column doesn't have any irrelevant string"
      ],
      "metadata": {
        "colab": {
          "base_uri": "https://localhost:8080/"
        },
        "id": "R-k46GbFCx6z",
        "outputId": "e1f15eb9-9cc1-44fe-931b-b486bfb5fbac"
      },
      "execution_count": null,
      "outputs": [
        {
          "output_type": "execute_result",
          "data": {
            "text/plain": [
              "False"
            ]
          },
          "metadata": {},
          "execution_count": 60
        }
      ]
    },
    {
      "cell_type": "code",
      "source": [
        "df['country'].value_counts()            #There are 287 unknown values."
      ],
      "metadata": {
        "colab": {
          "base_uri": "https://localhost:8080/"
        },
        "id": "pEfBOKolDCVQ",
        "outputId": "c5df7347-cc25-4bc1-8ed3-64c4e49280e8"
      },
      "execution_count": null,
      "outputs": [
        {
          "output_type": "execute_result",
          "data": {
            "text/plain": [
              "United States     2401\n",
              "India              974\n",
              "United Kingdom     406\n",
              "Not Given          287\n",
              "Canada             189\n",
              "                  ... \n",
              "Zimbabwe             1\n",
              "Mozambique           1\n",
              "Namibia              1\n",
              "Cameroon             1\n",
              "Croatia              1\n",
              "Name: country, Length: 79, dtype: int64"
            ]
          },
          "metadata": {},
          "execution_count": 61
        }
      ]
    },
    {
      "cell_type": "code",
      "source": [
        "287/df['country'].size * 100  #Unknown values are less than 10%. So, it can be ignored."
      ],
      "metadata": {
        "colab": {
          "base_uri": "https://localhost:8080/"
        },
        "id": "MlllH1HPIJMj",
        "outputId": "af835323-c4a1-4877-eed7-00473d9d7ad0"
      },
      "execution_count": null,
      "outputs": [
        {
          "output_type": "execute_result",
          "data": {
            "text/plain": [
              "4.629032258064516"
            ]
          },
          "metadata": {},
          "execution_count": 62
        }
      ]
    },
    {
      "cell_type": "code",
      "source": [
        "df['rating'].unique()"
      ],
      "metadata": {
        "colab": {
          "base_uri": "https://localhost:8080/"
        },
        "id": "nsxdePJhIgA3",
        "outputId": "90f4e4d9-4f12-4fcc-a9ef-21016261d670"
      },
      "execution_count": null,
      "outputs": [
        {
          "output_type": "execute_result",
          "data": {
            "text/plain": [
              "array(['PG-13', 'TV-MA', 'TV-PG', 'TV-14', 'TV-Y7', 'TV-Y', 'PG', 'TV-G',\n",
              "       'R', 'G', 'NC-17', 'NR', 'TV-Y7-FV', 'UR'], dtype=object)"
            ]
          },
          "metadata": {},
          "execution_count": 63
        }
      ]
    },
    {
      "cell_type": "code",
      "source": [
        "df['rating'].value_counts()"
      ],
      "metadata": {
        "colab": {
          "base_uri": "https://localhost:8080/"
        },
        "id": "-GNe5KueKuSZ",
        "outputId": "3b99578e-4342-4d07-f371-2402c9d5be0b"
      },
      "execution_count": null,
      "outputs": [
        {
          "output_type": "execute_result",
          "data": {
            "text/plain": [
              "TV-MA       2123\n",
              "TV-14       1459\n",
              "R            794\n",
              "TV-PG        547\n",
              "PG-13        489\n",
              "PG           286\n",
              "TV-Y7        133\n",
              "TV-G         123\n",
              "TV-Y         121\n",
              "NR            75\n",
              "G             41\n",
              "TV-Y7-FV       4\n",
              "UR             3\n",
              "NC-17          2\n",
              "Name: rating, dtype: int64"
            ]
          },
          "metadata": {},
          "execution_count": 64
        }
      ]
    },
    {
      "cell_type": "code",
      "source": [
        "df['duration'].unique()"
      ],
      "metadata": {
        "colab": {
          "base_uri": "https://localhost:8080/"
        },
        "id": "i2djquDfKzUV",
        "outputId": "87d0cce6-9013-4ed0-fcdf-f0f8a4c1eec8"
      },
      "execution_count": null,
      "outputs": [
        {
          "output_type": "execute_result",
          "data": {
            "text/plain": [
              "array(['90 min', '1 Season', '91 min', '125 min', '9 Seasons', '104 min',\n",
              "       '87 min', '127 min', '76 min', '71 min', '39 min', '36 min',\n",
              "       '34 min', '35 min', '46 min', '67 min', '65 min', '61 min',\n",
              "       '166 min', '103 min', '97 min', '106 min', '147 min', '94 min',\n",
              "       '161 min', '111 min', '110 min', '105 min', '96 min', '124 min',\n",
              "       '116 min', '98 min', '115 min', '122 min', '99 min', '88 min',\n",
              "       '100 min', '23 min', '102 min', '93 min', '95 min', '85 min',\n",
              "       '83 min', '182 min', '92 min', '84 min', '48 min', '145 min',\n",
              "       '119 min', '80 min', '128 min', '143 min', '117 min', '114 min',\n",
              "       '118 min', '108 min', '121 min', '63 min', '142 min', '113 min',\n",
              "       '154 min', '120 min', '82 min', '109 min', '101 min', '86 min',\n",
              "       '229 min', '89 min', '156 min', '112 min', '107 min', '129 min',\n",
              "       '135 min', '136 min', '165 min', '150 min', '133 min', '70 min',\n",
              "       '78 min', '140 min', '2 Seasons', '64 min', '59 min', '69 min',\n",
              "       '148 min', '189 min', '141 min', '130 min', '81 min', '7 Seasons',\n",
              "       '138 min', '132 min', '123 min', '68 min', '66 min', '62 min',\n",
              "       '74 min', '131 min', '38 min', '13 min', '139 min', '126 min',\n",
              "       '155 min', '60 min', '4 Seasons', '159 min', '12 min', '137 min',\n",
              "       '77 min', '49 min', '58 min', '72 min', '204 min', '25 min',\n",
              "       '212 min', '73 min', '47 min', '149 min', '15 min', '54 min',\n",
              "       '224 min', '162 min', '75 min', '79 min', '32 min', '158 min',\n",
              "       '164 min', '173 min', '181 min', '185 min', '21 min', '6 Seasons',\n",
              "       '24 min', '51 min', '151 min', '42 min', '22 min', '134 min',\n",
              "       '177 min', '52 min', '53 min', '8 min', '57 min', '28 min',\n",
              "       '50 min', '9 min', '26 min', '45 min', '171 min', '27 min',\n",
              "       '33 min', '44 min', '29 min', '146 min', '20 min', '157 min',\n",
              "       '203 min', '41 min', '30 min', '17 min', '55 min', '194 min',\n",
              "       '5 Seasons', '15 Seasons', '233 min', '230 min', '237 min',\n",
              "       '195 min', '253 min', '152 min', '190 min', '160 min', '208 min',\n",
              "       '180 min', '144 min', '5 min', '174 min', '170 min', '192 min',\n",
              "       '209 min', '187 min', '172 min', '16 min', '186 min', '11 min',\n",
              "       '8 Seasons', '193 min', '176 min', '56 min', '169 min', '40 min',\n",
              "       '3 min', '168 min', '153 min', '214 min', '31 min', '163 min',\n",
              "       '14 min', '19 min', '179 min', '3 Seasons', '43 min', '200 min',\n",
              "       '196 min', '167 min', '37 min', '178 min', '228 min', '18 min',\n",
              "       '205 min', '201 min', '191 min'], dtype=object)"
            ]
          },
          "metadata": {},
          "execution_count": 65
        }
      ]
    },
    {
      "cell_type": "code",
      "source": [
        "df['listed_in'].unique()\n",
        "P = list(df['listed_in'].unique())"
      ],
      "metadata": {
        "id": "fJneWbiwK4-I"
      },
      "execution_count": null,
      "outputs": []
    },
    {
      "cell_type": "markdown",
      "source": [
        "# Data Visualization"
      ],
      "metadata": {
        "id": "XN_FKeqaOxSf"
      }
    },
    {
      "cell_type": "markdown",
      "source": [
        "## Content type -  TV Shows vs Movies\n",
        "\n",
        "\n"
      ],
      "metadata": {
        "id": "pCv1jVeAO3Qq"
      }
    },
    {
      "cell_type": "code",
      "source": [
        "#Pie Chart\n",
        "labels = ['Movies','TV Shows']\n",
        "values = df['type'].value_counts()\n",
        "colors = ['Yellow','Orange']\n",
        "title('Movies VS TV Shows')\n",
        "pie(values,labels=labels,colors=colors,shadow=True,startangle=0,autopct=\"%1.1f%%\")\n",
        "axis('equal')"
      ],
      "metadata": {
        "colab": {
          "base_uri": "https://localhost:8080/",
          "height": 333
        },
        "id": "z99mp1QOPDj9",
        "outputId": "a133816a-cc41-4ab3-dcba-f7cfc2101e77"
      },
      "execution_count": null,
      "outputs": [
        {
          "output_type": "execute_result",
          "data": {
            "text/plain": [
              "(-1.1083034709007216,\n",
              " 1.1003954033762249,\n",
              " -1.1065471688539834,\n",
              " 1.106550439509239)"
            ]
          },
          "metadata": {},
          "execution_count": 126
        },
        {
          "output_type": "display_data",
          "data": {
            "text/plain": [
              "<Figure size 432x288 with 1 Axes>"
            ],
            "image/png": "[encoded data removed]"
          },
          "metadata": {}
        }
      ]
    },
    {
      "cell_type": "markdown",
      "source": [
        "## Top 5 Countries"
      ],
      "metadata": {
        "id": "ycJNftgtZWb2"
      }
    },
    {
      "cell_type": "code",
      "source": [
        "top_countries = dict(df['country'].value_counts())\n",
        "top5_countrynames =list(top_countries.keys())\n",
        "top5_countries = list(top_countries.values())\n",
        "top5_countrynames = top5_countrynames[:6]\n",
        "del(top5_countrynames[-3])\n",
        "print(top5_countrynames)\n",
        "top5_countries = top5_countries[:6]\n",
        "del(top5_countries[-3])\n",
        "print(top5_countries)\n",
        "\n",
        "\n",
        "\n",
        "\n",
        "\n",
        "\n",
        "\n"
      ],
      "metadata": {
        "colab": {
          "base_uri": "https://localhost:8080/"
        },
        "id": "Wh1Eazx5SCrX",
        "outputId": "2fa929ce-8185-4c72-a9c4-cded4ce5c158"
      },
      "execution_count": null,
      "outputs": [
        {
          "output_type": "stream",
          "name": "stdout",
          "text": [
            "['United States', 'India', 'United Kingdom', 'Canada', 'France']\n",
            "[2401, 974, 406, 189, 156]\n"
          ]
        }
      ]
    },
    {
      "cell_type": "code",
      "source": [
        "labels = top5_countrynames\n",
        "values = top5_countries\n",
        "colors = ['Red','Blue','Green','Yellow','Orange']\n",
        "title('Top 5 countries and their contribution')\n",
        "pie(values,labels=labels,colors=colors,shadow=True,startangle=180,autopct=\"%1.1f%%\")\n",
        "axis('equal')\n"
      ],
      "metadata": {
        "colab": {
          "base_uri": "https://localhost:8080/",
          "height": 334
        },
        "id": "YAUJycTwXE3E",
        "outputId": "7d6dcd4d-681e-415d-c23b-6a9977e0a2dd"
      },
      "execution_count": null,
      "outputs": [
        {
          "output_type": "execute_result",
          "data": {
            "text/plain": [
              "(-1.1003578637355134,\n",
              " 1.1075150568676528,\n",
              " -1.1124181512910796,\n",
              " 1.1302280043686888)"
            ]
          },
          "metadata": {},
          "execution_count": 130
        },
        {
          "output_type": "display_data",
          "data": {
            "text/plain": [
              "<Figure size 432x288 with 1 Axes>"
            ],
            "image/png": "[encoded data removed]"
          },
          "metadata": {}
        }
      ]
    },
    {
      "cell_type": "code",
      "source": [
        "# Content addded throughout the years\n",
        "j = dict(df['year_added'].value_counts())\n",
        "print(j)\n",
        "h = list(j.keys())\n",
        "h.sort()\n",
        "i = list(j.values())\n",
        "i.sort()\n",
        "print(i)\n",
        "print(h)\n",
        "plot(h,i)\n"
      ],
      "metadata": {
        "colab": {
          "base_uri": "https://localhost:8080/",
          "height": 334
        },
        "id": "q5XGMreccRv-",
        "outputId": "5124eee9-5443-41e0-db4c-429785584e81"
      },
      "execution_count": null,
      "outputs": [
        {
          "output_type": "stream",
          "name": "stdout",
          "text": [
            "{'2019': 1423, '2020': 1318, '2018': 1218, '2021': 1036, '2017': 855, '2016': 245, '2015': 60, '2014': 18, '2011': 13, '2013': 7, '2012': 3, '2009': 2, '2008': 1, '2010': 1}\n",
            "[1, 1, 2, 3, 7, 13, 18, 60, 245, 855, 1036, 1218, 1318, 1423]\n",
            "['2008', '2009', '2010', '2011', '2012', '2013', '2014', '2015', '2016', '2017', '2018', '2019', '2020', '2021']\n"
          ]
        },
        {
          "output_type": "execute_result",
          "data": {
            "text/plain": [
              "[<matplotlib.lines.Line2D at 0x7fb2da254d90>]"
            ]
          },
          "metadata": {},
          "execution_count": 150
        },
        {
          "output_type": "display_data",
          "data": {
            "text/plain": [
              "<Figure size 432x288 with 1 Axes>"
            ],
            "image/png": "[encoded data removed]"
          },
          "metadata": {
            "needs_background": "light"
          }
        }
      ]
    },
    {
      "cell_type": "markdown",
      "source": [
        "### Ratings Bar Chart"
      ],
      "metadata": {
        "id": "6uYOvtrMvS0M"
      }
    },
    {
      "cell_type": "code",
      "source": [
        "ratings = list(df['rating'].value_counts())\n",
        "axis([0,15,0,2000])\n",
        "\n",
        "labels = list(df['rating'].unique())\n",
        "index = arange(0,len(labels))\n",
        "bar(labels,ratings)\n",
        "xticks(index+0.4,labels)\n",
        "show()"
      ],
      "metadata": {
        "colab": {
          "base_uri": "https://localhost:8080/",
          "height": 269
        },
        "id": "PwLLXVogvZ2m",
        "outputId": "b2c83305-b83a-4bbf-ca44-ed96cf10d68e"
      },
      "execution_count": null,
      "outputs": [
        {
          "output_type": "display_data",
          "data": {
            "text/plain": [
              "<Figure size 432x288 with 1 Axes>"
            ],
            "image/png": "[encoded data removed]"
          },
          "metadata": {
            "needs_background": "light"
          }
        }
      ]
    },
    {
      "cell_type": "markdown",
      "source": [
        "### Top 5 Directors"
      ],
      "metadata": {
        "id": "krEEubi_x5pw"
      }
    },
    {
      "cell_type": "code",
      "source": [
        "topD = dict(df['director'].value_counts())\n",
        "print(topD)\n",
        "names = list(topD.keys())\n",
        "\n",
        "names = names[:5]\n",
        "print(names)\n",
        "values = list(topD.values())\n",
        "values.sort\n",
        "\n",
        "print(values)\n",
        "values = values[:5]\n",
        "print(values)"
      ],
      "metadata": {
        "colab": {
          "base_uri": "https://localhost:8080/"
        },
        "id": "Nx4CtgVuvVZk",
        "outputId": "635527a5-1cbe-40d1-9ec2-64b0ffebe53a"
      },
      "execution_count": null,
      "outputs": [
        {
          "output_type": "stream",
          "name": "stdout",
          "text": [
            "{'Rajiv Chilaka': 20, 'Raúl Campos, Jan Suter': 18, 'Alastair Fothergill': 18, 'Suhas Kadav': 16, 'Marcus Raboy': 16, 'Jay Karas': 14, 'Cathy Garcia-Molina': 13, 'Martin Scorsese': 12, 'Youssef Chahine': 12, 'Jay Chapman': 12, 'Steven Spielberg': 11, 'Mark Thornton, Todd Kauffman': 10, 'Don Michael Paul': 10, 'David Dhawan': 9, 'Ryan Polito': 8, 'Fernando Ayllón': 8, 'Johnnie To': 8, 'Troy Miller': 8, 'Lance Bangs': 8, 'Kunle Afolayan': 8, 'Yılmaz Erdoğan': 8, 'Robert Rodriguez': 8, 'Shannon Hartman': 8, 'Quentin Tarantino': 8, 'Hakan Algül': 8, 'Prakash Satam': 7, 'S.S. Rajamouli': 7, 'McG': 7, 'Justin G. Dyck': 7, 'Omoni Oboli': 7, 'Ron Howard': 7, 'Mae Czarina Cruz': 7, 'Toshiya Shinohara': 7, 'Ozan Açıktan': 7, 'Clint Eastwood': 7, 'Ram Gopal Varma': 7, 'Hidenori Inoue': 7, 'David Fincher': 6, 'Steven Soderbergh': 6, 'Wenn V. Deramas': 6, 'Lasse Hallström': 6, 'Rajkumar Santoshi': 6, 'Imtiaz Ali': 6, 'Matt Askem': 6, 'Anees Bazmee': 6, 'Robert Vince': 6, 'Vlad Yudin': 6, 'Krysia Plonka, Kristian Mercado': 6, 'Ashutosh Gowariker': 6, 'Noah Baumbach': 6, 'Hanung Bramantyo': 6, 'Milan Luthria': 6, 'Sooraj R. Barjatya': 6, 'Joey So': 6, 'Robert Luketic': 6, 'Sameh Abdulaziz': 6, 'Vishal Bhardwaj': 5, 'Martin Campbell': 5, 'Priyadarshan': 5, 'Rocky Soraya': 5, 'Vince Marcello': 5, 'Michael Simon': 5, 'Mike Clattenburg': 5, 'Prakash Jha': 5, 'Antoinette Jadaone': 5, 'Oliver Stone': 5, 'Mani Ratnam': 5, 'Anurag Kashyap': 5, 'Wilson Yip': 5, 'Ava DuVernay': 5, 'Jay Roach': 5, 'Madhur Bhandarkar': 5, 'Niyi Akinmolayan': 5, 'Steve Brill': 5, 'Mahesh Manjrekar': 5, 'Lynn Shelton': 5, 'Andy Tennant': 5, 'Leslie Small': 5, 'Paul Thomas Anderson': 5, 'Spike Lee': 5, 'Detlev Buck': 5, 'Nagesh Kukunoor': 5, 'John G. Avildsen': 5, 'Indra Kumar': 5, 'Umesh Mehra': 5, 'Stan Lathan': 5, 'David Batty': 5, 'Kıvanç Baruönü': 5, 'Rajiv Mehra': 5, 'Angga Dwimas Sasongko': 5, 'Riri Riza': 5, 'Khaled Marei': 5, 'Rohit Shetty': 5, 'Kevin Smith': 5, 'Manny Rodriguez': 5, 'Thierry Donard': 5, 'Michael Tiddes': 4, 'Anurag Basu': 4, 'Brad Anderson': 4, 'Wael Ehsan': 4, 'Edward Cotterill': 4, 'Brian Levant': 4, 'Michael McKay': 4, 'Hernán Zin': 4, 'Fernando González Molina': 4, 'Dibakar Banerjee': 4, 'Antonio Campos': 4, 'Poj Arnon': 4, 'Chris Stokes': 4, 'Rohit Jugraj': 4, 'Lee Tamahori': 4, 'Rob Minkoff': 4, 'Mike Flanagan': 4, 'Bruno Garotti': 4, 'Chia-Liang Liu': 4, 'Barry Avrich': 4, 'Shyam Benegal': 4, 'Werner Herzog': 4, 'Sudhir Mishra': 4, 'Rathindran R Prasad': 4, 'Gregory Hoblit': 4, 'Mike Gunther': 4, 'Moses Inwang': 4, 'Dennis Dugan': 4, 'Jeremy Saulnier': 4, 'Antoine Fuqua': 4, 'Clay Glen': 4, 'Masahiko Murata': 4, 'Mike Newell': 4, 'Dan Villegas': 4, 'Subhash Ghai': 4, 'David Zucker': 4, 'Wong Jing': 4, 'Farhan Akhtar': 4, 'Kundan Shah': 4, 'Joe Berlinger': 4, 'David Ayer': 4, 'Walter C. Miller': 4, 'Nishikant Kamat': 4, 'Lucas Margutti': 4, 'Kayode Kasum': 4, 'Jun Lana': 4, 'Jesse V. Johnson': 4, 'Savage Steve Holland': 4, 'Roger Kumble': 4, 'Sean McNamara': 4, 'Steve Ball': 4, 'Shaun Paul Piccinino': 4, 'Paul Dugdale': 4, 'Hrishikesh Mukherjee': 4, 'Ahmad El-Badri': 4, 'Ernie Barbarash': 4, 'Cristina Jacob': 4, 'William Lau': 4, 'Rob Reiner': 4, 'Peter Segal': 4, 'Wael Ihsan': 4, 'Abbas Alibhai Burmawalla, Mastan Alibhai Burmawalla': 4, 'Rakeysh Omprakash Mehra': 4, 'Raja Gosnell': 4, 'Ahmed Nader Galal': 4, 'Philippe Aractingi': 4, 'Maroun Baghdadi': 4, 'Farah Khan': 4, 'Adam McKay': 3, 'Tom Hooper': 3, 'Walter Hill': 3, 'Steve Carr': 3, 'Gabriele Muccino': 3, 'Ivan Reitman': 3, 'Leigh Janiak': 3, 'Cosima Spender': 3, 'Adam Shankman': 3, 'Conrad Helten': 3, 'Barry Levinson': 3, 'Ketan Mehta': 3, 'Shirish Kunder': 3, 'Munjal Shroff, Tilak Shetty': 3, 'Leena Yadav': 3, 'Hasan Karacadağ': 3, 'Craig Brewer': 3, 'Brett Haley': 3, 'Hardik Mehta': 3, 'Olivia M. Lamasan': 3, 'Tiller Russell': 3, 'Onir': 3, 'Qaushiq Mukherjee': 3, 'John Lee Hancock': 3, 'David Michôd': 3, 'Lilly Wachowski, Lana Wachowski': 3, 'Paul W.S. Anderson': 3, 'Rano Karno': 3, 'Eli Roth': 3, 'Robert O. Peters': 3, 'Zoya Akhtar': 3, 'Olivier Assayas': 3, 'Noriyuki Abe': 3, 'Michael Bay': 3, 'John Fortenberry': 3, 'BB Sasore': 3, 'David Mackenzie': 3, 'Abhishek Kapoor': 3, 'Adriano Rudiman': 3, 'Morgan Neville': 3, 'Rajkumar Hirani': 3, 'Raj Kumar Gupta': 3, \"Remo D'Souza\": 3, 'Abhishek Sharma': 3, 'Fajar Bustomi, Pidi Baiq': 3, 'James Wan': 3, 'Nila Madhab Panda': 3, 'Scott Zabielski': 3, 'Julien Leclercq': 3, 'Obi Emelonye': 3, 'John Schultz': 3, 'Bedran Güzel': 3, 'Burak Aksak': 3, 'Jonathan Demme': 3, 'Alfonso Cuarón': 3, 'Abhinay Deo': 3, 'Rako Prijanto': 3, 'Ishaya Bako': 3, 'Mikhail Red': 3, 'Guillermo del Toro': 3, 'Pankaj Batra': 3, 'Peter Jackson': 3, 'Neeraj Pandey': 3, 'Roland Emmerich': 3, 'Frank Coraci': 3, 'Kobun Shizuno, Hiroyuki Seshita': 3, 'Tilak Shetty': 3, 'Amitoj Mann': 3, 'Neal Brennan': 3, 'Pablo Larraín': 3, 'Jon Rosenbaum': 3, 'Ribhu Dasgupta': 3, 'Luis Ara': 3, 'Alex Lehmann': 3, 'Soudade Kaadan': 3, 'Karthik Subbaraj': 3, 'Yoshiyuki Tomino, Yoshikazu Yasuhiko': 3, 'Manolo Caro': 3, 'Aziz Mirza': 3, 'Raj Kapoor': 3, 'Ishi Rudell': 3, 'Maria Ripoll': 3, 'Michèle Ohayon': 3, 'Mark Raso': 3, 'Vivieno Caldinelli': 3, 'Sylvester Stallone': 3, 'Ric Roman Waugh': 3, 'Peyton Reed': 3, 'Blair Simmons': 3, 'Note Chern-Yim': 3, 'Mohamed Hamdy': 3, 'Todd Phillips': 3, 'Atom Egoyan': 3, 'Chris Smith': 3, 'Marc Forster': 3, 'Andrzej Bartkowiak': 3, 'Tate Taylor': 3, 'Ahmed Al-Badry': 3, 'Les Mayfield': 3, 'Greg MacGillivray': 3, 'Ron Oliver': 3, 'Sermiyan Midyat': 3, 'Linda Mendoza': 3, 'Mahesh Bhatt': 3, 'Peter Spirer': 3, 'Jeff Baena': 3, 'Tope Oshin': 3, 'Tim Burton': 3, 'Drake Doremus': 3, 'Jeff Nichols': 3, 'Garry Marshall': 3, 'Chris Howe': 3, 'Kenneth Gyang': 3, 'Pang Ho-cheung': 3, 'Dante Lam': 3, 'Gonzalo López-Gallego': 3, 'Cheh Chang': 3, 'Phillip Noyce': 3, 'Renny Harlin': 3, 'Kemi Adetiba': 3, 'Nate Adams, Adam Carolla': 3, 'Rob Cohen': 3, 'Kim Nguyen': 3, 'Momoko Kamiya': 3, 'Ashwin Saravanan': 3, 'Wolfgang Petersen': 3, 'Gilles Paquet-Brenner': 3, 'Sujoy Ghosh': 3, 'Satish Rajwade': 3, 'John Asher': 3, 'Jalil Lespert': 3, 'Jane Campion': 3, 'Terry Gilliam': 3, 'Ron Myrick': 3, 'Robert Zemeckis': 3, 'Mike Smith, John Paul Tremblay, Robb Wells': 3, 'Diego Pignataro': 3, 'Jon M. Chu': 3, 'Michael Dowse': 3, 'Toshiyuki Kubooka': 3, 'Matías Gueilburt': 3, 'Theodore Boborol': 3, 'Chapman Way, Maclain Way': 3, 'Simon Wincer': 3, 'Shigeaki Kubo': 3, 'Sebastián Schindel': 3, 'Rajiv Menon': 3, 'Barak Goodman': 3, 'Mahmoud Karim': 3, 'Mark Waters': 3, 'Alex Woo, Stanley Moore': 3, 'Prakash Mehra': 3, 'Adze Ugah': 3, 'Chandrakant Kulkarni': 3, 'Abhishek Chaubey': 3, 'Andibachtiar Yusuf': 3, 'Joe Camp': 3, 'Sofia Coppola': 3, 'Latif Faiziyev, Umesh Mehra': 3, 'Vikramaditya Motwane': 3, 'Karan Johar': 3, 'Richard Weston': 3, 'Orlando von Einsiedel': 3, 'Christopher Nolen': 3, 'Roger Donaldson': 3, 'Sachin Yardi': 3, 'Reginald Hudlin': 3, 'Amr Arafa': 3, 'Adrian Teh': 3, 'Yasmin Ahmad': 3, 'John Huston': 3, 'Sumitra Bhave, Sunil Sukthankar': 3, 'Sam Liu': 3, 'G.J. Echternkamp': 3, 'Lekh Tandon': 3, 'Steven C. Miller': 3, 'Barry Sonnenfeld': 3, 'B. V. Nandini Reddy': 3, 'Ken Ghosh': 3, 'Shawn Levy': 3, 'Mohamed Samy': 3, 'Seyi Babatope': 3, 'Charles Stone III': 3, 'David R. Ellis': 3, 'Bobcat Goldthwait': 3, 'Wes Craven': 2, 'Toka McBaror': 2, 'Hannah Fidell': 2, 'Bejoy Nambiar': 2, 'Nelson McCormick': 2, 'Vicky Matthews': 2, 'Kagiso Lediga': 2, 'Dino Risi': 2, 'Patricia Rozema': 2, 'Steven Bognar, Julia Reichert': 2, 'Manish Jha': 2, 'Gerardo Olivares': 2, 'Daniel Gray Longino': 2, 'Zoe Berriatúa': 2, 'Ruel S. Bayani': 2, 'Estela Renner': 2, 'Aditya Sarpotdar': 2, 'Kenny Young': 2, 'Walter Taylaur': 2, 'Steve Paley': 2, 'Jerry Seinfeld': 2, \"Liam O'Donnell\": 2, 'Chanda Bell': 2, 'Jerrold Tarog': 2, 'Dimitri Logothetis': 2, 'Khaled El Halafawy': 2, 'Gus Van Sant': 2, 'Peter Berg': 2, 'Peter Sullivan': 2, 'Ismail Farouk': 2, 'Daniel Oriahi': 2, 'Kasia Uscinska': 2, 'Nicolas Pesce': 2, 'Kedar Shinde': 2, 'John Hillcoat': 2, 'Nia Dinata': 2, 'Tony Giglio': 2, 'Brian De Palma': 2, 'Ringo Lam': 2, 'Phil Weinstein': 2, 'Michael Drumm': 2, 'Navaniat Singh': 2, 'Taika Waititi': 2, 'Luv Ranjan': 2, 'Ziad Doueiri': 2, 'Vikas Bahl': 2, 'Tarsem Singh': 2, 'Ross Boyask': 2, 'Aaron Sorkin': 2, 'Justin Benson, Aaron Moorhead': 2, 'Sriram Raghavan': 2, 'Simon Wells': 2, 'Michael Cuesta': 2, 'Sameer Vidwans': 2, 'Luis Valdez': 2, 'Satyajit Bhatkal': 2, 'Oz Rodriguez': 2, 'Jota Linares': 2, 'Shirley Frimpong-Manso': 2, 'Alejandro Fernández Almendras': 2, 'Sam Raimi': 2, 'Luc Vinciguerra': 2, 'Cal Seville': 2, 'Kyran Kelly': 2, 'Salvador Calvo': 2, 'Cem Yılmaz': 2, 'Petra Costa': 2, 'A. L. Vijay': 2, 'Sachin': 2, 'Ezekiel Norton': 2, 'Chito S. Roño': 2, 'Ryan Coogler': 2, 'Olivier Marchal': 2, 'Michael Patrick King': 2, 'Rajat Kapoor': 2, 'Brad Bird': 2, 'Dallas Jackson': 2, 'Alex Zamm': 2, 'Sylvie Verheyde': 2, 'Anurag Kashyap, Dibakar Banerjee, Karan Johar, Zoya Akhtar': 2, \"Anthony D'Souza\": 2, 'Mez Tharatorn': 2, 'Lee Hirsch': 2, 'Michael J. Bassett': 2, 'Soumendra Padhi': 2, 'Chris Bould': 2, 'Ben Wheatley': 2, 'Shin Won-ho': 2, 'Shalini Kantayya': 2, 'Sze Yu Lau': 2, 'Kabir Sadanand': 2, 'Thierry Demaizière, Alban Teurlai': 2, 'Chris Sivertson': 2, 'Stacie Passon': 2, 'Park Hoon-jung': 2, 'Jose Manuel Colón': 2, 'Esteban Vidal': 2, 'Noam Murro': 2, 'Eduardo Chauvet': 2, 'Umesh Shukla': 2, 'Spike Jonze': 2, 'Herman Yau': 2, 'Jay Chandrasekhar': 2, 'Nicolás López': 2, 'Gary Fleder': 2, 'J.A. Bayona': 2, 'Darren Lynn Bousman': 2, 'Francesco Imperato': 2, 'Jonathan Levine': 2, 'Girish Malik': 2, 'Toa Fraser': 2, 'Ryan Murphy': 2, 'Nick Broomfield': 2, 'Everardo González': 2, 'Wayne Blair': 2, 'Ted Demme': 2, 'James Toback': 2, 'Stephen Daldry': 2, 'Leslie Iwerks': 2, 'Javier Ruiz Caldera': 2, 'RZA': 2, 'Jack C. Newell': 2, 'Derek Cianfrance': 2, 'Damien O’Connor': 2, 'Sam Taplin': 2, 'Jeremy Kenyon Lockyer Corbell': 2, 'Simon Stone': 2, 'Richard Rich': 2, 'Jason Paul Laxamana': 2, 'Hani Hamdi': 2, 'Makarand Mane': 2, 'Ruben Fleischer': 2, 'Amy Schumer': 2, 'Maryo J. De los Reyes': 2, 'Mark Palansky': 2, 'Joyce Bernal': 2, 'Paul Haggis': 2, 'Stanley Kubrick': 2, 'Stanley Nelson': 2, 'Mahsun Kırmızıgül': 2, 'Tom Ford': 2, 'Ulises Valencia': 2, 'Stephen Chow': 2, 'Charlie Lightening': 2, 'Asghar Farhadi': 2, 'Chad Van De Keere': 2, 'Kristian Mercado': 2, 'Stanley Tong': 2, 'Mark Steven Johnson': 2, 'George Clooney': 2, 'Ciarán Foy': 2, 'Gregory Caruso': 2, 'Brian Oakes': 2, 'Gillian Robespierre': 2, 'Gore Verbinski': 2, 'Lars von Trier': 2, 'Sean Penn': 2, 'Abba T. Makama': 2, 'Banjong Pisanthanakun': 2, 'George C. Wolfe': 2, 'Alex Proyas': 2, 'Brad Peyton': 2, 'Jeff Orlowski': 2, 'R. Ellis Frazier': 2, 'Martin Gorst': 2, 'Davis Guggenheim': 2, 'Florent Bodin': 2, 'Brian Robbins': 2, 'Oliver Twinch': 2, 'Zak Hilditch': 2, 'Jeff Tremaine': 2, 'Bruce Beresford': 2, 'Daniel Alfredson': 2, 'Morgan Spurlock': 2, 'Tosin Coker': 2, 'John Stockwell': 2, 'Gajendra Ahire': 2, 'Jon Favreau': 2, 'Marcelo Galvão': 2, 'Liam Lynch': 2, 'Guy Ritchie': 2, 'Smeep Kang': 2, 'John Erick Dowdle': 2, 'Mana Yasuda': 2, 'Atanu Ghosh': 2, 'Sekhar Kammula': 2, 'Kevin MacDonald': 2, 'Pascal Amanfo': 2, 'Tigmanshu Dhulia': 2, 'Husam El-Gohari': 2, 'Karyn Kusama': 2, 'Parambrata Chatterjee': 2, 'Larry Latham': 2, 'David E. Talbert': 2, 'Susannah Ward': 2, 'Tanuja Chandra': 2, 'Mateo Gil': 2, 'John Dahl': 2, 'Dan Gilroy': 2, 'Michael D. Black': 2, 'Alessandro Angulo': 2, 'Miguel Arteta': 2, 'Paul Soriano': 2, 'Christopher Storer': 2, 'Joe Dante': 2, 'Naoko Yamada': 2, 'Halitha Shameem': 2, 'Rian Johnson': 2, 'Shigeaki Kubo, Tsuyoshi Nakakuki': 2, 'Amy Poehler': 2, 'Mike Binder': 2, 'Basu Chatterjee': 2, 'Stephen Chiodo': 2, 'Alex Merkin': 2, 'Bernie Denk': 2, 'Stanley Moore, Alex Woo': 2, 'Rebecca Zlotowski': 2, 'Jon Lucas, Scott Moore': 2, 'Keoni Waxman': 2, 'Federico Veiroj': 2, 'Harvey Lowry': 2, 'Clark Johnson': 2, 'A.R. Murugadoss': 2, 'Sam Mendes': 2, 'Esteban Crespo': 2, 'Pierre Morel': 2, 'J.C. Chandor': 2, 'Sarah Gavron': 2, 'Dharmesh Darshan': 2, 'Tyler Spindel': 2, 'James Bobin': 2, 'Asif Kapadia': 2, 'Sridhar Rangayan': 2, 'Mar Targarona': 2, 'Greg Rankin, TJ Sullivan': 2, 'Vikram Bhatt': 2, 'Avadhoot Gupte': 2, 'Sanjay Jadhav': 2, 'Damián Romay': 2, 'Brian Volk-Weiss': 2, 'Leslie Small, Tim Story': 2, 'Daniel Stamm': 2, 'Michael Fimognari': 2, 'Brian Klein': 2, 'Kyle Newacheck': 2, 'V Vignarajan': 2, 'Ken Burns': 2, 'Liz Garbus': 2, 'David Paul Meyer': 2, 'Ahishor Solomon': 2, 'Tom Donahue': 2, 'Bille Woodruff': 2, 'Scott L. Montoya': 2, 'Luis Estrada': 2, 'Colin Trevorrow': 2, 'Bill Condon': 2, 'Chris Weitz': 2, 'Kip Andersen, Keegan Kuhn': 2, 'Iginio Straffi': 2, 'Harold Cronk': 2, 'Bo Burnham, Christopher Storer': 2, 'Ted Emery': 2, 'Kim Joo-hyung': 2, 'Sion Sono': 2, 'Hadi El Bagoury': 2, 'Dennie Gordon': 2, 'Mysskin': 2, 'Susan Johnson': 2, 'Ashok Nanda': 2, \"Bill D'Elia\": 2, 'Kazuchika Kise': 2, 'Hussein Kamal': 2, 'Patryk Vega': 2, 'Howard Zieff': 2, 'Ian Edelman': 2, 'David Gordon Green': 2, 'Gary Ross': 2, 'Ethan Coen, Joel Coen': 2, 'Tony Scott': 2, 'Najwa Najjar': 2, 'Jeffrey Walker': 2, 'Ifa Isfansyah': 2, 'Erwin van den Eshof': 2, 'Keishi Otomo': 2, 'Laxman Utekar': 2, 'Marcos Bucay': 2, 'Kim Seong-hun': 2, 'Upi Avianto': 2, 'Elaine McMillion Sheldon': 2, 'Shlok Sharma': 2, 'Thomas Astruc': 2, 'Joe DeMaio': 2, 'Shivam Nair': 2, 'Alexis Morante': 2, 'Robin Swicord': 2, 'Bryan Bertino': 2, 'Antonio Serrano': 2, 'Florian Henckel von Donnersmarck': 2, 'Måns Mårlind, Björn Stein': 2, 'Haifaa Al-Mansour': 2, 'Seth Barrish': 2, 'Alejandro Agresti': 2, 'Mary Harron': 2, 'Ali Ragab': 2, 'Robert Altman': 2, 'John Dower': 2, 'Edwin': 2, 'Frank Oz': 2, 'Isaac Ezban': 2, 'Jonathan Hensleigh': 2, 'Ron Davis': 2, 'Kingsley Ogoro': 2, 'Charlie McDowell': 2, 'Stephen Frears': 2, 'Steven Brill': 2, 'Mikhil Musale': 2, 'Mohit Suri': 2, 'John Duigan': 2, 'Tyler Perry': 2, 'Vinil Mathew': 2, 'Ramsey Nouah': 2, 'Bong Joon Ho': 2, 'Sean Cisterna': 2, 'Joram Lürsen': 2, 'Malik Nejer': 2, 'Danny Boyle': 2, 'Vipul Amrutlal Shah': 2, 'Claire Scanlon': 2, 'Rob Marshall': 2, 'Paco Plaza': 2, 'Stanisław Różewicz': 2, 'Kim A. Snyder': 2, 'Satish Kaushik': 2, 'George Ford': 2, 'Nick Castle': 2, 'Joe Roth': 2, 'Andrew Niccol': 2, 'Ridley Scott': 2, 'Delhiprasad Deenadayalan': 2, 'Àlex Pastor, David Pastor': 2, 'Sara Colangelo': 2, 'Stephen Herek': 2, 'Duncan Jones': 2, 'Nawapol Thamrongrattanarit': 2, 'Jacob Kornbluth': 2, 'JP Habac': 2, 'Neill Blomkamp': 2, 'Jared Hess': 2, 'Anthony Minghella': 2, 'Richard LaGravenese': 2, 'Nagraj Manjule': 2, 'Ben Wallis': 2, 'Errol Morris': 2, 'Alison Klayman': 2, 'Sergio Leone': 2, 'Norman Jewison': 2, 'Thomas Sieben': 2, 'Ari Sandel': 2, 'Tensai Okamura': 2, 'Will Gluck': 2, 'Philipp Stölzl': 2, 'Patrick Brice': 2, 'Anirban Majumder': 2, 'Olivier Megaton': 2, 'Daniel Kontur': 2, 'Scott Stewart': 2, 'Saratswadee Wongsomphet': 2, 'Scott Moran': 2, 'Daniel Calparsoro': 2, 'Trivikram Srinivas': 2, 'Federico Lemos': 2, 'Bunmi Ajakaiye': 2, 'Ben Simms': 2, 'Masaaki Yuasa': 2, 'Dan Forrer': 2, 'Hajime Kamegaki': 2, 'Cristi Puiu': 2, 'Bobby Farrelly, Peter Farrelly': 2, 'Heidi Ewing, Rachel Grady': 2, 'Daniel Lindsay, T.J. Martin': 2, 'Chris Robinson': 2, 'Warren P. Sonoda': 2, 'Álex de la Iglesia': 2, 'Tosin Igho': 2, 'Yorgos Lanthimos': 2, 'Charles Uwagbai': 2, 'Julián Hernández': 2, 'Sam Hobkinson': 2, 'Floyd Russ': 2, 'Eli Craig': 2, 'Randal Kleiser': 2, 'M. Night Shyamalan': 2, 'Christopher Smith': 2, 'Alejandro Doria': 2, 'S.S. Wilson': 2, 'Israel Adrián Caetano': 2, 'Billy Corben': 2, 'James Mangold': 2, 'Hsu Fu-chun': 2, 'Laura Brownson': 2, 'Sang-ho Yeon': 2, 'Andy Fickman': 2, 'Mukul Anand': 2, \"Renzil D'Silva\": 2, 'Tom Shadyac': 2, 'Malcolm D. Lee': 2, 'Shakti Samanta': 2, 'James Wong': 2, 'Gianfranco Rosi': 2, 'Shakun Batra': 2, 'Sangeeth Sivan': 2, 'Jeethu Joseph': 2, 'Apoorva Lakhia': 2, 'Dee Rees': 2, 'Punit Malhotra': 2, 'Karen J. Lloyd': 2, 'Jason Reitman': 2, 'Peter Orton': 2, 'Tarun Mansukhani': 2, 'Angelina Jolie': 2, 'Rob Seidenglanz': 2, 'Nadia Hallgren': 2, 'Paul Weitz': 2, 'Jonathan Mostow': 2, 'James McTeigue': 2, 'Dave Higby': 2, 'James Yukich': 2, 'David M. Rosenthal': 2, 'N. Linguswamy': 2, 'Rhys Thomas': 2, 'Sherif Arafa': 2, 'Baran bo Odar': 2, 'Thiru': 2, 'Timo Tjahjanto': 2, 'Ricky Gervais': 2, 'Gareth Evans': 2, 'Ivan Ayr': 2, 'Scott Hicks': 2, 'Christopher Guest': 2, 'Pratim D. Gupta': 2, 'Raditya Dika': 2, 'Daniel Benmayor': 2, 'Trey Edward Shults': 2, 'Jayan Moodley': 2, 'Paul Greengrass': 2, 'Rizal Mantovani': 2, 'Timothy Woodward Jr.': 2, 'Justin Kelly': 2, 'Michael Damian': 2, 'Ahmed Zain': 2, 'Jeff Wadlow': 2, 'David Pablos': 2, 'Frank Rajah Arase': 2, 'Aditya Kripalani': 2, 'Ali F. Mostafa': 2, 'John Ford': 2, 'Steve Gukas': 2, 'Sundar C.': 2, 'Alistair Legrand': 2, 'Bo Burnham': 2, 'Tim Johnson': 2, 'Zack Snyder': 2, 'Nikhil Advani': 2, 'Alexandre Aja': 2, 'Mohamed Diab': 2, 'Peter Hutchings': 2, 'Michael Winterbottom': 2, 'Ekene Som Mekwunye': 2, 'Matthew Vaughn': 2, 'Mitch Schauer': 2, 'Tsutomu Mizushima': 2, 'Nicholas Kharkongor': 2, 'J.D. Dillard': 2, 'William Brent Bell': 2, 'Kevin Layne': 2, 'Reema Kagti': 2, 'Dominic Sena': 2, 'Neil Jordan': 2, 'Janusz Majewski': 2, 'Mark Tonderai': 2, 'Peter Lepeniotis': 2, 'Alexandre Avancini': 2, 'Alex Díaz': 2, 'Rodrigo Van Der Put': 2, 'John Wells': 2, 'James Ponsoldt': 2, 'Bradley Parker': 2, 'Eduardo Roy Jr.': 2, 'Oluseyi Asurf': 2, 'Pete Travis': 2, 'David Dobkin': 2, 'Johannes Roberts': 2, 'Oriol Paulo': 2, 'Jerry Rothwell': 2, 'Baljit Singh Deo': 2, 'Matt Kugelman': 2, 'Peter Chelsom': 2, 'Erik Canuel': 2, 'Courtney Hunt': 2, 'Santosh Sivan': 2, 'David O. Russell': 2, 'Michael Showalter': 2, 'Abhijit Panse': 2, 'Paul Verhoeven': 2, 'Meltem Bozoflu': 2, 'Andrew Lau Wai-Keung': 2, 'Osgood Perkins': 2, 'Ömer Faruk Sorak': 2, 'Justin Webster': 2, 'Şenol Sönmez': 2, 'Lucky Kuswandi': 2, 'Paul Andrew Williams': 2, 'Ksshitij Chaudhary': 2, 'Alejandro Montiel': 2, 'Anthony Giordano': 2, 'Ahmed Zein': 2, 'Will Yapp': 2, 'Bonni Cohen, Jon Shenk': 2, 'Dave Green': 1, 'Fisher Stevens': 1, 'Ben Ryder': 1, 'Julian Jarrold': 1, 'Benoît Jacquot': 1, 'Agasyah Karim, Khalid Kashogi': 1, 'Rajiv Chilaka, Binayak Das': 1, 'Aatmaram Dharne': 1, 'Doug Lefler': 1, \"Mark O'Connor\": 1, 'Colin Teague': 1, 'Harry Baweja': 1, 'Todd Standing': 1, 'Umer Adil': 1, 'Conrad Helten, Ezekiel Norton, Michael Goguen': 1, 'Reiner Holzemer': 1, 'Arne Birkenstock': 1, 'Dianne Dreyer': 1, 'Keiko Yagi': 1, 'Raja Menon': 1, 'Mike Judge': 1, 'Katherine Fairfax Wright': 1, 'Tristan Ferland Milewski': 1, 'Michael Feifer': 1, 'Bernard Rose': 1, 'Bassam Kurdali': 1, 'Anuranjan Premji': 1, 'Jordi Llompart': 1, 'Patrik Syversen': 1, 'Justin Pemberton': 1, 'Dava Whisenant': 1, 'Saara Cantell': 1, 'Adam Marino': 1, 'Harjit Singh': 1, 'Noushad': 1, 'Garin Nugroho': 1, 'Clay Staub': 1, 'Hark Tsui': 1, 'April Mullen': 1, 'Anthony Wonke': 1, 'Rajeev Chaudhari': 1, 'Bruce W. Smith': 1, 'Scott Mosier, Yarrow Cheney': 1, 'Shivendra Singh Dungarpur': 1, 'John Patrick Shanley': 1, 'Mike Birbiglia': 1, 'Zeke Norton': 1, 'John Scheinfeld': 1, 'Philip Marlatt': 1, 'Eeshwar Nivas': 1, 'Charles Martin Smith': 1, 'Sagar Sarhadi': 1, 'Daniel Gordon': 1, 'John Curran': 1, 'Mahin Ibrahim, Austin Kolodney, Will Lowell, David Beier, Dave Dorsey, Xu Zhang, Alana Waksman, Jon YonKondy, Drue Metz, Brandon Somerhalder': 1, 'Andrew Tan, Michael Goguen': 1, 'Caradog W. James': 1, 'Anthony Lucero': 1, 'Emma Hatherley': 1, 'Troy Nixey': 1, 'Wong Jing, Jason Kwan': 1, 'Richard Brooks': 1, 'Sidheswar Shukla, Asit Mohapatra': 1, 'Charles A. Nichols, Iwao Takamoto': 1, 'Gurvinder Singh': 1, 'Matt Piedmont': 1, 'Mark Dindal': 1, 'Aaron Hancox, Michael McNamara': 1, 'Benjamin Arfmann': 1, 'Nicholas Hytner': 1, 'Shyamal Chaulia, Asit Mohapatra': 1, 'Todd Haynes': 1, 'Ajithkumar': 1, 'David Lean': 1, 'Asit Mohapatra, Shyamal Chaulia': 1, 'Paul Schrader': 1, 'Mel Smith': 1, 'Matthew Salleh': 1, 'Henrik Martin Dahlsbakken': 1, 'Volker Arzt, Angelika Sigl': 1, 'Joshua Caldwell': 1, 'Bo Welch': 1, 'Bruce Gowers': 1, 'Lilibet Foster': 1, 'M.J. Isakson': 1, 'Afia Nathaniel': 1, 'Adam Wood': 1, 'Kyle Newman': 1, 'Scott Marshall Smith': 1, 'Sam Patton': 1, 'Ben Steele': 1, 'Jean-François Richet': 1, 'Micah Bickham, Galley Molina': 1, 'Lu Yang': 1, 'Abdellatif Kechiche': 1, 'Robert Adetuyi': 1, 'Woody Allen': 1, 'Lev L. Spiro': 1, 'Harry Elfont, Deborah Kaplan': 1, 'Jason Bourque': 1, 'Simon Baker': 1, 'Henry Selick': 1, 'Jody Lambert': 1, 'Stuart Rosenberg': 1, 'Richard Sears': 1, 'Mohsin Ali': 1, 'Kranti Kanade': 1, 'July Hygreck': 1, 'Deane Taylor': 1, 'Ben Younger': 1, 'Mike Wiluan': 1, 'Andreas Johnsen': 1, 'Ang Lee': 1, 'Ethan Hawke': 1, 'Don Mancini': 1, 'Zachary Heinzerling': 1, 'Chandrakant Kanse': 1, 'Gary David Goldberg': 1, 'Amara Cash': 1, 'Gabriela Cowperthwaite': 1, 'Martin Hodara': 1, 'Pablo Parés': 1, 'Fernando Meirelles, Katia Lund': 1, 'Cecilia Peck': 1, 'Michael Doneger': 1, 'Arthur Penn': 1, 'Byron Howard, Chris Williams': 1, 'Matt Reeves': 1, 'Geoffrey Orthwein, Andrew Sullivan': 1, 'Thomas Carter': 1, 'Brendan Byrne': 1, 'Gabriel Clarke, Torquil Jones': 1, 'Alexandra Dean': 1, 'John Crowley': 1, 'Vishal Mishra': 1, 'Chris Perkel': 1, 'Saurav Palodhi': 1, 'Florian Gallenberger': 1, 'Jelle de Jonge': 1, 'Elvira Lind': 1, 'Zack Whedon': 1, 'Abdul Aziz Hashad': 1, 'Jay Surridge': 1, 'Jack Starrett': 1, 'Kaizad Gustad': 1, 'Eric Stoltz': 1, 'Robert Kenner': 1, 'Louis Leterrier': 1, 'Gary Cohen, Ross Hockrow': 1, 'Nick Mead': 1, 'Gayane Petrosyan': 1, 'Craig Goodwill': 1, 'Jesse Adang, Syrine Boulanouar': 1, 'Van M. Pham': 1, 'Gavin Fitzgerald': 1, 'Alê Abreu': 1, 'Johnson Esthappan': 1, 'Raj Amit Kumar': 1, 'Jean-Marc Vallée': 1, 'Lilly Wachowski, Lana Wachowski, Tom Tykwer': 1, 'Tanveer Khan': 1, 'Danny J. Boyle': 1, 'Vonda Harrell, Daniel Camenisch': 1, 'Tan Bing': 1, 'Demetri Martin': 1, 'Tanuj Bhramar': 1, 'Jason Priestley': 1, 'Neil LaBute': 1, 'Luis Lopez': 1, 'Kaspar Astrup Schröder': 1, 'Asim Abbasi': 1, 'Carlos Bolado': 1, 'Scott Martin': 1, 'Joey Kern': 1, 'Tom Holland': 1, 'Néstor Sánchez Sotelo': 1, 'Jasbir Bijendra Bhati': 1, 'Harrison Smith': 1, 'Lisa Arnold': 1, 'Clay Porter': 1, 'Frederick Cipoletti': 1, 'Peter Sattler': 1, 'Majid Majidi': 1, 'Sushrut Jain': 1, 'Tamer Bassiouni': 1, 'Ken Burns, Artemis Joukowsky': 1, 'Dennis Iliadis': 1, 'Camilla Nielsson': 1, 'Christian Gudegast': 1, 'Ted Braun': 1, 'Indrasis Acharya': 1, 'Travis Zariwny': 1, 'David McCracken': 1, 'Ken Hughes': 1, 'Philipp Eichholtz': 1, 'Gary Wheeler': 1, 'Jesse Gustafson': 1, 'Brendan Toller': 1, 'Marita Grabiak': 1, 'Agnidev Chatterjee': 1, 'Mark Harris': 1, 'Steve Antin': 1, 'Corbin Bernsen': 1, 'Alexandros Avranas': 1, 'Jon Manning': 1, 'Supavitra Babul': 1, 'Andrew Sandler': 1, 'Lee Chang-dong': 1, 'Cary Murnion, Jonathan Milott': 1, 'Daniele Thompson': 1, 'Miguel Conde': 1, 'Prawal Raman': 1, 'Ham Tran': 1, 'Daniel Mann': 1, 'Parveen Kumar': 1, 'Bedabrata Pain': 1, 'Marianna Palka': 1, 'Julie Dash': 1, 'Amman Abbasi': 1, 'Dylan Haegens, Bas van Teylingen': 1, 'Noah Baumbach, Jake Paltrow': 1, 'Tom Edmunds': 1, 'Emanuel Hoss-Desmarais': 1, 'Gajendra Ahire, Viju Mane, Girish Mohite, Ravi Jadhav': 1, 'Adisorn Tresirikasem': 1, 'Kirsten Johnson': 1, 'Manop Janjarasskul': 1, 'Oliver Schmitz': 1, 'Jill Bauer, Ronna Gradus, Rashida Jones': 1, 'Fernando Coimbra': 1, 'Adam Leon': 1, 'Andrea Molaioli': 1, 'Marie Madinier': 1, 'Miguel Ángel Lamata': 1, 'Grant S. Johnson, Ippsie Jones': 1, 'Laurent Bouzereau': 1, 'Joe Swanberg': 1, 'Alexandre Reinecke': 1, 'Jamal Hill': 1, 'K. Ramanlal': 1, 'Maris Curran': 1, 'Avinash Arun': 1, 'Jason Spingarn-Koff': 1, 'A. Salaam': 1, 'Eduardo Casanova': 1, 'Daniel Burman': 1, 'Kike Maíllo': 1, 'Gordon Anderson': 1, 'Volker Weicker': 1, \"Meghan O'Hara\": 1, \"Tommy O'Haver\": 1, 'Lonny Price': 1, 'Sydney Freeland': 1, 'Jung-woo Park': 1, 'James Ivory': 1, 'Felix Herngren, Måns Herngren': 1, 'Gauri Shinde': 1, 'Shashilal K. Nair': 1, 'Evan Katz': 1, 'Rob Meyer': 1, 'Anita Barbosa': 1, 'Daniel Wilner': 1, 'Alberto Rodríguez': 1, 'Joe Piscatella': 1, 'Rahul Dholakia': 1, 'Jan Suter, Raúl Campos': 1, 'Jean-Patrick Benes': 1, 'Hiroyuki Seshita': 1, 'Lygia Barbosa da Silva, Eliane Brum': 1, 'So Yong Kim': 1, 'Alina Teodorescu': 1, 'Filip Renc': 1, 'Dylan Bank, Daniel DiMauro, Morgan Pehme': 1, 'Sean Foley': 1, 'Pierre Coré': 1, 'Liz Plonka': 1, 'Jeff Garlin': 1, 'Michael Barnett': 1, 'Jessica Yu': 1, 'K. Rajagopal': 1, 'Praveen Nischol': 1, 'Lucien Jean-Baptiste': 1, 'Sudhanshu Saria': 1, 'Dilip Mehta': 1, 'Isaki Lacuesta, Isa Campo': 1, 'Kitty Green': 1, 'Peter Middleton, James Spinney': 1, 'Marcel Barrena': 1, 'Onur Tukel': 1, 'Burhan Qurbani': 1, 'Mir-Jean Bou Chaaya': 1, 'Jeannie Gaffigan': 1, 'Babak Anvari': 1, 'Emily Hagins': 1, 'Greg Richardson': 1, 'Uwe Boll': 1, 'Rohit Mittal': 1, 'Steve Hickner, Simon J. Smith': 1, 'Diego Luna': 1, 'Jorge Michel Grau': 1, 'Riki Lindhome, Jeremy Konner': 1, 'Vikram Gandhi': 1, 'Sean Hanish': 1, 'Sinan Akkuş': 1, 'Matt Bell': 1, 'James Hawes': 1, 'Elite Zexer': 1, 'Nic Mathieu': 1, 'Chris Kelly': 1, 'Roman Gackowski': 1, 'Benjamin Dickinson': 1, 'Sacha Wolff': 1, 'Adam Nimoy': 1, 'Elizabeth Wood': 1, 'Robert McCullough Jr.': 1, 'Shrihari Sathe': 1, 'Ralph Macchio': 1, 'Hubert Woroniecki': 1, 'Maximilian Erlenwein': 1, 'Gerard McMurray': 1, 'Andreas Prochaska': 1, 'Selvamani Selvaraj': 1, 'Seth Barrish, Mike Birbiglia': 1, 'Lô Politi': 1, 'Tomas Portella': 1, 'Macon Blair': 1, 'Keith Scholey': 1, 'Juan Pablo Buscarini': 1, 'Thomas Stuber': 1, 'Sam Dunn, Scot McFadyen': 1, 'Raúl Arévalo': 1, 'Matías Bize': 1, 'Michael Paul Stephenson': 1, 'Colin Dench': 1, 'Joachim Fest, Christian Herrendoerfer': 1, 'Scott Aukerman, Akiva Schaffer': 1, 'Malik Vitthal': 1, 'Joaquín Mazón': 1, 'Jonás Trueba': 1, 'Peter DeLuise': 1, 'Alejandra Márquez Abella': 1, 'Sébastien Betbeder': 1, 'Adam Randall': 1, 'Marco Dutra': 1, 'Mario Rouleau': 1, 'Aniruddha Roy Chowdhury': 1, 'Chester Tam': 1, 'Hannes Stöhr': 1, 'Jayaprakash Radhakrishnan': 1, 'Jun-seong Kim': 1, 'Tanit Jitnukul': 1, 'Alo Sarkar': 1, 'Ali Bin Matar, Ibrahim Bin Mohamed': 1, 'Ali Samadi Ahadi': 1, 'D Ho': 1, 'Judah Friedlander': 1, 'Alex Israel': 1, 'Griffin Dunne': 1, 'Katherine Dieckmann': 1, 'Jeremy Rush': 1, 'Reem Kherici': 1, 'Ranjit Tiwari': 1, 'David Stubbs': 1, 'Mahmoud al Massad': 1, 'Yesim Ustaoglu': 1, 'Jan Suter': 1, 'Lucy Cohen': 1, 'Mahmoud Sabbagh': 1, 'Borja Cobeaga': 1, 'David France': 1, 'Brandon Jones': 1, 'Geun-hyun Cho': 1, 'Carlos Therón': 1, 'Francesco Carrozzini': 1, 'Vibeke Idsøe': 1, 'Carlos Algara, Alejandro Martinez-Beltran': 1, 'Dylan Howitt': 1, 'Jacob LaMendola': 1, 'Ritesh Batra': 1, 'Iñaki Dorronsoro': 1, 'Pali Yahya': 1, 'Louis J. Horvitz': 1, 'John Ridley': 1, 'Alethea Jones': 1, 'Jay Baruchel': 1, 'Ludovic Bernard': 1, 'Noël Wells': 1, 'Diego Kaplan': 1, 'Marco Deufemia, Justin G. Dyck': 1, 'Lydia Tenaglia': 1, 'Varun Narvekar': 1, 'Seth Henrikson': 1, 'Benson Lee': 1, 'Drew Heriot': 1, 'Joel Crawford': 1, 'Michael Barrett': 1, 'Evan Spiridellis, Jeff Gill': 1, 'Leopoldo Aguilar': 1, 'Nana Ekvtimishvili, Simon Gross': 1, 'Olivier Jean-Marie': 1, 'Myles Kane, Josh Koury': 1, 'Shreyas Talpade': 1, 'Jon Alpert': 1, 'Ibai Abad': 1, 'Barbra Streisand, Jim Gable': 1, 'Josh Wakely': 1, 'Alain Desrochers': 1, 'Go Koga': 1, 'Christian Charles': 1, 'Bronwen Hughes': 1, 'Nabil Ayouch': 1, 'Chris Moukarbel': 1, 'Timo Tjahjanto, Kimo Stamboel': 1, 'Christopher Murray': 1, 'Vanessa Roth': 1, 'Jim Strouse': 1, 'Kasper Collin': 1, 'Fazila Allana': 1, 'Eric Abrams': 1, 'Agustí Villaronga': 1, 'Harry Chaskin': 1, 'Marti Noxon': 1, 'Stefan Brogren': 1, 'Pat Healy': 1, 'Nicolas Brossette': 1, 'Serdar Akar': 1, 'Doesjka van Hoogdalem': 1, 'Sushil Majumdar': 1, 'Geetu Mohandas': 1, 'Paulo Oriol': 1, 'Oskar Santos': 1, 'Brian Knappenberger': 1, 'Brent Bonacorso': 1, 'Nitesh Tiwari': 1, 'Roy Burdine, Johnny Castuciano': 1, 'Jay Bulger': 1, 'Arun Chidambaram': 1, 'Michael John Warren': 1, 'Chang-Min Lee': 1, 'Oren Uziel': 1, 'Manika Sharma': 1, 'Claude Lelouch': 1, 'Isaac Rentz': 1, 'Ana Lily Amirpour': 1, 'Ali Scher': 1, 'Michael Bonfiglio': 1, 'Yance Ford': 1, 'José Miguel Contreras': 1, 'Fernando Lebrija': 1, 'Rodrigo Toro, Francisco Schultz': 1, 'Todd S. Yellin': 1, 'Mohammed Hussain': 1, 'Shammi Kapoor': 1, 'Florian Schnell': 1, 'Josh Izenberg, Wynn Padula': 1, 'Gastón Duprat, Mariano Cohn': 1, 'Gary Wang': 1, 'Raz Degan': 1, 'Mariano Cohn, Gastón Duprat': 1, 'Sarah Adina Smith': 1, 'Cate Shortland': 1, 'Adam Wingard': 1, 'Tommy Wirkola': 1, 'Jean-Claude La Marre': 1, 'Jorge Hernandez Aldana': 1, 'Will Canon': 1, 'Rob Silvestri': 1, 'Matthias Hoene': 1, 'Bryan Fogel': 1, 'Fabrice Du Welz': 1, 'Maz Jobrani': 1, 'John Butler': 1, 'Ricardo Maldonado': 1, 'Vetrimaaran': 1, 'Linas Phillips': 1, 'Oliver Daly': 1, 'Uttung Shelar': 1, 'Jung-ah Im, Seung-uk Jo': 1, 'Chris Weitz, Paul Weitz': 1, 'Daniela Goggi': 1, 'Alfonso Serrano Maturino': 1, 'Julien Christian Lutz': 1, 'Julie Taymor': 1, 'Mike McCoy, Scott Waugh': 1, 'Anne Fontaine': 1, 'Sandeep Chatterjee': 1, 'Kyle Rideout': 1, 'Bryce Wagoner': 1, 'Brittany Andrews': 1, 'Terry Loane': 1, 'Biswajeet Bora': 1, 'Castille Landon': 1, 'Gervasio Iglesias, Alexis Morante': 1, 'J. Michael Long': 1, 'Susan Glatzer': 1, 'Eva Vives': 1, 'Don Bluth, Gary Goldman, Dan Kuenster': 1, 'Víctor García': 1, 'Charlie Vaughn': 1, 'Chris Blake': 1, 'Matthew Hope': 1, 'Vincent Perez': 1, 'Greg Kohs': 1, 'Midhun Manuel Thomas': 1, 'Brett Donowho': 1, 'Atul Malhotra': 1, 'Rusty Nixon': 1, 'Maciej Dejczer': 1, 'Andrew Nackman': 1, 'Victor Levin': 1, 'Bharat Jain': 1, 'Trent Haaga': 1, 'Nizar Shafi': 1, 'Meenu Gaur, Farjad Nabi': 1, 'Anggy Umbara': 1, 'Padmakumar Narasimhamurthy': 1, 'Richard Attenborough': 1, 'Stephen Gyllenhaal': 1, 'Tom Fassaert': 1, 'Mark Williams': 1, 'Roman Coppola': 1, 'Erik Nelson': 1, 'Teo Konuralp': 1, 'Jim Fall': 1, 'Andy Goddard': 1, 'Chris Bell': 1, 'Christopher S. Rech, Brandon Kimber': 1, 'Michael Lennox': 1, 'Kees Van Oostrum': 1, 'Henry Sarwer-Foner': 1, 'Ishaan Trivedi': 1, 'Maria Burton': 1, 'Natalie Portman': 1, 'Martin Lawrence': 1, 'Trey Haley': 1, 'Ari Levinson': 1, 'Jeff Margolis': 1, 'Christopher Chambers': 1, 'Sarah Smith': 1, 'James L. Brooks': 1, 'John Murlowski': 1, 'Sung-soo Kim': 1, 'Mike Nicoll': 1, 'Jason Stone': 1, 'David Morris, Jacqui Morris': 1, 'Fabrizio Copano, Augusto Matte': 1, 'Mike Rossiter': 1, 'Gabe Ibáñez': 1, 'Anthony Russo, Joe Russo': 1, 'Levan Tsikurishvili': 1, 'Ajay Bahl': 1, 'Çagan Irmak': 1, 'Alejandro G. Iñárritu': 1, 'Shikha Makan': 1, 'José Eduardo Belmonte': 1, 'Adam MacDonald': 1, 'Dave Patten': 1, 'Michael Petroni': 1, 'David Chirchirillo': 1, 'Salima Koroma': 1, 'Justin Lee': 1, 'Haissam Hussain': 1, 'Zoe Lister-Jones': 1, 'David Gelb': 1, 'Aaron Nee, Adam Nee': 1, 'Jason Winer': 1, 'Christian Desmares, Franck Ekinci': 1, 'Manmohan Desai': 1, 'J.F. Musial, Josh Vietze': 1, 'Khaled Youssef': 1, 'Charlie Siskel': 1, 'Brendon Marotta': 1, 'Sharon Grimberg': 1, 'Mark Zwonitzer': 1, 'Wilson Coneybeare': 1, 'Sarik Andreasyan': 1, 'Tony Kaye': 1, 'Andrea Arnold': 1, 'Nick Davis': 1, 'Jerry G. Angelo': 1, 'Karan Bali': 1, 'Don Bluth': 1, 'Phil Nibbelink, Simon Wells': 1, 'Perry Lang': 1, 'Ismail Farouk, Hazem Fouda': 1, 'Avinash Das': 1, 'Carlos Marques-Marcet': 1, 'Tim Blake Nelson': 1, 'Luis Mandoki': 1, 'Pan Nalin': 1, 'Sohail Tatari': 1, 'Paul Serafini': 1, 'Juan Zapata': 1, 'Sherif Ismail': 1, 'Ken Barbet': 1, 'David Salzberg, Christian Tureaud': 1, 'Shazia Javed': 1, 'Iman Brotoseno': 1, 'Gaby Dellal': 1, 'Dan Krauss': 1, 'Justin Krook': 1, 'Alex Coletti': 1, 'John Smithson': 1, 'Christopher Martin': 1, 'Tom Whitter': 1, 'Sian Heder': 1, 'Karl Mueller': 1, 'Allan Ungar': 1, 'Hemant Gaba, Pratim D. Gupta, Sudhish Kamath, Nalan Kumarasamy, Anu Menon, Sandeep Mohan, Qaushiq Mukherjee, Rajshree Ojha, Raja Sen, Abhinav Shiv Tiwari, Suparn Verma': 1, 'Rob Burnett': 1, 'Michael Margolis': 1, 'Jon Greenhalgh': 1, 'Felix Van Groeningen, Felix van Groeningen': 1, 'Rodolphe Guenoden': 1, 'Jason Krawczyk': 1, 'Sam Wrench': 1, 'Sophie Robinson, Lotje Sodderland': 1, 'John Lee': 1, 'Yuen Wo-Ping': 1, 'Alik Sakharov': 1, 'L. Frazier': 1, 'Gary Howsam, Mike Smith, John Paul Tremblay, Robb Wells': 1, 'Kristin Hanggi': 1, 'J. Davis': 1, 'Chris Buck, Jennifer Lee, Patrick Osborne, Lauren MacMullan, John Kahrs, Nathan Greno, Byron Howard, Stevie Wermers, Dean Wellins, Kevin Deters, Roger Allers, Mike Gabriel, Mark Henn': 1, 'Andrew Bujalski': 1, 'Adam Dubin': 1, 'Christopher Louie': 1, 'Tony Elliott': 1, 'Betty Thomas': 1, 'Rod Blackhurst, Brian McGinn': 1, 'Bauddhayan Mukherji': 1, 'María Jose Cuevas': 1, 'Chris Sparling': 1, 'Jan Suter, Raúl Campos Delgado': 1, 'Shannon Hartman, Michelle Caputo': 1, 'Houda Benyamina': 1, 'Manjeet Singh': 1, 'Moto Sakakibara': 1, 'Lorene Machado': 1, 'Kief Davidson, Richard Ladkani': 1, 'Richard Mears': 1, 'Emilio Martínez Lázaro': 1, 'Julien Rambaldi': 1, 'Yvan Attal': 1, 'Benjamin Weill': 1, 'Roger Gual': 1, 'Thomas Sorriaux': 1, 'Clovis Cornillac': 1, 'Richie Smyth': 1, 'Riccardo Pilizzeri': 1, 'Guilherme Fontes': 1, 'Aamir Bashir': 1, 'David Schalko': 1, 'Pieter Kuijpers': 1, 'Prashant Nair': 1, 'Paul Taublieb, Jon Freeman': 1, 'Riccardo Milani': 1, 'Cary Joji Fukunaga': 1, 'Aaron Hann, Mario Miscione': 1, 'Evgeny Afineevsky': 1, 'Kristina Goolsby, Ashley York': 1, 'Ole Bornedal': 1, 'Sorin Dan Mihalcescu': 1, 'Shane Acker': 1, 'Kevin Reynolds': 1, 'Shravan Kumar': 1, 'Vijay Milton': 1, 'Santwana Bardoloi': 1, 'Lyric R. Cabral, David Felix Sutcliffe': 1, 'Michael Kennedy': 1, 'Óskar Thór Axelsson': 1, 'Adam Deyoe': 1, 'Leif Tilden': 1, 'Melinda Janko': 1, 'Sam Upton': 1, 'Victor Zarcoff': 1, 'Daniel Lee': 1, 'Scott Hussion, Seth Fuller': 1, 'Richard Donner': 1, 'Burr Steers': 1, 'David Marmor': 1, 'Raymond Wood': 1, 'Hasraf Dulull': 1, 'Mike Mills': 1, 'Joey Curtis': 1, 'John Bridcut': 1, 'Nicanor Loreti': 1, 'Simon Napier-Bell': 1, 'Icíar Bollaín': 1, 'Rob LaDuca, Robert C. Ramirez': 1, 'Roger Young': 1, 'Jehane Noujaim': 1, 'Phil Joanou': 1, 'Anthony Pierce': 1, 'Jennifer Phang': 1, 'Jill Bauer, Ronna Gradus': 1, 'Mike Fleiss': 1, 'Aziz Ansari': 1, 'David Sampliner': 1, 'Katy Chevigny, Ross Kauffman': 1, 'Wyatt Cenac': 1, 'Luis Lopez, Clay Tweel': 1, 'Robert Nixon, Fisher Stevens': 1, 'Greg Whiteley': 1, 'Jason Moore': 1, 'Linda Otto': 1, 'Josh Greenbaum': 1, 'Will Lovelace, Dylan Southern': 1, 'Constance Marks': 1, 'Larry Elikann': 1, 'Robert Markowitz': 1, 'Eric Laneuville': 1, 'Joel Oliansky': 1, 'Roy Campanella II': 1, 'Arthur Allan Seidelman': 1, 'John Herzfeld': 1, 'Buzz Kulik': 1, 'Richard Michaels': 1, 'Brian Smrz': 1, 'Walerian Borowczyk': 1, 'Sebastian Gutierrez': 1, 'Bruce McCulloch': 1, 'Stefano Sollima': 1, 'Chayanop Boonprakob': 1, 'Zakariya': 1, 'Benny Fredman': 1, 'Saul Dibb': 1, 'Joseph Cross': 1, 'Kasper Barfoed': 1, 'Partho Sen-Gupta': 1, 'Sumit Das': 1, 'Kevin Phillips': 1, 'Greg Mottola': 1, 'Gordon Parks': 1, 'Bryan Singer': 1, 'Anthony Caronna, Alexander Smith': 1, 'Afonso Poyart': 1, 'Matt Wechsler': 1, 'Jamie M. Dagg': 1, 'Dan Kwan, Daniel Scheinert': 1, 'Derek Yee': 1, 'Navneet Behal': 1, 'Julien Seri': 1, 'Chris Buck, Kevin Lima': 1, 'Brian Smith': 1, 'Ryu Jung-woo': 1, 'Sonia Lowman': 1, 'John Carchietta': 1, 'Kevin Munroe': 1, 'Michael Pressman': 1, 'J.M. Berrios': 1, 'Andrew Bergman': 1, 'Alex Winter': 1, 'Harmony Korine': 1, 'Jonathan Ignatius Green': 1, 'Ian MacAllister-McDonald': 1, 'Nancy Meyers': 1, 'Julius Avery': 1, 'Jeffrey C. Bell': 1, 'David Allensworth, Monière': 1, 'Jerry Rothwell, Reuben Atlas': 1, \"Sam O'Steen\": 1, 'Dan Harris': 1, 'Mark Sloper': 1, 'Peter Ramsey, Rodney Rothman, Bob Persichetti': 1, 'David Fairhead, Anthony Palmer': 1, 'Tom McCarthy': 1, 'Dheeraj Berry': 1, 'Ester Gould, Reijer Zwaan': 1, 'Storm Saulter': 1, 'Christopher Ray': 1, 'Adam Alleca': 1, 'Alison E. Rose': 1, 'Ola Flyum, David Hebditch': 1, 'Akiva Goldsman': 1, 'Arjun Gourisaria, Moinak Biswas': 1, 'Chatchai Katenut, Manussa Vorasingha, Tanwarin Sukkhapisit, Poj Arnon': 1, 'Alex Holmes': 1, 'Raj B. Shetty': 1, 'James Sweeney': 1, 'Rowan Athale': 1, 'Baz Luhrmann': 1, 'Einar Gabbassov': 1, 'Natalia Garagiola': 1, 'Jevons Au, Zune Kwok, Chow Kwun-wai, Ng Ka-Leung, Wong Fei-Pang': 1, 'Andrew Fleming': 1, 'Ofir Raul Graizer': 1, 'Bumpy': 1, 'Elliot Silverstein': 1, 'Sean Menard': 1, 'Jon Gunn': 1, 'Tarek Al Eryan': 1, 'Craig Moss': 1, 'Magdy Al-Hawwary': 1, 'Antonio Chavarrías': 1, 'John Stephenson': 1, 'Michael Buster': 1, 'Bob Nelson': 1, 'Ari Folman': 1, 'Kirk De Micco, Chris Sanders': 1, 'Steve Barron': 1, 'Marek Piwowski': 1, 'Jarrad Paul, Andrew Mogel': 1, 'Satish Manwar': 1, 'Frank Oz, Jim Henson': 1, 'Tariq Khan': 1, 'Peter Mortimer, Josh Lowell': 1, 'Cecilia Atán, Valeria Pivato': 1, 'Blair Hayes': 1, 'William Friedkin': 1, 'Stephanie Soechtig, Jeremy Seifert': 1, 'Bette Gordon': 1, 'Kieran Darcy-Smith': 1, 'Robert Berlinger': 1, 'Graham Phillips, Parker Phillips': 1, 'Stacy Title': 1, 'Nora Twomey': 1, 'Ken Kushner': 1, 'Yann Arthus-Bertrand, Michael Pitiot': 1, 'Damien Leone': 1, 'Sukhbir Singh': 1, 'Mitzi Vanessa Arreola, Amir Galvan Cervera': 1, 'Matthew Shoychet': 1, 'Pamela Romanowsky': 1, 'Geoff Anderson': 1, 'Esteban Sapir': 1, 'Jee-woon Kim': 1, 'Andrew Douglas': 1, 'Thurop Van Orman, John Rice': 1, 'Denis Hennelly, Casey Suchan': 1, 'Jonathan Sobol': 1, 'Christian Duguay': 1, 'André Øvredal': 1, 'Kurt Voelker': 1, 'Elliot Hegarty': 1, 'Keith Fulton, Louis Pepe': 1, 'Brian M. Conley, Nathan Ives': 1, 'Tommy Avallone': 1, 'Rolfe Kanefsky': 1, 'Philippe Falardeau': 1, 'Kevin Ford, Smriti Keshari, Eric Schlosser': 1, 'Albert Hughes, Allen Hughes': 1, 'Olivier Loustau': 1, 'Richard Kelly': 1, 'Mark Herman': 1, 'Fred Olen Ray': 1, 'John Maclean': 1, 'Fabien Beziat, Hugues Nancy': 1, 'Vijay Jayapal': 1, 'Amir Mohiuddin': 1, 'Clementine Malpas, Leslie Knott': 1, 'Nicholas Ray': 1, 'Michael James Regan': 1, 'Craig Anderson': 1, 'John Milius': 1, 'Amitava Bhattacharya': 1, 'Marina Willer': 1, 'Andy Capper': 1, 'Shamyl Othman': 1, 'Allen Coulter': 1, 'René Pérez Joglar': 1, 'Linda Saffire, Adam Schlesinger': 1, 'Andrew Lau Wai-Keung, Andrew Loo': 1, 'Kim Sung-hoon': 1, 'Jani Lachauer, Jakob Schuh': 1, 'Fernando Frías De La Parra': 1, 'Jon Avnet': 1, 'Devaki Singh, Luke Kenny': 1, 'Amit Rai': 1, 'Pierfrancesco Diliberto': 1, 'Nicholas Winter': 1, 'Shweta Basu Prasad': 1, 'Nancy Schwartzman': 1, 'Mitch Dickman': 1, 'Lenny Abrahamson': 1, 'Matthew Atkinson': 1, 'Max Lang, Jani Lachauer': 1, 'Girish Joshi': 1, 'Sanjay Dayma': 1, 'Billy Bob Thornton': 1, 'James Barr': 1, 'Banjong Pisanthanakun, Paween Purikitpanya, Songyos Sugmakanan, Parkpoom Wongpoom, Visute Poolvoralaks': 1, 'Abhishek Saxena': 1, 'Dana Nachman, Don Hardy Jr.': 1, 'Oscar Micheaux, Spencer Williams, Richard E. Norman, Richard Maurice': 1, 'Israel Adrián Caetano, Bruno Stagnaro': 1, 'Christophe Honoré': 1, 'Daniel Mann, Joseph Sargent': 1, 'Jean-Simon Chartier': 1, 'Wim Wenders': 1, 'Gabe Klinger': 1, 'Steve McLean': 1, 'Charlie Haskell, Koichi Sakamoto': 1, 'Bhavik Thakore': 1, 'Ashish R. Shukla': 1, 'Eric Khoo': 1, 'Frank Capra': 1, 'Chris Bell, Josh Alexander, Greg Young': 1, 'Stephen Cone': 1, 'Anurag Singh': 1, 'Luis Prieto': 1, 'Michael Tolajian': 1, 'Richard Correll': 1, 'Raphael Erichsen': 1, 'Hari Viswanath': 1, 'Manish Gupta': 1, 'Jeremy Coon, Tim Skousen': 1, 'Ding Sheng': 1, 'Phil Johnston, Rich Moore': 1, 'Roman Polanski': 1, 'Atanu Mukherjee': 1, 'Jeeva': 1, 'Fabio Grassadonia, Antonio Piazza': 1, 'Max Martini': 1, 'Sudesh Manjrekar': 1, 'Krishna Vamshi': 1, 'Gurudev Bhalla': 1, 'Samar Khan': 1, 'Raymond McGrath': 1, 'Adele K. Thomas, Richard Bailey': 1, 'Richard Bailey': 1, 'Jitendra Tiwari, Pranav Singh': 1, 'Destin Daniel Cretton': 1, 'Barney Clay': 1, 'Adarsh Eshwarappa': 1, 'Banjong Pisanthanakun, Parkpoom Wongpoom': 1, 'Vivek Wagh': 1, 'David L. Cunningham': 1, 'M.J. Bassett': 1, 'Jason Cohen': 1, 'Anil Sharma': 1, 'Robert Kouba': 1, 'Dorian Fernández-Moris': 1, 'Gregg Bishop': 1, 'Corey Grant': 1, 'Ekachai Uekrongtham': 1, 'Fredric Lean': 1, 'Matthew Cooke': 1, 'Colin Strause, Greg Strause': 1, 'Leslye Headland': 1, 'Joe Nussbaum': 1, 'Kenneth Müller': 1, 'Louise Wardle': 1, 'Vicky Matthews, Gareth Sacala': 1, 'Billy Ray': 1, 'Dharmendra Suresh Desai': 1, 'Alex Infascelli': 1, 'Raman Kumar': 1, 'Hakan Yonat': 1, 'Michael Seater': 1, 'Balu Mahendra': 1, 'Ehtesham Uddin': 1, 'Kireet Khurana, Padmakumar Narasimhamurthy': 1, 'Sanjay Soorkar': 1, 'Partha Chakraborty': 1, 'K. Gopinathan': 1, 'Bruce MacDonald, Gabriel Sabloff': 1, 'Rajeev Patil': 1, 'Glenn Miller': 1, 'Venugopan': 1, 'Kamal Sahani': 1, 'V. Scott Balcerek': 1, 'Raj N. Sippy': 1, 'Damon Cardasis': 1, 'Jeffrey G. Hunt': 1, 'Kevan Peterson': 1, 'Keenen Ivory Wayans': 1, 'Hiroshi Aoyama, Kazumi Fukushima, Jim Stenstrum': 1, 'Edgar Wright': 1, 'Steven Zaillian': 1, 'Malik Bendjelloul': 1, 'Jay Chou': 1, 'David Leveaux': 1, 'Michael Samuels': 1, 'David Sington': 1, 'Paul Feig': 1, 'Jitender Pawar': 1, 'Nicholas Zeig-Owens': 1, 'Shaul Schwarz, Christina Clusiau': 1, 'Tekin Girgin': 1, 'Henry Hathaway': 1, 'Preston A. Whitmore II': 1, 'Frank Capra, John Huston, Hugh Stewart, Roy Boulting, Anthony Veiller': 1, 'David Soren': 1, 'Hidetaka Inazuka': 1, 'Buz Wallick': 1, 'Gary Young': 1, 'Susan Lambert, Stefan Moore': 1, 'Benedict Andrews': 1, 'Michael Mazzola': 1, 'Brent Maddock': 1, 'Chris Burkard': 1, 'Jonathan Glazer': 1, 'Sanjay Patel': 1, 'Sherif Mandour': 1, 'Pradeep Verma': 1, 'Mario Van Peebles': 1, 'Ashu Trikha': 1, 'Amanda Micheli': 1, 'Gurinder Chadha': 1, 'Brandon Dickerson': 1, 'David L.G. Hughes': 1, 'Harvey Lilley': 1, 'Gary Michael Schultz': 1, 'Adam Smith': 1, 'Ron Underwood': 1, 'Jenée LaMarque': 1, 'William Wyler, John Sturges': 1, 'George Mendeluk': 1, 'Peter Foott': 1, 'Peter Svatek': 1, 'Saheed Arafath': 1, 'Charlotte Zwerin': 1, 'David Shisgall': 1, 'Derek Hui': 1, 'Wim Bonte': 1, 'Raam Reddy': 1, 'Bin Bunluerit': 1, 'Benjamin Ross': 1, 'Stephen Hopkins': 1, 'Jordan Ross': 1, 'Li Jun': 1, 'Jon Reiner, Brad Rothschild': 1, 'Phil Roman': 1, 'Steve Loter': 1, 'Sonny Marler': 1, 'Edward Ellis, Flor Salcedo, Aaron Woolf': 1, 'Beeban Kidron': 1, 'Michael Cumming': 1, 'Kyoko Miyake': 1, 'Roger Spottiswoode': 1, 'Buddhadev Dasgupta': 1, 'Sukum Maetawanitch': 1, 'Jeffrey Nachmanoff': 1, 'Wally Pfister': 1, 'Richard Bates Jr.': 1, 'P.T. Kunju Muhammad': 1, 'Ganesh Kadam': 1, 'Kushal Srivastava': 1, 'David Guy Levy': 1, 'Milla Harrison-Hansley, Alicky Sussman': 1, 'Dhruv Dhawan': 1, 'Frank Capra, Anatole Litvak': 1, 'Paul Dano': 1, 'Morgan Matthews': 1, 'Mel Stuart': 1, 'Pascale Lamche': 1, 'Storm Theunissen': 1, 'Debra Granik': 1, 'Zach Braff': 1, 'Theo Davies': 1, 'Adrian Murray': 1, 'Bart Freundlich': 1, 'Yasir Nawaz': 1, 'Ed Lilly': 1, 'Lawrence Kasdan': 1, 'Jovanka Vuckovic, Annie Clark, Roxanne Benjamin, Karyn Kusama': 1, 'N. Chandra': 1, 'Abu Bakr Shawky': 1, 'Christian De Vita': 1, 'Kirati Nakintanon': 1, 'Mark Risley': 1, 'James Brown': 1, 'Ivona Juka': 1, 'Mu Chu': 1, 'Chandra Prakash Dwivedi': 1, 'Majid Al Ansari': 1, 'Peter Hewitt': 1, 'Drew Stone': 1, 'Benjamin Turner': 1, 'Paul Raschid': 1, 'Marek Kanievska': 1, 'Bilal Lashari': 1, 'Param Gill': 1, 'Anu Menon': 1, 'Rob McKittrick': 1, 'Marc Francis, Max Pugh': 1, 'Alex Smith, Andrew J. Smith': 1, 'Philip G. Atwell': 1, 'Faraz Haider': 1, 'John Michael McDonagh': 1, 'Jack Zagha Kababie': 1, 'Marina Zenovich': 1, 'Max Joseph': 1, 'David Serrano': 1, 'Jeremiah Zagar': 1, 'Antoni Krauze': 1, 'Chi Fat Chan': 1, 'Michael Fahey': 1, 'Ashish R. Mohan': 1, 'Stephen Donnelly, Olly Reid, Jun Falkenstein': 1, 'Abel Ferrara': 1, 'Trevor Ryan': 1, 'Huang Lei': 1, 'Rebecca Harrison': 1, 'Josh Mendoza': 1, 'Rudy Soedjarwo, Riri Riza': 1, 'Ritu Sarin, Tenzing Sonam': 1, 'Heidi Brandenburg, Mathew Orzel': 1, 'Victoria Bromley': 1, 'Michael Apted': 1, 'Laurent Cantet': 1, 'Robert Tate': 1, 'Mark Craig': 1, 'Dennis Scholl, Kareem Tabsch': 1, 'Rob Smat': 1, 'Blake Harris, Chris Bouchard': 1, 'Mark Osborne': 1, \"Brian O'Malley\": 1, 'Jay Lyons': 1, 'Robert Aldrich': 1, 'Fred Durst': 1, 'Joshua Oppenheimer': 1, 'Marco Schnabel': 1, 'Robert Cannan, Ross Adam': 1, 'Johnny To': 1, 'John Mikulak, Joshua Brown': 1, 'Alan J. Pakula': 1, 'Ken Burns, Christopher Loren Ewers, Erik Ewers': 1, 'Park In-je': 1, 'William Wyler': 1, 'Grant Heslov': 1, 'Mads Matthiesen': 1, 'Tiffanie Hsu': 1, 'John Banas': 1, 'Michael Radford': 1, 'Stuart Heisler': 1, 'Carly Stone': 1, 'Stefan Aust, Dirk Laabs': 1, 'Lasse Hallström, Joe Johnston': 1, 'Ben A. Williams': 1, 'Gillian Armstrong': 1, 'Pieter-Jan De Pue': 1, 'Timothy Reckart': 1, 'Karen Moncrieff': 1, 'Coerte Voorhees, John Voorhees': 1, 'Hugh WIlson': 1, 'Meng Hua Ho': 1, 'Peter Nicks': 1, 'Oliver Frampton': 1, 'Scott Walker': 1, 'Mario Mattei': 1, 'Cody Stokes': 1, 'Doron Paz, Yoav Paz': 1, 'Paul Shoulberg': 1, 'Kasra Farahani': 1, 'Michel Gondry': 1, 'Michael G. Kehoe': 1, 'Mickey Liddell': 1, 'Paco Arango': 1, 'Maya Gallus': 1, 'Chad Archibald': 1, 'Mark Columbus, Lauren Hoekstra, Sarah Kruchowski, Ryan Moody, Simon Savelyev, Vanita Shastry, Shadae Lamar Smith, Jeremy David White': 1, 'Damani Baker': 1, 'Rudradeep Bhattacharjee': 1, 'Rob W. King': 1, 'Philip Einstein Lipski, Jørgen Lerdam, Amalie Næsby Fick': 1, 'Femi Oyeniran, Kalvadour Peterson': 1, 'Femi Oyeniran, Nicky Slimting Walker': 1, 'Ricky Gervais, Matthew Robinson': 1, 'Phyllida Lloyd': 1, 'Benjamin Cohen, Nicolas Cotto': 1, 'Mimi Leder': 1, 'Stephen Chbosky': 1, 'Emil Ben-Shimon': 1, 'Robert Schwentke': 1, 'William Eubank, Will Eubank': 1, 'Sunil Soraya': 1, 'Krzysztof Zanussi': 1, 'Thomas Meadmore': 1, 'Kyle Patrick Alvarez': 1, 'Steven R. Monroe': 1, 'Cosmo Feilding-Mellen': 1, 'Stephan Rick': 1, 'Will Lockhart, Cole D. Pruitt': 1, 'Tobe Hooper': 1, 'Mohammed El-Tahawy, Mohamed Mostafa': 1, 'Lena Khan': 1, 'Leanne Gater': 1, 'Brendan Malloy, Emmett Malloy': 1, 'Joel Schumacher': 1, 'David Koepp': 1, 'Ben Brewer, Alex Brewer': 1, 'David Briggs': 1, 'Kevin Donovan': 1, 'Jean-Pierre Dardenne, Luc Dardenne': 1, 'Mark Neveldine': 1, 'Ken Burns, Lynn Novick': 1, 'Ossama Abu El Atta, Tarek Al Eryan': 1, 'Russell Crowe': 1, 'Jay Russell': 1, 'Robert Eggers': 1, 'Kyle Rankin': 1, 'Neil Rawles': 1, 'Giancarlo Esposito': 1, 'Chris Renaud': 1, 'Stephen Amezdroz': 1, 'Kristian Levring': 1, 'Peggy Holmes': 1, 'Bryan Buckley': 1, 'Peter Lord, Jeff Newitt': 1, 'Keerthi': 1, 'Randall Lobb, Robert McCallum': 1, 'Chan-sang Lim': 1, 'Brian A. Miller': 1, 'Jean-Pierre Devillers': 1, 'Martha Coolidge': 1, 'Ron Clements, John Musker': 1, 'Na Hyeon': 1, 'John Papola': 1, 'Grant Korgan, Brian Niles': 1, 'Francis Ford Coppola': 1, 'Miriam Chandy Menacherry': 1, 'Kevin Derek': 1, 'Shaina Allen': 1, 'Heber Cannon, Mariah Moore, Marston Sawyers': 1, 'Alison MacLean': 1, 'Steve Barker': 1, 'Dejan Zečević': 1, 'Lone Scherfig': 1, 'N.D. Wilson': 1, 'Curtis Hanson': 1, 'Christian E. Christiansen': 1, 'Bruce Robinson': 1, 'Austin Stark': 1, 'Ajay Bhuyan, Kunal Kohli': 1, 'Jean-Loup Felicioli, Alain Gagnol': 1, 'Tony Stone': 1, 'Chuck Russell': 1, 'Jocelyn Moorhouse': 1, 'Cal Saville': 1, 'Amar Gupte': 1, 'Sam Liu, Frank Paur': 1, 'Raj Kanwar': 1, 'Drew Casson': 1, 'Maria Demeshkina Peek': 1, 'Gabriel Grieco': 1, 'Benjamin Turner, Gabe Turner': 1, 'Mary Mazzio': 1, 'Laura VanZee Taylor': 1, 'Feng Xiaogang': 1, 'Adam Sjöberg': 1, 'Douglas McGrath': 1, 'Ken Marino': 1, 'Ken Loach': 1, 'Steve Race': 1, 'Brett Harvey': 1, 'Law Wing-cheong': 1, 'Tony Leondis': 1, 'Karey Kirkpatrick': 1, 'Taron Lexton': 1, 'Aytaç Ağırlar': 1, 'Eric Zaragosa': 1, 'Suman Mukhopadhyay': 1, 'Jonathan Baker': 1, 'Elizabeth Chai Vasarhelyi': 1, 'Sanjeev Gupta': 1, 'Lionel C. Martin': 1, \"Tom O'Dell\": 1, 'Jonathan Taylor': 1, 'Will Allen': 1, 'Rod Blackhurst': 1, 'Corey Yuen': 1, 'Shawn Arranha': 1, 'Liu Jie': 1, 'Anindya Chatterjee': 1, 'Lucy van Beek': 1, 'Jennifer Lynch': 1, 'Vishnu Govindhan': 1, 'Daniel Ablin': 1, 'Asim Raza': 1, 'Ali Taner Baltacı, Cem Yılmaz': 1, 'Neil Armfield': 1, 'Anthony Scott Burns, Nicholas McCarthy, Adam Egypt Mortimer, Gary Shore, Kevin Smith, Sarah Adina Smith, Scott Stewart, Kevin Kolsch, Dennis Widmyer': 1, 'Rakshith Thirthahalli': 1, 'Ziga Virc': 1, 'Noel Dockstader, Quinn Kanaly': 1, 'Mike Disa': 1, 'Sudip Bandyopadhyay': 1, 'Brodje Wemboendja': 1, 'Ayush Raina': 1, 'Marty Stalker': 1, 'Scott Cooper': 1, 'Michael Polish': 1, 'Max McGill': 1, 'Akiva Schaffer': 1, 'Genndy Tartakovsky': 1, 'Sandy Chronopoulos': 1, 'Gail Willumsen': 1, 'John Stewart Muller': 1, 'Luca Vullo': 1, 'Iain Softley': 1, 'Vineeth Anil': 1, 'Kathryn Bigelow': 1, 'Sanjay Gupta': 1, 'Kranti Redkar': 1, 'Tinnu Anand': 1, 'Jijo Pancode': 1, 'Pa. Ranjith': 1, 'Buta Singh': 1, 'Roger Allers, Gaëtan Brizzi, Paul Brizzi, Joan C. Gratz, Mohammed Saeed Harib, Tomm Moore, Nina Paley, Bill Plympton, Joann Sfar, Michael Socha': 1, 'Pooja Bhatt': 1, 'Rupert Jones': 1, 'Dhilip Kumar': 1, 'Sai Paranjape': 1, 'Alphonso J. Wesson': 1, 'Lori Kaye': 1, 'K. Subhash': 1, 'Surya S.J., Sunil Kumar Agrawal': 1, 'Sudipto Roy': 1, 'Steve Greenwood': 1, 'Steven Gomez': 1, 'Frédéric Tonolli': 1, 'Paul Tanter': 1, 'Attila Till': 1, 'Paul Katis': 1, 'Felix Thompson': 1, 'Jeffrey W. Byrd': 1, 'Peter Farrelly, Bobby Farrelly': 1, 'Deniz Gamze Ergüven': 1, 'Woo Ming Jin': 1, 'Lana Wachowski, Lilly Wachowski': 1, 'Peter McDonnell': 1, 'Phil Morrison': 1, 'Salim Akil': 1, 'Eugenio Derbez': 1, 'Michael Gallagher': 1, 'Mathias Malzieu, Stéphane Berla': 1, 'Charles Officer': 1, 'John Trengove': 1, 'Jacob Schwab': 1, 'Leo Riley': 1, 'V. K. Prakash': 1, 'Young Jun Lee': 1, 'Manish Tiwary': 1, 'Zatella Beatty': 1, 'Harvey Glazer, Stuart Stone': 1, 'Stuart Orme': 1, 'Dustin Nguyen': 1, 'Azfar Jafri': 1, 'Gerry Hoban': 1, 'C. Fitz': 1, 'Joe Boyd': 1, 'John Edginton': 1, 'Ashim Ahluwalia': 1, 'Andrew Stanton': 1, 'Radhu Karmakar': 1, 'Bill Oliver': 1, 'Toby Haynes': 1, 'Amardeep Singh Gill': 1, 'Susannah Heath-Eves': 1, 'Nora Ephron': 1, 'Christel Gibson': 1, 'Tom Gianas, Ross R. Shuman': 1, 'Huang Jianming': 1, 'Richard Miron': 1, 'Tony Zierra': 1, 'Sabal Singh Shekawat': 1, 'Arthur Muhammad': 1, 'Nirpal Bhogal': 1, 'Andrew Renzi': 1, 'Gerry Blaksley': 1, 'Marc Abraham': 1, 'Kang Cheng, Shan Hua': 1, 'Asri Bendacha': 1, 'Juan Manuel Cotelo': 1, 'Mark Helenowski, Kevin Pang': 1, 'Dean Wright': 1, 'Mark Murphy': 1, 'Jon Carey, Adam Darke': 1, 'Hoyt Yeatman': 1, 'Fred M. Wilcox': 1, 'Maya Zinshtein': 1, 'Lee Fulkerson': 1, 'Seth Gordon': 1, 'Trudie Styler': 1, 'Marc Levin': 1, 'Wade Allain-Marcus, Jesse Allain-Marcus': 1, 'Jude Okwudiafor Johnson': 1, 'Marcus Nispel': 1, 'Simon Verhoeven': 1, 'Heber Cannon': 1, 'Bob Rose': 1, 'Le Van Kiet': 1, 'Keith Malloy': 1, 'Luke Jurevicius': 1, 'Biyi Bandele': 1, 'Ian Barber': 1, 'Jon Spira': 1, 'Michael Thelin': 1, 'Hugues Nancy, Fabien Beziat': 1, 'Nils Tavernier': 1, 'Neil Triffett': 1, 'Greg Coolidge': 1, 'Ajay Phansekar': 1, 'Denis Villeneuve': 1, 'Jenny Carchman': 1, 'Jason James': 1, 'Robert Clouse': 1, 'Kurt Wimmer': 1, 'Wojciech Marczewski': 1, 'Marcelo González': 1, 'Valeria Golino': 1, 'Robi Michael': 1, 'James Lee': 1, 'Alex Garland': 1, 'Stuart Baird': 1, 'Anders Sømme Hammer, Marius Arnesen, Klaus Erik Okstad, Olav Njaastad': 1, 'Michael Whitton': 1, 'Joseph Mbah': 1, 'Benny Fine': 1, 'Matt Toronto': 1, 'Sedat Kirtan, Kubilay Sarikaya': 1, 'Keith L. Smith': 1, 'Shadi Ali': 1, 'Adam Del Giudice': 1, 'Fellipe Barbosa': 1, 'David Mirkin': 1, 'Robert Osman, Nathanael Wiseman': 1, 'Nanette Burstein': 1, 'Eric Juhola': 1, 'Anjali Nayar': 1, 'James Woodroffe': 1, 'Ali Taner Baltacı': 1, \"Shinji Aramaki, Mamoru Oshii, Hideki Futamura, Toshiyuki Kanno, Tomoki Kyoda, Koichi Mashimo, Yasushi Muraki, Daisuke Nishio, Frank O'Connor, Koji Sawai, Joseph Chou, Hiroshi Yamazaki\": 1, 'Ian Kirby': 1, 'John Irvin': 1, 'Akram Farouk': 1, 'Johnny Martin': 1, 'Tim Van Someren': 1, 'Joe Dietsch, Louie Gibson': 1, 'Luis Javier M. Henaine': 1, 'Ilya Naishuller': 1, 'Pavel Parkhomenko': 1, 'Jon Hurwitz, Hayden Schlossberg': 1, 'Danny Leiner': 1, 'Daniel Raim': 1, 'Ah Loong': 1, 'Justin Bare, Matthew Miele': 1, 'Jon Schnitzer': 1, 'Brant Sersen': 1, 'Eddie Martin': 1, 'Andrew C. Erin': 1, 'Quinn Lasher': 1, 'Elle Callahan': 1, 'Ana Kokkinos': 1, 'Kelly Noonan': 1, 'Tanuj Chopra': 1, 'Ananth Narayan Mahadevan': 1, 'Mathieu Kassovitz': 1, 'Justin Chon': 1, 'Rudy Soedjarwo': 1, 'Hiroshi Katagiri': 1, 'Manbhavan Singh': 1, 'P.K. Baaburaaj': 1, 'David Grossman': 1, 'Guy Vasilovich': 1, 'Nicholas Stoller': 1, 'David Silberg': 1, 'Rich Ragsdale': 1, 'Kazuchika Kise, Masahiko Murata': 1, 'Partho Ghosh': 1, 'Vincente Minnelli, Charles Walters': 1, 'Sally Potter': 1, 'Brett Whitcomb': 1, 'Jedd Wider, Todd Wider': 1, 'Gordon Chan': 1, 'Michael Mason': 1, 'Francis Lee': 1, 'Takuya Inaba': 1, 'Sam de Jong': 1, 'Ivan Sen': 1, 'Mark Landre Gould': 1, 'Neslihan Yesilyurt': 1, 'Chris McCoy': 1, 'Wendy Jo Carlton': 1, 'Tarek Abdel Moaty': 1, 'Henrik Ruben Genz': 1, 'Frank Capra, Joris Ivens': 1, 'Joachim Rønning, Espen Sandberg': 1, 'James Foley': 1, 'Natalia Valdebenito': 1, 'Claude Barras': 1, 'Ishi Rudell, Jayson Thiessen': 1, 'Jayson Thiessen, Ishi Rudell': 1, 'Siu-hung Chung, Wong Jing': 1, 'Nick Cassavetes': 1, 'Atsajun Sattakovit': 1, 'Simon Curtis': 1, 'Moataz El Tony': 1, 'Sabu Varghese': 1, 'Krishna Agazzi, Filippo Gastaldi': 1, 'Dennis Bartok': 1, 'Ben Bowie, Geoff Luck': 1, 'Heidi Saman': 1, 'Sonia Kennebeck': 1, 'Dash Shaw': 1, 'Jon Turteltaub': 1, 'Roman Atwood, Ben Pluimer': 1, 'Chad L. Scheifele': 1, 'Gene Quintano': 1, 'George Stevens': 1, 'Josh Webber': 1, 'Arun Vaidyanathan': 1, 'Jordana Spiro': 1, 'Kelly Reichardt': 1, 'Tom Stubberfield': 1, 'Anthony Bell': 1, 'Tim Maltby': 1, 'Richard Finn, Tim Maltby': 1, 'Nathaniel Warsh': 1, 'Waymon Boone': 1, 'Gulzar': 1, 'Dustin McKenzie, Andrew Duncan, Audu Paden': 1, 'William Monahan': 1, 'Martin Rosete': 1, 'Brett Ratner': 1, 'Ahmed El Gendy': 1, 'Holger Tappe': 1, 'Steve Sacks': 1, 'Steve Ball, Andrew Duncan': 1, 'William Lau, Sylvain Blais': 1, 'Dustin McKenzie': 1, 'Victor Dal Chele, Alfred Gimeno': 1, 'Mike Fetterly, Steve Sacks': 1, 'Dan Fraga, William Lau': 1, 'Audu Paden, Eric Radomski': 1, 'Dustin McKenzie, Steve Sacks': 1, 'Bruce McDonald': 1, 'Rachel Bell': 1, 'Barry Jenkins': 1, 'Antoine Bardou-Jacquet': 1, 'Jami': 1, 'Chad Hartigan': 1, 'Michael Mayer': 1, 'Jennifer Peedom': 1, 'Peter Farrelly, Will Graham, Steve Carr, Griffin Dunne, Steve Brill, James Duffy, Jonathan van Tulleken, Elizabeth Banks, Patrik Forsberg, Brett Ratner, Rusty Cundieff, James Gunn': 1, 'Tomer Heymann': 1, 'Anthony Chan': 1, 'Craig Gillespie': 1, 'Alexandre Heboyan, Benoît Philippon': 1, 'Lewis Milestone, Carol Reed': 1, 'Kiki Goshay, Jacqueline Monetta': 1, 'Rushmore DeNooyer': 1, 'Giulia Clark': 1, 'Amber Tamblyn': 1, 'John H. Lee': 1, 'Logan Kibens': 1, 'Chia Tang': 1, 'Kiran Narayanan': 1, 'Ben C. Lucas': 1, 'Jayaraj Rajasekharan Nair': 1, 'Mark Franchetti, Andrew Meier': 1, 'Anthony Scott Burns': 1, 'Adam Collins, Luke Radford': 1, 'Paul Spurrier': 1, 'Chandran Narikode': 1, 'Jorge Granier': 1, 'Piti Jaturaphat': 1, 'Alex Law': 1, 'Sarah Holt': 1, 'Bhagyaraj': 1, 'Rebecca Addelman': 1, 'Oren Peli': 1, 'Gafoor Y. Elliyaas': 1, 'Jennie Livingston': 1, 'Kevin Hooks': 1, 'Dileep Narayanan': 1, 'Paritosh Painter': 1, 'Karan Lalit Butani': 1, 'Paul Reubens, Wayne Orr': 1, 'Mohd Khairul Azri Bin Md Noor': 1, 'J.C. Falcón': 1, 'C.J. Wallis': 1, 'Roger Allers, Jill Culton': 1, 'Bill Guttentag, Michael Ware': 1, 'Nicolas Winding Refn': 1, \"Jasmine D'Souza\": 1, 'Terri Randall': 1, 'Doug Hamilton': 1, 'Peter Fison': 1, 'Graham Townsley': 1, 'Paula Apsell, Kirk Wolfinger': 1, 'Llewellyn M. Smith': 1, 'Daniel McCabe': 1, 'Peter Yost': 1, 'Sacha Gervasi': 1, 'Lesli Linka Glatter': 1, 'Peter Pardini': 1, 'Sam Taylor-Johnson': 1, 'Dana Doron, Uriel Sinai': 1, 'Enrico Bisi': 1, 'Mat Whitecross': 1, 'Jacques Perrin, Jacques Cluzaud': 1, 'Luke Sparke': 1, 'Lewis Milestone': 1, 'Nacho G. Velilla': 1, 'Shawn Crahan': 1, 'Clarence Yiu-leung Fok': 1, 'Heitor Dhalia': 1, 'Pradip Kurbah': 1, 'Simon Rumley': 1, 'Jon J. Whelan': 1, 'Tim Rouhana': 1, 'Noah Moskin': 1, 'Ted Geoghegan': 1, 'Munish Bhardwaj': 1, 'Anna Boden, Ryan Fleck': 1, 'Fernando Sariñana, José Luis Gutiérrez': 1, 'Ellen Weissbrod': 1, 'Justin McConnell': 1, 'Kevin Peeples': 1, 'Alfonso Arau': 1, 'Karim El Sobky': 1, 'Hua Shan': 1, 'Tim Bartley': 1, 'Robyn Butler': 1, 'Ira Sachs': 1, 'Zach Clark': 1, 'Nick Gomez': 1, 'Steven Knight': 1, 'James Mather, Steve Saint Leger': 1, 'Barbara Kopple': 1, 'Ana Quiroga': 1, 'Michael Anderson': 1, 'Ignacio López Escrivá': 1, 'Jakob Verbruggen': 1, 'Jennifer Baichwal, Nicholas de Pencier': 1, 'David Wnendt': 1, 'Sarah Moshman': 1, 'Charneice Fox': 1, 'Saandeep Patel': 1, 'Steven Fine': 1, 'Ahmad Samir Farag': 1, 'Sridhar Jetty': 1, 'Christian Ditter': 1, \"Alma Har'el\": 1, 'Jenna Laurenzo': 1, 'Onur Ünlü': 1, 'Pascal Blanchard, Sonia Dauger, David Dietz': 1, 'Mario Cambi': 1, 'Hans Petter Moland': 1, 'Oliver Blackburn': 1, 'William H. Macy': 1, 'Remy Kohli': 1, 'Andrés Couturier': 1, 'Yusuf Pirhasan': 1, 'Devin Chanda': 1, 'Samir Karnik': 1, 'Leandro Mark, Nicolás Silbert': 1, 'Suresh Pillai': 1, 'Giulio Base': 1, 'Alejandro Lozano': 1, 'Syed Ahmad Afzal': 1, 'Sopon Sukdapisit': 1, 'Chris Nahon': 1, 'Jaki Bradley': 1, 'Kazuaki Kiriya': 1, 'Massy Tadjedin': 1, 'Damien Piscarel, Florent Bodin': 1, 'Emmanuel Amara': 1, 'Anand Tucker': 1, 'Roy Allen Smith': 1, 'B.N. Shajeer Sha': 1, 'Vic Armstrong': 1, 'Yang Lei': 1, 'Anders Falck, Stinus Morell Vithner': 1, 'Andrew Tan, Stephen Murray': 1, 'Katherine Brooks': 1, 'Radhika Rao, Vinay Sapru': 1, 'Osman Ali': 1, 'Binu Ulahhannan': 1, 'Ui-seok Jo': 1, \"Pablo D'Alo Abba\": 1, 'Sudesh Manjrekar, Atul Kale': 1, 'Daniel Noah': 1, 'Philip Yung': 1, 'Hassan Hegazy, Shady Ali': 1, 'Bob Hercules, Rita Coburn Whack': 1, 'Samuel D. Pollard': 1, 'Jesús Magaña Vázquez': 1, 'Nathan Morlando': 1, 'Mina Shum': 1, 'Jacek Koprowicz': 1, 'Paul Berczeller, Mark Radice': 1, 'Bob Odenkirk': 1, 'Prabhuraj': 1, 'Shin-yeon Won': 1, 'Janet Tobias, Claus Wehlisch': 1, 'John Barnard': 1, 'Santosh Manjrekar': 1, 'Bharat Nalluri': 1, 'Anil Thomas': 1, \"Gavin O'Connor\": 1, 'Keiichi Hara': 1, 'Liv Ullmann': 1, 'Jennifer Siebel Newsom': 1, 'Julia Hart': 1, 'David Fairhead': 1, 'David Blair': 1, 'Shekhar Kapur': 1, 'Eric Drath': 1, 'Hiromasa Yonebayashi': 1, 'Leo Riley, Eric Radomski': 1, 'Ticoy Rodriguez': 1, 'Jayan Vannery': 1, 'Dylan C. Brown': 1, 'Debaloy Dey': 1, 'George Miller': 1, 'Callie Khouri, Jesse V. Johnson': 1, 'Jim Monaco': 1, 'Chun Wong': 1, 'Ben Patterson': 1, 'Aaron Burns': 1, 'Benjamin Ree': 1, 'Amaan Khan': 1, 'Li Pei-Chuan': 1, 'Michael Winnick': 1, 'Keanu Reeves': 1, 'Ben Palmer': 1, 'Nathan Landeg': 1, 'Tathagata Banerjee': 1, 'John Upchurch': 1, \"Tom O'Brien\": 1, 'Michael Roberts': 1, 'Rahat Kazmi': 1, 'Clive Tonge': 1, 'Pulkit': 1, 'Everardo Gout': 1, 'David Raynr': 1, 'Deepika Narayan Bhardwaj': 1, 'Yasuhiro Irie': 1, 'Denny Lu, Mike Myhre': 1, 'Craig Elrod': 1, 'Rachel Talalay': 1, 'Anna Wieczur-Bluszcz': 1, 'Richard Laxton': 1, 'Gil Kenan': 1, 'Phil Burgers': 1, 'Brian Henson': 1, 'Derick Cabrido': 1, 'Marla M. Ancheta': 1, 'Jen McGowan': 1, 'Brian Skiba': 1, 'Oliver Bokelberg': 1, 'Ángel Gómez Hernández': 1, 'Carlos Sorín': 1, 'Ludovico Di Martino': 1, 'Lee Chung-hyun': 1, 'Barry Gonzalez': 1, 'Matthew Michael Carnahan': 1, 'Eric Bress': 1, 'Chris Columbus': 1, 'Matt Eskandari': 1, 'Grant Singer': 1, 'Mohammad Adel': 1, 'Debbie Allen': 1, 'Victor Gatonye': 1, 'Will McCormack, Michael Govier': 1, 'Monica Floyd': 1, 'Siddique': 1, 'Danish Aslam': 1, 'August Jakobsson': 1, 'Dado C. Lumibao': 1, 'Roberto Santucci': 1, 'Farhad Safinia': 1, 'Juan Camilo Pinzon': 1, 'Lin Oeding': 1, 'Naya Anindita': 1, 'Farishad I. Latjuba': 1, 'Picky Talarico': 1, 'Alexx Media': 1, 'Andrucha Waddington, Pedro Waddington': 1, 'Lee Daniels': 1, 'Ellena Wood, Jesse Vile': 1, 'Vir Das': 1, 'Eddie Rosas': 1, 'Miranda de Pencier': 1, 'Frank E. Abney III': 1, 'Marc Fouchard': 1, 'James D. Stern, Fernando Villena': 1, 'Lai Chun-yu': 1, 'Deepa Mehta': 1, \"Darragh O'Connell\": 1, 'Sydney Sibilia': 1, 'Josiah Ng': 1, 'Kirk Wise': 1, 'Beth Sleven, Allan Jacobsen, Kevin Wotton': 1, 'Su I-Hsuan, Chuang Shiang-an, Liu Yi': 1, 'Clint Butler': 1, 'Erik Kling, Kevin Peaty': 1, 'Amanda Raymond': 1, 'Vibhu Virender Puri': 1, 'Mike Rohl': 1, 'Takeshi Fukunaga': 1, 'Jarand Herdal': 1, 'Frasco Mortiz': 1, 'John Whitesell': 1, 'Nimród Antal': 1, 'Bartosz M. Kowalski': 1, 'James Tovell': 1, 'Natasha Lyonne': 1, 'Chang Chin-jung, Chen Rong-hui': 1, 'Lance Daly': 1, 'Unjoo Moon': 1, 'Gil Baroni': 1, 'Glen Keane': 1, 'Kief Davidson, Pedro Kos': 1, 'Chris Foggin': 1, 'Antonio Díaz': 1, 'Karen Maine': 1, 'Tim Neeves': 1, 'Amin Dora': 1, 'Rana Eid': 1, 'Daniel Joseph': 1, 'Randa Chahal Sabbag': 1, 'Shady Hanna': 1, 'Josef Fares': 1, 'Sam Fell, Chris Butler': 1, 'Pavitra Chalam, Akshay Shankar': 1, \"David 'Tosh' Gitonga, Michael Jones\": 1, 'Ti West': 1, 'Santiago Alvarado Ilarri': 1, 'Terrie Samundra': 1, 'Sabaah Folayan, Damon Davis': 1, 'Alejandro Hartmann': 1, 'Cody Cameron, Kris Pearn': 1, 'Carla Barros': 1, 'Michael Curtiz': 1, 'Avinash Walzade': 1, 'Renata Terra': 1, 'Edoardo Ponti': 1, 'Lucas Santa Ana': 1, 'Ulrike Kofler': 1, 'Weica Wang': 1, 'Aitor Arregi, Jon Garaño, Jose Mari Goenaga': 1, 'Kevin Pollak': 1, 'Otoja Abit': 1, 'Maxwell McGuire': 1, 'Remi Weekes': 1, 'Martin Wood': 1, 'Narendra Nath': 1, 'Jan-Peter Horns': 1, 'Tatsushi Omori': 1, 'Zeek Earl, Christopher Caldwell': 1, 'Michael Kampa': 1, 'Jennifer Westcott': 1, 'Richard Greenberg': 1, 'Christopher Cain': 1, 'Juliana Vicente': 1, 'Harald Zwart': 1, 'Stacia Crawford': 1, 'Sudha Kongara, Vignesh Shivan, Gautham Vasudev Menon, Vetri Maaran': 1, 'Sam Macaroni': 1, 'John Putch': 1, 'Jo Sung-hee': 1, 'Eric D. Cabello Díaz': 1, 'Clara Martínez-Lázaro': 1, 'Monty Tiwa': 1, 'Alain Darborg': 1, 'Filip Zylber': 1, 'Julien Royal': 1, 'Brian Baugh': 1, 'Henri Wong': 1, 'Maïa Sandoz': 1, 'Mostofa Sarwar Farooki': 1, 'Joseph Hsu': 1, 'Sam Levinson': 1, 'Rocco Ricciardulli': 1, 'Mario Briongos': 1, 'Guo Jingming': 1, 'Jan Belcl': 1, 'Noé González': 1, 'Richard Arellano': 1, 'Marco Pontecorvo': 1, 'Gregory Plotkin': 1, 'Lluís Quílez': 1, 'Jude Weng': 1, 'Ifeanyi Ikpoenyi': 1, 'Noviandra Santosa': 1, 'Chris Eneng Enaji': 1, 'Jeremy Grant': 1, 'Vinay Bharadwaj': 1, 'Hong Khaou': 1, 'Glendyn Ivin': 1, 'Jesse Peretz': 1, 'Jared Hess, Tyler Measom': 1, 'Abir Sengupta': 1, 'Emmett Malloy': 1, 'Sunny Lau': 1, 'Xavier Maingon, Marc-Antoine Hélard': 1, 'Milton Kremer': 1, 'Kevin Costner': 1, 'Marco Petry': 1, 'Andrew Duncan, Ken Cunningham': 1, 'Jérémie Degruson, Ben Stassen': 1, 'Matt Ross': 1, 'Dani de la Orden': 1, 'Rizki Balki': 1, 'Hamisha Daryani Ahuja': 1, 'Jeferson De': 1, 'Shunsuke Kariyama': 1, 'David Tryhorn, Ben Nicholas': 1, 'Tirumala Kishore': 1, 'Huang Hsin-Yao': 1, 'J Blakeson': 1, 'Khalid Rahman': 1, 'Tharun Bhascker Dhaassyam, B. V. Nandini Reddy, Nag Ashwin, Sankalp Reddy': 1, 'Saron Sakina': 1, 'Prateek Vats': 1, 'Ian Cheney': 1, 'Dallas Jenkins': 1, 'Jeo Baby': 1, 'Okey Oku': 1, 'Thomas Toby Parkinson': 1, 'Archie Hekagery': 1, 'Jeff Deverett': 1, 'Ron Krauss': 1, 'Jeff Stilson': 1, 'Mark McQueen': 1, 'Melanie Mayron': 1, 'Donald Petrie': 1, 'Tony Collingwood': 1, 'Jennifer Beamish, Toby Trackman': 1, 'Jaume Collet-Serra': 1, 'Kim Dong-kyu': 1, 'Shaz Bennett': 1, 'Samar Shaikh': 1, 'Sabrina Rochelle Kalangie': 1, 'Christian Alvart': 1, 'Liao Shih-han': 1, 'Arnon Manor, Timothy Ware-Hill': 1, 'Al Campbell, Alice Mathias': 1, 'Maïwenn': 1, 'Prime Cruz': 1, 'Yandy Laurens': 1, 'John Mitchell, Jeremy Kipp Walker': 1, 'Liu Kuang-hui': 1, 'Daan Jansen, Stijn Verlinde': 1, 'Jay Grace': 1, 'James Haslam': 1, 'Muhammad Ali': 1, 'Robert Townsend': 1, 'Hallvard Bræin': 1, 'Ángeles Reiné': 1, 'Ross Kauffman': 1, 'Ramin Bahrani': 1, 'Nicol Paone': 1, 'Nick Rowland': 1, 'Cooper Karl': 1, 'Lydia Dean Pilcher, Ginny Mohler': 1, \"Cris D'Amato\": 1, 'Mikael Håfström': 1, 'Eric Darnell, Simon J. Smith': 1, 'Byeon Hee-sun': 1, 'Chris Rock': 1, 'Peter Facinelli': 1, 'Renuka Shahane': 1, 'Sung Do-jun': 1, 'Sohail Khan': 1, 'Charles Gozali, Bagus Bramanti': 1, \"Francisco D'Eufemia\": 1, 'Juliet May': 1, 'Olivier Nakache, Éric Toledano': 1, 'Rohan Sippy': 1, 'Ross Venokur': 1, 'Alejandro Ruax, Ramiro Martínez': 1, 'Rohena Gera': 1, 'Maite Ruiz De Austri': 1, 'Jastis Arimba': 1, 'Eric Summer, Éric Warin': 1, 'Kornél Mundruczó': 1, 'Levan Gabriadze': 1, 'Peter Mimi': 1, 'Fajar Bustomi': 1, 'Lasja Fauzia Susatyo': 1, 'Leslye Davis, Catrin Einhorn': 1, 'Toka McBaror, Tunde Apalowo': 1, 'Axelle Laffont': 1, 'Stefano Mordini': 1, 'Funke Akindele': 1, 'Hayden Guppy': 1, 'Stéphane de Freitas': 1, 'André Odendaal, Johan Vorster': 1, 'Cassia Dian': 1, 'Amro Salah': 1, 'Sue Ding': 1, 'Gina Prince-Bythewood': 1, 'Wouter Bouvijn': 1, 'Bryn Evans': 1, 'Cristina Costantini, Kareem Tabsch': 1, 'Chris Renaud, Kyle Balda': 1, 'Coodie, Chike': 1, 'Sachin Kundalkar': 1, 'Puri Jagannadh': 1, 'Vishal Mahadkar': 1, 'Fuwad Khan': 1, 'Krish': 1, 'Rachit Kusonkoonsiri': 1, 'Shoojit Sircar': 1, 'Omung Kumar': 1, 'QLF': 1, 'Devika Bhagat': 1, 'Denis Do': 1, 'Dave Skinner, Freddie Waters': 1, 'Lisa Cortés, Farah X': 1, 'Aniedi Anwah': 1, 'Darren Grant': 1, 'Matias Mariani': 1, 'Mfanelo Ngoma': 1, 'Joseph Ruben': 1, 'Nopparoj Chotmunkongsit': 1, 'Colin Minihan': 1, 'Regina Welker, Nina Wels': 1, 'Honey Trehan': 1, 'Katleho Ramaphakela, Rethabile Ramaphakela': 1, 'Ariel Boles': 1, 'Álvaro Delgado-Aparicio L.': 1, 'Venkatesh Maha': 1, 'Mickey Fonseca': 1, 'Sibusiso Khuzwayo': 1, 'Jan Komasa': 1, 'Sue Kim': 1, 'Paul Solet': 1, 'Ben Kasulke': 1, 'Gagan Puri': 1, 'Teddy Chan': 1, 'Bhavin Wadia': 1, 'Tony Bancroft, Scott Christian Sava': 1, 'Tope Alake': 1, 'Yuki Tanada': 1, 'Alex Gibney': 1, 'Ahn Byoung-wook': 1, 'Takashi Doscher': 1, 'Shubham Singh': 1, 'Aanand Rai': 1, 'Greta Gerwig': 1, 'Ayman Makram': 1, 'George Gallo': 1, 'Ry Russo-Young': 1, 'Barbara Białowąs, Tomasz Mandes': 1, 'Akhil Paul, Anas Khan': 1, 'Kanika Batra': 1, 'Michael Cristofer': 1, 'Mohamed Khan': 1, 'Adriana Trigiani': 1, 'Phil Sgriccia': 1, 'Andaç Haznedaroğlu': 1, 'Murat Kepez': 1, 'Sam Rega': 1, 'A. Raajdheep': 1, 'Inas El-Degheidy': 1, 'Izidore K. Musallam': 1, 'Yasir Al Yasiri': 1, 'Safdar Rahman': 1, 'Tomas Brickhill': 1, 'Hani Al-Shaibani': 1, 'Mamoru Hosoda': 1, 'James Franco': 1, 'Niall Johnson': 1, 'Angshuman Ghosh': 1, 'Fernando Frías de la Parra': 1, 'Madeleine Parry': 1, 'Kitaro Kosaka': 1, 'Juan José Campanella': 1, 'Gurmmeet Singh': 1, 'Eric Notarnicola': 1, 'LP': 1, 'Raoul Peck': 1, 'Fabio Ock, Joana Mazzucchelli': 1, 'Sabina Fedeli, Anna Migotto': 1, 'Michael Duggan': 1, 'Almudena Carracedo, Robert Bahar': 1, 'Younuts!': 1, 'Daniel Effiong': 1, 'Rachel Griffiths': 1, 'Ravikanth Perepu': 1, 'Anvita Dutt': 1, 'Gaspar Antillo': 1, 'Musthafa': 1, 'Greg McLean': 1, 'Kate Mulleavy, Laura Mulleavy': 1, 'Akhigbe Ilozobhie': 1, 'Apurva Dhar Badgaiyann': 1, 'Elissa Down': 1, 'Guillaume Pierret': 1, 'Pablo Aulita': 1, 'Junichi Sato, Tomotaka Shibayama': 1, 'Manatsanun Phanlerdwongsakul': 1, 'Georges Hachem': 1, 'Madeleine Gavin': 1, 'Jim Hosking': 1, 'Paco Aguilar': 1, 'Mike Doyle': 1, 'Franck Nataf': 1, 'Martín Sastre': 1, 'Marwan Hamed': 1, 'Jenny Popplewell': 1, 'Florian Schott': 1, 'Joe Mantello': 1, 'Page Hurwitz': 1, 'Navdeep Singh': 1, 'Rikhil Bahadur': 1, 'Harry Bradbeer': 1, 'Joshua Tickell, Rebecca Harrell Tickell': 1, 'Sophia Nahli Allison': 1, 'Norihisa Hiranuma': 1, 'Yudai Yamaguchi': 1, 'Vijay Maurya': 1, 'Raja Chanda': 1, 'Faris Godus': 1, 'Akashdeep': 1, 'Rajesh Ganguly': 1, 'Alankrita Shrivastava': 1, 'Chandra Liow': 1, 'Gary Andrews': 1, 'Merawi Gerima': 1, 'Kubhaer T. Jethwani': 1, 'Steve Bencich': 1, 'Carles Torras': 1, 'James Watkins': 1, 'Philippa Lowthorpe': 1, 'Pailin Wedel': 1, 'Rod Lurie': 1, 'David LaChapelle': 1, 'Javier Colinas': 1, 'Francis Whately': 1, 'Kevin Ko, Peter Tsi': 1, 'Caroline Suh': 1, 'Carlos Pérez Osorio': 1, 'B. Subhash': 1, 'Harshavardhan Kulkarni': 1, 'Neeraj Vora': 1, 'Puneet Khanna': 1, 'Radha Blank': 1, 'Bigflo & Oli, Jérémie Levypon': 1, 'Eduardo Pinto': 1, 'Pavel Kostomarov': 1, 'Mike Elliott': 1, 'Jon Izen': 1, 'Lindsey Cordero, Armando Croda': 1, 'Alastair Fothergill, Jonnie Hughes, Keith Scholey': 1, 'Amy Segal': 1, 'Umut Aral': 1, 'Umut Kirca': 1, 'Tom Whitworth': 1, 'Domenico de Feudis': 1, 'Salvador Espinosa': 1, 'Brad Silberling': 1, 'Elsa Flores Almaraz, Richard J Montoya': 1, 'Carey McKenzie': 1, 'Mostafa Abu Seif': 1, 'Adam Bolt': 1, 'Peter Sollett': 1, 'Shaun Mir': 1, 'Laura Terruso': 1, 'Hong Won-ki': 1, 'Francesco Carnesecchi': 1, 'Greg Tiernan': 1, 'Chris Roland, Maradona Dias Dos Santos': 1, 'David Galán Galindo': 1, 'David Moreton': 1, 'Lester Hsi': 1, 'Cyrus Nowrasteh': 1, 'Isabel Sandoval': 1, 'Nathan Wiley': 1, 'Atul Sabharwal': 1, 'Bernardo Arellano': 1, 'Trish Sie': 1, 'Fred Wolf': 1, 'Duncan McMath': 1, 'Sammaria Sari Simanjuntak': 1, 'Chairun Nissa': 1, 'Sergei Bodrov': 1, 'Anna Stone': 1, 'Cory Edwards': 1, 'Faraday Okoro': 1, 'Henry Joost, Ariel Schulman': 1, 'Sharan Sharma': 1, 'Vicky Wight': 1, 'Marc Meyers': 1, 'Franziska Meyer Price': 1, 'Steven Rinella': 1, 'Dan Forgione, Pete Jacobs, Matt Whitlock': 1, 'Abbas Mustan': 1, 'Dean DeBlois': 1, 'Pippa Ehrlich, James Reed': 1, 'Reinhard Klooss': 1, 'Abhijeet Deshpande': 1, 'Prakash Kunte': 1, 'Manish Saini': 1, 'Kenny Ortega': 1, 'Sameer Patil': 1, 'Kenzo Maihara, Amandha Wyanto': 1, 'Arati Kadav': 1, 'Maïmouna Doucouré': 1, 'Pepe Mora': 1, 'Marcos Carnevale': 1, 'Cho Il': 1, 'Tolga Karaçelik': 1, 'Sean Anders': 1, 'Philip Barantini': 1, 'Charlie Kaufman': 1, 'Junior Carelli, Rudge Campos': 1, 'Ertanto Robby Soediskam': 1, 'Felix Binder': 1, 'Thor Freudenthal': 1, 'Nguyen Thanh Tung': 1, 'Baltasar Kormákur': 1, 'Shamzu Zayba': 1, 'Ayumu Watanabe': 1, 'Hitoshi Namba': 1, 'Chris Miller': 1, 'Taylor Hackford': 1, 'Maribel Sánchez-Maroto': 1, 'Milind Rau': 1, 'Sofie Šustková': 1, 'Sita Likitvanichkul, Jetarin Ratanaserikiat, Apirak Samudkitpaisan, Thanabodee Uawithya, Adirek Wattaleela': 1, 'Garrett Bradley': 1, 'David Slade': 1, 'Catherine Hardwicke': 1, 'Hadrah Daeng Ratu': 1, 'Tommy Chong': 1, 'Fred Ouro Preto': 1, 'Ash Brannon, Chris Buck': 1, 'Roberto De Feo, Paolo Strippoli': 1, 'Semi Chellas': 1, 'Viridiana Lieberman': 1, 'Nima Nourizadeh': 1, 'Alessandra de Rossi': 1, 'Navot Papushado': 1, 'Jericca Cleland, Kevin Munroe': 1, 'Ahmed Siddiqui': 1, 'Hallie Meyers-Shyer': 1, 'Scott Speer': 1, 'Camille Delamarre': 1, 'Femi D. Ogunsanwo': 1, 'Douglas Attal': 1, 'Avi Federgreen': 1, 'Tolulope Itegboje': 1, 'Mahmood Ali-Balogun': 1, 'Jan Holoubek': 1, 'David Yarovesky': 1, 'Christine Luby': 1, 'Kathryn Fasegha': 1, 'Johane Matte, Andrew L. Schmidt, Francisco Ruiz Velasco': 1, 'Kyohei Ishiguro': 1, 'Steven Tsuchida': 1, 'Kelly Fremon Craig': 1, 'Tom Elkins': 1, 'Brad Furman': 1, 'Sylvain White': 1, 'Irwin Winkler': 1, 'Michelle Bello': 1, 'Daniel Markowicz': 1, 'Louie Schwartzberg': 1, 'Glen Winter': 1, 'Jaume Balagueró': 1, 'Selçuk Metin': 1, 'David Charhon': 1, 'Yuval Adler': 1, 'Rajiv Chilaka, Owll Mina': 1, 'David Benullo': 1, 'Royale Watkins, Rich Schlansker': 1, 'Muzi Mthembu': 1, 'Peter Thorwarth': 1, 'Augustine Frizzell': 1, 'Sidheswar Shukla': 1, 'Binayak Das': 1, 'Arpan Sarkar, Shyamal Chaulia': 1, 'Ainsley Gardiner, Briar Grace-Smith': 1, 'Morgan Ingari': 1, 'Abdulaziz Alshlahei': 1, 'Edward Drake': 1, 'Yeo Siew Hua': 1, 'Hanns-Bruno Kammertöns, Vanessa Nöcker, Michael Wech': 1, 'David A. Vargas': 1, 'Alan Parker': 1, 'Martin Brest': 1, 'Joel Gallen': 1, 'Claire McCarthy': 1, 'Shuko Murase': 1, 'Mary Lambert': 1, 'Sidharta Tata, Aco Tenriyagelli, Dian Sastrowardoyo, Ifa Isfansyah, Jason Iskandar': 1, 'Trevor Nunn': 1, 'Jim Field Smith': 1, 'Chris Koch': 1, 'J.J. Abrams': 1, 'Anton Corbijn': 1, 'Robin Bissell': 1, 'Phil Alden Robinson': 1, 'Greg Berlanti': 1, 'Len Wiseman': 1, 'Patrick Tatopoulos': 1, 'Vincent Ward': 1, 'Gregory Nava': 1, 'Matt Thompson': 1, 'Jameel Buari': 1, 'Matt Aselton': 1, 'Shen Leping': 1, 'Jose Javier Reyes': 1, 'Jakub Piątek': 1, 'B. T Thomas': 1, 'Nibal Arakji': 1, 'Garth Davis': 1, 'Jennifer Yuh Nelson': 1, 'Gerhard Mostert': 1, 'Anurin Nwunembom, Musing Derrick': 1, 'Sakon Tiacharoen': 1, 'Hideaki Takizawa': 1, 'Eva Müller, Michael Schmitt': 1, 'Mag Hsu, Hsu Chih-yen': 1, 'Alaa Eddine Aljem': 1, 'Manuel Alcalá': 1, 'Ricardo Trogi': 1, 'Akay Mason, Abosi Ogba': 1, 'Daniel Růžička': 1, 'Juraj Šajmovič': 1, 'Pascal Atuma': 1, 'Oleg Trofim': 1, 'Udoka Oyeka': 1, 'John Stevenson, Mark Osborne': 1, 'Rajveer Singh Maan, Harpeet Singh': 1, 'Saw Teong Hin, Nik Amir Mustapha, M.S. Prem Nath': 1, 'Pramod Pawar': 1, 'Naresh Saigal': 1, 'Neri Parenti': 1, 'Matt Ogens': 1, 'Kim Tae-hyung': 1, 'Michael Spierig, Peter Spierig': 1, 'Chow Hin Yeung Roy': 1, 'Frank Marshall': 1, 'Victor Vu': 1, 'Joel Hopkins': 1, 'Trey Parker': 1, 'Zara Hayes': 1, 'Jorge Blanco': 1, 'George Jackson, Doug McHenry': 1, 'Lijo Jose Pellissery': 1, 'David de Vos': 1, 'Rahul Rawail': 1, 'Jason Hehir': 1, 'Yemi Amodu': 1, 'Luis Alfaro, Javier Gómez Santander': 1, 'Luke Holland': 1, 'Shanker Raman': 1, 'Vidhu Vinod Chopra': 1, 'Mark Rosman': 1, 'Brett Weiner': 1, 'Scott Pleydell-Pearce': 1, 'Eric Meza': 1, 'Alexis Almström': 1, 'Michael Martin': 1, 'Michael Rymer': 1, 'Andrew Lau Wai-keung, Alan Mak': 1, 'Jim Henson': 1, 'Gary Winick': 1, 'Danishka Esterhazy': 1, 'Troy Byer': 1, 'Kinka Usher': 1, \"Matthew O'Callaghan, Todd Wilderman\": 1, 'Michael Carney': 1, 'Richard Linklater': 1, 'Amy Rice': 1, 'Stephen Kijak': 1, 'Marcus Clarke': 1, 'J. Lee Thompson': 1, 'Cédric Jimenez': 1, 'Haile Gerima': 1, 'Andy Devonshire': 1, 'Theodore Melfi': 1, 'Christian Schwochow': 1, 'Robert Cullen, José Luis Ucha': 1, 'Kongkiat Komesiri': 1, 'Pedro de Echave García, Pablo Azorín Williams': 1, 'S. Shankar': 1, 'Adam Salky': 1, 'K.S. Ravikumar': 1, 'Ashwiny Iyer Tiwari, Abhishek Chaubey, Saket Chaudhary': 1, 'Daniel Sandu': 1, 'George Nolfi': 1, 'Tomer Eshed': 1, 'Jeannot Szwarc': 1, 'Joe Alves': 1, 'Joseph Sargent': 1, 'Daniel Espinosa': 1, 'Tyler Greco': 1, 'Hirotsugu Kawasaki': 1, 'Toshiyuki Tsuru': 1, 'Cedric Nicolas-Troyan': 1, 'JJC Skillz, Funke Akindele': 1, 'Alice Waddington': 1, 'Mona Achache, Patricia Tourancheau': 1, 'Fredrick Munk': 1, 'Michael Ritchie': 1, 'Evan Goldberg, Seth Rogen': 1, 'David Feiss': 1, 'Laura Fairrie': 1, 'Ferdinando Cito Filomarino': 1, 'Juan Carlos Medina': 1, 'Inma Torrente': 1, 'Julián Gaviria': 1, 'Steven Yamamoto': 1, 'Jonathan Teplitzky': 1, 'Dustin Hoffman': 1, 'Quoc Bao Tran': 1, 'Bejoy Nambiar, Priyadarshan, Karthik Narain, Vasanth Sai, Karthik Subbaraj, Arvind Swamy, Rathindran R Prasad, Sarjun, Gautham Vasudev Menon': 1, 'Just Philippot': 1, 'Kirk DeMicco, Brandon Jeffords': 1, 'Cavi Borges, Luciano Vidigal': 1, 'Marcelo Piñeyro': 1, 'Michael Harte': 1, 'Izu Ojukwu': 1, 'Peter Winther': 1, 'Susan Lacy': 1, 'Chineze Anyaene': 1, 'Kristine Stolakis': 1, 'Rod Daniel': 1, 'Todor Chapkanov': 1, 'Phil Lord, Christopher Miller': 1, 'John Hughes': 1, 'Justin Baldoni': 1, 'Mark Helfrich': 1, 'Christopher Nolan': 1, 'Alice Filippi': 1, 'Miguel Alexandre': 1, 'Ramzy Bedia, Éric Judor': 1, 'Joshua Rofé': 1, 'Sharan Koppisetty': 1, 'Taylor Sheridan': 1, 'Saurabh Kabra': 1, 'Partho Mitra': 1, 'Santram Varma': 1, 'Anil V. Kumar, Anurag Basu': 1, 'Umesh Ghadge': 1, 'Pawan Kripalani': 1, 'Bhushan Patel': 1, 'Raj Nidimoru, Krishna D.K.': 1, 'Angel Kristi Williams': 1, 'Magnus Martens': 1, 'Mauricio Dias, Tatiana Villela': 1, 'Veronica Velasco': 1, 'Christopher Alender': 1, 'David Oyelowo': 1, 'Rush Sturges': 1, 'Mark Lo': 1, 'Crystal Moselle': 1, 'Han Kwang Il': 1, 'Karim El Shenawy': 1, 'Brian Andrew Mendoza': 1, 'Yin Chen-hao': 1, 'Paakhi Tyrewala': 1, 'Mayye Zayed': 1, 'Dave Needham': 1, 'Andrew Dominik': 1, 'Anissa Bonnefont': 1, 'Carlos Moreno': 1, 'Bahij Hojeij': 1, 'Cassi Simonds': 1, 'Tony Abulu': 1, 'Stefan Westerwelle': 1, 'Niki Caro': 1, 'Mark Dennis, Ben Foster': 1, 'Taranveer Singh': 1, 'TT The Artist': 1, 'Keiichi Sato, Yasushi Kawamura': 1, 'Glenn Weiss': 1, 'Michael Civille': 1, 'Ryuichi Hiroki': 1, 'One9': 1, 'Cheng Wei-hao': 1, 'Pass Patthanakumjon': 1, 'Buchi Babu Sana': 1, 'Moyoung Jin, Caroline Sá, Deepti Kakkar, Fahad Mustafa, Hikaru Toda, Chico Pereira, Elaine McMillion Sheldon': 1, 'Zhao Ji': 1, 'Jamie Babbit': 1, 'Dare Olaitan': 1, 'Ben Falcone': 1, 'Travon Free, Martin Desmond Roe': 1, 'Steve Rolston': 1, 'Madonne Ashwin': 1, 'Enah Johnscott': 1, 'Braden R. Duemmler': 1, 'Cal Brunker': 1, 'Steve Pink': 1, 'Ryan Crego': 1, 'Shashank Khaitan, Raj Mehta, Neeraj Ghaywan, Kayoze Irani': 1, 'Aamir Khan': 1, 'Selçuk Aydemir': 1, 'Pierre Greco, Nancy Florence Savard': 1, 'Andrew Davis': 1, 'Chaitanya Tamhane': 1, 'Pedro Antonio': 1, 'Jonathan Liebesman': 1, 'Maria Pulera': 1, 'Santhosh Viswanath': 1, 'Mike Rianda, Jeff Rowe': 1, 'Robert Pulcini, Shari Springer Berman': 1, 'Seema Pahwa': 1, 'Rindala Kodeih': 1, 'Selçuk Aydemir, Birkan Pusa': 1, 'Kongkiat Khomsiri': 1, 'Anusha Rizvi, Mahmood Farooqui': 1, 'Marwan Nabil': 1, 'MIKIKO, Daito Manabe': 1, 'Yılmaz Erdoğan, Ömer Faruk Sorak': 1, 'Takashi Shimizu': 1, 'Joe Penna': 1, 'Curtis Graham': 1, 'Gerardo Gatica': 1, 'Akshay Sanjeev Chavan, Sumit Das': 1, 'John Madden': 1, 'Edward James Olmos': 1, 'Kiran Rao': 1, 'Abbas Tyrewala': 1, 'Xiao Feng': 1, 'Ricky Staub': 1, 'Patrick Durham, Paul G. Volk': 1, 'Taylor Morden': 1, 'Taketoshi Sado': 1, 'Takuma Sato': 1, 'Brody Chu': 1, 'Li Weiran': 1, 'Chinaza Onuzo': 1, 'Anna Elizabeth James': 1, 'Vitor Brandt': 1, 'Manny Rodriguez, Jay Lavender': 1, 'Farah Nabulsi': 1, 'Alain Brunard': 1, 'Ladislaus Kiraly': 1, 'Hemambar Jasti': 1, 'Muharrem Gülmez': 1, 'Ali Tabrizi': 1, 'Dolapo Adeleke': 1, 'Helena Coan': 1, 'Can Ulkay': 1, 'Luis Alejandro Pérez': 1, 'Ketche': 1, 'Erol Özlevi': 1, 'Tolga Örnek': 1, 'Pablo Agüero': 1, 'Mohammad Irfan Ramly': 1, 'Kevin McManus, Matthew McManus': 1, 'Ange Basterga, Nicolas Lopez': 1, 'Gitanjali Rao': 1, 'Jung-ah Im': 1, 'Aleksey Tsitsilin': 1, 'Naseef Yusuf Izuddin': 1, 'Roman Polański': 1, 'Appie Boudellah, Aram van de Rest': 1, 'Nick Moore': 1, 'Rajesh Mapuskar': 1, 'Lina Al Abed': 1, 'David Hackl': 1, 'Takeshi Nozue': 1, 'Subhash Kapoor': 1, 'George Cukor': 1, 'Shinji Aramaki, Masaru Matsumoto': 1, 'John Luessenhop': 1, 'Hanung Bramantyo, Pandu Adjisurya': 1, 'Bashir El Deek': 1, 'Mic Rodgers': 1, 'Massimiliano Camaiti': 1, 'Shawn Rech': 1, 'Julian Schnabel': 1, 'Adrián García Bogliano': 1, 'Jose Gomez': 1, 'Jonathon Link': 1, 'Fermín Muguruza': 1, 'Justin Chadwick': 1, 'Nadine Ibrahim': 1, 'Roman White': 1, 'Mike Hodges': 1, 'Eylem Kaftan': 1, 'Umesh Bist': 1, 'Jonathan Lynn': 1, 'Chris Gorak': 1, 'Ann Deborah Fishman': 1, 'Nicole Conn': 1, 'Tariq Alkazim': 1, 'Yulene Olaizola': 1, 'Matthew Heineman': 1, 'Robert Peters': 1, 'Jonathan Clay': 1, 'Ally Pankiw': 1, 'Chiaki Kon': 1, 'Helena Bergström': 1, 'Alejandro De Grazia, Juan Stadler': 1, 'Myriam Fares': 1, 'Rae Red': 1, 'Lance Hool': 1, 'Ellen Seidler, Megan Siler': 1, 'Lara Saba': 1, 'Roger Christian': 1, 'Lance Young': 1, 'Leandro Neri': 1, 'Thom Fitzgerald': 1, 'Harold Becker': 1, 'Andrew Jenks': 1, 'Tade Ogidan': 1, 'Scott Spiegel': 1, 'Jessie Nelson': 1, 'Theodore Witcher': 1, 'Aurora Guerrero': 1, 'Michael Jai White': 1, 'Bao Nhan, Namcito': 1, 'Chris Appelhans': 1, 'Michelle MacLaren': 1, 'Achille Brice': 1, 'Srijit Mukherji, Vasan Bala, Abhishek Chaubey': 1, 'Justin P. Lange': 1, 'Jayme Monjardim': 1, 'Kimmy Gatewood': 1, 'Tània Balló': 1, 'Anurin Nwunembom': 1, 'Fernando Moro': 1, 'Ivan Andrew Payawal': 1, 'Yoshiyuki Tomino': 1, 'Simon Frederick': 1, 'Lee Kae-byeok': 1, 'Michihito Fujii': 1, 'Marie Clements': 1, 'Jay Oliva': 1, 'Sarawut Wichiensarn': 1, 'Max Jabs': 1, 'Michael Lockshin': 1, 'Ricardo de Montreuil': 1, 'Francine Parker': 1, 'Daniel Schechter': 1, 'Peter Galison': 1, 'David Zeiger': 1, 'Joe Berlinger, Bruce Sinofsky': 1, 'Ian Cheney, Sharon Shattuck': 1, 'Prabhakaran': 1, 'Manjari Makijany': 1, 'Takuya Igarashi': 1, 'Mika Kaurismäki': 1, 'Kevin Macdonald': 1, \"Stanley Menino D'Costa\": 1, 'Leli Maki': 1, 'Daniel Prochaska': 1, 'Joe Wright': 1, 'Cai Cong': 1, 'Ramon Térmens': 1, 'Samuel Olatunji': 1, 'Svetlana Cvetko': 1, 'Martin Prakkat': 1, 'Zhang Chong': 1, 'Shantrelle P. Lewis': 1, 'Anthony Mandler': 1, 'Vijay Roche': 1, 'Jennifer Brea': 1, 'Donovan Marsh': 1, 'Julia von Heinz': 1, 'Niels Arden Oplev': 1, 'Don Argott, Sheena M. Joyce': 1, 'Roel Reiné': 1, 'Joshua Zeman': 1, 'Duncan Skiles': 1, 'Vondie Curtis-Hall': 1, 'Robert Radler': 1, 'Dean Parisot': 1, 'Eric Darnell, Tom McGrath, Conrad Vernon': 1, 'Charles Martin': 1, 'Stella Corradi': 1, 'Brent Dawes': 1, 'Uzodinma Okpechi': 1, 'Alan Alda': 1, 'Letizia Lamartire': 1, 'Sydney Pollack': 1, 'Lorene Scafaria': 1, 'Barbra Streisand': 1, 'Emma Tammi': 1, 'George Ratliff': 1, 'Kevin Johnson': 1, 'David Frankel': 1, 'José Larraza, Marc Pons': 1, 'Gary Sing': 1, 'Julio Quintana': 1, 'Paween Purijitpanya': 1, 'Pablo Faro': 1, 'Ray Jiang': 1, 'Daniel Minahan': 1, 'Daniel Vernon': 1, 'Vishwesh Krishnamoorthy': 1, 'Amr Salama': 1, 'Christopher Amos': 1, 'Eshom Nelms, Ian Nelms': 1, 'James Moll': 1, 'James Redford': 1, 'Kaashvie Nair': 1, 'Nikhil Pherwani': 1, 'Uduak-Obong Patrick': 1, 'Praveen Kandregula': 1, 'Cecilia Verheyden': 1, 'Yu Yang': 1, 'Jesse Warn': 1, 'Josh Safdie, Benny Safdie': 1, 'Akin Omotoso': 1, 'Paul M. Green': 1, 'Kevin Booth, David Johndrow': 1, 'Julio Fernández Talamantes': 1, 'Ellen Brown': 1, 'Rob Zombie': 1, 'Álvaro Brechner': 1, 'Rakesh Mehta': 1, 'Gonzalo Bendala': 1, 'Kheiron': 1, 'Susanne Bier': 1, 'Irek Dobrowolski': 1, 'Gilbert Chan': 1, 'Rarecho': 1, 'Steve Cheng': 1, 'Sam Loh': 1, 'Jason Lai': 1, 'Samit Kakkad': 1, 'Joel Gallen, Tig Notaro': 1, 'Prasobh Vijayan': 1, 'Elaine Bogan, John Sanford': 1, 'David Cronenberg': 1, 'Thom Zimny': 1, 'James Marsh': 1, 'Sean Olson': 1, 'Sigrid Andrea Bernardo': 1, 'Guillermo de Oliveira': 1, 'Manoj Beedha': 1, 'Ram': 1, 'Ranjit Jeyakodi': 1, 'Kunihiko Yuyama': 1, 'Lee Seung-won': 1, 'Hanung Bramantyo, Meisa Felaroze': 1, 'Adam Bhala Lough': 1, 'Laura Alvea, José Ortuño': 1, 'Gastón Duprat': 1, 'Andy Caballero, Diego Corsini': 1, 'Seren Yüce': 1, 'Jonathan Helpert': 1, \"André D'Elia\": 1, 'Hashim Nadeem Khan': 1, 'Sarjun': 1, 'Feroz': 1, 'Syed Atif Ali': 1, 'Rik Reinholdtsen': 1, 'Lenin Bharathi': 1, 'Gauravv K Chawla': 1, 'Bent-Jorgen Perlmutt': 1, 'Hugo Stuven': 1, 'Greg Pritikin': 1, 'Lorena Munoz': 1, 'Kunal Kohli': 1, 'Noor Imran Mithu': 1, 'Nonzee Nimibutr': 1, 'Ísold Uggadóttir': 1, 'Genevieve Nnaji': 1, 'Terry Gilliam, Terry Jones': 1, 'Yanyong Kuruaungkoul': 1, 'John Hoffman, Nanfu Wang': 1, 'Marco Risi': 1, 'Marek Losey': 1, 'Rana Ranbir': 1, 'Swapna Waghmare Joshi': 1, 'Aitor Arregi, Jon Garaño': 1, 'Erik Matti': 1, 'Vincent Kok': 1, 'Christian Zübert': 1, 'Tejas Prabha Vijay Deoskar': 1, 'Matheus Souza': 1, 'Sara Dosa': 1, 'Bradley Walsh': 1, 'Orson Welles': 1, 'Indrajit Nattoji': 1, 'Arnab Chaudhuri': 1, 'Priyadarshan, Kookie V. Gulati': 1, 'Nakul Singh Sawhney': 1, 'Vivek Agnihotri': 1, 'Habib Faisal': 1, 'Bobby Roth': 1, 'Halder Gomes': 1, 'B. Unnikrishnan': 1, 'Sajid Khan': 1, 'Saji Surendran': 1, 'Gary Binkow': 1, 'Navinder Pal Singh': 1, 'Kunal Deshmukh': 1, 'R. Kannan': 1, 'Gaurav Narayanan': 1, 'Nishanth Ravindaran, Jathin Sanker Raj': 1, 'V C Abhilash': 1, 'Anne Fletcher': 1, 'Jazz Boon': 1, 'Andy Serkis': 1, 'Jacob Joice': 1, 'Mat King': 1, 'Bert Marcus': 1, 'Ahsan Rahim': 1, 'Cheang Pou Soi': 1, 'Enrique García Meza': 1, 'Katarina Launing': 1, 'Lawrence Cheng': 1, 'Prakash Balwant Saini': 1, 'Nam Ron': 1, 'Leung Lok Man, Luk Kim-ching': 1, 'Felix Chong': 1, 'Joel Coen, Ethan Coen': 1, 'Dhanush': 1, 'Gary Mak': 1, 'Liu Jiang': 1, 'Joseduardo Giordano, Sergio Goyri Jr.': 1, 'Alice Rohrwacher': 1, 'Nandita Das': 1, 'Romain Gavras': 1, 'Sebastián Hofmann': 1, 'Clay Kaytis': 1, 'Fernando Colomo': 1, 'Daniel Goldhaber': 1, 'Fred Cavayé': 1, 'Kuntz Agus': 1, 'Mansore': 1, 'Faozan Rizal': 1, 'Chris Nelson': 1, 'Bille August': 1, 'Sandra Restrepo': 1, 'Sarthak Dasgupta': 1, 'Jennifer Kaytin Robinson': 1, 'Renato De Maria': 1, 'Alan Rickman': 1, 'Richard Curtis': 1, 'Beyoncé Knowles-Carter': 1, 'Suparn Verma': 1, 'Anant Balani': 1, 'Soukarya Ghosal': 1, 'Amitabha Singh': 1, 'Lee Kyoungmi, Yim Pilsung, Jeon Go-woon, Kim Jong-kwan': 1, 'Sathyan Anthikad': 1, 'John R. Leonetti': 1, 'Jeremiah Jones': 1, 'Brie Larson': 1, 'Rocky Soraya, Anggy Umbara': 1, 'Shelly Chopra Dhar': 1, 'Shanjey Kumar Perumal': 1, 'Tianyu Zhao': 1, 'Shazia Ali Khan': 1, 'Erik White': 1, 'Owen Egerton': 1, 'Sam Blitz Bazawule': 1, 'Swapnaneel Jayakar': 1, 'Fab Five Freddie': 1, 'Dar Gai': 1, 'Theo Love': 1, 'Yee Tung-Shing': 1, 'Sam Cullman': 1, 'Diego Enrique Osorno': 1, 'Pedring A. Lopez': 1, 'Stefon Bristol': 1, 'Kate Melville': 1, 'Aditya Vikram Sengupta': 1, 'Mandie Fletcher': 1, 'Aijaz Khan': 1, 'Abby Epstein': 1, 'Hepi Mita': 1, 'Che Sandoval': 1, 'Jean-Bernard Marlin': 1, 'Patricia Font': 1, 'Mangesh Kanthale': 1, 'Yen Cheng-kuo': 1, 'Alex Parkinson, Richard da Costa': 1, 'Frant Gwo': 1, 'Hao Wu': 1, 'Felipe Cano': 1, 'Gabriela Tagliavini': 1, 'Lee Jeong-beom': 1, 'William Bindley': 1, 'Manav Shah': 1, 'Michael Epstein': 1, 'Rachel Lears': 1, 'Syamsul Yusof': 1, 'Kyzza Terrazas': 1, 'Awi Suryadi': 1, 'Byun Hyuk': 1, 'Daniel Monzón': 1, 'Michael Del Monte': 1, 'Suseenthiran': 1, 'Matt Tyrnauer': 1, 'Prasanth Varma': 1, 'Gangadhar Salimath': 1, 'Daniel J. Clark': 1, 'Shanawaz Nellikunnil': 1, 'Lars Kaalund': 1, 'Hari Nath': 1, 'Saket Chaudhary': 1, 'Jackie van Beek, Madeleine Sami': 1, 'Sachin Kamlakar Khot': 1, 'Rayka Zehtabchi': 1, 'Woo Min-ho': 1, 'Tom Stern': 1, 'Kelly Duane de la Vega': 1, 'Julio Medem': 1, 'Johnny Kevorkian': 1, 'Amshan Kumar': 1, 'Adam Davis, Jerry Kolber, Trey Nelson, Erich Sturm': 1, 'Hsu Chih-yen, Mag Hsu': 1, 'Rick Morales': 1, 'Skye Borgman': 1, 'Mamat Khalid': 1, 'Amarjit Virdi': 1, 'Nishil Sheth': 1, 'Paul Miller': 1, 'Elisabeth Vogler': 1, 'Raj Babu': 1, 'Nuel Naval': 1, 'Chanon Yingyong, Phuwanit Pholdee': 1, 'Stuart Sender': 1, 'Karan Shivajirao Chavan, Vikram Tanajirao Patil': 1, 'Richard Loncraine': 1, 'Pia Sukanya': 1, 'Yann Gozlan': 1, 'Lukas Dhont': 1, 'Michael Simon, Matthew McNeil': 1, 'Frank W Chen': 1, 'Ibrahim Bin Mohamed, Hasan Aljaberi': 1, 'Emmanuel Mouret': 1, 'Conor Allyn': 1, 'Isao Yukisada': 1, 'Aruna Raje': 1, 'Fritz Ofner': 1, 'Nottapon Boonprakob': 1, 'Xavier Gens': 1, 'Jonathan A. Rosenbaum': 1, 'Franck Phelizon': 1, 'Peter Howitt': 1, 'Chiwetel Ejiofor': 1, 'Rodrigo Salomón, Pietro Scappini': 1, 'Miguel Ángel Vivas': 1, 'Carlos Vermut': 1, 'Michael Blieden': 1, 'Pawan K Shrivastava': 1, 'Jennifer M. Kroot': 1, 'Dani de la Torre': 1, 'Fouad Al Shatti': 1, 'Aleksey German': 1, 'Patricia Ferreira': 1, 'Jimmy Henderson': 1, 'Devashish Makhija': 1, 'Amal Neerad': 1, 'Fluvio Iannuci, Roly Santos': 1, 'Julius R. Nasso': 1, 'Lucas Figueroa': 1, 'Alex Timbers': 1, 'Alfonso Rodríguez': 1, 'Dito Montiel': 1, 'Vicente Villanueva': 1, 'Dawn Porter': 1, 'Amit Roy': 1, 'Teddy Lussi-Modeste': 1, 'Ben Shelton': 1, 'Curro Velázquez': 1, 'Robert Smigel': 1, 'Max Amini': 1, 'Jason Sussberg, David Alvarado': 1, 'Célia Catunda, Kiko Mistrorigo, Rodrigo Eba': 1, 'Olivia Milch': 1, 'David Sington, Heather Walsh': 1, 'Pedro Coutinho': 1, 'Joshua Marston': 1, 'Eleonore Pourriat': 1, 'Peter Webber': 1, 'Marja Lewis Ryan': 1, 'John Woo': 1, 'Rene Bueno': 1, 'Guillermo Garcia, David Cantolla': 1, 'Nattawut Poonpiriya': 1, 'Seiji Mizushima': 1, 'Myriam Aziza': 1, 'Gerard Barrett': 1, 'Rene Liu': 1, 'Madeleine Parry, Jon Olb': 1, 'Zoya Akhtar, Karan Johar, Anurag Kashyap, Dibakar Banerjee': 1, 'Oded Raz': 1, 'Mariana Tschudi, Héctor Gálvez': 1, 'Ramón Salazar': 1, 'Eduardo Mendoza de Echave': 1, 'Craig Johnson': 1, 'Shadab Khan': 1, 'Felix Starck': 1, 'Antonio Morabito': 1, 'Norberto López Amado': 1, 'Alex Richanbach': 1, 'Tig Notaro': 1, 'Brit McAdams': 1, 'Mercedes Cordova': 1, 'Hayao Miyazaki': 1, 'Anthony Abrams, Adam Larson Broder': 1, 'Trey Borzillieri, Barbara Schroeder': 1, 'Dani Levy': 1, 'Sonny Mallhi': 1, 'Isabelle Nanty': 1, 'Rob Epstein, Jeffrey Friedman': 1, 'Ryan Koo': 1, 'Hatem Khraiche': 1, 'Derek Peck': 1, 'Ildiko Enyedi': 1, 'Carlo Padial': 1, 'Milind Dhaimade': 1, 'Hong-seon Kim': 1, 'Hang-Jun Jang': 1, 'Fumihiko Sori': 1, 'Mariano Baez': 1, 'Stephanie Laing': 1, 'Anand Tiwari': 1, 'Roberta Grossman, Sophie Sartain': 1, 'David Bruckner': 1, 'Tamta Gabrichidze': 1, 'Julius Onah': 1, 'You-Jeong Chang': 1, 'Lars Büchel': 1, 'Selima Taibi': 1, 'Marty Callner': 1, 'Javier Ambrossi, Javier Calvo': 1, 'David Wain': 1, 'Isaac Florentine': 1, 'Santiago Diaz, Pablo Martin Farina': 1, 'Matt Angel, Suzanne Coote': 1, 'Chris Baugh': 1, 'Rhiannon Bannenberg': 1, 'David Mrnka': 1, 'Maya Forbes': 1, 'Choi Jin-seong': 1, 'Amit Barot': 1, 'Mitch Gould': 1, 'Jennifer Morrison': 1, 'Daryl Hannah': 1, 'Hèctor Hernández Vicens': 1, 'Kader Aoun': 1, 'Abhay Chopra': 1, 'Diego Lerman': 1, 'Ananda Krishnan': 1, 'Amol Palekar': 1, 'Joe Miale': 1, 'Olivia Newman': 1, 'Jared Stern': 1, 'Lennart Ruff': 1, 'Dan Lucchesi': 1, 'Mijke de Jong': 1, 'Michael Larnell': 1, 'Robin Aubert': 1, 'Advait Chandan': 1, 'Brandon Camp': 1, 'Sunao Katabuchi': 1, 'Johan Brisinger': 1, 'Maria Sadowska': 1, 'Yang Woo-seok': 1, 'John L. Spencer': 1, 'Victor Cook': 1, 'Kazuya Murata': 1, 'Martin Zandvliet': 1, 'Uraaz Bahl': 1, 'Paul Solet, Rick Benattar': 1, \"Federico D'Alessandro\": 1, 'Rodrigo Triana': 1, 'Matt Palmer': 1, 'Raaghav Dar': 1, 'Albert Sharpe': 1, 'Simranjit Singh Hundal': 1, 'Deep Joshi': 1, 'Manjeet Maan': 1, 'Amarpreet G S Chabbra': 1, 'Paresh Mokashi': 1, 'Atharv Baluja': 1, 'Shashanka Ghosh': 1, 'Puneet Sira': 1, 'Sameer Sharma': 1, 'Chandan Arora': 1, 'Rajan Madhav': 1, 'David Lee Miller': 1, 'Tinu Pappachan': 1, 'Amit Saxena': 1, 'Jaivi Dhanda': 1, 'Suman Ghosh': 1, 'Kabir Khan': 1, 'Akshay Akkineni': 1, 'Nidhi Sharma': 1, 'Mastan Alibhai Burmawalla, Abbas Alibhai Burmawalla': 1, 'Vipin Parashar': 1, 'Vikram Pradhan': 1, 'Vijay': 1, 'Sartaj Singh Pannu': 1, 'Ayaan Mukherji': 1, 'Ian MacNaughton': 1, 'Terry Jones': 1, 'Saket Behl': 1, 'Paul Urkijo Alijo': 1, 'Sergio Barrejón': 1, 'Sandi Tan': 1, 'Vijay Yelakanti': 1, 'Joanna Lombardi, Bruno Ascenzo': 1, 'Tinge Krishnan': 1, 'Kim Jee-woon': 1, 'Rajesh Touchriver': 1, 'David Lam': 1, 'Tom Forrest': 1, 'Anik Datta': 1, 'Shaad Ali': 1, 'Padraic McKinley': 1, 'Johanna Demetrakas': 1, 'Shagufta Rafique': 1, 'Kief Davidson': 1, 'Rusty Cundieff, Darin Scott': 1, 'Kabir Bhatia': 1, 'Chris Eigeman': 1, 'Olaf de Fleur': 1, 'Tamara Jenkins': 1, 'Kavi Raz': 1, 'Nick Simon': 1, 'Eric Idle, Aubrey Powell': 1, 'Eric Idle': 1, 'Terry Hughes, Ian MacNaughton': 1, 'Roger Graef, James Rogan': 1, 'Sidharth Malhotra': 1, 'Anjum Shahzad': 1, 'Yayo Herrero': 1, 'Ben Young': 1, 'Nikhil Nagesh Bhat': 1, 'Xiaoxing Yi, Yoshitaka Takeuchi, Haoling Li': 1, 'Lauren Miller Rogen': 1, 'Vikas Bahl, Nitesh Tiwari': 1, 'Khalid Mohamed': 1, 'Sanjay Leela Bhansali': 1, 'Prem Soni': 1, 'Prabhu Deva': 1, 'Mandeep Kumar': 1, 'Jesse Handsher, Olivier Roland': 1, 'Pablo Giorgelli': 1, 'Tony Datis': 1, 'Kirby Dick': 1, 'Abhishek Varman': 1, 'Chris Jenkins': 1, 'Diego Cohen': 1, 'Lee Eung-bok': 1, 'Jody Hill': 1, 'Samu Fuentes': 1, 'Alexandre Espigares': 1, 'Sam Voutas': 1, 'Raj Kaushal': 1, 'K.C. Bokadia': 1, 'Samir Soni': 1, 'Juan Antonio de la Riva': 1, 'Bert Marcus, Cyrus Saidi': 1, 'Sabir Khan': 1, 'Jake Szymanski': 1, 'Ken Kwapis': 1, 'Jatla Siddartha': 1, 'Monique Gardenberg': 1, 'Han Yan': 1, 'Álvaro Longoria, Gerardo Olivares': 1, 'Anthony Byrne': 1, 'Rashida Jones, Alan Hicks': 1, 'Ariel Vromen': 1, 'Nicole Holofcener': 1, 'Alessio Cremonini': 1, 'Kevin R. Adams, Joe Ksander': 1, 'Ian Samuels': 1, 'Franck Ribière': 1, 'Peter Ho': 1, 'Kanwal Sethi': 1, 'Rucha Humnabadkar': 1, 'Samuel Jouy': 1, 'Todd Biermann': 1, 'Jordan Brady': 1, 'Patrick Graham': 1, 'Han Qing': 1, 'Ashwiny Iyer Tiwari': 1, 'Atlee Kumar': 1, 'Ravi Udyawar': 1, 'R. Balki': 1, 'Shree Narayan Singh': 1, 'Manuel Martín Cuenca': 1, 'Y. Joon Chung': 1, 'Vasan Bala': 1, 'Trisha Ziff': 1, 'Richard Shepard': 1, 'Sudabeh Mortezai': 1, 'Zuko Nodada': 1, 'Madonna': 1, 'Milton Horowitz': 1, 'Sneha Taurani': 1, 'Gustavo Ron': 1, 'Matthew Ross': 1, 'Lee Kirk': 1, 'Ziggy Hofmeyr': 1, 'Yacine Belhousse': 1, 'Sam Dunn': 1, 'Jared Moshé': 1, 'Oyefunke Fayoyin': 1, 'Kunihiko Yuyama, Motonori Sakakibara': 1, 'Ali Kalthami, Meshal Aljaser, Faris Godus, Mohamed al Salman, Faisal al Amer': 1, 'Tolu Awobiyi': 1, 'Jason Orley': 1, 'Robert Eagar': 1, 'Travis Stevens': 1, 'Mick Grogan': 1, 'Nora Fingscheidt': 1, 'Sooni Taraporevala': 1, 'Linda Korsten': 1, 'Tom Barton-Humphreys': 1, 'R.J. Daniel Hanna': 1, 'Paco Cabezas': 1, 'Peter Billingsley': 1, 'Jason Zada': 1, 'Athiyan Athirai': 1, 'Adam B. Stein, Zach Lipovsky': 1, 'Carlos Sedes': 1, 'Jeff Tomsic': 1, 'Aaron Lieber': 1, 'Tamas Yvan Topolanszky': 1, 'Rami Hachache': 1, 'Francisco Macri': 1, 'Gabriela García Rivas': 1, 'Naman Nitin Mukesh': 1, 'Eric Goode, Rebecca Chaiklin': 1, 'Francesco Lettieri': 1, 'John Suits': 1, 'Takeru Nakajima, Yoshiyuki Okada': 1, 'Susan Walter': 1, 'Pierre Deschamps': 1, 'Scot Armstrong': 1, 'Sebastian Jones, Ramez Silyan': 1, 'Lynn Novick': 1, 'Navjot Gulati': 1, 'Stephanie Zwane': 1, 'Owen Trevor': 1, 'Stephanie Turner': 1, 'Mehmet Ada Öztekin': 1, 'Jos Humphrey': 1, 'Sharmeen Obaid-Chinoy': 1, 'Ruchi Narain': 1, 'Christophe Charrier': 1, 'Toyin Abraham': 1, 'Kittiphak Thonguam': 1, 'Avgousta Zourelidi': 1, 'Richard Phelan, Will Becher': 1, 'Rod Cabatana Marmol': 1, 'Brian Helgeland': 1, 'Chung Mong-hong': 1, 'Johnny Breedt': 1, 'César Rodrigues': 1, 'Quek Shio-chuan': 1, 'Pablo Stoll, Juan Pablo Rebella': 1, 'Krysia Plonka': 1, 'Madhumita': 1, 'Debamitra Biswal': 1, 'David Lynch': 1, 'Caryn Waechter': 1, 'Tim Hill': 1, 'Numa Perrier': 1, 'Yoshiyuki Momose': 1, 'Vir Das, Ajay Bhuyan': 1, 'Rima Das': 1, 'Andrew Goth': 1, 'William Kaufman': 1, 'David Benioff, D.B. Weiss': 1, 'Steve Boettcher': 1, 'Tom Green': 1, 'David Lowery': 1, 'Yibrán Asuad': 1, 'Vadim Jean': 1, 'Mark A.Z. Dippé, Kyung Ho Lee': 1, 'Mark A.Z. Dippé, Eondeok Han': 1, 'Mark A.Z. Dippé': 1, 'Josh Z. Weinstein, Joshua Z. Weinstein': 1, 'Ramesh Sippy': 1, 'Michał Tylka': 1, 'Kumaran': 1, 'Oliver Kienle': 1, 'Brian Webber': 1, 'Takashi Yamazaki, Ryuichi Yagi, Makoto Hanafusa': 1, 'Pantham Thongsang, Cheewatan Pusitsuksa': 1, 'Paul Krüger, Anél Stolp': 1, 'Benny Safdie, Josh Safdie': 1, 'Andres Clariond': 1, 'Andrew Dean': 1, 'Lars Klevberg': 1, 'Lukasz Kosmicki': 1, 'Shanavas K. Bavakutty': 1, 'Kwabena Gyansah': 1, 'Austin Peck, Anneliese Vandenberg': 1, 'David Oelhoffen': 1, 'James Bamford': 1, 'Julia Willoughby Nason, Jenner Furst': 1, 'Ivan Silvestrini': 1, 'Robert Krantz': 1, 'Gregory Jacobs': 1, 'Alfonso Cortés-Cavanillas': 1, 'Xavier Manrique': 1, 'Richard Gabai': 1, 'Alfons Adetuyi': 1, 'Hikari': 1, 'Jean-Claude Flamand-Barny': 1, 'Lana Wilson': 1, 'Marlene Melchior': 1, 'Zsolt Pálfi': 1, 'Prentice Penny': 1, 'Craig Freimond': 1, 'S.A. Zaidi': 1, 'Hamad AlSarraf': 1, 'He Xiaofeng': 1, 'Aaron Woodley': 1, 'Hernán Guerschuny': 1, 'Alex Ranarivelo': 1, 'Brett Hedlund': 1, 'Joe Robert Cole': 1, 'Michelle Esrick': 1, 'Olivier Abbou': 1, 'Jeffrey Schwarz': 1, 'Eric Darnell, Tom McGrath': 1, 'Alice Wu': 1, 'Pedro Flores Maldonado': 1, 'Michael M. Scott': 1, 'David Chuang, Chen Kuan-chung': 1, 'Chris Bolan': 1, 'Saravana Rajan': 1, 'Ashraf Fayeq': 1, 'Muharrem Gülmez, Sırrı Süreyya Önder': 1, 'Ahmed Yousry, Hazem Fouda': 1, 'Handan İpekçi': 1, 'Ferzan Özpetek': 1, 'Paul Munger': 1, 'Matei Dima': 1, 'Jonathan Augustin': 1, 'Damien Chazelle, Houda Benyamina, Laïla Marrakchi, Alan Poul': 1, 'Francesco Amato': 1, 'Michel Hazanavicius': 1, 'Carlos Morett': 1, 'Fouad El-Mohandes': 1, 'Hiromasa Yonebayashi, Yoshiyuki Momose, Akihiko Yamashita': 1, 'Norm Hiscock, Gary Howsam, Mike Smith, John Paul Tremblay, Robb Wells': 1, 'Almunsif Alsuwaisi': 1, 'Andrés Feddersen': 1, 'Samir Al Asfory': 1, 'Hassan AbdulSalam': 1, 'Houssam El-Din Mustafa': 1, 'Muhammad Fadl, Hany Motawie': 1, 'Lonzo Nzekwe': 1, 'Alex Timbers, Sam Wrench': 1, 'Rebecca Johnson': 1, 'Megha Ramaswamy': 1, 'Will Forbes': 1, 'Saeed Hamed': 1, 'Mohammed Alhmly': 1, 'Lucien Bourjeily': 1, 'Laura Mañá': 1, 'Sivaroj Kongsakul': 1, 'Obaid Alhmoudi': 1, 'Salmeen AlMurry Amer': 1, 'Adekunle Nodash Adejuyigbe': 1, 'Sadeq Behbehani': 1, 'Dylan Mohan Gray': 1, 'Hussein El Ansary': 1, 'Donick Cary': 1, 'Venky Kudumula': 1, 'Ahmed Saleh': 1, 'Todd Kauffman, Mark Thornton': 1, 'Fritz Böhm': 1, 'Haruka Fujita': 1, 'Karan Malhotra': 1, 'David Batra, Jon Rudberg': 1, 'Ramesh Talwar': 1, 'Raj Khosla': 1, 'Shashank Khaitan': 1, 'Soham Shah': 1, 'Nikkhil Advani': 1, 'Rajiv Chilaka, Anirban Majumder, Alka Amarkant Dubey': 1, 'Anand Ravichandran': 1, 'Richard Claus, Karsten Kiilerich': 1, 'Floria Sigismondi': 1, 'Ravishankar Venkateswaran': 1, 'Armando Iannucci': 1, 'Caio Cobra': 1, 'Vijay S. Bhanushali': 1, 'David Hunt': 1, 'Stephen S. Campanelli': 1, 'Rakesh Ranjan Kumar': 1, 'Sam Irvin': 1, 'Gary Stretch': 1, 'Desingh Periyasamy': 1, 'TJ Sullivan, Greg Rankin': 1, 'Neeraj Udhwani': 1, 'Patrice Laliberté': 1, 'Ellen Page, Ian Daniel': 1, 'Akira Saitoh': 1, 'Pablo Lejarreta, Luis Alfaro': 1, 'Ahmed Medhat': 1, 'Adrien Lagier, Ousmane Ly': 1, 'Mohamed Yassin': 1, 'Chakri Toleti': 1, 'Neville Shah': 1, 'Yoon Sung-hyun': 1, 'Rachel Mason': 1, 'Marc Vigil': 1, 'Kris Pearn': 1, 'Anoop Sathyan': 1, 'Müfit Can Saçıntı': 1, 'Cüneyt Kaya': 1, 'Greg Barker': 1, 'Leticia Jorge Romero': 1, 'Ali Yorgancıoğlu': 1, 'Padraig Reynolds': 1, 'Digo Ricio': 1, 'Emcy Joseph': 1, 'Kranthi Madhav': 1, \"Matt D'Elia\": 1, 'Jeff Chan': 1, 'Dean Craig': 1, 'Grand Corps Malade, Mehdi Idir': 1, 'Stefano Lodovichi': 1, 'Alan Yang': 1, 'Perci Intalan': 1, 'Eddie Mensore': 1, 'Sean Baker': 1, 'John A. Davis': 1, 'John Lyde': 1, 'Tetsuo Yajima': 1, 'Wagner de Assis': 1, 'Sandeep Reddy Vanga': 1, 'Randall Lobb': 1, 'Alex Stapleton': 1, 'Teng Huatao': 1, 'Nzingha Stewart': 1, 'Anubhav Sinha': 1, 'Maha Venkatesh': 1, 'Tharun Bhascker': 1, 'Rémy Four, Julien War': 1, 'Farhan Alam': 1, 'Hayato Date': 1, 'Petra Costa, Lea Glob': 1, 'White Trash Tyler': 1, 'Mariano Barroso': 1, 'Yeung Yat-Tak': 1, 'Rai Yuvraj Bains': 1, 'Sunil Thakur': 1, 'Muh Chen': 1, 'Saurabh Sinha': 1, 'Julia Knowles': 1, 'Kepa Sojo': 1, 'Robert Moresco': 1, 'Vikramaditya Motwane, Anurag Kashyap': 1, 'Cho Li, Chen Hung-yi, Weica Wang, Liu Bang-yao, Lin Guan-fu, Shen Chi, YC Tom Lee': 1, 'Manu Ashokan': 1, 'Anita Udeep': 1, 'Kiko Cruz Claverol, Patricia Font': 1, 'Scott Aukerman': 1, 'Aadish Keluskar': 1, 'Roy Poortmans': 1, 'Naoto Amazutsumi': 1, 'Dennis Rovira van Boekholt': 1, 'Jenny Gage': 1, 'Kaila York': 1, 'Vandana Kataria': 1, 'Onur Bilgetay': 1, 'Vincenzo Natali': 1, 'Tugçe Soysop': 1, 'Jacob Joice, Steve Ball': 1, 'Luis Javier Henaine': 1, 'Anand Kamalakar': 1, 'Lee Yoon-jung': 1, 'Vrinda Samartha': 1, 'Deepti Naval': 1, 'Nicholaus Goossen': 1, 'Stig Bergqvist, Paul Demeyer': 1, 'Igor Kovalyov, Norton Virgien': 1, 'Danny Cannon': 1, 'Gupse Özay': 1, 'Jim Mickle': 1, 'Jumpei Mizusaki, Koji Morimoto, Michael Arias, Masaru Matsumoto, Arthell Isom, Henry Thurlow, Takanobu Mizuno, Elsa Nakamichi, Hajime Sasaki, Shinji Takagi': 1, 'Mangesh Hadawale': 1, 'Wong Kar Wai': 1, 'Otilia Portillo Padua': 1, 'Rahul Ravindran': 1, 'Archie Borders': 1, 'Alberto Arnaut Estrada': 1, 'Joe Murray, Cosmo Segurson': 1, 'Vince Gilligan': 1, 'Isabel Coixet': 1, 'Miguel Cohan, Miguel Cohan': 1, 'Luis Alberto Restrepo, Andrés Beltrán, Jaime Rayo': 1, 'Hideaki Anno': 1, 'Hideaki Anno, Kazuya Tsurumaki': 1, 'Abhijit Kokate, Srivinay Salian': 1, 'Antonin Baudry': 1, 'Jon Watts': 1, 'Jakob Lass': 1, 'John Haptas, Kristine Samuelson': 1, 'Vinod Kapri': 1, 'Elías León': 1, 'Mark Ritchie': 1, 'Grant Sputore': 1, 'Kevin Bray': 1, 'Juan Antin': 1, 'Hanno Olderdissen': 1, 'Amar Kaushik': 1, 'Eva Trobisch': 1, 'Mathieu Auvray': 1, 'Limbert Fabian, Brandon Oldenburg': 1, 'Datta Mohan Bhandare': 1, 'Sanjib Dey': 1, 'Daniel Yee Heng Chan': 1, 'Mike Diva, Akiva Schaffer': 1, 'Han Han': 1, 'Jang Jae-hyun': 1, 'Jesse V. Johnson, Jesse Johnson': 1, 'Svati Chakravarty Bhatkal': 1, 'Jesse Moss': 1, 'To-hoi Kong': 1, 'Camille Shooshani': 1, 'Alex Burunova': 1, 'Jesús Torres Torres': 1, 'Vijay Kumar': 1, 'Phanindra Narsetti': 1, 'Gideon Raff': 1, 'Jorge M. Fontana': 1, 'Olivier Afonso': 1, 'Karim Amer, Jehane Noujaim': 1, 'Jay Karas, Demetri Martin': 1, 'Chi Keung Fung': 1, 'Corey Yuen, Patrick Leung': 1, 'Yoo Byung-jae': 1, 'Alex Díaz, Marcos Bucay': 1, 'Frank Ariza': 1, 'Nisheeta Keni': 1, 'Wi Ding Ho': 1, 'Joe Lynch': 1, 'Andreas Pichler': 1, 'Daniel Arasanz': 1, 'Marcelo Altmark, Mariano Mucci, Luis A. Scalella': 1, 'Sittisiri Mongkolsiri': 1, 'Robbie Grewal': 1, 'Thiagarajan Kumararaja': 1, 'Kate Horne': 1, 'Roberto Girault Facha': 1, 'Bolanle Austen-Peters': 1, 'Leïla Sy, Kery James': 1, 'Steve Rash': 1, 'Syrine Boulanouar, Nekfeu': 1, 'Sujeeth': 1, 'Atsuko Ishizuka': 1, 'Eric Aghimien': 1, 'Michel Tikhomiroff': 1, 'Michelle Johnston': 1, 'Vijay Kumar Arora': 1, 'Matt Shakman': 1, 'Serge Ou': 1, 'Gaurav Bavdankar': 1, 'Jagdeep Sidhu': 1, 'Tanawat Aiemjinda': 1, 'Mukesh Vohra': 1, 'Tudor Giurgiu': 1, 'Shonali Bose': 1, 'Luis Ara, Ignacio Jaunsolo': 1, 'Mati Diop': 1, 'Jérémy Clapin': 1, 'Mandla Dube': 1, 'Cheta Chukwu': 1, 'Roger Russell': 1, 'Edward Zwick': 1, 'Basava Shankar Eeday': 1, 'Elle-Máijá Tailfeathers, Kathleen Hepburn': 1, 'Mike Ezuruonye': 1, 'Sanjiv Jaiswal': 1, 'Marta Jaenes, Rosa Márquez': 1, 'Robbie Countryman': 1, \"Richard van't Riet\": 1, 'Monika Mitchell': 1, 'Falz': 1, 'Ravi Babu': 1, 'Soumitra Ranade': 1, 'Bruce Leddy': 1, 'Odunlade Adekola': 1, 'Yuki Yamato': 1, 'Andrew Wessels': 1, 'Emir Kusturica': 1, 'Elisa Fuksas': 1, 'Lee Toland Krieger': 1, 'Akiyuki Shinbo, Nobuyuki Takeuchi': 1, 'Shojiro Nishimi, Guillaume Renard': 1, 'Pepe Bojórquez': 1, 'Louise Alston': 1, 'Biodun Stephen': 1, 'Sunkanmi Adebayo': 1, 'Fernando Meirelles': 1, 'Rodrigo Reyes': 1, 'Mark Lewis': 1, 'Sebastian DiNatale': 1, 'Nuhash Humayun, Syed Ahmed Shawki, Rahat Rahman, Robiul Alam Robi, Golam Kibria Farooki, Mir Mukarram Hossain, Tanvir Ahsan, Mahmudul Islam, Abdullah Al Noor, Krishnendu Chattopadhyay, Syed Saleh Ahmed Sobhan': 1, 'Karan Anshuman': 1, 'Mrighdeep Singh Lamba': 1, 'Jadesola Osiberu': 1, 'Vijay Lalwani': 1, 'Ding-Lin Wang': 1, 'Robert Kenner, Taki Oldham': 1, 'Julien Abraham': 1, 'Eva Orner': 1, 'Jean-François Blais': 1, 'Michael Steiner': 1, 'Drea Cooper, Zackary Canepari': 1, 'Michael A. Nickles': 1, 'Blayne Weaver': 1, 'Marco Bonfanti': 1, 'Rodrigo Guardiola, Gabriel Cruz Rivas': 1, 'Juani Libonatti': 1, 'DJ Chen': 1, 'Park Joon-hwa': 1, 'Saravana Rajendran': 1, 'Matt Kay': 1, 'Michael Steed': 1, 'Billy Lyons': 1, 'Andrew Slater': 1, 'Marina Seresesky': 1, 'Glen Goei, Gavin Yap': 1, 'Huw Cordey': 1, 'Yuen Woo-ping': 1, 'Thomas Vinterberg': 1, 'Daniel Sánchez Arévalo': 1, 'Don Omope': 1, 'Ed Perkins': 1, 'Udai Singh Pawar': 1, 'Guntur Soeharjanto': 1, 'Bassam Tariq': 1, 'Louie Psihoyos': 1, 'Ahmet Katıksız': 1, 'James Dearden': 1, 'Will Eisenberg': 1, 'KVR Mahendra': 1, 'Josh Aronson': 1, 'Juan Carlos Rulfo': 1, 'Raj R': 1, 'Timo Vuorensola': 1, 'Robb Dipple': 1, 'Wash Westmoreland': 1, 'Mauro Scandolari': 1, 'Arjun Jandyala': 1, 'Shashanka Ghosh, Samit Basu': 1, 'Sergio Pablos': 1, 'Valli Bindana': 1, 'Makoto Shinkai': 1, 'Gautier & Leduc': 1, 'Luke Snellin': 1, 'Eric Bross': 1, 'Xavier Durringer': 1, 'Pawan Kumar': 1, 'Phillip Youmans': 1, 'Zhang Yimou': 1, 'Azazel Jacobs': 1, 'Jung Ji-woo': 1, 'Kenny Leon': 1, \"Matt D'Avella\": 1, 'Parthiban': 1, 'Scott McAboy': 1, 'Raymie Muzquiz, Stu Livingston': 1, 'Joe Menendez': 1, 'Mozez Singh': 1}\n",
            "['Rajiv Chilaka', 'Raúl Campos, Jan Suter', 'Alastair Fothergill', 'Suhas Kadav', 'Marcus Raboy']\n",
            "[20, 18, 18, 16, 16, 14, 13, 12, 12, 12, 11, 10, 10, 9, 8, 8, 8, 8, 8, 8, 8, 8, 8, 8, 8, 7, 7, 7, 7, 7, 7, 7, 7, 7, 7, 7, 7, 6, 6, 6, 6, 6, 6, 6, 6, 6, 6, 6, 6, 6, 6, 6, 6, 6, 6, 6, 5, 5, 5, 5, 5, 5, 5, 5, 5, 5, 5, 5, 5, 5, 5, 5, 5, 5, 5, 5, 5, 5, 5, 5, 5, 5, 5, 5, 5, 5, 5, 5, 5, 5, 5, 5, 5, 5, 5, 5, 4, 4, 4, 4, 4, 4, 4, 4, 4, 4, 4, 4, 4, 4, 4, 4, 4, 4, 4, 4, 4, 4, 4, 4, 4, 4, 4, 4, 4, 4, 4, 4, 4, 4, 4, 4, 4, 4, 4, 4, 4, 4, 4, 4, 4, 4, 4, 4, 4, 4, 4, 4, 4, 4, 4, 4, 4, 4, 4, 4, 4, 4, 4, 4, 4, 4, 4, 4, 3, 3, 3, 3, 3, 3, 3, 3, 3, 3, 3, 3, 3, 3, 3, 3, 3, 3, 3, 3, 3, 3, 3, 3, 3, 3, 3, 3, 3, 3, 3, 3, 3, 3, 3, 3, 3, 3, 3, 3, 3, 3, 3, 3, 3, 3, 3, 3, 3, 3, 3, 3, 3, 3, 3, 3, 3, 3, 3, 3, 3, 3, 3, 3, 3, 3, 3, 3, 3, 3, 3, 3, 3, 3, 3, 3, 3, 3, 3, 3, 3, 3, 3, 3, 3, 3, 3, 3, 3, 3, 3, 3, 3, 3, 3, 3, 3, 3, 3, 3, 3, 3, 3, 3, 3, 3, 3, 3, 3, 3, 3, 3, 3, 3, 3, 3, 3, 3, 3, 3, 3, 3, 3, 3, 3, 3, 3, 3, 3, 3, 3, 3, 3, 3, 3, 3, 3, 3, 3, 3, 3, 3, 3, 3, 3, 3, 3, 3, 3, 3, 3, 3, 3, 3, 3, 3, 3, 3, 3, 3, 3, 3, 3, 3, 3, 3, 3, 3, 3, 3, 3, 3, 3, 3, 3, 3, 3, 3, 3, 3, 3, 3, 3, 3, 3, 2, 2, 2, 2, 2, 2, 2, 2, 2, 2, 2, 2, 2, 2, 2, 2, 2, 2, 2, 2, 2, 2, 2, 2, 2, 2, 2, 2, 2, 2, 2, 2, 2, 2, 2, 2, 2, 2, 2, 2, 2, 2, 2, 2, 2, 2, 2, 2, 2, 2, 2, 2, 2, 2, 2, 2, 2, 2, 2, 2, 2, 2, 2, 2, 2, 2, 2, 2, 2, 2, 2, 2, 2, 2, 2, 2, 2, 2, 2, 2, 2, 2, 2, 2, 2, 2, 2, 2, 2, 2, 2, 2, 2, 2, 2, 2, 2, 2, 2, 2, 2, 2, 2, 2, 2, 2, 2, 2, 2, 2, 2, 2, 2, 2, 2, 2, 2, 2, 2, 2, 2, 2, 2, 2, 2, 2, 2, 2, 2, 2, 2, 2, 2, 2, 2, 2, 2, 2, 2, 2, 2, 2, 2, 2, 2, 2, 2, 2, 2, 2, 2, 2, 2, 2, 2, 2, 2, 2, 2, 2, 2, 2, 2, 2, 2, 2, 2, 2, 2, 2, 2, 2, 2, 2, 2, 2, 2, 2, 2, 2, 2, 2, 2, 2, 2, 2, 2, 2, 2, 2, 2, 2, 2, 2, 2, 2, 2, 2, 2, 2, 2, 2, 2, 2, 2, 2, 2, 2, 2, 2, 2, 2, 2, 2, 2, 2, 2, 2, 2, 2, 2, 2, 2, 2, 2, 2, 2, 2, 2, 2, 2, 2, 2, 2, 2, 2, 2, 2, 2, 2, 2, 2, 2, 2, 2, 2, 2, 2, 2, 2, 2, 2, 2, 2, 2, 2, 2, 2, 2, 2, 2, 2, 2, 2, 2, 2, 2, 2, 2, 2, 2, 2, 2, 2, 2, 2, 2, 2, 2, 2, 2, 2, 2, 2, 2, 2, 2, 2, 2, 2, 2, 2, 2, 2, 2, 2, 2, 2, 2, 2, 2, 2, 2, 2, 2, 2, 2, 2, 2, 2, 2, 2, 2, 2, 2, 2, 2, 2, 2, 2, 2, 2, 2, 2, 2, 2, 2, 2, 2, 2, 2, 2, 2, 2, 2, 2, 2, 2, 2, 2, 2, 2, 2, 2, 2, 2, 2, 2, 2, 2, 2, 2, 2, 2, 2, 2, 2, 2, 2, 2, 2, 2, 2, 2, 2, 2, 2, 2, 2, 2, 2, 2, 2, 2, 2, 2, 2, 2, 2, 2, 2, 2, 2, 2, 2, 2, 2, 2, 2, 2, 2, 2, 2, 2, 2, 2, 2, 2, 2, 2, 2, 2, 2, 2, 2, 2, 2, 2, 2, 2, 2, 2, 2, 2, 2, 2, 2, 2, 2, 2, 2, 2, 2, 2, 2, 2, 2, 2, 2, 2, 2, 2, 2, 2, 2, 2, 2, 2, 2, 2, 2, 2, 2, 2, 2, 2, 2, 2, 2, 2, 2, 2, 2, 2, 2, 2, 2, 2, 2, 2, 2, 2, 2, 2, 2, 2, 2, 2, 2, 2, 2, 2, 2, 2, 2, 2, 2, 2, 2, 2, 2, 2, 2, 2, 2, 2, 2, 2, 2, 2, 2, 2, 2, 2, 2, 2, 2, 2, 2, 2, 2, 2, 2, 2, 2, 2, 2, 2, 2, 2, 2, 2, 2, 2, 2, 2, 2, 2, 1, 1, 1, 1, 1, 1, 1, 1, 1, 1, 1, 1, 1, 1, 1, 1, 1, 1, 1, 1, 1, 1, 1, 1, 1, 1, 1, 1, 1, 1, 1, 1, 1, 1, 1, 1, 1, 1, 1, 1, 1, 1, 1, 1, 1, 1, 1, 1, 1, 1, 1, 1, 1, 1, 1, 1, 1, 1, 1, 1, 1, 1, 1, 1, 1, 1, 1, 1, 1, 1, 1, 1, 1, 1, 1, 1, 1, 1, 1, 1, 1, 1, 1, 1, 1, 1, 1, 1, 1, 1, 1, 1, 1, 1, 1, 1, 1, 1, 1, 1, 1, 1, 1, 1, 1, 1, 1, 1, 1, 1, 1, 1, 1, 1, 1, 1, 1, 1, 1, 1, 1, 1, 1, 1, 1, 1, 1, 1, 1, 1, 1, 1, 1, 1, 1, 1, 1, 1, 1, 1, 1, 1, 1, 1, 1, 1, 1, 1, 1, 1, 1, 1, 1, 1, 1, 1, 1, 1, 1, 1, 1, 1, 1, 1, 1, 1, 1, 1, 1, 1, 1, 1, 1, 1, 1, 1, 1, 1, 1, 1, 1, 1, 1, 1, 1, 1, 1, 1, 1, 1, 1, 1, 1, 1, 1, 1, 1, 1, 1, 1, 1, 1, 1, 1, 1, 1, 1, 1, 1, 1, 1, 1, 1, 1, 1, 1, 1, 1, 1, 1, 1, 1, 1, 1, 1, 1, 1, 1, 1, 1, 1, 1, 1, 1, 1, 1, 1, 1, 1, 1, 1, 1, 1, 1, 1, 1, 1, 1, 1, 1, 1, 1, 1, 1, 1, 1, 1, 1, 1, 1, 1, 1, 1, 1, 1, 1, 1, 1, 1, 1, 1, 1, 1, 1, 1, 1, 1, 1, 1, 1, 1, 1, 1, 1, 1, 1, 1, 1, 1, 1, 1, 1, 1, 1, 1, 1, 1, 1, 1, 1, 1, 1, 1, 1, 1, 1, 1, 1, 1, 1, 1, 1, 1, 1, 1, 1, 1, 1, 1, 1, 1, 1, 1, 1, 1, 1, 1, 1, 1, 1, 1, 1, 1, 1, 1, 1, 1, 1, 1, 1, 1, 1, 1, 1, 1, 1, 1, 1, 1, 1, 1, 1, 1, 1, 1, 1, 1, 1, 1, 1, 1, 1, 1, 1, 1, 1, 1, 1, 1, 1, 1, 1, 1, 1, 1, 1, 1, 1, 1, 1, 1, 1, 1, 1, 1, 1, 1, 1, 1, 1, 1, 1, 1, 1, 1, 1, 1, 1, 1, 1, 1, 1, 1, 1, 1, 1, 1, 1, 1, 1, 1, 1, 1, 1, 1, 1, 1, 1, 1, 1, 1, 1, 1, 1, 1, 1, 1, 1, 1, 1, 1, 1, 1, 1, 1, 1, 1, 1, 1, 1, 1, 1, 1, 1, 1, 1, 1, 1, 1, 1, 1, 1, 1, 1, 1, 1, 1, 1, 1, 1, 1, 1, 1, 1, 1, 1, 1, 1, 1, 1, 1, 1, 1, 1, 1, 1, 1, 1, 1, 1, 1, 1, 1, 1, 1, 1, 1, 1, 1, 1, 1, 1, 1, 1, 1, 1, 1, 1, 1, 1, 1, 1, 1, 1, 1, 1, 1, 1, 1, 1, 1, 1, 1, 1, 1, 1, 1, 1, 1, 1, 1, 1, 1, 1, 1, 1, 1, 1, 1, 1, 1, 1, 1, 1, 1, 1, 1, 1, 1, 1, 1, 1, 1, 1, 1, 1, 1, 1, 1, 1, 1, 1, 1, 1, 1, 1, 1, 1, 1, 1, 1, 1, 1, 1, 1, 1, 1, 1, 1, 1, 1, 1, 1, 1, 1, 1, 1, 1, 1, 1, 1, 1, 1, 1, 1, 1, 1, 1, 1, 1, 1, 1, 1, 1, 1, 1, 1, 1, 1, 1, 1, 1, 1, 1, 1, 1, 1, 1, 1, 1, 1, 1, 1, 1, 1, 1, 1, 1, 1, 1, 1, 1, 1, 1, 1, 1, 1, 1, 1, 1, 1, 1, 1, 1, 1, 1, 1, 1, 1, 1, 1, 1, 1, 1, 1, 1, 1, 1, 1, 1, 1, 1, 1, 1, 1, 1, 1, 1, 1, 1, 1, 1, 1, 1, 1, 1, 1, 1, 1, 1, 1, 1, 1, 1, 1, 1, 1, 1, 1, 1, 1, 1, 1, 1, 1, 1, 1, 1, 1, 1, 1, 1, 1, 1, 1, 1, 1, 1, 1, 1, 1, 1, 1, 1, 1, 1, 1, 1, 1, 1, 1, 1, 1, 1, 1, 1, 1, 1, 1, 1, 1, 1, 1, 1, 1, 1, 1, 1, 1, 1, 1, 1, 1, 1, 1, 1, 1, 1, 1, 1, 1, 1, 1, 1, 1, 1, 1, 1, 1, 1, 1, 1, 1, 1, 1, 1, 1, 1, 1, 1, 1, 1, 1, 1, 1, 1, 1, 1, 1, 1, 1, 1, 1, 1, 1, 1, 1, 1, 1, 1, 1, 1, 1, 1, 1, 1, 1, 1, 1, 1, 1, 1, 1, 1, 1, 1, 1, 1, 1, 1, 1, 1, 1, 1, 1, 1, 1, 1, 1, 1, 1, 1, 1, 1, 1, 1, 1, 1, 1, 1, 1, 1, 1, 1, 1, 1, 1, 1, 1, 1, 1, 1, 1, 1, 1, 1, 1, 1, 1, 1, 1, 1, 1, 1, 1, 1, 1, 1, 1, 1, 1, 1, 1, 1, 1, 1, 1, 1, 1, 1, 1, 1, 1, 1, 1, 1, 1, 1, 1, 1, 1, 1, 1, 1, 1, 1, 1, 1, 1, 1, 1, 1, 1, 1, 1, 1, 1, 1, 1, 1, 1, 1, 1, 1, 1, 1, 1, 1, 1, 1, 1, 1, 1, 1, 1, 1, 1, 1, 1, 1, 1, 1, 1, 1, 1, 1, 1, 1, 1, 1, 1, 1, 1, 1, 1, 1, 1, 1, 1, 1, 1, 1, 1, 1, 1, 1, 1, 1, 1, 1, 1, 1, 1, 1, 1, 1, 1, 1, 1, 1, 1, 1, 1, 1, 1, 1, 1, 1, 1, 1, 1, 1, 1, 1, 1, 1, 1, 1, 1, 1, 1, 1, 1, 1, 1, 1, 1, 1, 1, 1, 1, 1, 1, 1, 1, 1, 1, 1, 1, 1, 1, 1, 1, 1, 1, 1, 1, 1, 1, 1, 1, 1, 1, 1, 1, 1, 1, 1, 1, 1, 1, 1, 1, 1, 1, 1, 1, 1, 1, 1, 1, 1, 1, 1, 1, 1, 1, 1, 1, 1, 1, 1, 1, 1, 1, 1, 1, 1, 1, 1, 1, 1, 1, 1, 1, 1, 1, 1, 1, 1, 1, 1, 1, 1, 1, 1, 1, 1, 1, 1, 1, 1, 1, 1, 1, 1, 1, 1, 1, 1, 1, 1, 1, 1, 1, 1, 1, 1, 1, 1, 1, 1, 1, 1, 1, 1, 1, 1, 1, 1, 1, 1, 1, 1, 1, 1, 1, 1, 1, 1, 1, 1, 1, 1, 1, 1, 1, 1, 1, 1, 1, 1, 1, 1, 1, 1, 1, 1, 1, 1, 1, 1, 1, 1, 1, 1, 1, 1, 1, 1, 1, 1, 1, 1, 1, 1, 1, 1, 1, 1, 1, 1, 1, 1, 1, 1, 1, 1, 1, 1, 1, 1, 1, 1, 1, 1, 1, 1, 1, 1, 1, 1, 1, 1, 1, 1, 1, 1, 1, 1, 1, 1, 1, 1, 1, 1, 1, 1, 1, 1, 1, 1, 1, 1, 1, 1, 1, 1, 1, 1, 1, 1, 1, 1, 1, 1, 1, 1, 1, 1, 1, 1, 1, 1, 1, 1, 1, 1, 1, 1, 1, 1, 1, 1, 1, 1, 1, 1, 1, 1, 1, 1, 1, 1, 1, 1, 1, 1, 1, 1, 1, 1, 1, 1, 1, 1, 1, 1, 1, 1, 1, 1, 1, 1, 1, 1, 1, 1, 1, 1, 1, 1, 1, 1, 1, 1, 1, 1, 1, 1, 1, 1, 1, 1, 1, 1, 1, 1, 1, 1, 1, 1, 1, 1, 1, 1, 1, 1, 1, 1, 1, 1, 1, 1, 1, 1, 1, 1, 1, 1, 1, 1, 1, 1, 1, 1, 1, 1, 1, 1, 1, 1, 1, 1, 1, 1, 1, 1, 1, 1, 1, 1, 1, 1, 1, 1, 1, 1, 1, 1, 1, 1, 1, 1, 1, 1, 1, 1, 1, 1, 1, 1, 1, 1, 1, 1, 1, 1, 1, 1, 1, 1, 1, 1, 1, 1, 1, 1, 1, 1, 1, 1, 1, 1, 1, 1, 1, 1, 1, 1, 1, 1, 1, 1, 1, 1, 1, 1, 1, 1, 1, 1, 1, 1, 1, 1, 1, 1, 1, 1, 1, 1, 1, 1, 1, 1, 1, 1, 1, 1, 1, 1, 1, 1, 1, 1, 1, 1, 1, 1, 1, 1, 1, 1, 1, 1, 1, 1, 1, 1, 1, 1, 1, 1, 1, 1, 1, 1, 1, 1, 1, 1, 1, 1, 1, 1, 1, 1, 1, 1, 1, 1, 1, 1, 1, 1, 1, 1, 1, 1, 1, 1, 1, 1, 1, 1, 1, 1, 1, 1, 1, 1, 1, 1, 1, 1, 1, 1, 1, 1, 1, 1, 1, 1, 1, 1, 1, 1, 1, 1, 1, 1, 1, 1, 1, 1, 1, 1, 1, 1, 1, 1, 1, 1, 1, 1, 1, 1, 1, 1, 1, 1, 1, 1, 1, 1, 1, 1, 1, 1, 1, 1, 1, 1, 1, 1, 1, 1, 1, 1, 1, 1, 1, 1, 1, 1, 1, 1, 1, 1, 1, 1, 1, 1, 1, 1, 1, 1, 1, 1, 1, 1, 1, 1, 1, 1, 1, 1, 1, 1, 1, 1, 1, 1, 1, 1, 1, 1, 1, 1, 1, 1, 1, 1, 1, 1, 1, 1, 1, 1, 1, 1, 1, 1, 1, 1, 1, 1, 1, 1, 1, 1, 1, 1, 1, 1, 1, 1, 1, 1, 1, 1, 1, 1, 1, 1, 1, 1, 1, 1, 1, 1, 1, 1, 1, 1, 1, 1, 1, 1, 1, 1, 1, 1, 1, 1, 1, 1, 1, 1, 1, 1, 1, 1, 1, 1, 1, 1, 1, 1, 1, 1, 1, 1, 1, 1, 1, 1, 1, 1, 1, 1, 1, 1, 1, 1, 1, 1, 1, 1, 1, 1, 1, 1, 1, 1, 1, 1, 1, 1, 1, 1, 1, 1, 1, 1, 1, 1, 1, 1, 1, 1, 1, 1, 1, 1, 1, 1, 1, 1, 1, 1, 1, 1, 1, 1, 1, 1, 1, 1, 1, 1, 1, 1, 1, 1, 1, 1, 1, 1, 1, 1, 1, 1, 1, 1, 1, 1, 1, 1, 1, 1, 1, 1, 1, 1, 1, 1, 1, 1, 1, 1, 1, 1, 1, 1, 1, 1, 1, 1, 1, 1, 1, 1, 1, 1, 1, 1, 1, 1, 1, 1, 1, 1, 1, 1, 1, 1, 1, 1, 1, 1, 1, 1, 1, 1, 1, 1, 1, 1, 1, 1, 1, 1, 1, 1, 1, 1, 1, 1, 1, 1, 1, 1, 1, 1, 1, 1, 1, 1, 1, 1, 1, 1, 1, 1, 1, 1, 1, 1, 1, 1, 1, 1, 1, 1, 1, 1, 1, 1, 1, 1, 1, 1, 1, 1, 1, 1, 1, 1, 1, 1, 1, 1, 1, 1, 1, 1, 1, 1, 1, 1, 1, 1, 1, 1, 1, 1, 1, 1, 1, 1, 1, 1, 1, 1, 1, 1, 1, 1, 1, 1, 1, 1, 1, 1, 1, 1, 1, 1, 1, 1, 1, 1, 1, 1, 1, 1, 1, 1, 1, 1, 1, 1, 1, 1, 1, 1, 1, 1, 1, 1, 1, 1, 1, 1, 1, 1, 1, 1, 1, 1, 1, 1, 1, 1, 1, 1, 1, 1, 1, 1, 1, 1, 1, 1, 1, 1, 1, 1, 1, 1, 1, 1, 1, 1, 1, 1, 1, 1, 1, 1, 1, 1, 1, 1, 1, 1, 1, 1, 1, 1, 1, 1, 1, 1, 1, 1, 1, 1, 1, 1, 1, 1, 1, 1, 1, 1, 1, 1, 1, 1, 1, 1, 1, 1, 1, 1, 1, 1, 1, 1, 1, 1, 1, 1, 1, 1, 1, 1, 1, 1, 1, 1, 1, 1, 1, 1, 1, 1, 1, 1, 1, 1, 1, 1, 1, 1, 1, 1, 1, 1, 1, 1, 1, 1, 1, 1, 1, 1, 1, 1, 1, 1, 1, 1, 1, 1, 1, 1, 1, 1, 1, 1, 1, 1, 1, 1, 1, 1, 1, 1, 1, 1, 1, 1, 1, 1, 1, 1, 1, 1, 1, 1, 1, 1, 1, 1, 1, 1, 1, 1, 1, 1, 1, 1, 1, 1, 1, 1, 1, 1, 1, 1, 1, 1, 1, 1, 1, 1, 1, 1, 1, 1, 1, 1, 1, 1, 1, 1, 1, 1, 1, 1, 1, 1, 1, 1, 1, 1, 1, 1, 1, 1, 1, 1, 1, 1, 1, 1, 1, 1, 1, 1, 1, 1, 1, 1, 1, 1, 1, 1, 1, 1, 1, 1, 1, 1, 1, 1, 1, 1, 1, 1, 1, 1, 1, 1, 1, 1, 1, 1, 1, 1, 1, 1, 1, 1, 1, 1, 1, 1, 1, 1, 1, 1, 1, 1, 1, 1, 1, 1, 1, 1, 1, 1, 1, 1, 1, 1, 1, 1, 1, 1, 1, 1, 1, 1, 1, 1, 1, 1, 1, 1, 1, 1, 1, 1, 1, 1, 1, 1, 1, 1, 1, 1, 1, 1, 1, 1, 1, 1, 1, 1, 1, 1, 1, 1, 1, 1, 1, 1, 1, 1, 1, 1, 1, 1, 1, 1, 1, 1, 1, 1, 1, 1, 1, 1, 1, 1, 1, 1, 1, 1, 1, 1, 1, 1, 1, 1, 1, 1, 1, 1, 1, 1, 1, 1, 1, 1, 1, 1, 1, 1, 1, 1, 1, 1, 1, 1, 1, 1, 1, 1, 1, 1, 1, 1, 1, 1, 1, 1, 1, 1, 1, 1, 1, 1, 1, 1, 1, 1, 1, 1, 1, 1, 1, 1, 1, 1, 1, 1, 1, 1, 1, 1, 1, 1, 1, 1, 1, 1, 1, 1, 1, 1, 1, 1, 1, 1, 1, 1, 1, 1, 1, 1, 1, 1, 1, 1, 1, 1, 1, 1, 1, 1, 1, 1, 1, 1, 1, 1, 1, 1, 1, 1, 1, 1, 1, 1, 1, 1, 1, 1, 1, 1, 1, 1, 1, 1, 1, 1, 1, 1, 1, 1, 1, 1, 1, 1, 1, 1, 1, 1, 1, 1, 1, 1, 1, 1, 1, 1, 1, 1, 1, 1, 1, 1, 1, 1, 1, 1, 1, 1, 1, 1, 1, 1, 1, 1, 1, 1, 1, 1, 1, 1, 1, 1, 1, 1, 1, 1, 1, 1, 1, 1, 1, 1, 1, 1, 1, 1, 1, 1, 1, 1, 1, 1, 1, 1, 1, 1, 1, 1, 1, 1, 1, 1, 1, 1, 1, 1, 1, 1, 1, 1, 1, 1, 1, 1, 1, 1, 1, 1, 1, 1, 1, 1, 1, 1, 1, 1, 1, 1, 1, 1, 1, 1, 1, 1, 1, 1, 1, 1, 1, 1, 1, 1, 1, 1, 1, 1, 1, 1, 1, 1, 1, 1, 1, 1, 1, 1, 1, 1, 1, 1, 1, 1, 1, 1, 1, 1, 1, 1, 1, 1, 1, 1, 1, 1, 1, 1, 1, 1, 1, 1, 1, 1, 1, 1, 1, 1, 1, 1, 1, 1, 1, 1, 1, 1, 1, 1, 1, 1, 1, 1, 1, 1, 1, 1, 1, 1, 1, 1, 1, 1, 1, 1, 1, 1, 1, 1, 1, 1, 1, 1, 1, 1, 1, 1, 1, 1, 1, 1, 1, 1, 1, 1, 1, 1, 1, 1, 1, 1, 1, 1, 1, 1, 1, 1, 1, 1, 1, 1, 1, 1, 1, 1, 1, 1, 1, 1, 1, 1, 1, 1, 1, 1, 1, 1, 1, 1, 1, 1, 1, 1, 1, 1, 1, 1, 1, 1, 1, 1, 1, 1, 1, 1, 1, 1, 1, 1, 1, 1, 1, 1, 1, 1, 1, 1, 1, 1, 1, 1, 1, 1, 1, 1, 1, 1, 1, 1, 1, 1, 1, 1, 1, 1, 1, 1, 1, 1, 1, 1, 1, 1, 1, 1, 1, 1, 1, 1, 1, 1, 1, 1, 1, 1, 1, 1, 1, 1, 1, 1, 1, 1, 1, 1, 1, 1, 1, 1, 1, 1, 1, 1, 1, 1, 1, 1, 1, 1, 1, 1, 1, 1, 1, 1, 1, 1, 1, 1, 1, 1, 1, 1, 1, 1, 1, 1, 1, 1, 1, 1, 1, 1, 1, 1, 1, 1, 1, 1, 1, 1, 1, 1, 1, 1, 1, 1, 1, 1, 1, 1, 1, 1, 1, 1, 1, 1, 1, 1, 1, 1, 1, 1, 1, 1, 1, 1, 1, 1, 1, 1, 1, 1, 1, 1, 1, 1, 1, 1, 1, 1, 1, 1, 1, 1, 1, 1, 1, 1, 1, 1, 1, 1, 1, 1, 1, 1, 1, 1, 1, 1, 1, 1, 1, 1, 1, 1, 1, 1, 1, 1, 1, 1, 1, 1, 1, 1, 1, 1, 1, 1, 1, 1, 1, 1, 1, 1, 1, 1, 1, 1, 1, 1, 1, 1, 1, 1, 1, 1, 1, 1, 1, 1, 1, 1, 1, 1, 1, 1, 1, 1, 1, 1, 1, 1, 1, 1, 1, 1, 1, 1, 1, 1, 1, 1, 1, 1, 1, 1, 1, 1, 1, 1, 1, 1, 1, 1, 1, 1, 1, 1, 1, 1, 1, 1, 1, 1, 1, 1, 1, 1, 1, 1, 1, 1, 1, 1, 1, 1, 1, 1, 1, 1, 1, 1, 1, 1, 1, 1, 1, 1, 1, 1, 1, 1, 1, 1, 1, 1, 1, 1, 1, 1, 1, 1, 1, 1, 1, 1, 1, 1, 1, 1, 1, 1, 1, 1, 1, 1, 1, 1, 1, 1, 1, 1, 1, 1, 1, 1, 1, 1, 1, 1, 1, 1, 1, 1, 1, 1, 1, 1, 1, 1, 1, 1, 1, 1, 1, 1, 1, 1, 1, 1, 1, 1, 1, 1, 1, 1, 1, 1, 1, 1, 1, 1, 1, 1, 1, 1, 1, 1, 1, 1, 1, 1, 1, 1, 1, 1, 1, 1, 1, 1, 1, 1, 1, 1, 1, 1, 1, 1, 1, 1, 1, 1, 1, 1, 1, 1, 1, 1, 1, 1, 1, 1, 1, 1, 1, 1, 1, 1, 1, 1, 1, 1, 1, 1, 1, 1, 1, 1, 1, 1, 1, 1, 1, 1, 1, 1, 1, 1, 1, 1, 1, 1, 1, 1, 1, 1, 1, 1, 1, 1, 1, 1, 1, 1, 1, 1, 1, 1, 1, 1, 1, 1, 1, 1, 1, 1, 1, 1, 1, 1, 1, 1, 1, 1, 1, 1, 1, 1, 1, 1, 1, 1, 1, 1, 1, 1, 1, 1, 1, 1, 1, 1, 1, 1, 1, 1, 1, 1, 1, 1, 1, 1, 1, 1, 1, 1, 1, 1, 1, 1, 1, 1, 1, 1, 1, 1, 1, 1, 1, 1, 1, 1, 1, 1, 1, 1, 1, 1, 1, 1, 1, 1, 1, 1, 1, 1, 1, 1, 1, 1, 1, 1, 1, 1, 1, 1, 1, 1, 1, 1, 1, 1, 1, 1, 1, 1, 1, 1, 1, 1, 1, 1, 1, 1, 1, 1, 1, 1, 1, 1, 1, 1, 1, 1, 1, 1, 1, 1, 1, 1, 1, 1, 1, 1, 1, 1, 1, 1, 1, 1, 1, 1, 1, 1, 1, 1, 1, 1, 1, 1, 1, 1, 1, 1, 1, 1, 1, 1, 1, 1, 1, 1, 1, 1, 1, 1, 1, 1, 1, 1, 1, 1, 1, 1, 1, 1, 1, 1, 1, 1, 1, 1, 1, 1, 1, 1, 1, 1, 1, 1, 1, 1, 1, 1, 1, 1, 1, 1, 1, 1, 1, 1, 1, 1, 1, 1, 1, 1, 1, 1, 1, 1, 1, 1, 1, 1, 1, 1, 1, 1, 1, 1, 1, 1, 1, 1, 1, 1, 1, 1, 1, 1, 1, 1, 1, 1, 1, 1, 1, 1, 1, 1, 1, 1, 1, 1, 1, 1, 1, 1, 1, 1, 1, 1, 1, 1, 1, 1, 1, 1, 1, 1, 1, 1, 1, 1, 1, 1, 1, 1, 1, 1, 1, 1, 1, 1, 1, 1, 1, 1, 1, 1, 1, 1, 1, 1, 1, 1, 1, 1, 1, 1, 1, 1, 1, 1, 1, 1, 1, 1, 1, 1, 1, 1, 1, 1, 1, 1, 1, 1, 1, 1, 1, 1, 1, 1, 1, 1, 1, 1, 1, 1, 1, 1, 1, 1, 1, 1, 1, 1, 1, 1, 1, 1, 1, 1, 1, 1, 1, 1, 1, 1, 1, 1, 1, 1, 1, 1, 1, 1, 1, 1, 1, 1, 1, 1, 1, 1, 1, 1, 1, 1, 1, 1, 1, 1, 1, 1, 1, 1, 1, 1, 1, 1, 1, 1, 1, 1, 1, 1, 1, 1, 1, 1, 1, 1, 1, 1, 1, 1, 1, 1, 1, 1, 1, 1, 1, 1, 1, 1, 1, 1, 1, 1, 1, 1, 1, 1, 1, 1, 1, 1, 1, 1, 1, 1, 1, 1, 1, 1, 1, 1, 1, 1, 1, 1, 1, 1, 1, 1, 1, 1, 1, 1, 1, 1, 1, 1, 1, 1, 1, 1, 1, 1, 1, 1, 1, 1, 1, 1, 1, 1, 1, 1, 1, 1, 1, 1, 1, 1, 1, 1, 1, 1, 1, 1, 1, 1, 1, 1, 1, 1, 1, 1, 1, 1, 1, 1, 1, 1, 1, 1, 1, 1, 1, 1, 1, 1, 1, 1, 1, 1, 1, 1, 1, 1, 1, 1, 1, 1, 1, 1, 1, 1, 1, 1, 1, 1, 1, 1, 1, 1, 1, 1, 1, 1, 1, 1, 1, 1, 1, 1, 1, 1, 1, 1, 1, 1, 1, 1, 1, 1, 1, 1, 1, 1, 1, 1, 1, 1, 1, 1, 1, 1, 1, 1, 1, 1, 1, 1, 1, 1, 1, 1, 1, 1, 1, 1, 1, 1, 1, 1, 1, 1, 1, 1, 1, 1, 1, 1, 1, 1, 1, 1, 1, 1, 1, 1, 1, 1, 1, 1, 1, 1, 1, 1, 1, 1, 1, 1, 1, 1, 1, 1, 1, 1, 1, 1, 1, 1, 1, 1, 1, 1, 1, 1, 1, 1, 1, 1, 1, 1, 1, 1, 1, 1, 1, 1, 1, 1, 1, 1, 1, 1, 1, 1, 1, 1, 1, 1, 1, 1, 1, 1, 1, 1, 1, 1, 1, 1, 1, 1, 1, 1, 1, 1, 1, 1, 1, 1, 1, 1, 1, 1, 1, 1, 1, 1, 1, 1, 1, 1, 1, 1]\n",
            "[20, 18, 18, 16, 16]\n"
          ]
        }
      ]
    },
    {
      "cell_type": "code",
      "source": [
        "# Pie Chart\n",
        "colors = ['Orange','Blue','Green','Yellow','Red']\n",
        "pie(values,labels=names,colors=colors,shadow=True,explode=[0.2,0,0,0,0],autopct=\"%1.1f%%\")\n",
        "title('Top 5 Directors and their contribution')\n",
        "axis('equal')"
      ],
      "metadata": {
        "colab": {
          "base_uri": "https://localhost:8080/",
          "height": 335
        },
        "id": "tDCKK6DrzOAJ",
        "outputId": "5b7e512e-9e7a-4c3c-e99d-40bfe1d00f35"
      },
      "execution_count": null,
      "outputs": [
        {
          "output_type": "execute_result",
          "data": {
            "text/plain": [
              "(-1.131777020480117,\n",
              " 1.2598607183964936,\n",
              " -1.1239956625586054,\n",
              " 1.2276883246334052)"
            ]
          },
          "metadata": {},
          "execution_count": 197
        },
        {
          "output_type": "display_data",
          "data": {
            "text/plain": [
              "<Figure size 432x288 with 1 Axes>"
            ],
            "image/png": "[encoded data removed]"
          },
          "metadata": {}
        }
      ]
    },
    {
      "cell_type": "markdown",
      "source": [
        "### Release year with highest content"
      ],
      "metadata": {
        "id": "dLy6KcSPz4NI"
      }
    },
    {
      "cell_type": "code",
      "source": [
        "years = list(df['release_year'].unique())\n",
        "years.sort()\n",
        "years.reverse()\n",
        "years = years[:10]\n",
        "values = list(df['release_year'].value_counts())\n",
        "values.sort()\n",
        "values.reverse()\n",
        "values = values[:10]\n",
        "title('Top 5 years with highest releases')\n",
        "pie(values,labels=years,colors=['Orange','Yellow','Blue',\"Green\",'Grey'],autopct=\"%1.1f%%\",shadow=True,explode=[0.2,0,0,0,0,0,0,0,0,0])\n",
        "axis('equal')"
      ],
      "metadata": {
        "colab": {
          "base_uri": "https://localhost:8080/",
          "height": 338
        },
        "id": "liVsD8F_z7jy",
        "outputId": "e9011124-c7bd-416c-c8a6-a37d40f2e7bd"
      },
      "execution_count": null,
      "outputs": [
        {
          "output_type": "execute_result",
          "data": {
            "text/plain": [
              "(-1.1182719600401931,\n",
              " 1.2835915186811482,\n",
              " -1.1018322587766927,\n",
              " 1.1068557568687347)"
            ]
          },
          "metadata": {},
          "execution_count": 214
        },
        {
          "output_type": "display_data",
          "data": {
            "text/plain": [
              "<Figure size 432x288 with 1 Axes>"
            ],
            "image/png": "[encoded data removed]"
          },
          "metadata": {}
        }
      ]
    }
  ]
}