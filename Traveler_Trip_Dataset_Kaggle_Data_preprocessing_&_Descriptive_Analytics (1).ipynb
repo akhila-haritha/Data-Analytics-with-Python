{
  "nbformat": 4,
  "nbformat_minor": 0,
  "metadata": {
    "colab": {
      "provenance": []
    },
    "kernelspec": {
      "name": "python3",
      "display_name": "Python 3"
    },
    "language_info": {
      "name": "python"
    }
  },
  "cells": [
    {
      "cell_type": "markdown",
      "source": [
        "# Import Libraries"
      ],
      "metadata": {
        "id": "ldmcq5KiQv8A"
      }
    },
    {
      "cell_type": "code",
      "execution_count": 167,
      "metadata": {
        "id": "-zXFvYMGQrUj"
      },
      "outputs": [],
      "source": [
        "from pylab import *\n",
        "import pandas as pd\n",
        "import seaborn as sns"
      ]
    },
    {
      "cell_type": "markdown",
      "source": [
        "#Load the Dataset"
      ],
      "metadata": {
        "id": "useG6p4jQzc7"
      }
    },
    {
      "cell_type": "code",
      "source": [
        "travel = pd.read_csv('Travel details dataset.csv')"
      ],
      "metadata": {
        "id": "N1TZEHRBQvq5"
      },
      "execution_count": 168,
      "outputs": []
    },
    {
      "cell_type": "markdown",
      "source": [
        "# Understand the Dataset"
      ],
      "metadata": {
        "id": "WM_x1FUNRC2A"
      }
    },
    {
      "cell_type": "code",
      "source": [
        "travel.head()"
      ],
      "metadata": {
        "colab": {
          "base_uri": "https://localhost:8080/",
          "height": 302
        },
        "id": "FGAZUYGQRIZL",
        "outputId": "f8819719-b2ac-462a-eb2e-40da8c4ca04a"
      },
      "execution_count": 169,
      "outputs": [
        {
          "output_type": "execute_result",
          "data": {
            "text/plain": [
              "   Trip ID       Destination Start date   End date  Duration (days)  \\\n",
              "0        1        London, UK   5/1/2023   5/8/2023              7.0   \n",
              "1        2  Phuket, Thailand  6/15/2023  6/20/2023              5.0   \n",
              "2        3   Bali, Indonesia   7/1/2023   7/8/2023              7.0   \n",
              "3        4     New York, USA  8/15/2023  8/29/2023             14.0   \n",
              "4        5      Tokyo, Japan  9/10/2023  9/17/2023              7.0   \n",
              "\n",
              "   Traveler name  Traveler age Traveler gender Traveler nationality  \\\n",
              "0     John Smith          35.0            Male             American   \n",
              "1       Jane Doe          28.0          Female             Canadian   \n",
              "2      David Lee          45.0            Male               Korean   \n",
              "3  Sarah Johnson          29.0          Female              British   \n",
              "4     Kim Nguyen          26.0          Female           Vietnamese   \n",
              "\n",
              "  Accommodation type Accommodation cost Transportation type  \\\n",
              "0              Hotel               1200              Flight   \n",
              "1             Resort                800              Flight   \n",
              "2              Villa               1000              Flight   \n",
              "3              Hotel               2000              Flight   \n",
              "4             Airbnb                700               Train   \n",
              "\n",
              "  Transportation cost  \n",
              "0                 600  \n",
              "1                 500  \n",
              "2                 700  \n",
              "3                1000  \n",
              "4                 200  "
            ],
            "text/html": [
              "\n",
              "  <div id=\"df-a0ecaab4-6efc-4a4e-9f25-e240eacb1501\">\n",
              "    <div class=\"colab-df-container\">\n",
              "      <div>\n",
              "<style scoped>\n",
              "    .dataframe tbody tr th:only-of-type {\n",
              "        vertical-align: middle;\n",
              "    }\n",
              "\n",
              "    .dataframe tbody tr th {\n",
              "        vertical-align: top;\n",
              "    }\n",
              "\n",
              "    .dataframe thead th {\n",
              "        text-align: right;\n",
              "    }\n",
              "</style>\n",
              "<table border=\"1\" class=\"dataframe\">\n",
              "  <thead>\n",
              "    <tr style=\"text-align: right;\">\n",
              "      <th></th>\n",
              "      <th>Trip ID</th>\n",
              "      <th>Destination</th>\n",
              "      <th>Start date</th>\n",
              "      <th>End date</th>\n",
              "      <th>Duration (days)</th>\n",
              "      <th>Traveler name</th>\n",
              "      <th>Traveler age</th>\n",
              "      <th>Traveler gender</th>\n",
              "      <th>Traveler nationality</th>\n",
              "      <th>Accommodation type</th>\n",
              "      <th>Accommodation cost</th>\n",
              "      <th>Transportation type</th>\n",
              "      <th>Transportation cost</th>\n",
              "    </tr>\n",
              "  </thead>\n",
              "  <tbody>\n",
              "    <tr>\n",
              "      <th>0</th>\n",
              "      <td>1</td>\n",
              "      <td>London, UK</td>\n",
              "      <td>5/1/2023</td>\n",
              "      <td>5/8/2023</td>\n",
              "      <td>7.0</td>\n",
              "      <td>John Smith</td>\n",
              "      <td>35.0</td>\n",
              "      <td>Male</td>\n",
              "      <td>American</td>\n",
              "      <td>Hotel</td>\n",
              "      <td>1200</td>\n",
              "      <td>Flight</td>\n",
              "      <td>600</td>\n",
              "    </tr>\n",
              "    <tr>\n",
              "      <th>1</th>\n",
              "      <td>2</td>\n",
              "      <td>Phuket, Thailand</td>\n",
              "      <td>6/15/2023</td>\n",
              "      <td>6/20/2023</td>\n",
              "      <td>5.0</td>\n",
              "      <td>Jane Doe</td>\n",
              "      <td>28.0</td>\n",
              "      <td>Female</td>\n",
              "      <td>Canadian</td>\n",
              "      <td>Resort</td>\n",
              "      <td>800</td>\n",
              "      <td>Flight</td>\n",
              "      <td>500</td>\n",
              "    </tr>\n",
              "    <tr>\n",
              "      <th>2</th>\n",
              "      <td>3</td>\n",
              "      <td>Bali, Indonesia</td>\n",
              "      <td>7/1/2023</td>\n",
              "      <td>7/8/2023</td>\n",
              "      <td>7.0</td>\n",
              "      <td>David Lee</td>\n",
              "      <td>45.0</td>\n",
              "      <td>Male</td>\n",
              "      <td>Korean</td>\n",
              "      <td>Villa</td>\n",
              "      <td>1000</td>\n",
              "      <td>Flight</td>\n",
              "      <td>700</td>\n",
              "    </tr>\n",
              "    <tr>\n",
              "      <th>3</th>\n",
              "      <td>4</td>\n",
              "      <td>New York, USA</td>\n",
              "      <td>8/15/2023</td>\n",
              "      <td>8/29/2023</td>\n",
              "      <td>14.0</td>\n",
              "      <td>Sarah Johnson</td>\n",
              "      <td>29.0</td>\n",
              "      <td>Female</td>\n",
              "      <td>British</td>\n",
              "      <td>Hotel</td>\n",
              "      <td>2000</td>\n",
              "      <td>Flight</td>\n",
              "      <td>1000</td>\n",
              "    </tr>\n",
              "    <tr>\n",
              "      <th>4</th>\n",
              "      <td>5</td>\n",
              "      <td>Tokyo, Japan</td>\n",
              "      <td>9/10/2023</td>\n",
              "      <td>9/17/2023</td>\n",
              "      <td>7.0</td>\n",
              "      <td>Kim Nguyen</td>\n",
              "      <td>26.0</td>\n",
              "      <td>Female</td>\n",
              "      <td>Vietnamese</td>\n",
              "      <td>Airbnb</td>\n",
              "      <td>700</td>\n",
              "      <td>Train</td>\n",
              "      <td>200</td>\n",
              "    </tr>\n",
              "  </tbody>\n",
              "</table>\n",
              "</div>\n",
              "      <button class=\"colab-df-convert\" onclick=\"convertToInteractive('df-a0ecaab4-6efc-4a4e-9f25-e240eacb1501')\"\n",
              "              title=\"Convert this dataframe to an interactive table.\"\n",
              "              style=\"display:none;\">\n",
              "        \n",
              "  <svg xmlns=\"http://www.w3.org/2000/svg\" height=\"24px\"viewBox=\"0 0 24 24\"\n",
              "       width=\"24px\">\n",
              "    <path d=\"M0 0h24v24H0V0z\" fill=\"none\"/>\n",
              "    <path d=\"M18.56 5.44l.94 2.06.94-2.06 2.06-.94-2.06-.94-.94-2.06-.94 2.06-2.06.94zm-11 1L8.5 8.5l.94-2.06 2.06-.94-2.06-.94L8.5 2.5l-.94 2.06-2.06.94zm10 10l.94 2.06.94-2.06 2.06-.94-2.06-.94-.94-2.06-.94 2.06-2.06.94z\"/><path d=\"M17.41 7.96l-1.37-1.37c-.4-.4-.92-.59-1.43-.59-.52 0-1.04.2-1.43.59L10.3 9.45l-7.72 7.72c-.78.78-.78 2.05 0 2.83L4 21.41c.39.39.9.59 1.41.59.51 0 1.02-.2 1.41-.59l7.78-7.78 2.81-2.81c.8-.78.8-2.07 0-2.86zM5.41 20L4 18.59l7.72-7.72 1.47 1.35L5.41 20z\"/>\n",
              "  </svg>\n",
              "      </button>\n",
              "      \n",
              "  <style>\n",
              "    .colab-df-container {\n",
              "      display:flex;\n",
              "      flex-wrap:wrap;\n",
              "      gap: 12px;\n",
              "    }\n",
              "\n",
              "    .colab-df-convert {\n",
              "      background-color: #E8F0FE;\n",
              "      border: none;\n",
              "      border-radius: 50%;\n",
              "      cursor: pointer;\n",
              "      display: none;\n",
              "      fill: #1967D2;\n",
              "      height: 32px;\n",
              "      padding: 0 0 0 0;\n",
              "      width: 32px;\n",
              "    }\n",
              "\n",
              "    .colab-df-convert:hover {\n",
              "      background-color: #E2EBFA;\n",
              "      box-shadow: 0px 1px 2px rgba(60, 64, 67, 0.3), 0px 1px 3px 1px rgba(60, 64, 67, 0.15);\n",
              "      fill: #174EA6;\n",
              "    }\n",
              "\n",
              "    [theme=dark] .colab-df-convert {\n",
              "      background-color: #3B4455;\n",
              "      fill: #D2E3FC;\n",
              "    }\n",
              "\n",
              "    [theme=dark] .colab-df-convert:hover {\n",
              "      background-color: #434B5C;\n",
              "      box-shadow: 0px 1px 3px 1px rgba(0, 0, 0, 0.15);\n",
              "      filter: drop-shadow(0px 1px 2px rgba(0, 0, 0, 0.3));\n",
              "      fill: #FFFFFF;\n",
              "    }\n",
              "  </style>\n",
              "\n",
              "      <script>\n",
              "        const buttonEl =\n",
              "          document.querySelector('#df-a0ecaab4-6efc-4a4e-9f25-e240eacb1501 button.colab-df-convert');\n",
              "        buttonEl.style.display =\n",
              "          google.colab.kernel.accessAllowed ? 'block' : 'none';\n",
              "\n",
              "        async function convertToInteractive(key) {\n",
              "          const element = document.querySelector('#df-a0ecaab4-6efc-4a4e-9f25-e240eacb1501');\n",
              "          const dataTable =\n",
              "            await google.colab.kernel.invokeFunction('convertToInteractive',\n",
              "                                                     [key], {});\n",
              "          if (!dataTable) return;\n",
              "\n",
              "          const docLinkHtml = 'Like what you see? Visit the ' +\n",
              "            '<a target=\"_blank\" href=https://colab.research.google.com/notebooks/data_table.ipynb>data table notebook</a>'\n",
              "            + ' to learn more about interactive tables.';\n",
              "          element.innerHTML = '';\n",
              "          dataTable['output_type'] = 'display_data';\n",
              "          await google.colab.output.renderOutput(dataTable, element);\n",
              "          const docLink = document.createElement('div');\n",
              "          docLink.innerHTML = docLinkHtml;\n",
              "          element.appendChild(docLink);\n",
              "        }\n",
              "      </script>\n",
              "    </div>\n",
              "  </div>\n",
              "  "
            ]
          },
          "metadata": {},
          "execution_count": 169
        }
      ]
    },
    {
      "cell_type": "code",
      "source": [
        "travel.shape"
      ],
      "metadata": {
        "colab": {
          "base_uri": "https://localhost:8080/"
        },
        "id": "0tAqB4mrRdcM",
        "outputId": "b36877d5-c42d-4595-9c2c-f694c60315cc"
      },
      "execution_count": 170,
      "outputs": [
        {
          "output_type": "execute_result",
          "data": {
            "text/plain": [
              "(139, 13)"
            ]
          },
          "metadata": {},
          "execution_count": 170
        }
      ]
    },
    {
      "cell_type": "markdown",
      "source": [
        "# Data Pre-processing"
      ],
      "metadata": {
        "id": "yFyrz0TOSKaA"
      }
    },
    {
      "cell_type": "markdown",
      "source": [
        "## Handle null values & duplicates"
      ],
      "metadata": {
        "id": "72ODEz-TS8e6"
      }
    },
    {
      "cell_type": "code",
      "source": [
        "travel.info()"
      ],
      "metadata": {
        "colab": {
          "base_uri": "https://localhost:8080/"
        },
        "id": "-lwB39AYRfxT",
        "outputId": "d518756a-97a8-4f8a-b5ff-d7b37d67d38f"
      },
      "execution_count": 171,
      "outputs": [
        {
          "output_type": "stream",
          "name": "stdout",
          "text": [
            "<class 'pandas.core.frame.DataFrame'>\n",
            "RangeIndex: 139 entries, 0 to 138\n",
            "Data columns (total 13 columns):\n",
            " #   Column                Non-Null Count  Dtype  \n",
            "---  ------                --------------  -----  \n",
            " 0   Trip ID               139 non-null    int64  \n",
            " 1   Destination           137 non-null    object \n",
            " 2   Start date            137 non-null    object \n",
            " 3   End date              137 non-null    object \n",
            " 4   Duration (days)       137 non-null    float64\n",
            " 5   Traveler name         137 non-null    object \n",
            " 6   Traveler age          137 non-null    float64\n",
            " 7   Traveler gender       137 non-null    object \n",
            " 8   Traveler nationality  137 non-null    object \n",
            " 9   Accommodation type    137 non-null    object \n",
            " 10  Accommodation cost    137 non-null    object \n",
            " 11  Transportation type   136 non-null    object \n",
            " 12  Transportation cost   136 non-null    object \n",
            "dtypes: float64(2), int64(1), object(10)\n",
            "memory usage: 14.2+ KB\n"
          ]
        }
      ]
    },
    {
      "cell_type": "markdown",
      "source": [
        "Since only 2 or 3 values are null, they can be ignored."
      ],
      "metadata": {
        "id": "XtZcORlFRnLR"
      }
    },
    {
      "cell_type": "code",
      "source": [
        "#Removing duplicates\n",
        "travel.drop_duplicates(inplace=True)"
      ],
      "metadata": {
        "id": "Rlk1HbO3Rkgo"
      },
      "execution_count": 172,
      "outputs": []
    },
    {
      "cell_type": "code",
      "source": [
        "travel.shape"
      ],
      "metadata": {
        "colab": {
          "base_uri": "https://localhost:8080/"
        },
        "id": "T6-Nt3E8SdLj",
        "outputId": "e1cb21bf-2e1c-48ce-bc11-e20f3c7ca560"
      },
      "execution_count": 173,
      "outputs": [
        {
          "output_type": "execute_result",
          "data": {
            "text/plain": [
              "(139, 13)"
            ]
          },
          "metadata": {},
          "execution_count": 173
        }
      ]
    },
    {
      "cell_type": "markdown",
      "source": [
        "This dataset didn't have duplicates from the beginning"
      ],
      "metadata": {
        "id": "hb6Twa1CSggd"
      }
    },
    {
      "cell_type": "code",
      "source": [
        "travel.head()"
      ],
      "metadata": {
        "colab": {
          "base_uri": "https://localhost:8080/",
          "height": 302
        },
        "id": "KFwOsvklUjxO",
        "outputId": "96c34e7c-2f60-424d-a35a-090f4deb4317"
      },
      "execution_count": 174,
      "outputs": [
        {
          "output_type": "execute_result",
          "data": {
            "text/plain": [
              "   Trip ID       Destination Start date   End date  Duration (days)  \\\n",
              "0        1        London, UK   5/1/2023   5/8/2023              7.0   \n",
              "1        2  Phuket, Thailand  6/15/2023  6/20/2023              5.0   \n",
              "2        3   Bali, Indonesia   7/1/2023   7/8/2023              7.0   \n",
              "3        4     New York, USA  8/15/2023  8/29/2023             14.0   \n",
              "4        5      Tokyo, Japan  9/10/2023  9/17/2023              7.0   \n",
              "\n",
              "   Traveler name  Traveler age Traveler gender Traveler nationality  \\\n",
              "0     John Smith          35.0            Male             American   \n",
              "1       Jane Doe          28.0          Female             Canadian   \n",
              "2      David Lee          45.0            Male               Korean   \n",
              "3  Sarah Johnson          29.0          Female              British   \n",
              "4     Kim Nguyen          26.0          Female           Vietnamese   \n",
              "\n",
              "  Accommodation type Accommodation cost Transportation type  \\\n",
              "0              Hotel               1200              Flight   \n",
              "1             Resort                800              Flight   \n",
              "2              Villa               1000              Flight   \n",
              "3              Hotel               2000              Flight   \n",
              "4             Airbnb                700               Train   \n",
              "\n",
              "  Transportation cost  \n",
              "0                 600  \n",
              "1                 500  \n",
              "2                 700  \n",
              "3                1000  \n",
              "4                 200  "
            ],
            "text/html": [
              "\n",
              "  <div id=\"df-8c958240-034b-4b84-971e-16f4ae521de0\">\n",
              "    <div class=\"colab-df-container\">\n",
              "      <div>\n",
              "<style scoped>\n",
              "    .dataframe tbody tr th:only-of-type {\n",
              "        vertical-align: middle;\n",
              "    }\n",
              "\n",
              "    .dataframe tbody tr th {\n",
              "        vertical-align: top;\n",
              "    }\n",
              "\n",
              "    .dataframe thead th {\n",
              "        text-align: right;\n",
              "    }\n",
              "</style>\n",
              "<table border=\"1\" class=\"dataframe\">\n",
              "  <thead>\n",
              "    <tr style=\"text-align: right;\">\n",
              "      <th></th>\n",
              "      <th>Trip ID</th>\n",
              "      <th>Destination</th>\n",
              "      <th>Start date</th>\n",
              "      <th>End date</th>\n",
              "      <th>Duration (days)</th>\n",
              "      <th>Traveler name</th>\n",
              "      <th>Traveler age</th>\n",
              "      <th>Traveler gender</th>\n",
              "      <th>Traveler nationality</th>\n",
              "      <th>Accommodation type</th>\n",
              "      <th>Accommodation cost</th>\n",
              "      <th>Transportation type</th>\n",
              "      <th>Transportation cost</th>\n",
              "    </tr>\n",
              "  </thead>\n",
              "  <tbody>\n",
              "    <tr>\n",
              "      <th>0</th>\n",
              "      <td>1</td>\n",
              "      <td>London, UK</td>\n",
              "      <td>5/1/2023</td>\n",
              "      <td>5/8/2023</td>\n",
              "      <td>7.0</td>\n",
              "      <td>John Smith</td>\n",
              "      <td>35.0</td>\n",
              "      <td>Male</td>\n",
              "      <td>American</td>\n",
              "      <td>Hotel</td>\n",
              "      <td>1200</td>\n",
              "      <td>Flight</td>\n",
              "      <td>600</td>\n",
              "    </tr>\n",
              "    <tr>\n",
              "      <th>1</th>\n",
              "      <td>2</td>\n",
              "      <td>Phuket, Thailand</td>\n",
              "      <td>6/15/2023</td>\n",
              "      <td>6/20/2023</td>\n",
              "      <td>5.0</td>\n",
              "      <td>Jane Doe</td>\n",
              "      <td>28.0</td>\n",
              "      <td>Female</td>\n",
              "      <td>Canadian</td>\n",
              "      <td>Resort</td>\n",
              "      <td>800</td>\n",
              "      <td>Flight</td>\n",
              "      <td>500</td>\n",
              "    </tr>\n",
              "    <tr>\n",
              "      <th>2</th>\n",
              "      <td>3</td>\n",
              "      <td>Bali, Indonesia</td>\n",
              "      <td>7/1/2023</td>\n",
              "      <td>7/8/2023</td>\n",
              "      <td>7.0</td>\n",
              "      <td>David Lee</td>\n",
              "      <td>45.0</td>\n",
              "      <td>Male</td>\n",
              "      <td>Korean</td>\n",
              "      <td>Villa</td>\n",
              "      <td>1000</td>\n",
              "      <td>Flight</td>\n",
              "      <td>700</td>\n",
              "    </tr>\n",
              "    <tr>\n",
              "      <th>3</th>\n",
              "      <td>4</td>\n",
              "      <td>New York, USA</td>\n",
              "      <td>8/15/2023</td>\n",
              "      <td>8/29/2023</td>\n",
              "      <td>14.0</td>\n",
              "      <td>Sarah Johnson</td>\n",
              "      <td>29.0</td>\n",
              "      <td>Female</td>\n",
              "      <td>British</td>\n",
              "      <td>Hotel</td>\n",
              "      <td>2000</td>\n",
              "      <td>Flight</td>\n",
              "      <td>1000</td>\n",
              "    </tr>\n",
              "    <tr>\n",
              "      <th>4</th>\n",
              "      <td>5</td>\n",
              "      <td>Tokyo, Japan</td>\n",
              "      <td>9/10/2023</td>\n",
              "      <td>9/17/2023</td>\n",
              "      <td>7.0</td>\n",
              "      <td>Kim Nguyen</td>\n",
              "      <td>26.0</td>\n",
              "      <td>Female</td>\n",
              "      <td>Vietnamese</td>\n",
              "      <td>Airbnb</td>\n",
              "      <td>700</td>\n",
              "      <td>Train</td>\n",
              "      <td>200</td>\n",
              "    </tr>\n",
              "  </tbody>\n",
              "</table>\n",
              "</div>\n",
              "      <button class=\"colab-df-convert\" onclick=\"convertToInteractive('df-8c958240-034b-4b84-971e-16f4ae521de0')\"\n",
              "              title=\"Convert this dataframe to an interactive table.\"\n",
              "              style=\"display:none;\">\n",
              "        \n",
              "  <svg xmlns=\"http://www.w3.org/2000/svg\" height=\"24px\"viewBox=\"0 0 24 24\"\n",
              "       width=\"24px\">\n",
              "    <path d=\"M0 0h24v24H0V0z\" fill=\"none\"/>\n",
              "    <path d=\"M18.56 5.44l.94 2.06.94-2.06 2.06-.94-2.06-.94-.94-2.06-.94 2.06-2.06.94zm-11 1L8.5 8.5l.94-2.06 2.06-.94-2.06-.94L8.5 2.5l-.94 2.06-2.06.94zm10 10l.94 2.06.94-2.06 2.06-.94-2.06-.94-.94-2.06-.94 2.06-2.06.94z\"/><path d=\"M17.41 7.96l-1.37-1.37c-.4-.4-.92-.59-1.43-.59-.52 0-1.04.2-1.43.59L10.3 9.45l-7.72 7.72c-.78.78-.78 2.05 0 2.83L4 21.41c.39.39.9.59 1.41.59.51 0 1.02-.2 1.41-.59l7.78-7.78 2.81-2.81c.8-.78.8-2.07 0-2.86zM5.41 20L4 18.59l7.72-7.72 1.47 1.35L5.41 20z\"/>\n",
              "  </svg>\n",
              "      </button>\n",
              "      \n",
              "  <style>\n",
              "    .colab-df-container {\n",
              "      display:flex;\n",
              "      flex-wrap:wrap;\n",
              "      gap: 12px;\n",
              "    }\n",
              "\n",
              "    .colab-df-convert {\n",
              "      background-color: #E8F0FE;\n",
              "      border: none;\n",
              "      border-radius: 50%;\n",
              "      cursor: pointer;\n",
              "      display: none;\n",
              "      fill: #1967D2;\n",
              "      height: 32px;\n",
              "      padding: 0 0 0 0;\n",
              "      width: 32px;\n",
              "    }\n",
              "\n",
              "    .colab-df-convert:hover {\n",
              "      background-color: #E2EBFA;\n",
              "      box-shadow: 0px 1px 2px rgba(60, 64, 67, 0.3), 0px 1px 3px 1px rgba(60, 64, 67, 0.15);\n",
              "      fill: #174EA6;\n",
              "    }\n",
              "\n",
              "    [theme=dark] .colab-df-convert {\n",
              "      background-color: #3B4455;\n",
              "      fill: #D2E3FC;\n",
              "    }\n",
              "\n",
              "    [theme=dark] .colab-df-convert:hover {\n",
              "      background-color: #434B5C;\n",
              "      box-shadow: 0px 1px 3px 1px rgba(0, 0, 0, 0.15);\n",
              "      filter: drop-shadow(0px 1px 2px rgba(0, 0, 0, 0.3));\n",
              "      fill: #FFFFFF;\n",
              "    }\n",
              "  </style>\n",
              "\n",
              "      <script>\n",
              "        const buttonEl =\n",
              "          document.querySelector('#df-8c958240-034b-4b84-971e-16f4ae521de0 button.colab-df-convert');\n",
              "        buttonEl.style.display =\n",
              "          google.colab.kernel.accessAllowed ? 'block' : 'none';\n",
              "\n",
              "        async function convertToInteractive(key) {\n",
              "          const element = document.querySelector('#df-8c958240-034b-4b84-971e-16f4ae521de0');\n",
              "          const dataTable =\n",
              "            await google.colab.kernel.invokeFunction('convertToInteractive',\n",
              "                                                     [key], {});\n",
              "          if (!dataTable) return;\n",
              "\n",
              "          const docLinkHtml = 'Like what you see? Visit the ' +\n",
              "            '<a target=\"_blank\" href=https://colab.research.google.com/notebooks/data_table.ipynb>data table notebook</a>'\n",
              "            + ' to learn more about interactive tables.';\n",
              "          element.innerHTML = '';\n",
              "          dataTable['output_type'] = 'display_data';\n",
              "          await google.colab.output.renderOutput(dataTable, element);\n",
              "          const docLink = document.createElement('div');\n",
              "          docLink.innerHTML = docLinkHtml;\n",
              "          element.appendChild(docLink);\n",
              "        }\n",
              "      </script>\n",
              "    </div>\n",
              "  </div>\n",
              "  "
            ]
          },
          "metadata": {},
          "execution_count": 174
        }
      ]
    },
    {
      "cell_type": "markdown",
      "source": [
        "# Descriptive Analysis"
      ],
      "metadata": {
        "id": "X6kGO6YTWFFr"
      }
    },
    {
      "cell_type": "markdown",
      "source": [
        "## Duration"
      ],
      "metadata": {
        "id": "Qc2uxmmw6hbi"
      }
    },
    {
      "cell_type": "code",
      "source": [
        "sns.boxplot(y=\"Duration (days)\",data=travel)"
      ],
      "metadata": {
        "colab": {
          "base_uri": "https://localhost:8080/",
          "height": 269
        },
        "id": "Otc336IK6XJ2",
        "outputId": "eeffce0f-d1ac-44bc-a486-c8270b516f50"
      },
      "execution_count": 175,
      "outputs": [
        {
          "output_type": "execute_result",
          "data": {
            "text/plain": [
              "<AxesSubplot:ylabel='Duration (days)'>"
            ]
          },
          "metadata": {},
          "execution_count": 175
        },
        {
          "output_type": "display_data",
          "data": {
            "text/plain": [
              "<Figure size 432x288 with 1 Axes>"
            ],
            "image/png": "[encoded data removed]"
          },
          "metadata": {
            "needs_background": "light"
          }
        }
      ]
    },
    {
      "cell_type": "markdown",
      "source": [
        "From the above boxplot, we can infer the following:-\n",
        "\n",
        "\n",
        "\n",
        "1.   Min. number of days of vaction = 6\n",
        "2.   Vacation period < 6days is very rare (Outlier)\n",
        "3.   75% of the vaction periods <=8 days\n",
        "4.   atmost number of days of vacation in max. number of cases = 10\n",
        "5.   This implies, vacation period > 10 days is observed to be very rare. (Outliers)\n",
        "\n"
      ],
      "metadata": {
        "id": "FFySoxE666RX"
      }
    },
    {
      "cell_type": "markdown",
      "source": [
        "## Age"
      ],
      "metadata": {
        "id": "YYcLNhM076HL"
      }
    },
    {
      "cell_type": "code",
      "source": [
        "sns.boxplot(y='Traveler age',data=travel)"
      ],
      "metadata": {
        "colab": {
          "base_uri": "https://localhost:8080/",
          "height": 269
        },
        "id": "hpfEs-qA77Qo",
        "outputId": "ed5e837d-c3f2-41ee-a154-4fc156c1d27d"
      },
      "execution_count": 176,
      "outputs": [
        {
          "output_type": "execute_result",
          "data": {
            "text/plain": [
              "<AxesSubplot:ylabel='Traveler age'>"
            ]
          },
          "metadata": {},
          "execution_count": 176
        },
        {
          "output_type": "display_data",
          "data": {
            "text/plain": [
              "<Figure size 432x288 with 1 Axes>"
            ],
            "image/png": "[encoded data removed]"
          },
          "metadata": {
            "needs_background": "light"
          }
        }
      ]
    },
    {
      "cell_type": "markdown",
      "source": [
        "From the above boxplot, the following can be ineferred:- \n",
        "1. minimum age of a traveler is 20\n",
        "2. 25 % of the travelers are in their late 20s.\n",
        "3. 50 % of the travelers are either below 30 or in their early 30s.\n",
        "4. 75% of the travelers are below 40.\n",
        "5. Most frequent upper limit of the travelers is early 50s.\n",
        "6. Travelers above 50 are super rare. (Outliers)"
      ],
      "metadata": {
        "id": "Q2DD-cRo8E9a"
      }
    },
    {
      "cell_type": "markdown",
      "source": [
        "## Gender"
      ],
      "metadata": {
        "id": "S8vH5BL7BK0q"
      }
    },
    {
      "cell_type": "code",
      "source": [
        "travel['Traveler gender'].value_counts()"
      ],
      "metadata": {
        "colab": {
          "base_uri": "https://localhost:8080/"
        },
        "id": "SFNXlQ-UBirx",
        "outputId": "2696ed84-dce4-40bc-e1a9-dbc2eb962d26"
      },
      "execution_count": 177,
      "outputs": [
        {
          "output_type": "execute_result",
          "data": {
            "text/plain": [
              "Female    70\n",
              "Male      67\n",
              "Name: Traveler gender, dtype: int64"
            ]
          },
          "metadata": {},
          "execution_count": 177
        }
      ]
    },
    {
      "cell_type": "code",
      "source": [
        "pie(travel['Traveler gender'].value_counts(),labels=['Female','Male'],colors=['Yellow','Lightgreen'],autopct='%1.1f%%')\n"
      ],
      "metadata": {
        "colab": {
          "base_uri": "https://localhost:8080/",
          "height": 352
        },
        "id": "8vRVEQXoBKds",
        "outputId": "5072ebb9-0d8f-42b9-c4fc-2107de327447"
      },
      "execution_count": 178,
      "outputs": [
        {
          "output_type": "execute_result",
          "data": {
            "text/plain": [
              "([<matplotlib.patches.Wedge at 0x7ff9e55700a0>,\n",
              "  <matplotlib.patches.Wedge at 0x7ff9e55707f0>],\n",
              " [Text(-0.03782920912715365, 1.0993493307119508, 'Female'),\n",
              "  Text(0.037829209127153755, -1.0993493307119508, 'Male')],\n",
              " [Text(-0.020634114069356533, 0.5996450894792459, '51.1%'),\n",
              "  Text(0.020634114069356592, -0.5996450894792459, '48.9%')])"
            ]
          },
          "metadata": {},
          "execution_count": 178
        },
        {
          "output_type": "display_data",
          "data": {
            "text/plain": [
              "<Figure size 432x288 with 1 Axes>"
            ],
            "image/png": "[encoded data removed]"
          },
          "metadata": {}
        }
      ]
    },
    {
      "cell_type": "markdown",
      "source": [
        "From the above pie chart, females constitute the maximum percentage of the travelers."
      ],
      "metadata": {
        "id": "ovQRGEbEBh4G"
      }
    },
    {
      "cell_type": "markdown",
      "source": [
        "## Nationality"
      ],
      "metadata": {
        "id": "DtKfEH40B12K"
      }
    },
    {
      "cell_type": "code",
      "source": [
        "p = list(travel['Traveler nationality'].unique())\n",
        "print(p)\n",
        "print(len(p))                                            #There are 42 different nationalities"
      ],
      "metadata": {
        "colab": {
          "base_uri": "https://localhost:8080/"
        },
        "id": "6sJiptqwB3Yc",
        "outputId": "977f37e1-ef39-4669-e0d9-d9c80c1a1832"
      },
      "execution_count": 179,
      "outputs": [
        {
          "output_type": "stream",
          "name": "stdout",
          "text": [
            "['American', 'Canadian', 'Korean', 'British', 'Vietnamese', 'Australian', 'Brazilian', 'Dutch', 'Emirati', 'Mexican', 'Spanish', 'Chinese', 'German', 'Moroccan', 'Scottish', 'Japanese', 'Italian', 'Indian', 'South Korean', 'French', nan, 'South African', 'Taiwanese', 'Indonesian', 'USA', 'Canada', 'South Korea', 'UK', 'China', 'Taiwan', 'Japan', 'Spain', 'Brazil', 'Germany', 'Hong Kong', 'United Kingdom', 'Singapore', 'Italy', 'Greece', 'United Arab Emirates', 'Cambodia', 'New Zealander']\n",
            "42\n"
          ]
        }
      ]
    },
    {
      "cell_type": "code",
      "source": [
        "p = dict(travel['Traveler nationality'].value_counts())\n",
        "print(p)"
      ],
      "metadata": {
        "colab": {
          "base_uri": "https://localhost:8080/"
        },
        "id": "-R0t3yg3COXx",
        "outputId": "60477f20-8615-406c-abb3-8d49c199f0a4"
      },
      "execution_count": 180,
      "outputs": [
        {
          "output_type": "stream",
          "name": "stdout",
          "text": [
            "{'American': 24, 'Korean': 13, 'British': 12, 'Canadian': 9, 'Australian': 8, 'Spanish': 7, 'Chinese': 7, 'Italian': 4, 'Brazilian': 4, 'Indian': 4, 'Vietnamese': 3, 'South Korea': 3, 'South Korean': 3, 'Taiwan': 2, 'Canada': 2, 'USA': 2, 'South African': 2, 'Japanese': 2, 'Mexican': 2, 'Emirati': 2, 'Dutch': 2, 'Brazil': 1, 'Cambodia': 1, 'United Arab Emirates': 1, 'Greece': 1, 'Italy': 1, 'Singapore': 1, 'United Kingdom': 1, 'Hong Kong': 1, 'Germany': 1, 'Japan': 1, 'Spain': 1, 'Scottish': 1, 'China': 1, 'UK': 1, 'German': 1, 'Indonesian': 1, 'Taiwanese': 1, 'Moroccan': 1, 'French': 1, 'New Zealander': 1}\n"
          ]
        }
      ]
    },
    {
      "cell_type": "code",
      "source": [
        "# Top 5 nationalities where most tourists come from as per the dataset\n",
        "top5_names = []\n",
        "top5_count = []\n",
        "for i in p:\n",
        "  top5_names.append(i)\n",
        "  top5_count.append(p[i])\n",
        "\n",
        "top5_names = top5_names[:5]\n",
        "top5_count = top5_count[:5]"
      ],
      "metadata": {
        "id": "ttzhqYgWFKdI"
      },
      "execution_count": 181,
      "outputs": []
    },
    {
      "cell_type": "code",
      "source": [
        "print(top5_names)"
      ],
      "metadata": {
        "colab": {
          "base_uri": "https://localhost:8080/"
        },
        "id": "qMRrvgAxGPbm",
        "outputId": "49e2f5e9-37ef-4831-e5d0-ae06d1bef850"
      },
      "execution_count": 182,
      "outputs": [
        {
          "output_type": "stream",
          "name": "stdout",
          "text": [
            "['American', 'Korean', 'British', 'Canadian', 'Australian']\n"
          ]
        }
      ]
    },
    {
      "cell_type": "code",
      "source": [
        "print(top5_count)"
      ],
      "metadata": {
        "colab": {
          "base_uri": "https://localhost:8080/"
        },
        "id": "alycGHLXGPQB",
        "outputId": "5f73e5b4-86fe-4f90-a3ea-465a139a793d"
      },
      "execution_count": 183,
      "outputs": [
        {
          "output_type": "stream",
          "name": "stdout",
          "text": [
            "[24, 13, 12, 9, 8]\n"
          ]
        }
      ]
    },
    {
      "cell_type": "code",
      "source": [
        "#Plotting a pie chart\n",
        "pie(top5_count,labels=top5_names,colors=['red','Lightblue','Lightgreen','orange','yellow'],autopct='%1.1f%%',startangle=25)"
      ],
      "metadata": {
        "colab": {
          "base_uri": "https://localhost:8080/",
          "height": 508
        },
        "id": "z3EoGYGbGWFV",
        "outputId": "a3028f2c-4104-4428-837a-90ce12513d5f"
      },
      "execution_count": 184,
      "outputs": [
        {
          "output_type": "execute_result",
          "data": {
            "text/plain": [
              "([<matplotlib.patches.Wedge at 0x7ff9e5537370>,\n",
              "  <matplotlib.patches.Wedge at 0x7ff9e5537970>,\n",
              "  <matplotlib.patches.Wedge at 0x7ff9e55450d0>,\n",
              "  <matplotlib.patches.Wedge at 0x7ff9e55457f0>,\n",
              "  <matplotlib.patches.Wedge at 0x7ff9e5545f10>],\n",
              " [Text(-0.008726592170924629, 1.0999653842685608, 'American'),\n",
              "  Text(-1.0784360470054033, -0.21673876561279865, 'Korean'),\n",
              "  Text(-0.19960083130270373, -1.0817391127916518, 'British'),\n",
              "  Text(0.8021045160619229, -0.7527471988078526, 'Canadian'),\n",
              "  Text(1.098304259942428, 0.061055324029243754, 'Australian')],\n",
              " [Text(-0.004759959365958888, 0.5999811186919422, '36.4%'),\n",
              "  Text(-0.588237843821129, -0.11822114487970833, '19.7%'),\n",
              "  Text(-0.10887318071056566, -0.5900395160681736, '18.2%'),\n",
              "  Text(0.43751155421559423, -0.41058938116791954, '13.6%'),\n",
              "  Text(0.5990750508776879, 0.03330290401595114, '12.1%')])"
            ]
          },
          "metadata": {},
          "execution_count": 184
        },
        {
          "output_type": "display_data",
          "data": {
            "text/plain": [
              "<Figure size 432x288 with 1 Axes>"
            ],
            "image/png": "[encoded data removed]"
          },
          "metadata": {}
        }
      ]
    },
    {
      "cell_type": "markdown",
      "source": [
        "## Accomodation type"
      ],
      "metadata": {
        "id": "pP-mu-k5HUhK"
      }
    },
    {
      "cell_type": "code",
      "source": [
        "plt.figure(figsize = (20,5))\n",
        "ax=sns.countplot(x='Accommodation type', data=travel)\n",
        "sns.countplot(travel['Accommodation type'])\n",
        "for p in ax.patches:\n",
        "    ax.annotate(f'{p.get_height()}', (p.get_x()+0.4, p.get_height()), ha='center', va='bottom', color='black', size=12)\n",
        "plt.show()\n"
      ],
      "metadata": {
        "colab": {
          "base_uri": "https://localhost:8080/",
          "height": 389
        },
        "id": "hvmdkBgZHvlH",
        "outputId": "c11c9825-9bf2-4bbc-a8ea-16a7b48d5560"
      },
      "execution_count": 264,
      "outputs": [
        {
          "output_type": "stream",
          "name": "stderr",
          "text": [
            "/usr/local/lib/python3.8/dist-packages/seaborn/_decorators.py:36: FutureWarning: Pass the following variable as a keyword arg: x. From version 0.12, the only valid positional argument will be `data`, and passing other arguments without an explicit keyword will result in an error or misinterpretation.\n",
            "  warnings.warn(\n"
          ]
        },
        {
          "output_type": "display_data",
          "data": {
            "text/plain": [
              "<Figure size 1440x360 with 1 Axes>"
            ],
            "image/png": "[encoded data removed]"
          },
          "metadata": {
            "needs_background": "light"
          }
        }
      ]
    },
    {
      "cell_type": "code",
      "source": [
        "h = dict(travel['Accommodation type'].value_counts())\n",
        "print(h)"
      ],
      "metadata": {
        "colab": {
          "base_uri": "https://localhost:8080/"
        },
        "id": "okIqeq2mJVnM",
        "outputId": "522d818a-b255-40f2-835a-7bab4036c95d"
      },
      "execution_count": 186,
      "outputs": [
        {
          "output_type": "stream",
          "name": "stdout",
          "text": [
            "{'Hotel': 60, 'Airbnb': 30, 'Hostel': 24, 'Resort': 14, 'Villa': 4, 'Vacation rental': 3, 'Riad': 1, 'Guesthouse': 1}\n"
          ]
        }
      ]
    },
    {
      "cell_type": "code",
      "source": [
        "acc_type_name = list(h.keys())\n",
        "print(acc_type_name)"
      ],
      "metadata": {
        "colab": {
          "base_uri": "https://localhost:8080/"
        },
        "id": "WzUxnIuLJVes",
        "outputId": "ea11b4b8-af21-4cf0-80c8-118e9470ceb1"
      },
      "execution_count": 187,
      "outputs": [
        {
          "output_type": "stream",
          "name": "stdout",
          "text": [
            "['Hotel', 'Airbnb', 'Hostel', 'Resort', 'Villa', 'Vacation rental', 'Riad', 'Guesthouse']\n"
          ]
        }
      ]
    },
    {
      "cell_type": "code",
      "source": [
        "acc_type_freq = list(h.values())\n",
        "print(acc_type_freq)"
      ],
      "metadata": {
        "colab": {
          "base_uri": "https://localhost:8080/"
        },
        "id": "exThy2XHJx15",
        "outputId": "3cb388b4-8219-4eb1-8ff6-7c6a66dd0d48"
      },
      "execution_count": 188,
      "outputs": [
        {
          "output_type": "stream",
          "name": "stdout",
          "text": [
            "[60, 30, 24, 14, 4, 3, 1, 1]\n"
          ]
        }
      ]
    },
    {
      "cell_type": "code",
      "source": [
        "#Their percentages visualized\n",
        "plt.figure(figsize = (12,12))\n",
        "pie(acc_type_freq,labels=acc_type_name,colors=['Blue','Red','Violet','Orange','Green','Brown','Pink','Grey'],autopct = \"%1.1f%%\",startangle=25)"
      ],
      "metadata": {
        "colab": {
          "base_uri": "https://localhost:8080/",
          "height": 1000
        },
        "id": "arESnNnqJ3P2",
        "outputId": "d2b2af61-ef34-429e-ab0d-ade4280e6080"
      },
      "execution_count": 189,
      "outputs": [
        {
          "output_type": "execute_result",
          "data": {
            "text/plain": [
              "([<matplotlib.patches.Wedge at 0x7ff9e5488070>,\n",
              "  <matplotlib.patches.Wedge at 0x7ff9e5488670>,\n",
              "  <matplotlib.patches.Wedge at 0x7ff9e5488d90>,\n",
              "  <matplotlib.patches.Wedge at 0x7ff9e54954f0>,\n",
              "  <matplotlib.patches.Wedge at 0x7ff9e5495c10>,\n",
              "  <matplotlib.patches.Wedge at 0x7ff9e5420370>,\n",
              "  <matplotlib.patches.Wedge at 0x7ff9e5420a90>,\n",
              "  <matplotlib.patches.Wedge at 0x7ff9e54301f0>],\n",
              " [Text(-0.26298559372475144, 1.0681004529037708, 'Hotel'),\n",
              "  Text(-0.8164269886747532, -0.7371885594361016, 'Airbnb'),\n",
              "  Text(0.43032024377278416, -1.0123361535573703, 'Hostel'),\n",
              "  Text(1.0516891105642197, -0.32241280173194203, 'Resort'),\n",
              "  Text(1.0926971451510459, 0.12654228138750462, 'Villa'),\n",
              "  Text(1.0584245159207377, 0.2995622541275061, 'Vacation rental'),\n",
              "  Text(1.026536157672604, 0.39525120745010645, 'Riad'),\n",
              "  Text(1.0073358268996213, 0.44189878008935046, 'Guesthouse')],\n",
              " [Text(-0.14344668748622805, 0.5826002470384204, '43.8%'),\n",
              "  Text(-0.4453238120044108, -0.4021028506015099, '21.9%'),\n",
              "  Text(0.23472013296697314, -0.5521833564858383, '17.5%'),\n",
              "  Text(0.5736486057623016, -0.17586152821742293, '10.2%'),\n",
              "  Text(0.5960166246278431, 0.06902306257500251, '2.9%'),\n",
              "  Text(0.5773224632294932, 0.16339759316045785, '2.2%'),\n",
              "  Text(0.5599288132759657, 0.21559156770005802, '0.7%'),\n",
              "  Text(0.5494559055816116, 0.24103569823055476, '0.7%')])"
            ]
          },
          "metadata": {},
          "execution_count": 189
        },
        {
          "output_type": "display_data",
          "data": {
            "text/plain": [
              "<Figure size 864x864 with 1 Axes>"
            ],
            "image/png": "[encoded data removed]"
          },
          "metadata": {}
        }
      ]
    },
    {
      "cell_type": "markdown",
      "source": [
        "## Accommodation cost"
      ],
      "metadata": {
        "id": "T92UDdTCLZVt"
      }
    },
    {
      "cell_type": "code",
      "source": [
        "print(travel['Accommodation cost'].unique())"
      ],
      "metadata": {
        "colab": {
          "base_uri": "https://localhost:8080/"
        },
        "id": "TQz0a-sZLbt3",
        "outputId": "429095f6-7dc5-4082-81c9-ddf542cb61f6"
      },
      "execution_count": 190,
      "outputs": [
        {
          "output_type": "stream",
          "name": "stdout",
          "text": [
            "['1200' '800' '1000' '2000' '700' '1500' '500' '900' '2500' '3000' '1400'\n",
            " '600' '$900 ' '$1,500 ' '$1,200 ' '$600 ' '$1,000 ' '$700 ' '$400 '\n",
            " '$1,400 ' '$2,000 ' '$1,100 ' '$800 ' '$200 ' '$150 ' '$500 ' '$180 '\n",
            " '$350 ' '2200' '400' '1100' '300' '1300' '1800' nan '500 USD' '1000 USD'\n",
            " '800 USD' '1200 USD' '400 USD' '600 USD' '900 USD' '1500 USD' '700 USD'\n",
            " '100' '300 USD' '200 USD' '$300 ' '200' '5000' '7000' '6000' '4000'\n",
            " '8000']\n"
          ]
        }
      ]
    },
    {
      "cell_type": "markdown",
      "source": [
        "Clearly,this column requires cleaning. All the values are strings. They should be converted to integers after symbols and USD is removed from them.\n"
      ],
      "metadata": {
        "id": "i7Jmc3ozMY3_"
      }
    },
    {
      "cell_type": "code",
      "source": [
        "#Defined a function that does the necessary cleaning\n",
        "def clean(a):\n",
        "  if \"$\" in str(a):\n",
        "    a = a.replace(\"$\",\"\")\n",
        "  if \"USD\" in str(a):\n",
        "    a = a.replace(\"USD\",\"\")\n",
        "  if \",\" in str(a):\n",
        "    a = a.replace(\",\",\"\")\n",
        "  if str(a)==\"nan\":\n",
        "    a=0\n",
        "  return int(a) \n",
        "\n"
      ],
      "metadata": {
        "id": "e80OMEAORfHy"
      },
      "execution_count": 191,
      "outputs": []
    },
    {
      "cell_type": "code",
      "source": [
        "acc_cost = list()\n",
        "for i in travel['Accommodation cost']:\n",
        "  acc_cost.append(clean(i))\n",
        "\n",
        "print(acc_cost)"
      ],
      "metadata": {
        "colab": {
          "base_uri": "https://localhost:8080/"
        },
        "id": "qOE5ZL8RaIXx",
        "outputId": "08bd9ce2-443f-48c6-aa89-57edd0abf06d"
      },
      "execution_count": 192,
      "outputs": [
        {
          "output_type": "stream",
          "name": "stdout",
          "text": [
            "[1200, 800, 1000, 2000, 700, 1500, 500, 900, 1200, 2500, 1000, 800, 3000, 1400, 600, 900, 900, 1500, 1200, 1200, 600, 1000, 700, 400, 1400, 2000, 1100, 800, 200, 600, 1000, 150, 400, 700, 500, 180, 900, 350, 1400, 800, 500, 2200, 1200, 900, 600, 1500, 500, 400, 1100, 1200, 500, 900, 1400, 800, 400, 1000, 700, 500, 1200, 800, 1200, 400, 800, 1500, 900, 2200, 1100, 1000, 300, 1300, 1800, 0, 500, 1000, 800, 1200, 400, 600, 900, 400, 1500, 700, 100, 800, 500, 1200, 900, 700, 300, 1000, 400, 200, 1500, 800, 500, 400, 200, 600, 800, 700, 300, 500, 900, 1200, 600, 1000, 800, 1200, 1500, 300, 900, 2000, 1100, 1000, 1500, 200, 1000, 1200, 800, 900, 500, 1300, 700, 1200, 900, 400, 800, 0, 5000, 7000, 3000, 6000, 4000, 8000, 2500, 5000, 2000, 6000, 7000]\n"
          ]
        }
      ]
    },
    {
      "cell_type": "code",
      "source": [
        "data = {'Accommodation Cost':acc_cost}\n",
        "col1 = pd.DataFrame(data)\n",
        "Travel = travel.join(col1)"
      ],
      "metadata": {
        "id": "CUSQnFJYg3lc"
      },
      "execution_count": 196,
      "outputs": []
    },
    {
      "cell_type": "code",
      "source": [
        "#drop Accommodation cost\n",
        "Travel.drop(['Accommodation cost'],axis=\"columns\",inplace=True)"
      ],
      "metadata": {
        "colab": {
          "base_uri": "https://localhost:8080/",
          "height": 328
        },
        "id": "93vMT4R9hezI",
        "outputId": "3fd45942-5427-498e-e97f-1d7e4ad021a7"
      },
      "execution_count": 197,
      "outputs": [
        {
          "output_type": "error",
          "ename": "KeyError",
          "evalue": "ignored",
          "traceback": [
            "\u001b[0;31m---------------------------------------------------------------------------\u001b[0m",
            "\u001b[0;31mKeyError\u001b[0m                                  Traceback (most recent call last)",
            "\u001b[0;32m<ipython-input-197-6d236d02c875>\u001b[0m in \u001b[0;36m<module>\u001b[0;34m\u001b[0m\n\u001b[1;32m      1\u001b[0m \u001b[0;31m#drop Accommodation cost\u001b[0m\u001b[0;34m\u001b[0m\u001b[0;34m\u001b[0m\u001b[0;34m\u001b[0m\u001b[0m\n\u001b[0;32m----> 2\u001b[0;31m \u001b[0mTravel\u001b[0m\u001b[0;34m.\u001b[0m\u001b[0mdrop\u001b[0m\u001b[0;34m(\u001b[0m\u001b[0;34m[\u001b[0m\u001b[0;34m'Accommodation cost'\u001b[0m\u001b[0;34m]\u001b[0m\u001b[0;34m,\u001b[0m\u001b[0maxis\u001b[0m\u001b[0;34m=\u001b[0m\u001b[0;34m\"columns\"\u001b[0m\u001b[0;34m,\u001b[0m\u001b[0minplace\u001b[0m\u001b[0;34m=\u001b[0m\u001b[0;32mTrue\u001b[0m\u001b[0;34m)\u001b[0m\u001b[0;34m\u001b[0m\u001b[0;34m\u001b[0m\u001b[0m\n\u001b[0m",
            "\u001b[0;32m/usr/local/lib/python3.8/dist-packages/pandas/util/_decorators.py\u001b[0m in \u001b[0;36mwrapper\u001b[0;34m(*args, **kwargs)\u001b[0m\n\u001b[1;32m    309\u001b[0m                     \u001b[0mstacklevel\u001b[0m\u001b[0;34m=\u001b[0m\u001b[0mstacklevel\u001b[0m\u001b[0;34m,\u001b[0m\u001b[0;34m\u001b[0m\u001b[0;34m\u001b[0m\u001b[0m\n\u001b[1;32m    310\u001b[0m                 )\n\u001b[0;32m--> 311\u001b[0;31m             \u001b[0;32mreturn\u001b[0m \u001b[0mfunc\u001b[0m\u001b[0;34m(\u001b[0m\u001b[0;34m*\u001b[0m\u001b[0margs\u001b[0m\u001b[0;34m,\u001b[0m \u001b[0;34m**\u001b[0m\u001b[0mkwargs\u001b[0m\u001b[0;34m)\u001b[0m\u001b[0;34m\u001b[0m\u001b[0;34m\u001b[0m\u001b[0m\n\u001b[0m\u001b[1;32m    312\u001b[0m \u001b[0;34m\u001b[0m\u001b[0m\n\u001b[1;32m    313\u001b[0m         \u001b[0;32mreturn\u001b[0m \u001b[0mwrapper\u001b[0m\u001b[0;34m\u001b[0m\u001b[0;34m\u001b[0m\u001b[0m\n",
            "\u001b[0;32m/usr/local/lib/python3.8/dist-packages/pandas/core/frame.py\u001b[0m in \u001b[0;36mdrop\u001b[0;34m(self, labels, axis, index, columns, level, inplace, errors)\u001b[0m\n\u001b[1;32m   4904\u001b[0m                 \u001b[0mweight\u001b[0m  \u001b[0;36m1.0\u001b[0m     \u001b[0;36m0.8\u001b[0m\u001b[0;34m\u001b[0m\u001b[0;34m\u001b[0m\u001b[0m\n\u001b[1;32m   4905\u001b[0m         \"\"\"\n\u001b[0;32m-> 4906\u001b[0;31m         return super().drop(\n\u001b[0m\u001b[1;32m   4907\u001b[0m             \u001b[0mlabels\u001b[0m\u001b[0;34m=\u001b[0m\u001b[0mlabels\u001b[0m\u001b[0;34m,\u001b[0m\u001b[0;34m\u001b[0m\u001b[0;34m\u001b[0m\u001b[0m\n\u001b[1;32m   4908\u001b[0m             \u001b[0maxis\u001b[0m\u001b[0;34m=\u001b[0m\u001b[0maxis\u001b[0m\u001b[0;34m,\u001b[0m\u001b[0;34m\u001b[0m\u001b[0;34m\u001b[0m\u001b[0m\n",
            "\u001b[0;32m/usr/local/lib/python3.8/dist-packages/pandas/core/generic.py\u001b[0m in \u001b[0;36mdrop\u001b[0;34m(self, labels, axis, index, columns, level, inplace, errors)\u001b[0m\n\u001b[1;32m   4148\u001b[0m         \u001b[0;32mfor\u001b[0m \u001b[0maxis\u001b[0m\u001b[0;34m,\u001b[0m \u001b[0mlabels\u001b[0m \u001b[0;32min\u001b[0m \u001b[0maxes\u001b[0m\u001b[0;34m.\u001b[0m\u001b[0mitems\u001b[0m\u001b[0;34m(\u001b[0m\u001b[0;34m)\u001b[0m\u001b[0;34m:\u001b[0m\u001b[0;34m\u001b[0m\u001b[0;34m\u001b[0m\u001b[0m\n\u001b[1;32m   4149\u001b[0m             \u001b[0;32mif\u001b[0m \u001b[0mlabels\u001b[0m \u001b[0;32mis\u001b[0m \u001b[0;32mnot\u001b[0m \u001b[0;32mNone\u001b[0m\u001b[0;34m:\u001b[0m\u001b[0;34m\u001b[0m\u001b[0;34m\u001b[0m\u001b[0m\n\u001b[0;32m-> 4150\u001b[0;31m                 \u001b[0mobj\u001b[0m \u001b[0;34m=\u001b[0m \u001b[0mobj\u001b[0m\u001b[0;34m.\u001b[0m\u001b[0m_drop_axis\u001b[0m\u001b[0;34m(\u001b[0m\u001b[0mlabels\u001b[0m\u001b[0;34m,\u001b[0m \u001b[0maxis\u001b[0m\u001b[0;34m,\u001b[0m \u001b[0mlevel\u001b[0m\u001b[0;34m=\u001b[0m\u001b[0mlevel\u001b[0m\u001b[0;34m,\u001b[0m \u001b[0merrors\u001b[0m\u001b[0;34m=\u001b[0m\u001b[0merrors\u001b[0m\u001b[0;34m)\u001b[0m\u001b[0;34m\u001b[0m\u001b[0;34m\u001b[0m\u001b[0m\n\u001b[0m\u001b[1;32m   4151\u001b[0m \u001b[0;34m\u001b[0m\u001b[0m\n\u001b[1;32m   4152\u001b[0m         \u001b[0;32mif\u001b[0m \u001b[0minplace\u001b[0m\u001b[0;34m:\u001b[0m\u001b[0;34m\u001b[0m\u001b[0;34m\u001b[0m\u001b[0m\n",
            "\u001b[0;32m/usr/local/lib/python3.8/dist-packages/pandas/core/generic.py\u001b[0m in \u001b[0;36m_drop_axis\u001b[0;34m(self, labels, axis, level, errors)\u001b[0m\n\u001b[1;32m   4183\u001b[0m                 \u001b[0mnew_axis\u001b[0m \u001b[0;34m=\u001b[0m \u001b[0maxis\u001b[0m\u001b[0;34m.\u001b[0m\u001b[0mdrop\u001b[0m\u001b[0;34m(\u001b[0m\u001b[0mlabels\u001b[0m\u001b[0;34m,\u001b[0m \u001b[0mlevel\u001b[0m\u001b[0;34m=\u001b[0m\u001b[0mlevel\u001b[0m\u001b[0;34m,\u001b[0m \u001b[0merrors\u001b[0m\u001b[0;34m=\u001b[0m\u001b[0merrors\u001b[0m\u001b[0;34m)\u001b[0m\u001b[0;34m\u001b[0m\u001b[0;34m\u001b[0m\u001b[0m\n\u001b[1;32m   4184\u001b[0m             \u001b[0;32melse\u001b[0m\u001b[0;34m:\u001b[0m\u001b[0;34m\u001b[0m\u001b[0;34m\u001b[0m\u001b[0m\n\u001b[0;32m-> 4185\u001b[0;31m                 \u001b[0mnew_axis\u001b[0m \u001b[0;34m=\u001b[0m \u001b[0maxis\u001b[0m\u001b[0;34m.\u001b[0m\u001b[0mdrop\u001b[0m\u001b[0;34m(\u001b[0m\u001b[0mlabels\u001b[0m\u001b[0;34m,\u001b[0m \u001b[0merrors\u001b[0m\u001b[0;34m=\u001b[0m\u001b[0merrors\u001b[0m\u001b[0;34m)\u001b[0m\u001b[0;34m\u001b[0m\u001b[0;34m\u001b[0m\u001b[0m\n\u001b[0m\u001b[1;32m   4186\u001b[0m             \u001b[0mresult\u001b[0m \u001b[0;34m=\u001b[0m \u001b[0mself\u001b[0m\u001b[0;34m.\u001b[0m\u001b[0mreindex\u001b[0m\u001b[0;34m(\u001b[0m\u001b[0;34m**\u001b[0m\u001b[0;34m{\u001b[0m\u001b[0maxis_name\u001b[0m\u001b[0;34m:\u001b[0m \u001b[0mnew_axis\u001b[0m\u001b[0;34m}\u001b[0m\u001b[0;34m)\u001b[0m\u001b[0;34m\u001b[0m\u001b[0;34m\u001b[0m\u001b[0m\n\u001b[1;32m   4187\u001b[0m \u001b[0;34m\u001b[0m\u001b[0m\n",
            "\u001b[0;32m/usr/local/lib/python3.8/dist-packages/pandas/core/indexes/base.py\u001b[0m in \u001b[0;36mdrop\u001b[0;34m(self, labels, errors)\u001b[0m\n\u001b[1;32m   6015\u001b[0m         \u001b[0;32mif\u001b[0m \u001b[0mmask\u001b[0m\u001b[0;34m.\u001b[0m\u001b[0many\u001b[0m\u001b[0;34m(\u001b[0m\u001b[0;34m)\u001b[0m\u001b[0;34m:\u001b[0m\u001b[0;34m\u001b[0m\u001b[0;34m\u001b[0m\u001b[0m\n\u001b[1;32m   6016\u001b[0m             \u001b[0;32mif\u001b[0m \u001b[0merrors\u001b[0m \u001b[0;34m!=\u001b[0m \u001b[0;34m\"ignore\"\u001b[0m\u001b[0;34m:\u001b[0m\u001b[0;34m\u001b[0m\u001b[0;34m\u001b[0m\u001b[0m\n\u001b[0;32m-> 6017\u001b[0;31m                 \u001b[0;32mraise\u001b[0m \u001b[0mKeyError\u001b[0m\u001b[0;34m(\u001b[0m\u001b[0;34mf\"{labels[mask]} not found in axis\"\u001b[0m\u001b[0;34m)\u001b[0m\u001b[0;34m\u001b[0m\u001b[0;34m\u001b[0m\u001b[0m\n\u001b[0m\u001b[1;32m   6018\u001b[0m             \u001b[0mindexer\u001b[0m \u001b[0;34m=\u001b[0m \u001b[0mindexer\u001b[0m\u001b[0;34m[\u001b[0m\u001b[0;34m~\u001b[0m\u001b[0mmask\u001b[0m\u001b[0;34m]\u001b[0m\u001b[0;34m\u001b[0m\u001b[0;34m\u001b[0m\u001b[0m\n\u001b[1;32m   6019\u001b[0m         \u001b[0;32mreturn\u001b[0m \u001b[0mself\u001b[0m\u001b[0;34m.\u001b[0m\u001b[0mdelete\u001b[0m\u001b[0;34m(\u001b[0m\u001b[0mindexer\u001b[0m\u001b[0;34m)\u001b[0m\u001b[0;34m\u001b[0m\u001b[0;34m\u001b[0m\u001b[0m\n",
            "\u001b[0;31mKeyError\u001b[0m: \"['Accommodation cost'] not found in axis\""
          ]
        }
      ]
    },
    {
      "cell_type": "code",
      "source": [
        "Travel.head()"
      ],
      "metadata": {
        "colab": {
          "base_uri": "https://localhost:8080/",
          "height": 302
        },
        "id": "F4rEQAmphofi",
        "outputId": "b868af05-589e-4b58-b48f-5829a07e28c2"
      },
      "execution_count": 198,
      "outputs": [
        {
          "output_type": "execute_result",
          "data": {
            "text/plain": [
              "   Trip ID       Destination Start date   End date  Duration (days)  \\\n",
              "0        1        London, UK   5/1/2023   5/8/2023              7.0   \n",
              "1        2  Phuket, Thailand  6/15/2023  6/20/2023              5.0   \n",
              "2        3   Bali, Indonesia   7/1/2023   7/8/2023              7.0   \n",
              "3        4     New York, USA  8/15/2023  8/29/2023             14.0   \n",
              "4        5      Tokyo, Japan  9/10/2023  9/17/2023              7.0   \n",
              "\n",
              "   Traveler name  Traveler age Traveler gender Traveler nationality  \\\n",
              "0     John Smith          35.0            Male             American   \n",
              "1       Jane Doe          28.0          Female             Canadian   \n",
              "2      David Lee          45.0            Male               Korean   \n",
              "3  Sarah Johnson          29.0          Female              British   \n",
              "4     Kim Nguyen          26.0          Female           Vietnamese   \n",
              "\n",
              "  Accommodation type Transportation type Transportation cost  \\\n",
              "0              Hotel              Flight                 600   \n",
              "1             Resort              Flight                 500   \n",
              "2              Villa              Flight                 700   \n",
              "3              Hotel              Flight                1000   \n",
              "4             Airbnb               Train                 200   \n",
              "\n",
              "   Accommodation Cost  \n",
              "0                1200  \n",
              "1                 800  \n",
              "2                1000  \n",
              "3                2000  \n",
              "4                 700  "
            ],
            "text/html": [
              "\n",
              "  <div id=\"df-3fc36f74-b5fc-4baa-9f84-1363d11a4c82\">\n",
              "    <div class=\"colab-df-container\">\n",
              "      <div>\n",
              "<style scoped>\n",
              "    .dataframe tbody tr th:only-of-type {\n",
              "        vertical-align: middle;\n",
              "    }\n",
              "\n",
              "    .dataframe tbody tr th {\n",
              "        vertical-align: top;\n",
              "    }\n",
              "\n",
              "    .dataframe thead th {\n",
              "        text-align: right;\n",
              "    }\n",
              "</style>\n",
              "<table border=\"1\" class=\"dataframe\">\n",
              "  <thead>\n",
              "    <tr style=\"text-align: right;\">\n",
              "      <th></th>\n",
              "      <th>Trip ID</th>\n",
              "      <th>Destination</th>\n",
              "      <th>Start date</th>\n",
              "      <th>End date</th>\n",
              "      <th>Duration (days)</th>\n",
              "      <th>Traveler name</th>\n",
              "      <th>Traveler age</th>\n",
              "      <th>Traveler gender</th>\n",
              "      <th>Traveler nationality</th>\n",
              "      <th>Accommodation type</th>\n",
              "      <th>Transportation type</th>\n",
              "      <th>Transportation cost</th>\n",
              "      <th>Accommodation Cost</th>\n",
              "    </tr>\n",
              "  </thead>\n",
              "  <tbody>\n",
              "    <tr>\n",
              "      <th>0</th>\n",
              "      <td>1</td>\n",
              "      <td>London, UK</td>\n",
              "      <td>5/1/2023</td>\n",
              "      <td>5/8/2023</td>\n",
              "      <td>7.0</td>\n",
              "      <td>John Smith</td>\n",
              "      <td>35.0</td>\n",
              "      <td>Male</td>\n",
              "      <td>American</td>\n",
              "      <td>Hotel</td>\n",
              "      <td>Flight</td>\n",
              "      <td>600</td>\n",
              "      <td>1200</td>\n",
              "    </tr>\n",
              "    <tr>\n",
              "      <th>1</th>\n",
              "      <td>2</td>\n",
              "      <td>Phuket, Thailand</td>\n",
              "      <td>6/15/2023</td>\n",
              "      <td>6/20/2023</td>\n",
              "      <td>5.0</td>\n",
              "      <td>Jane Doe</td>\n",
              "      <td>28.0</td>\n",
              "      <td>Female</td>\n",
              "      <td>Canadian</td>\n",
              "      <td>Resort</td>\n",
              "      <td>Flight</td>\n",
              "      <td>500</td>\n",
              "      <td>800</td>\n",
              "    </tr>\n",
              "    <tr>\n",
              "      <th>2</th>\n",
              "      <td>3</td>\n",
              "      <td>Bali, Indonesia</td>\n",
              "      <td>7/1/2023</td>\n",
              "      <td>7/8/2023</td>\n",
              "      <td>7.0</td>\n",
              "      <td>David Lee</td>\n",
              "      <td>45.0</td>\n",
              "      <td>Male</td>\n",
              "      <td>Korean</td>\n",
              "      <td>Villa</td>\n",
              "      <td>Flight</td>\n",
              "      <td>700</td>\n",
              "      <td>1000</td>\n",
              "    </tr>\n",
              "    <tr>\n",
              "      <th>3</th>\n",
              "      <td>4</td>\n",
              "      <td>New York, USA</td>\n",
              "      <td>8/15/2023</td>\n",
              "      <td>8/29/2023</td>\n",
              "      <td>14.0</td>\n",
              "      <td>Sarah Johnson</td>\n",
              "      <td>29.0</td>\n",
              "      <td>Female</td>\n",
              "      <td>British</td>\n",
              "      <td>Hotel</td>\n",
              "      <td>Flight</td>\n",
              "      <td>1000</td>\n",
              "      <td>2000</td>\n",
              "    </tr>\n",
              "    <tr>\n",
              "      <th>4</th>\n",
              "      <td>5</td>\n",
              "      <td>Tokyo, Japan</td>\n",
              "      <td>9/10/2023</td>\n",
              "      <td>9/17/2023</td>\n",
              "      <td>7.0</td>\n",
              "      <td>Kim Nguyen</td>\n",
              "      <td>26.0</td>\n",
              "      <td>Female</td>\n",
              "      <td>Vietnamese</td>\n",
              "      <td>Airbnb</td>\n",
              "      <td>Train</td>\n",
              "      <td>200</td>\n",
              "      <td>700</td>\n",
              "    </tr>\n",
              "  </tbody>\n",
              "</table>\n",
              "</div>\n",
              "      <button class=\"colab-df-convert\" onclick=\"convertToInteractive('df-3fc36f74-b5fc-4baa-9f84-1363d11a4c82')\"\n",
              "              title=\"Convert this dataframe to an interactive table.\"\n",
              "              style=\"display:none;\">\n",
              "        \n",
              "  <svg xmlns=\"http://www.w3.org/2000/svg\" height=\"24px\"viewBox=\"0 0 24 24\"\n",
              "       width=\"24px\">\n",
              "    <path d=\"M0 0h24v24H0V0z\" fill=\"none\"/>\n",
              "    <path d=\"M18.56 5.44l.94 2.06.94-2.06 2.06-.94-2.06-.94-.94-2.06-.94 2.06-2.06.94zm-11 1L8.5 8.5l.94-2.06 2.06-.94-2.06-.94L8.5 2.5l-.94 2.06-2.06.94zm10 10l.94 2.06.94-2.06 2.06-.94-2.06-.94-.94-2.06-.94 2.06-2.06.94z\"/><path d=\"M17.41 7.96l-1.37-1.37c-.4-.4-.92-.59-1.43-.59-.52 0-1.04.2-1.43.59L10.3 9.45l-7.72 7.72c-.78.78-.78 2.05 0 2.83L4 21.41c.39.39.9.59 1.41.59.51 0 1.02-.2 1.41-.59l7.78-7.78 2.81-2.81c.8-.78.8-2.07 0-2.86zM5.41 20L4 18.59l7.72-7.72 1.47 1.35L5.41 20z\"/>\n",
              "  </svg>\n",
              "      </button>\n",
              "      \n",
              "  <style>\n",
              "    .colab-df-container {\n",
              "      display:flex;\n",
              "      flex-wrap:wrap;\n",
              "      gap: 12px;\n",
              "    }\n",
              "\n",
              "    .colab-df-convert {\n",
              "      background-color: #E8F0FE;\n",
              "      border: none;\n",
              "      border-radius: 50%;\n",
              "      cursor: pointer;\n",
              "      display: none;\n",
              "      fill: #1967D2;\n",
              "      height: 32px;\n",
              "      padding: 0 0 0 0;\n",
              "      width: 32px;\n",
              "    }\n",
              "\n",
              "    .colab-df-convert:hover {\n",
              "      background-color: #E2EBFA;\n",
              "      box-shadow: 0px 1px 2px rgba(60, 64, 67, 0.3), 0px 1px 3px 1px rgba(60, 64, 67, 0.15);\n",
              "      fill: #174EA6;\n",
              "    }\n",
              "\n",
              "    [theme=dark] .colab-df-convert {\n",
              "      background-color: #3B4455;\n",
              "      fill: #D2E3FC;\n",
              "    }\n",
              "\n",
              "    [theme=dark] .colab-df-convert:hover {\n",
              "      background-color: #434B5C;\n",
              "      box-shadow: 0px 1px 3px 1px rgba(0, 0, 0, 0.15);\n",
              "      filter: drop-shadow(0px 1px 2px rgba(0, 0, 0, 0.3));\n",
              "      fill: #FFFFFF;\n",
              "    }\n",
              "  </style>\n",
              "\n",
              "      <script>\n",
              "        const buttonEl =\n",
              "          document.querySelector('#df-3fc36f74-b5fc-4baa-9f84-1363d11a4c82 button.colab-df-convert');\n",
              "        buttonEl.style.display =\n",
              "          google.colab.kernel.accessAllowed ? 'block' : 'none';\n",
              "\n",
              "        async function convertToInteractive(key) {\n",
              "          const element = document.querySelector('#df-3fc36f74-b5fc-4baa-9f84-1363d11a4c82');\n",
              "          const dataTable =\n",
              "            await google.colab.kernel.invokeFunction('convertToInteractive',\n",
              "                                                     [key], {});\n",
              "          if (!dataTable) return;\n",
              "\n",
              "          const docLinkHtml = 'Like what you see? Visit the ' +\n",
              "            '<a target=\"_blank\" href=https://colab.research.google.com/notebooks/data_table.ipynb>data table notebook</a>'\n",
              "            + ' to learn more about interactive tables.';\n",
              "          element.innerHTML = '';\n",
              "          dataTable['output_type'] = 'display_data';\n",
              "          await google.colab.output.renderOutput(dataTable, element);\n",
              "          const docLink = document.createElement('div');\n",
              "          docLink.innerHTML = docLinkHtml;\n",
              "          element.appendChild(docLink);\n",
              "        }\n",
              "      </script>\n",
              "    </div>\n",
              "  </div>\n",
              "  "
            ]
          },
          "metadata": {},
          "execution_count": 198
        }
      ]
    },
    {
      "cell_type": "code",
      "source": [
        "sns.boxplot(y=\"Accommodation Cost\",data=Travel)"
      ],
      "metadata": {
        "colab": {
          "base_uri": "https://localhost:8080/",
          "height": 269
        },
        "id": "kgEXON7bh4Xt",
        "outputId": "b67e7724-9bef-426a-f8b3-91b3178d97bb"
      },
      "execution_count": 199,
      "outputs": [
        {
          "output_type": "execute_result",
          "data": {
            "text/plain": [
              "<AxesSubplot:ylabel='Accommodation Cost'>"
            ]
          },
          "metadata": {},
          "execution_count": 199
        },
        {
          "output_type": "display_data",
          "data": {
            "text/plain": [
              "<Figure size 432x288 with 1 Axes>"
            ],
            "image/png": "[encoded data removed]"
          },
          "metadata": {
            "needs_background": "light"
          }
        }
      ]
    },
    {
      "cell_type": "markdown",
      "source": [
        "From the above box plot, the following can be inferred:\n",
        "1. Minimum amount is 0 i.e., the null value was filled with 0\n",
        "2. 25 % of the accomodations costed < 1000\n",
        "3. Median value is approximately 1000\n",
        "4. Upper limit for max records is 2000 approximately.\n",
        "5. Accommodations costing higher than 2000 are super rare. (Outliers)"
      ],
      "metadata": {
        "id": "nOeCxQ2Jh_E9"
      }
    },
    {
      "cell_type": "markdown",
      "source": [
        "## Transportation Type"
      ],
      "metadata": {
        "id": "x-nQuO0Ci3yn"
      }
    },
    {
      "cell_type": "code",
      "source": [
        "m =list()\n",
        "for i in list(Travel['Transportation type']):\n",
        "  if str(i) ==\"Airplane\" or str(i)==\"Flight\":\n",
        "    i=\"Plane\"\n",
        "  if str(i) ==nan:\n",
        "    i = \"Plane\"                             #handling null with mode\n",
        "  if str(i)==\"Car Rental\":\n",
        "    i = \"Car\"\n",
        "  m.append(str(i))\n",
        "print(m)"
      ],
      "metadata": {
        "colab": {
          "base_uri": "https://localhost:8080/"
        },
        "id": "Oskj0vQgkFo4",
        "outputId": "2c76dedf-7443-45bd-9a65-012ac88ac124"
      },
      "execution_count": 239,
      "outputs": [
        {
          "output_type": "stream",
          "name": "stdout",
          "text": [
            "['Plane', 'Plane', 'Plane', 'Plane', 'Train', 'Plane', 'Plane', 'Plane', 'Train', 'Plane', 'Plane', 'Train', 'Plane', 'Plane', 'Plane', 'Train', 'Plane', 'Plane', 'Train', 'Plane', 'Bus', 'Plane', 'Train', 'Plane', 'Train', 'Plane', 'Train', 'Plane', 'Train', 'Car rental', 'Car rental', 'Bus', 'Plane', 'Train', 'Plane', 'Train', 'Car rental', 'Bus', 'Plane', 'Train', 'Plane', 'Plane', 'Plane', 'Train', 'Plane', 'Plane', 'Bus', 'Train', 'Plane', 'Train', 'Bus', 'Car rental', 'Plane', 'Train', 'Bus', 'Train', 'Car rental', 'Subway', 'Car rental', 'Train', 'Plane', 'Train', 'Car rental', 'Plane', 'Plane', 'Plane', 'Train', 'Plane', 'Plane', 'Train', 'Plane', 'nan', 'Plane', 'Train', 'Plane', 'Plane', 'Car', 'Plane', 'Plane', 'Plane', 'Plane', 'Plane', 'nan', 'Plane', 'Train', 'Plane', 'Plane', 'Car rental', 'Plane', 'Plane', 'Train', 'Plane', 'Car rental', 'Train', 'Plane', 'Train', 'Plane', 'Plane', 'Car rental', 'Plane', 'Train', 'Plane', 'Car rental', 'Plane', 'Train', 'Plane', 'Train', 'Car rental', 'Plane', 'Plane', 'Train', 'Plane', 'Train', 'Ferry', 'Car rental', 'Plane', 'Plane', 'Train', 'Plane', 'Train', 'Plane', 'Plane', 'Plane', 'Plane', 'Plane', 'Plane', 'Plane', 'nan', 'Plane', 'Train', 'Car', 'Plane', 'Train', 'Plane', 'Car', 'Plane', 'Train', 'Plane', 'Train']\n"
          ]
        }
      ]
    },
    {
      "cell_type": "code",
      "source": [
        "data = {'Transportation Type':m}\n",
        "TT = pd.DataFrame(data)\n",
        "Travel2 = Travel.join(TT)"
      ],
      "metadata": {
        "id": "qbjUXZxKlEAa"
      },
      "execution_count": 240,
      "outputs": []
    },
    {
      "cell_type": "code",
      "source": [
        "Travel2"
      ],
      "metadata": {
        "colab": {
          "base_uri": "https://localhost:8080/",
          "height": 641
        },
        "id": "44_uixFBlTDA",
        "outputId": "528a9085-cac5-49ff-b49c-3a26764915a3"
      },
      "execution_count": 241,
      "outputs": [
        {
          "output_type": "execute_result",
          "data": {
            "text/plain": [
              "     Trip ID             Destination Start date   End date  Duration (days)  \\\n",
              "0          1              London, UK   5/1/2023   5/8/2023              7.0   \n",
              "1          2        Phuket, Thailand  6/15/2023  6/20/2023              5.0   \n",
              "2          3         Bali, Indonesia   7/1/2023   7/8/2023              7.0   \n",
              "3          4           New York, USA  8/15/2023  8/29/2023             14.0   \n",
              "4          5            Tokyo, Japan  9/10/2023  9/17/2023              7.0   \n",
              "..       ...                     ...        ...        ...              ...   \n",
              "134      135  Rio de Janeiro, Brazil   8/1/2023  8/10/2023              9.0   \n",
              "135      136       Vancouver, Canada  8/15/2023  8/21/2023              6.0   \n",
              "136      137       Bangkok, Thailand   9/1/2023   9/8/2023              7.0   \n",
              "137      138        Barcelona, Spain  9/15/2023  9/22/2023              7.0   \n",
              "138      139   Auckland, New Zealand  10/1/2023  10/8/2023              7.0   \n",
              "\n",
              "       Traveler name  Traveler age Traveler gender Traveler nationality  \\\n",
              "0         John Smith          35.0            Male             American   \n",
              "1           Jane Doe          28.0          Female             Canadian   \n",
              "2          David Lee          45.0            Male               Korean   \n",
              "3      Sarah Johnson          29.0          Female              British   \n",
              "4         Kim Nguyen          26.0          Female           Vietnamese   \n",
              "..               ...           ...             ...                  ...   \n",
              "134       Jose Perez          37.0            Male            Brazilian   \n",
              "135      Emma Wilson          29.0          Female             Canadian   \n",
              "136        Ryan Chen          34.0            Male              Chinese   \n",
              "137  Sofia Rodriguez          25.0          Female              Spanish   \n",
              "138    William Brown          39.0            Male        New Zealander   \n",
              "\n",
              "    Accommodation type Transportation type Transportation cost  \\\n",
              "0                Hotel              Flight                 600   \n",
              "1               Resort              Flight                 500   \n",
              "2                Villa              Flight                 700   \n",
              "3                Hotel              Flight                1000   \n",
              "4               Airbnb               Train                 200   \n",
              "..                 ...                 ...                 ...   \n",
              "134             Hostel                 Car                2000   \n",
              "135              Hotel            Airplane                3000   \n",
              "136             Hostel               Train                1000   \n",
              "137             Airbnb            Airplane                2500   \n",
              "138              Hotel               Train                2500   \n",
              "\n",
              "     Accommodation Cost Transportation Type  \n",
              "0                  1200               Plane  \n",
              "1                   800               Plane  \n",
              "2                  1000               Plane  \n",
              "3                  2000               Plane  \n",
              "4                   700               Train  \n",
              "..                  ...                 ...  \n",
              "134                2500                 Car  \n",
              "135                5000               Plane  \n",
              "136                2000               Train  \n",
              "137                6000               Plane  \n",
              "138                7000               Train  \n",
              "\n",
              "[139 rows x 14 columns]"
            ],
            "text/html": [
              "\n",
              "  <div id=\"df-9209a628-600e-439a-8fd7-cff0c520917b\">\n",
              "    <div class=\"colab-df-container\">\n",
              "      <div>\n",
              "<style scoped>\n",
              "    .dataframe tbody tr th:only-of-type {\n",
              "        vertical-align: middle;\n",
              "    }\n",
              "\n",
              "    .dataframe tbody tr th {\n",
              "        vertical-align: top;\n",
              "    }\n",
              "\n",
              "    .dataframe thead th {\n",
              "        text-align: right;\n",
              "    }\n",
              "</style>\n",
              "<table border=\"1\" class=\"dataframe\">\n",
              "  <thead>\n",
              "    <tr style=\"text-align: right;\">\n",
              "      <th></th>\n",
              "      <th>Trip ID</th>\n",
              "      <th>Destination</th>\n",
              "      <th>Start date</th>\n",
              "      <th>End date</th>\n",
              "      <th>Duration (days)</th>\n",
              "      <th>Traveler name</th>\n",
              "      <th>Traveler age</th>\n",
              "      <th>Traveler gender</th>\n",
              "      <th>Traveler nationality</th>\n",
              "      <th>Accommodation type</th>\n",
              "      <th>Transportation type</th>\n",
              "      <th>Transportation cost</th>\n",
              "      <th>Accommodation Cost</th>\n",
              "      <th>Transportation Type</th>\n",
              "    </tr>\n",
              "  </thead>\n",
              "  <tbody>\n",
              "    <tr>\n",
              "      <th>0</th>\n",
              "      <td>1</td>\n",
              "      <td>London, UK</td>\n",
              "      <td>5/1/2023</td>\n",
              "      <td>5/8/2023</td>\n",
              "      <td>7.0</td>\n",
              "      <td>John Smith</td>\n",
              "      <td>35.0</td>\n",
              "      <td>Male</td>\n",
              "      <td>American</td>\n",
              "      <td>Hotel</td>\n",
              "      <td>Flight</td>\n",
              "      <td>600</td>\n",
              "      <td>1200</td>\n",
              "      <td>Plane</td>\n",
              "    </tr>\n",
              "    <tr>\n",
              "      <th>1</th>\n",
              "      <td>2</td>\n",
              "      <td>Phuket, Thailand</td>\n",
              "      <td>6/15/2023</td>\n",
              "      <td>6/20/2023</td>\n",
              "      <td>5.0</td>\n",
              "      <td>Jane Doe</td>\n",
              "      <td>28.0</td>\n",
              "      <td>Female</td>\n",
              "      <td>Canadian</td>\n",
              "      <td>Resort</td>\n",
              "      <td>Flight</td>\n",
              "      <td>500</td>\n",
              "      <td>800</td>\n",
              "      <td>Plane</td>\n",
              "    </tr>\n",
              "    <tr>\n",
              "      <th>2</th>\n",
              "      <td>3</td>\n",
              "      <td>Bali, Indonesia</td>\n",
              "      <td>7/1/2023</td>\n",
              "      <td>7/8/2023</td>\n",
              "      <td>7.0</td>\n",
              "      <td>David Lee</td>\n",
              "      <td>45.0</td>\n",
              "      <td>Male</td>\n",
              "      <td>Korean</td>\n",
              "      <td>Villa</td>\n",
              "      <td>Flight</td>\n",
              "      <td>700</td>\n",
              "      <td>1000</td>\n",
              "      <td>Plane</td>\n",
              "    </tr>\n",
              "    <tr>\n",
              "      <th>3</th>\n",
              "      <td>4</td>\n",
              "      <td>New York, USA</td>\n",
              "      <td>8/15/2023</td>\n",
              "      <td>8/29/2023</td>\n",
              "      <td>14.0</td>\n",
              "      <td>Sarah Johnson</td>\n",
              "      <td>29.0</td>\n",
              "      <td>Female</td>\n",
              "      <td>British</td>\n",
              "      <td>Hotel</td>\n",
              "      <td>Flight</td>\n",
              "      <td>1000</td>\n",
              "      <td>2000</td>\n",
              "      <td>Plane</td>\n",
              "    </tr>\n",
              "    <tr>\n",
              "      <th>4</th>\n",
              "      <td>5</td>\n",
              "      <td>Tokyo, Japan</td>\n",
              "      <td>9/10/2023</td>\n",
              "      <td>9/17/2023</td>\n",
              "      <td>7.0</td>\n",
              "      <td>Kim Nguyen</td>\n",
              "      <td>26.0</td>\n",
              "      <td>Female</td>\n",
              "      <td>Vietnamese</td>\n",
              "      <td>Airbnb</td>\n",
              "      <td>Train</td>\n",
              "      <td>200</td>\n",
              "      <td>700</td>\n",
              "      <td>Train</td>\n",
              "    </tr>\n",
              "    <tr>\n",
              "      <th>...</th>\n",
              "      <td>...</td>\n",
              "      <td>...</td>\n",
              "      <td>...</td>\n",
              "      <td>...</td>\n",
              "      <td>...</td>\n",
              "      <td>...</td>\n",
              "      <td>...</td>\n",
              "      <td>...</td>\n",
              "      <td>...</td>\n",
              "      <td>...</td>\n",
              "      <td>...</td>\n",
              "      <td>...</td>\n",
              "      <td>...</td>\n",
              "      <td>...</td>\n",
              "    </tr>\n",
              "    <tr>\n",
              "      <th>134</th>\n",
              "      <td>135</td>\n",
              "      <td>Rio de Janeiro, Brazil</td>\n",
              "      <td>8/1/2023</td>\n",
              "      <td>8/10/2023</td>\n",
              "      <td>9.0</td>\n",
              "      <td>Jose Perez</td>\n",
              "      <td>37.0</td>\n",
              "      <td>Male</td>\n",
              "      <td>Brazilian</td>\n",
              "      <td>Hostel</td>\n",
              "      <td>Car</td>\n",
              "      <td>2000</td>\n",
              "      <td>2500</td>\n",
              "      <td>Car</td>\n",
              "    </tr>\n",
              "    <tr>\n",
              "      <th>135</th>\n",
              "      <td>136</td>\n",
              "      <td>Vancouver, Canada</td>\n",
              "      <td>8/15/2023</td>\n",
              "      <td>8/21/2023</td>\n",
              "      <td>6.0</td>\n",
              "      <td>Emma Wilson</td>\n",
              "      <td>29.0</td>\n",
              "      <td>Female</td>\n",
              "      <td>Canadian</td>\n",
              "      <td>Hotel</td>\n",
              "      <td>Airplane</td>\n",
              "      <td>3000</td>\n",
              "      <td>5000</td>\n",
              "      <td>Plane</td>\n",
              "    </tr>\n",
              "    <tr>\n",
              "      <th>136</th>\n",
              "      <td>137</td>\n",
              "      <td>Bangkok, Thailand</td>\n",
              "      <td>9/1/2023</td>\n",
              "      <td>9/8/2023</td>\n",
              "      <td>7.0</td>\n",
              "      <td>Ryan Chen</td>\n",
              "      <td>34.0</td>\n",
              "      <td>Male</td>\n",
              "      <td>Chinese</td>\n",
              "      <td>Hostel</td>\n",
              "      <td>Train</td>\n",
              "      <td>1000</td>\n",
              "      <td>2000</td>\n",
              "      <td>Train</td>\n",
              "    </tr>\n",
              "    <tr>\n",
              "      <th>137</th>\n",
              "      <td>138</td>\n",
              "      <td>Barcelona, Spain</td>\n",
              "      <td>9/15/2023</td>\n",
              "      <td>9/22/2023</td>\n",
              "      <td>7.0</td>\n",
              "      <td>Sofia Rodriguez</td>\n",
              "      <td>25.0</td>\n",
              "      <td>Female</td>\n",
              "      <td>Spanish</td>\n",
              "      <td>Airbnb</td>\n",
              "      <td>Airplane</td>\n",
              "      <td>2500</td>\n",
              "      <td>6000</td>\n",
              "      <td>Plane</td>\n",
              "    </tr>\n",
              "    <tr>\n",
              "      <th>138</th>\n",
              "      <td>139</td>\n",
              "      <td>Auckland, New Zealand</td>\n",
              "      <td>10/1/2023</td>\n",
              "      <td>10/8/2023</td>\n",
              "      <td>7.0</td>\n",
              "      <td>William Brown</td>\n",
              "      <td>39.0</td>\n",
              "      <td>Male</td>\n",
              "      <td>New Zealander</td>\n",
              "      <td>Hotel</td>\n",
              "      <td>Train</td>\n",
              "      <td>2500</td>\n",
              "      <td>7000</td>\n",
              "      <td>Train</td>\n",
              "    </tr>\n",
              "  </tbody>\n",
              "</table>\n",
              "<p>139 rows × 14 columns</p>\n",
              "</div>\n",
              "      <button class=\"colab-df-convert\" onclick=\"convertToInteractive('df-9209a628-600e-439a-8fd7-cff0c520917b')\"\n",
              "              title=\"Convert this dataframe to an interactive table.\"\n",
              "              style=\"display:none;\">\n",
              "        \n",
              "  <svg xmlns=\"http://www.w3.org/2000/svg\" height=\"24px\"viewBox=\"0 0 24 24\"\n",
              "       width=\"24px\">\n",
              "    <path d=\"M0 0h24v24H0V0z\" fill=\"none\"/>\n",
              "    <path d=\"M18.56 5.44l.94 2.06.94-2.06 2.06-.94-2.06-.94-.94-2.06-.94 2.06-2.06.94zm-11 1L8.5 8.5l.94-2.06 2.06-.94-2.06-.94L8.5 2.5l-.94 2.06-2.06.94zm10 10l.94 2.06.94-2.06 2.06-.94-2.06-.94-.94-2.06-.94 2.06-2.06.94z\"/><path d=\"M17.41 7.96l-1.37-1.37c-.4-.4-.92-.59-1.43-.59-.52 0-1.04.2-1.43.59L10.3 9.45l-7.72 7.72c-.78.78-.78 2.05 0 2.83L4 21.41c.39.39.9.59 1.41.59.51 0 1.02-.2 1.41-.59l7.78-7.78 2.81-2.81c.8-.78.8-2.07 0-2.86zM5.41 20L4 18.59l7.72-7.72 1.47 1.35L5.41 20z\"/>\n",
              "  </svg>\n",
              "      </button>\n",
              "      \n",
              "  <style>\n",
              "    .colab-df-container {\n",
              "      display:flex;\n",
              "      flex-wrap:wrap;\n",
              "      gap: 12px;\n",
              "    }\n",
              "\n",
              "    .colab-df-convert {\n",
              "      background-color: #E8F0FE;\n",
              "      border: none;\n",
              "      border-radius: 50%;\n",
              "      cursor: pointer;\n",
              "      display: none;\n",
              "      fill: #1967D2;\n",
              "      height: 32px;\n",
              "      padding: 0 0 0 0;\n",
              "      width: 32px;\n",
              "    }\n",
              "\n",
              "    .colab-df-convert:hover {\n",
              "      background-color: #E2EBFA;\n",
              "      box-shadow: 0px 1px 2px rgba(60, 64, 67, 0.3), 0px 1px 3px 1px rgba(60, 64, 67, 0.15);\n",
              "      fill: #174EA6;\n",
              "    }\n",
              "\n",
              "    [theme=dark] .colab-df-convert {\n",
              "      background-color: #3B4455;\n",
              "      fill: #D2E3FC;\n",
              "    }\n",
              "\n",
              "    [theme=dark] .colab-df-convert:hover {\n",
              "      background-color: #434B5C;\n",
              "      box-shadow: 0px 1px 3px 1px rgba(0, 0, 0, 0.15);\n",
              "      filter: drop-shadow(0px 1px 2px rgba(0, 0, 0, 0.3));\n",
              "      fill: #FFFFFF;\n",
              "    }\n",
              "  </style>\n",
              "\n",
              "      <script>\n",
              "        const buttonEl =\n",
              "          document.querySelector('#df-9209a628-600e-439a-8fd7-cff0c520917b button.colab-df-convert');\n",
              "        buttonEl.style.display =\n",
              "          google.colab.kernel.accessAllowed ? 'block' : 'none';\n",
              "\n",
              "        async function convertToInteractive(key) {\n",
              "          const element = document.querySelector('#df-9209a628-600e-439a-8fd7-cff0c520917b');\n",
              "          const dataTable =\n",
              "            await google.colab.kernel.invokeFunction('convertToInteractive',\n",
              "                                                     [key], {});\n",
              "          if (!dataTable) return;\n",
              "\n",
              "          const docLinkHtml = 'Like what you see? Visit the ' +\n",
              "            '<a target=\"_blank\" href=https://colab.research.google.com/notebooks/data_table.ipynb>data table notebook</a>'\n",
              "            + ' to learn more about interactive tables.';\n",
              "          element.innerHTML = '';\n",
              "          dataTable['output_type'] = 'display_data';\n",
              "          await google.colab.output.renderOutput(dataTable, element);\n",
              "          const docLink = document.createElement('div');\n",
              "          docLink.innerHTML = docLinkHtml;\n",
              "          element.appendChild(docLink);\n",
              "        }\n",
              "      </script>\n",
              "    </div>\n",
              "  </div>\n",
              "  "
            ]
          },
          "metadata": {},
          "execution_count": 241
        }
      ]
    },
    {
      "cell_type": "code",
      "source": [
        "#Dropping the column\n",
        "Travel2.drop(['Transportation type'],axis=\"columns\",inplace=True)"
      ],
      "metadata": {
        "id": "8i3B123xlbwY"
      },
      "execution_count": 242,
      "outputs": []
    },
    {
      "cell_type": "code",
      "source": [
        "Travel2.head()"
      ],
      "metadata": {
        "colab": {
          "base_uri": "https://localhost:8080/",
          "height": 302
        },
        "id": "3rwtDf77ljgX",
        "outputId": "ebe425ad-9a6d-40a1-b8bc-ee46f2f9379d"
      },
      "execution_count": 243,
      "outputs": [
        {
          "output_type": "execute_result",
          "data": {
            "text/plain": [
              "   Trip ID       Destination Start date   End date  Duration (days)  \\\n",
              "0        1        London, UK   5/1/2023   5/8/2023              7.0   \n",
              "1        2  Phuket, Thailand  6/15/2023  6/20/2023              5.0   \n",
              "2        3   Bali, Indonesia   7/1/2023   7/8/2023              7.0   \n",
              "3        4     New York, USA  8/15/2023  8/29/2023             14.0   \n",
              "4        5      Tokyo, Japan  9/10/2023  9/17/2023              7.0   \n",
              "\n",
              "   Traveler name  Traveler age Traveler gender Traveler nationality  \\\n",
              "0     John Smith          35.0            Male             American   \n",
              "1       Jane Doe          28.0          Female             Canadian   \n",
              "2      David Lee          45.0            Male               Korean   \n",
              "3  Sarah Johnson          29.0          Female              British   \n",
              "4     Kim Nguyen          26.0          Female           Vietnamese   \n",
              "\n",
              "  Accommodation type Transportation cost  Accommodation Cost  \\\n",
              "0              Hotel                 600                1200   \n",
              "1             Resort                 500                 800   \n",
              "2              Villa                 700                1000   \n",
              "3              Hotel                1000                2000   \n",
              "4             Airbnb                 200                 700   \n",
              "\n",
              "  Transportation Type  \n",
              "0               Plane  \n",
              "1               Plane  \n",
              "2               Plane  \n",
              "3               Plane  \n",
              "4               Train  "
            ],
            "text/html": [
              "\n",
              "  <div id=\"df-489544a3-a3ec-4695-b958-45ae458342f4\">\n",
              "    <div class=\"colab-df-container\">\n",
              "      <div>\n",
              "<style scoped>\n",
              "    .dataframe tbody tr th:only-of-type {\n",
              "        vertical-align: middle;\n",
              "    }\n",
              "\n",
              "    .dataframe tbody tr th {\n",
              "        vertical-align: top;\n",
              "    }\n",
              "\n",
              "    .dataframe thead th {\n",
              "        text-align: right;\n",
              "    }\n",
              "</style>\n",
              "<table border=\"1\" class=\"dataframe\">\n",
              "  <thead>\n",
              "    <tr style=\"text-align: right;\">\n",
              "      <th></th>\n",
              "      <th>Trip ID</th>\n",
              "      <th>Destination</th>\n",
              "      <th>Start date</th>\n",
              "      <th>End date</th>\n",
              "      <th>Duration (days)</th>\n",
              "      <th>Traveler name</th>\n",
              "      <th>Traveler age</th>\n",
              "      <th>Traveler gender</th>\n",
              "      <th>Traveler nationality</th>\n",
              "      <th>Accommodation type</th>\n",
              "      <th>Transportation cost</th>\n",
              "      <th>Accommodation Cost</th>\n",
              "      <th>Transportation Type</th>\n",
              "    </tr>\n",
              "  </thead>\n",
              "  <tbody>\n",
              "    <tr>\n",
              "      <th>0</th>\n",
              "      <td>1</td>\n",
              "      <td>London, UK</td>\n",
              "      <td>5/1/2023</td>\n",
              "      <td>5/8/2023</td>\n",
              "      <td>7.0</td>\n",
              "      <td>John Smith</td>\n",
              "      <td>35.0</td>\n",
              "      <td>Male</td>\n",
              "      <td>American</td>\n",
              "      <td>Hotel</td>\n",
              "      <td>600</td>\n",
              "      <td>1200</td>\n",
              "      <td>Plane</td>\n",
              "    </tr>\n",
              "    <tr>\n",
              "      <th>1</th>\n",
              "      <td>2</td>\n",
              "      <td>Phuket, Thailand</td>\n",
              "      <td>6/15/2023</td>\n",
              "      <td>6/20/2023</td>\n",
              "      <td>5.0</td>\n",
              "      <td>Jane Doe</td>\n",
              "      <td>28.0</td>\n",
              "      <td>Female</td>\n",
              "      <td>Canadian</td>\n",
              "      <td>Resort</td>\n",
              "      <td>500</td>\n",
              "      <td>800</td>\n",
              "      <td>Plane</td>\n",
              "    </tr>\n",
              "    <tr>\n",
              "      <th>2</th>\n",
              "      <td>3</td>\n",
              "      <td>Bali, Indonesia</td>\n",
              "      <td>7/1/2023</td>\n",
              "      <td>7/8/2023</td>\n",
              "      <td>7.0</td>\n",
              "      <td>David Lee</td>\n",
              "      <td>45.0</td>\n",
              "      <td>Male</td>\n",
              "      <td>Korean</td>\n",
              "      <td>Villa</td>\n",
              "      <td>700</td>\n",
              "      <td>1000</td>\n",
              "      <td>Plane</td>\n",
              "    </tr>\n",
              "    <tr>\n",
              "      <th>3</th>\n",
              "      <td>4</td>\n",
              "      <td>New York, USA</td>\n",
              "      <td>8/15/2023</td>\n",
              "      <td>8/29/2023</td>\n",
              "      <td>14.0</td>\n",
              "      <td>Sarah Johnson</td>\n",
              "      <td>29.0</td>\n",
              "      <td>Female</td>\n",
              "      <td>British</td>\n",
              "      <td>Hotel</td>\n",
              "      <td>1000</td>\n",
              "      <td>2000</td>\n",
              "      <td>Plane</td>\n",
              "    </tr>\n",
              "    <tr>\n",
              "      <th>4</th>\n",
              "      <td>5</td>\n",
              "      <td>Tokyo, Japan</td>\n",
              "      <td>9/10/2023</td>\n",
              "      <td>9/17/2023</td>\n",
              "      <td>7.0</td>\n",
              "      <td>Kim Nguyen</td>\n",
              "      <td>26.0</td>\n",
              "      <td>Female</td>\n",
              "      <td>Vietnamese</td>\n",
              "      <td>Airbnb</td>\n",
              "      <td>200</td>\n",
              "      <td>700</td>\n",
              "      <td>Train</td>\n",
              "    </tr>\n",
              "  </tbody>\n",
              "</table>\n",
              "</div>\n",
              "      <button class=\"colab-df-convert\" onclick=\"convertToInteractive('df-489544a3-a3ec-4695-b958-45ae458342f4')\"\n",
              "              title=\"Convert this dataframe to an interactive table.\"\n",
              "              style=\"display:none;\">\n",
              "        \n",
              "  <svg xmlns=\"http://www.w3.org/2000/svg\" height=\"24px\"viewBox=\"0 0 24 24\"\n",
              "       width=\"24px\">\n",
              "    <path d=\"M0 0h24v24H0V0z\" fill=\"none\"/>\n",
              "    <path d=\"M18.56 5.44l.94 2.06.94-2.06 2.06-.94-2.06-.94-.94-2.06-.94 2.06-2.06.94zm-11 1L8.5 8.5l.94-2.06 2.06-.94-2.06-.94L8.5 2.5l-.94 2.06-2.06.94zm10 10l.94 2.06.94-2.06 2.06-.94-2.06-.94-.94-2.06-.94 2.06-2.06.94z\"/><path d=\"M17.41 7.96l-1.37-1.37c-.4-.4-.92-.59-1.43-.59-.52 0-1.04.2-1.43.59L10.3 9.45l-7.72 7.72c-.78.78-.78 2.05 0 2.83L4 21.41c.39.39.9.59 1.41.59.51 0 1.02-.2 1.41-.59l7.78-7.78 2.81-2.81c.8-.78.8-2.07 0-2.86zM5.41 20L4 18.59l7.72-7.72 1.47 1.35L5.41 20z\"/>\n",
              "  </svg>\n",
              "      </button>\n",
              "      \n",
              "  <style>\n",
              "    .colab-df-container {\n",
              "      display:flex;\n",
              "      flex-wrap:wrap;\n",
              "      gap: 12px;\n",
              "    }\n",
              "\n",
              "    .colab-df-convert {\n",
              "      background-color: #E8F0FE;\n",
              "      border: none;\n",
              "      border-radius: 50%;\n",
              "      cursor: pointer;\n",
              "      display: none;\n",
              "      fill: #1967D2;\n",
              "      height: 32px;\n",
              "      padding: 0 0 0 0;\n",
              "      width: 32px;\n",
              "    }\n",
              "\n",
              "    .colab-df-convert:hover {\n",
              "      background-color: #E2EBFA;\n",
              "      box-shadow: 0px 1px 2px rgba(60, 64, 67, 0.3), 0px 1px 3px 1px rgba(60, 64, 67, 0.15);\n",
              "      fill: #174EA6;\n",
              "    }\n",
              "\n",
              "    [theme=dark] .colab-df-convert {\n",
              "      background-color: #3B4455;\n",
              "      fill: #D2E3FC;\n",
              "    }\n",
              "\n",
              "    [theme=dark] .colab-df-convert:hover {\n",
              "      background-color: #434B5C;\n",
              "      box-shadow: 0px 1px 3px 1px rgba(0, 0, 0, 0.15);\n",
              "      filter: drop-shadow(0px 1px 2px rgba(0, 0, 0, 0.3));\n",
              "      fill: #FFFFFF;\n",
              "    }\n",
              "  </style>\n",
              "\n",
              "      <script>\n",
              "        const buttonEl =\n",
              "          document.querySelector('#df-489544a3-a3ec-4695-b958-45ae458342f4 button.colab-df-convert');\n",
              "        buttonEl.style.display =\n",
              "          google.colab.kernel.accessAllowed ? 'block' : 'none';\n",
              "\n",
              "        async function convertToInteractive(key) {\n",
              "          const element = document.querySelector('#df-489544a3-a3ec-4695-b958-45ae458342f4');\n",
              "          const dataTable =\n",
              "            await google.colab.kernel.invokeFunction('convertToInteractive',\n",
              "                                                     [key], {});\n",
              "          if (!dataTable) return;\n",
              "\n",
              "          const docLinkHtml = 'Like what you see? Visit the ' +\n",
              "            '<a target=\"_blank\" href=https://colab.research.google.com/notebooks/data_table.ipynb>data table notebook</a>'\n",
              "            + ' to learn more about interactive tables.';\n",
              "          element.innerHTML = '';\n",
              "          dataTable['output_type'] = 'display_data';\n",
              "          await google.colab.output.renderOutput(dataTable, element);\n",
              "          const docLink = document.createElement('div');\n",
              "          docLink.innerHTML = docLinkHtml;\n",
              "          element.appendChild(docLink);\n",
              "        }\n",
              "      </script>\n",
              "    </div>\n",
              "  </div>\n",
              "  "
            ]
          },
          "metadata": {},
          "execution_count": 243
        }
      ]
    },
    {
      "cell_type": "code",
      "source": [
        "s = dict(Travel2['Transportation Type'].value_counts())\n",
        "transport_type_name = list(s.keys())\n",
        "transport_type_name = transport_type_name[:5]\n"
      ],
      "metadata": {
        "id": "Fp9NxDnkjEHX"
      },
      "execution_count": 244,
      "outputs": []
    },
    {
      "cell_type": "code",
      "source": [
        "transport_type_freq =list(s.values())\n",
        "transport_type_freq = transport_type_freq[:5]"
      ],
      "metadata": {
        "id": "ZJk_w0bLjOIS"
      },
      "execution_count": 245,
      "outputs": []
    },
    {
      "cell_type": "code",
      "source": [
        "plt.figure(figsize = (20,5))\n",
        "ax=sns.countplot(x='Transportation Type', data=Travel2)\n",
        "sns.countplot(Travel2['Transportation Type'])\n",
        "for p in ax.patches:\n",
        "    ax.annotate(f'{p.get_height()}', (p.get_x()+0.4, p.get_height()), ha='center', va='bottom', color='black', size=12)\n",
        "plt.show()\n"
      ],
      "metadata": {
        "colab": {
          "base_uri": "https://localhost:8080/",
          "height": 389
        },
        "id": "X_SNT6JgjWTI",
        "outputId": "4284364f-d15e-4aba-dcb2-2ac8bb84365b"
      },
      "execution_count": 265,
      "outputs": [
        {
          "output_type": "stream",
          "name": "stderr",
          "text": [
            "/usr/local/lib/python3.8/dist-packages/seaborn/_decorators.py:36: FutureWarning: Pass the following variable as a keyword arg: x. From version 0.12, the only valid positional argument will be `data`, and passing other arguments without an explicit keyword will result in an error or misinterpretation.\n",
            "  warnings.warn(\n"
          ]
        },
        {
          "output_type": "display_data",
          "data": {
            "text/plain": [
              "<Figure size 1440x360 with 1 Axes>"
            ],
            "image/png": "[encoded data removed]"
          },
          "metadata": {
            "needs_background": "light"
          }
        }
      ]
    },
    {
      "cell_type": "code",
      "source": [
        "#Pie chart depicting the top 5 transportation services' percentages\n",
        "plt.figure(figsize = (6,6))\n",
        "pie(transport_type_freq,labels=transport_type_name,colors=['Blue','Orange','Green','Red','Purple','Yellow','Grey','Black'],autopct=\"%1.1f%%\",startangle=25)"
      ],
      "metadata": {
        "colab": {
          "base_uri": "https://localhost:8080/",
          "height": 617
        },
        "id": "Ia2VzdMdjmaS",
        "outputId": "538d0572-6604-4ad7-cc41-cd17f40e35eb"
      },
      "execution_count": 247,
      "outputs": [
        {
          "output_type": "execute_result",
          "data": {
            "text/plain": [
              "([<matplotlib.patches.Wedge at 0x7ff9e4e40190>,\n",
              "  <matplotlib.patches.Wedge at 0x7ff9e4e408b0>,\n",
              "  <matplotlib.patches.Wedge at 0x7ff9e4e40fd0>,\n",
              "  <matplotlib.patches.Wedge at 0x7ff9e4e4d7f0>,\n",
              "  <matplotlib.patches.Wedge at 0x7ff9e4e3d910>],\n",
              " [Text(-0.6426165198450048, 0.8927732122002175, 'Plane'),\n",
              "  Text(0.11868543715029314, -1.0935784228890235, 'Train'),\n",
              "  Text(1.0539253712490257, -0.3150258907417034, 'Car rental'),\n",
              "  Text(1.086813401291995, 0.16981351763662736, 'Bus'),\n",
              "  Text(1.027143661853459, 0.3936697828310767, 'nan')],\n",
              " [Text(-0.3505181017336389, 0.4869672066546641, '56.0%'),\n",
              "  Text(0.06473751117288716, -0.596497321575831, '27.6%'),\n",
              "  Text(0.5748683843176503, -0.1718323040409291, '9.7%'),\n",
              "  Text(0.5928073097956336, 0.092625555074524, '4.5%'),\n",
              "  Text(0.5602601791927958, 0.21472897245331451, '2.2%')])"
            ]
          },
          "metadata": {},
          "execution_count": 247
        },
        {
          "output_type": "display_data",
          "data": {
            "text/plain": [
              "<Figure size 432x432 with 1 Axes>"
            ],
            "image/png": "[encoded data removed]"
          },
          "metadata": {}
        }
      ]
    },
    {
      "cell_type": "markdown",
      "source": [
        "## Transportation cost"
      ],
      "metadata": {
        "id": "-erjyd5Om1bb"
      }
    },
    {
      "cell_type": "code",
      "source": [
        "print(Travel2['Transportation cost'].unique())"
      ],
      "metadata": {
        "colab": {
          "base_uri": "https://localhost:8080/"
        },
        "id": "0zCuG__em3KK",
        "outputId": "01259131-d533-46b7-e10a-90354eeb340a"
      },
      "execution_count": 250,
      "outputs": [
        {
          "output_type": "stream",
          "name": "stdout",
          "text": [
            "['600' '500' '700' '1000' '200' '800' '1200' '100' '400' '150' '$400 '\n",
            " '$700 ' '$150 ' '$800 ' '$100 ' '$600 ' '$80 ' '$500 ' '$300 ' '$50 '\n",
            " '$120 ' '$75 ' '900' '50' '$200 ' '$250 ' '$20 ' '300' nan '800 USD'\n",
            " '200 USD' '500 USD' '700 USD' '300 USD' '600 USD' '400 USD' '1000 USD'\n",
            " '100 USD' '350 USD' '150 USD' '$1,200 ' '$900 ' '$1,500 ' '$1,000 ' '250'\n",
            " '2500' '1500' '2000' '3000']\n"
          ]
        }
      ]
    },
    {
      "cell_type": "code",
      "source": [
        "transport_cost = list()\n",
        "for i in Travel2['Transportation cost']:\n",
        "  transport_cost.append(clean(i))\n",
        "\n",
        "print(transport_cost)"
      ],
      "metadata": {
        "colab": {
          "base_uri": "https://localhost:8080/"
        },
        "id": "rEevGqPlnPsP",
        "outputId": "7326d252-468b-461b-dab1-4015b686f44a"
      },
      "execution_count": 251,
      "outputs": [
        {
          "output_type": "stream",
          "name": "stdout",
          "text": [
            "[600, 500, 700, 1000, 200, 800, 1200, 600, 200, 800, 500, 100, 1200, 700, 400, 150, 400, 700, 150, 800, 100, 600, 80, 500, 100, 800, 150, 500, 150, 300, 500, 50, 600, 100, 800, 120, 400, 75, 600, 150, 900, 800, 700, 100, 600, 500, 50, 150, 700, 300, 100, 200, 800, 150, 50, 200, 250, 20, 300, 100, 800, 300, 200, 1200, 700, 1000, 200, 800, 700, 100, 1000, 0, 800, 200, 500, 700, 300, 700, 600, 400, 1000, 800, 0, 500, 300, 700, 600, 200, 400, 800, 100, 350, 300, 150, 800, 200, 1200, 700, 300, 900, 100, 1500, 400, 1000, 150, 800, 500, 200, 1200, 900, 150, 700, 250, 150, 300, 500, 700, 500, 1000, 400, 800, 600, 900, 700, 1000, 700, 800, 0, 2500, 1500, 2000, 3000, 1500, 2500, 2000, 3000, 1000, 2500, 2500]\n"
          ]
        }
      ]
    },
    {
      "cell_type": "code",
      "source": [
        "data = {'Transportation Cost':transport_cost}\n",
        "j = pd.DataFrame(data)"
      ],
      "metadata": {
        "id": "nS4zTN5Wnv0v"
      },
      "execution_count": 253,
      "outputs": []
    },
    {
      "cell_type": "code",
      "source": [
        "Travel3 = Travel2.join(j)\n",
        "Travel3.head()"
      ],
      "metadata": {
        "colab": {
          "base_uri": "https://localhost:8080/",
          "height": 354
        },
        "id": "yW3mx__xpngU",
        "outputId": "3e693e9b-1728-4ec8-e9e5-f72ee1e2cb99"
      },
      "execution_count": 255,
      "outputs": [
        {
          "output_type": "execute_result",
          "data": {
            "text/plain": [
              "   Trip ID       Destination Start date   End date  Duration (days)  \\\n",
              "0        1        London, UK   5/1/2023   5/8/2023              7.0   \n",
              "1        2  Phuket, Thailand  6/15/2023  6/20/2023              5.0   \n",
              "2        3   Bali, Indonesia   7/1/2023   7/8/2023              7.0   \n",
              "3        4     New York, USA  8/15/2023  8/29/2023             14.0   \n",
              "4        5      Tokyo, Japan  9/10/2023  9/17/2023              7.0   \n",
              "\n",
              "   Traveler name  Traveler age Traveler gender Traveler nationality  \\\n",
              "0     John Smith          35.0            Male             American   \n",
              "1       Jane Doe          28.0          Female             Canadian   \n",
              "2      David Lee          45.0            Male               Korean   \n",
              "3  Sarah Johnson          29.0          Female              British   \n",
              "4     Kim Nguyen          26.0          Female           Vietnamese   \n",
              "\n",
              "  Accommodation type Transportation cost  Accommodation Cost  \\\n",
              "0              Hotel                 600                1200   \n",
              "1             Resort                 500                 800   \n",
              "2              Villa                 700                1000   \n",
              "3              Hotel                1000                2000   \n",
              "4             Airbnb                 200                 700   \n",
              "\n",
              "  Transportation Type  Transportation Cost  \n",
              "0               Plane                  600  \n",
              "1               Plane                  500  \n",
              "2               Plane                  700  \n",
              "3               Plane                 1000  \n",
              "4               Train                  200  "
            ],
            "text/html": [
              "\n",
              "  <div id=\"df-01a489e6-0e7b-4308-babc-acf3b9aa9523\">\n",
              "    <div class=\"colab-df-container\">\n",
              "      <div>\n",
              "<style scoped>\n",
              "    .dataframe tbody tr th:only-of-type {\n",
              "        vertical-align: middle;\n",
              "    }\n",
              "\n",
              "    .dataframe tbody tr th {\n",
              "        vertical-align: top;\n",
              "    }\n",
              "\n",
              "    .dataframe thead th {\n",
              "        text-align: right;\n",
              "    }\n",
              "</style>\n",
              "<table border=\"1\" class=\"dataframe\">\n",
              "  <thead>\n",
              "    <tr style=\"text-align: right;\">\n",
              "      <th></th>\n",
              "      <th>Trip ID</th>\n",
              "      <th>Destination</th>\n",
              "      <th>Start date</th>\n",
              "      <th>End date</th>\n",
              "      <th>Duration (days)</th>\n",
              "      <th>Traveler name</th>\n",
              "      <th>Traveler age</th>\n",
              "      <th>Traveler gender</th>\n",
              "      <th>Traveler nationality</th>\n",
              "      <th>Accommodation type</th>\n",
              "      <th>Transportation cost</th>\n",
              "      <th>Accommodation Cost</th>\n",
              "      <th>Transportation Type</th>\n",
              "      <th>Transportation Cost</th>\n",
              "    </tr>\n",
              "  </thead>\n",
              "  <tbody>\n",
              "    <tr>\n",
              "      <th>0</th>\n",
              "      <td>1</td>\n",
              "      <td>London, UK</td>\n",
              "      <td>5/1/2023</td>\n",
              "      <td>5/8/2023</td>\n",
              "      <td>7.0</td>\n",
              "      <td>John Smith</td>\n",
              "      <td>35.0</td>\n",
              "      <td>Male</td>\n",
              "      <td>American</td>\n",
              "      <td>Hotel</td>\n",
              "      <td>600</td>\n",
              "      <td>1200</td>\n",
              "      <td>Plane</td>\n",
              "      <td>600</td>\n",
              "    </tr>\n",
              "    <tr>\n",
              "      <th>1</th>\n",
              "      <td>2</td>\n",
              "      <td>Phuket, Thailand</td>\n",
              "      <td>6/15/2023</td>\n",
              "      <td>6/20/2023</td>\n",
              "      <td>5.0</td>\n",
              "      <td>Jane Doe</td>\n",
              "      <td>28.0</td>\n",
              "      <td>Female</td>\n",
              "      <td>Canadian</td>\n",
              "      <td>Resort</td>\n",
              "      <td>500</td>\n",
              "      <td>800</td>\n",
              "      <td>Plane</td>\n",
              "      <td>500</td>\n",
              "    </tr>\n",
              "    <tr>\n",
              "      <th>2</th>\n",
              "      <td>3</td>\n",
              "      <td>Bali, Indonesia</td>\n",
              "      <td>7/1/2023</td>\n",
              "      <td>7/8/2023</td>\n",
              "      <td>7.0</td>\n",
              "      <td>David Lee</td>\n",
              "      <td>45.0</td>\n",
              "      <td>Male</td>\n",
              "      <td>Korean</td>\n",
              "      <td>Villa</td>\n",
              "      <td>700</td>\n",
              "      <td>1000</td>\n",
              "      <td>Plane</td>\n",
              "      <td>700</td>\n",
              "    </tr>\n",
              "    <tr>\n",
              "      <th>3</th>\n",
              "      <td>4</td>\n",
              "      <td>New York, USA</td>\n",
              "      <td>8/15/2023</td>\n",
              "      <td>8/29/2023</td>\n",
              "      <td>14.0</td>\n",
              "      <td>Sarah Johnson</td>\n",
              "      <td>29.0</td>\n",
              "      <td>Female</td>\n",
              "      <td>British</td>\n",
              "      <td>Hotel</td>\n",
              "      <td>1000</td>\n",
              "      <td>2000</td>\n",
              "      <td>Plane</td>\n",
              "      <td>1000</td>\n",
              "    </tr>\n",
              "    <tr>\n",
              "      <th>4</th>\n",
              "      <td>5</td>\n",
              "      <td>Tokyo, Japan</td>\n",
              "      <td>9/10/2023</td>\n",
              "      <td>9/17/2023</td>\n",
              "      <td>7.0</td>\n",
              "      <td>Kim Nguyen</td>\n",
              "      <td>26.0</td>\n",
              "      <td>Female</td>\n",
              "      <td>Vietnamese</td>\n",
              "      <td>Airbnb</td>\n",
              "      <td>200</td>\n",
              "      <td>700</td>\n",
              "      <td>Train</td>\n",
              "      <td>200</td>\n",
              "    </tr>\n",
              "  </tbody>\n",
              "</table>\n",
              "</div>\n",
              "      <button class=\"colab-df-convert\" onclick=\"convertToInteractive('df-01a489e6-0e7b-4308-babc-acf3b9aa9523')\"\n",
              "              title=\"Convert this dataframe to an interactive table.\"\n",
              "              style=\"display:none;\">\n",
              "        \n",
              "  <svg xmlns=\"http://www.w3.org/2000/svg\" height=\"24px\"viewBox=\"0 0 24 24\"\n",
              "       width=\"24px\">\n",
              "    <path d=\"M0 0h24v24H0V0z\" fill=\"none\"/>\n",
              "    <path d=\"M18.56 5.44l.94 2.06.94-2.06 2.06-.94-2.06-.94-.94-2.06-.94 2.06-2.06.94zm-11 1L8.5 8.5l.94-2.06 2.06-.94-2.06-.94L8.5 2.5l-.94 2.06-2.06.94zm10 10l.94 2.06.94-2.06 2.06-.94-2.06-.94-.94-2.06-.94 2.06-2.06.94z\"/><path d=\"M17.41 7.96l-1.37-1.37c-.4-.4-.92-.59-1.43-.59-.52 0-1.04.2-1.43.59L10.3 9.45l-7.72 7.72c-.78.78-.78 2.05 0 2.83L4 21.41c.39.39.9.59 1.41.59.51 0 1.02-.2 1.41-.59l7.78-7.78 2.81-2.81c.8-.78.8-2.07 0-2.86zM5.41 20L4 18.59l7.72-7.72 1.47 1.35L5.41 20z\"/>\n",
              "  </svg>\n",
              "      </button>\n",
              "      \n",
              "  <style>\n",
              "    .colab-df-container {\n",
              "      display:flex;\n",
              "      flex-wrap:wrap;\n",
              "      gap: 12px;\n",
              "    }\n",
              "\n",
              "    .colab-df-convert {\n",
              "      background-color: #E8F0FE;\n",
              "      border: none;\n",
              "      border-radius: 50%;\n",
              "      cursor: pointer;\n",
              "      display: none;\n",
              "      fill: #1967D2;\n",
              "      height: 32px;\n",
              "      padding: 0 0 0 0;\n",
              "      width: 32px;\n",
              "    }\n",
              "\n",
              "    .colab-df-convert:hover {\n",
              "      background-color: #E2EBFA;\n",
              "      box-shadow: 0px 1px 2px rgba(60, 64, 67, 0.3), 0px 1px 3px 1px rgba(60, 64, 67, 0.15);\n",
              "      fill: #174EA6;\n",
              "    }\n",
              "\n",
              "    [theme=dark] .colab-df-convert {\n",
              "      background-color: #3B4455;\n",
              "      fill: #D2E3FC;\n",
              "    }\n",
              "\n",
              "    [theme=dark] .colab-df-convert:hover {\n",
              "      background-color: #434B5C;\n",
              "      box-shadow: 0px 1px 3px 1px rgba(0, 0, 0, 0.15);\n",
              "      filter: drop-shadow(0px 1px 2px rgba(0, 0, 0, 0.3));\n",
              "      fill: #FFFFFF;\n",
              "    }\n",
              "  </style>\n",
              "\n",
              "      <script>\n",
              "        const buttonEl =\n",
              "          document.querySelector('#df-01a489e6-0e7b-4308-babc-acf3b9aa9523 button.colab-df-convert');\n",
              "        buttonEl.style.display =\n",
              "          google.colab.kernel.accessAllowed ? 'block' : 'none';\n",
              "\n",
              "        async function convertToInteractive(key) {\n",
              "          const element = document.querySelector('#df-01a489e6-0e7b-4308-babc-acf3b9aa9523');\n",
              "          const dataTable =\n",
              "            await google.colab.kernel.invokeFunction('convertToInteractive',\n",
              "                                                     [key], {});\n",
              "          if (!dataTable) return;\n",
              "\n",
              "          const docLinkHtml = 'Like what you see? Visit the ' +\n",
              "            '<a target=\"_blank\" href=https://colab.research.google.com/notebooks/data_table.ipynb>data table notebook</a>'\n",
              "            + ' to learn more about interactive tables.';\n",
              "          element.innerHTML = '';\n",
              "          dataTable['output_type'] = 'display_data';\n",
              "          await google.colab.output.renderOutput(dataTable, element);\n",
              "          const docLink = document.createElement('div');\n",
              "          docLink.innerHTML = docLinkHtml;\n",
              "          element.appendChild(docLink);\n",
              "        }\n",
              "      </script>\n",
              "    </div>\n",
              "  </div>\n",
              "  "
            ]
          },
          "metadata": {},
          "execution_count": 255
        }
      ]
    },
    {
      "cell_type": "code",
      "source": [
        "Travel3.drop(['Transportation cost'],axis=\"columns\",inplace=True)"
      ],
      "metadata": {
        "id": "sspGYIRKpwY6"
      },
      "execution_count": 257,
      "outputs": []
    },
    {
      "cell_type": "code",
      "source": [
        "Travel3.head()"
      ],
      "metadata": {
        "colab": {
          "base_uri": "https://localhost:8080/",
          "height": 302
        },
        "id": "IRsb5vsHqAs1",
        "outputId": "2840004a-6389-401f-8346-9735eefb25d0"
      },
      "execution_count": 258,
      "outputs": [
        {
          "output_type": "execute_result",
          "data": {
            "text/plain": [
              "   Trip ID       Destination Start date   End date  Duration (days)  \\\n",
              "0        1        London, UK   5/1/2023   5/8/2023              7.0   \n",
              "1        2  Phuket, Thailand  6/15/2023  6/20/2023              5.0   \n",
              "2        3   Bali, Indonesia   7/1/2023   7/8/2023              7.0   \n",
              "3        4     New York, USA  8/15/2023  8/29/2023             14.0   \n",
              "4        5      Tokyo, Japan  9/10/2023  9/17/2023              7.0   \n",
              "\n",
              "   Traveler name  Traveler age Traveler gender Traveler nationality  \\\n",
              "0     John Smith          35.0            Male             American   \n",
              "1       Jane Doe          28.0          Female             Canadian   \n",
              "2      David Lee          45.0            Male               Korean   \n",
              "3  Sarah Johnson          29.0          Female              British   \n",
              "4     Kim Nguyen          26.0          Female           Vietnamese   \n",
              "\n",
              "  Accommodation type  Accommodation Cost Transportation Type  \\\n",
              "0              Hotel                1200               Plane   \n",
              "1             Resort                 800               Plane   \n",
              "2              Villa                1000               Plane   \n",
              "3              Hotel                2000               Plane   \n",
              "4             Airbnb                 700               Train   \n",
              "\n",
              "   Transportation Cost  \n",
              "0                  600  \n",
              "1                  500  \n",
              "2                  700  \n",
              "3                 1000  \n",
              "4                  200  "
            ],
            "text/html": [
              "\n",
              "  <div id=\"df-c2aae9fb-17d2-4a40-8c07-855d4bfe8a31\">\n",
              "    <div class=\"colab-df-container\">\n",
              "      <div>\n",
              "<style scoped>\n",
              "    .dataframe tbody tr th:only-of-type {\n",
              "        vertical-align: middle;\n",
              "    }\n",
              "\n",
              "    .dataframe tbody tr th {\n",
              "        vertical-align: top;\n",
              "    }\n",
              "\n",
              "    .dataframe thead th {\n",
              "        text-align: right;\n",
              "    }\n",
              "</style>\n",
              "<table border=\"1\" class=\"dataframe\">\n",
              "  <thead>\n",
              "    <tr style=\"text-align: right;\">\n",
              "      <th></th>\n",
              "      <th>Trip ID</th>\n",
              "      <th>Destination</th>\n",
              "      <th>Start date</th>\n",
              "      <th>End date</th>\n",
              "      <th>Duration (days)</th>\n",
              "      <th>Traveler name</th>\n",
              "      <th>Traveler age</th>\n",
              "      <th>Traveler gender</th>\n",
              "      <th>Traveler nationality</th>\n",
              "      <th>Accommodation type</th>\n",
              "      <th>Accommodation Cost</th>\n",
              "      <th>Transportation Type</th>\n",
              "      <th>Transportation Cost</th>\n",
              "    </tr>\n",
              "  </thead>\n",
              "  <tbody>\n",
              "    <tr>\n",
              "      <th>0</th>\n",
              "      <td>1</td>\n",
              "      <td>London, UK</td>\n",
              "      <td>5/1/2023</td>\n",
              "      <td>5/8/2023</td>\n",
              "      <td>7.0</td>\n",
              "      <td>John Smith</td>\n",
              "      <td>35.0</td>\n",
              "      <td>Male</td>\n",
              "      <td>American</td>\n",
              "      <td>Hotel</td>\n",
              "      <td>1200</td>\n",
              "      <td>Plane</td>\n",
              "      <td>600</td>\n",
              "    </tr>\n",
              "    <tr>\n",
              "      <th>1</th>\n",
              "      <td>2</td>\n",
              "      <td>Phuket, Thailand</td>\n",
              "      <td>6/15/2023</td>\n",
              "      <td>6/20/2023</td>\n",
              "      <td>5.0</td>\n",
              "      <td>Jane Doe</td>\n",
              "      <td>28.0</td>\n",
              "      <td>Female</td>\n",
              "      <td>Canadian</td>\n",
              "      <td>Resort</td>\n",
              "      <td>800</td>\n",
              "      <td>Plane</td>\n",
              "      <td>500</td>\n",
              "    </tr>\n",
              "    <tr>\n",
              "      <th>2</th>\n",
              "      <td>3</td>\n",
              "      <td>Bali, Indonesia</td>\n",
              "      <td>7/1/2023</td>\n",
              "      <td>7/8/2023</td>\n",
              "      <td>7.0</td>\n",
              "      <td>David Lee</td>\n",
              "      <td>45.0</td>\n",
              "      <td>Male</td>\n",
              "      <td>Korean</td>\n",
              "      <td>Villa</td>\n",
              "      <td>1000</td>\n",
              "      <td>Plane</td>\n",
              "      <td>700</td>\n",
              "    </tr>\n",
              "    <tr>\n",
              "      <th>3</th>\n",
              "      <td>4</td>\n",
              "      <td>New York, USA</td>\n",
              "      <td>8/15/2023</td>\n",
              "      <td>8/29/2023</td>\n",
              "      <td>14.0</td>\n",
              "      <td>Sarah Johnson</td>\n",
              "      <td>29.0</td>\n",
              "      <td>Female</td>\n",
              "      <td>British</td>\n",
              "      <td>Hotel</td>\n",
              "      <td>2000</td>\n",
              "      <td>Plane</td>\n",
              "      <td>1000</td>\n",
              "    </tr>\n",
              "    <tr>\n",
              "      <th>4</th>\n",
              "      <td>5</td>\n",
              "      <td>Tokyo, Japan</td>\n",
              "      <td>9/10/2023</td>\n",
              "      <td>9/17/2023</td>\n",
              "      <td>7.0</td>\n",
              "      <td>Kim Nguyen</td>\n",
              "      <td>26.0</td>\n",
              "      <td>Female</td>\n",
              "      <td>Vietnamese</td>\n",
              "      <td>Airbnb</td>\n",
              "      <td>700</td>\n",
              "      <td>Train</td>\n",
              "      <td>200</td>\n",
              "    </tr>\n",
              "  </tbody>\n",
              "</table>\n",
              "</div>\n",
              "      <button class=\"colab-df-convert\" onclick=\"convertToInteractive('df-c2aae9fb-17d2-4a40-8c07-855d4bfe8a31')\"\n",
              "              title=\"Convert this dataframe to an interactive table.\"\n",
              "              style=\"display:none;\">\n",
              "        \n",
              "  <svg xmlns=\"http://www.w3.org/2000/svg\" height=\"24px\"viewBox=\"0 0 24 24\"\n",
              "       width=\"24px\">\n",
              "    <path d=\"M0 0h24v24H0V0z\" fill=\"none\"/>\n",
              "    <path d=\"M18.56 5.44l.94 2.06.94-2.06 2.06-.94-2.06-.94-.94-2.06-.94 2.06-2.06.94zm-11 1L8.5 8.5l.94-2.06 2.06-.94-2.06-.94L8.5 2.5l-.94 2.06-2.06.94zm10 10l.94 2.06.94-2.06 2.06-.94-2.06-.94-.94-2.06-.94 2.06-2.06.94z\"/><path d=\"M17.41 7.96l-1.37-1.37c-.4-.4-.92-.59-1.43-.59-.52 0-1.04.2-1.43.59L10.3 9.45l-7.72 7.72c-.78.78-.78 2.05 0 2.83L4 21.41c.39.39.9.59 1.41.59.51 0 1.02-.2 1.41-.59l7.78-7.78 2.81-2.81c.8-.78.8-2.07 0-2.86zM5.41 20L4 18.59l7.72-7.72 1.47 1.35L5.41 20z\"/>\n",
              "  </svg>\n",
              "      </button>\n",
              "      \n",
              "  <style>\n",
              "    .colab-df-container {\n",
              "      display:flex;\n",
              "      flex-wrap:wrap;\n",
              "      gap: 12px;\n",
              "    }\n",
              "\n",
              "    .colab-df-convert {\n",
              "      background-color: #E8F0FE;\n",
              "      border: none;\n",
              "      border-radius: 50%;\n",
              "      cursor: pointer;\n",
              "      display: none;\n",
              "      fill: #1967D2;\n",
              "      height: 32px;\n",
              "      padding: 0 0 0 0;\n",
              "      width: 32px;\n",
              "    }\n",
              "\n",
              "    .colab-df-convert:hover {\n",
              "      background-color: #E2EBFA;\n",
              "      box-shadow: 0px 1px 2px rgba(60, 64, 67, 0.3), 0px 1px 3px 1px rgba(60, 64, 67, 0.15);\n",
              "      fill: #174EA6;\n",
              "    }\n",
              "\n",
              "    [theme=dark] .colab-df-convert {\n",
              "      background-color: #3B4455;\n",
              "      fill: #D2E3FC;\n",
              "    }\n",
              "\n",
              "    [theme=dark] .colab-df-convert:hover {\n",
              "      background-color: #434B5C;\n",
              "      box-shadow: 0px 1px 3px 1px rgba(0, 0, 0, 0.15);\n",
              "      filter: drop-shadow(0px 1px 2px rgba(0, 0, 0, 0.3));\n",
              "      fill: #FFFFFF;\n",
              "    }\n",
              "  </style>\n",
              "\n",
              "      <script>\n",
              "        const buttonEl =\n",
              "          document.querySelector('#df-c2aae9fb-17d2-4a40-8c07-855d4bfe8a31 button.colab-df-convert');\n",
              "        buttonEl.style.display =\n",
              "          google.colab.kernel.accessAllowed ? 'block' : 'none';\n",
              "\n",
              "        async function convertToInteractive(key) {\n",
              "          const element = document.querySelector('#df-c2aae9fb-17d2-4a40-8c07-855d4bfe8a31');\n",
              "          const dataTable =\n",
              "            await google.colab.kernel.invokeFunction('convertToInteractive',\n",
              "                                                     [key], {});\n",
              "          if (!dataTable) return;\n",
              "\n",
              "          const docLinkHtml = 'Like what you see? Visit the ' +\n",
              "            '<a target=\"_blank\" href=https://colab.research.google.com/notebooks/data_table.ipynb>data table notebook</a>'\n",
              "            + ' to learn more about interactive tables.';\n",
              "          element.innerHTML = '';\n",
              "          dataTable['output_type'] = 'display_data';\n",
              "          await google.colab.output.renderOutput(dataTable, element);\n",
              "          const docLink = document.createElement('div');\n",
              "          docLink.innerHTML = docLinkHtml;\n",
              "          element.appendChild(docLink);\n",
              "        }\n",
              "      </script>\n",
              "    </div>\n",
              "  </div>\n",
              "  "
            ]
          },
          "metadata": {},
          "execution_count": 258
        }
      ]
    },
    {
      "cell_type": "code",
      "source": [
        "sns.boxplot(y='Transportation Cost',data=Travel3)"
      ],
      "metadata": {
        "colab": {
          "base_uri": "https://localhost:8080/",
          "height": 269
        },
        "id": "-ttt23-YqNq8",
        "outputId": "0be1dc2b-1445-46df-c83b-a7f15c2e9157"
      },
      "execution_count": 261,
      "outputs": [
        {
          "output_type": "execute_result",
          "data": {
            "text/plain": [
              "<AxesSubplot:ylabel='Transportation Cost'>"
            ]
          },
          "metadata": {},
          "execution_count": 261
        },
        {
          "output_type": "display_data",
          "data": {
            "text/plain": [
              "<Figure size 432x288 with 1 Axes>"
            ],
            "image/png": "[encoded data removed]"
          },
          "metadata": {
            "needs_background": "light"
          }
        }
      ]
    },
    {
      "cell_type": "markdown",
      "source": [
        "from the above boxplot, the following can be inferred:\n",
        "1. minimum transportation cost was a null value filled with 0\n",
        "2. 25% of the transportation costs were below 500\n",
        "3. The median transportation cost was 500\n",
        "4. 75% of the transportation costs were below 1000\n",
        "5. Most of the maximum transportation costs were <= 1500\n",
        "6. Transportation costs >= 1500 were rare. (Outliers)"
      ],
      "metadata": {
        "id": "e-Vt5H3Qqbt7"
      }
    }
  ]
}