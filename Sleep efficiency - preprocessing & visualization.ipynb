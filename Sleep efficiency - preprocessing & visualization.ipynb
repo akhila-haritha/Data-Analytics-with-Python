{
 "cells": [
  {
   "cell_type": "markdown",
   "id": "2cd4f0be",
   "metadata": {},
   "source": [
    "# Importing Libraries"
   ]
  },
  {
   "cell_type": "code",
   "execution_count": 2,
   "id": "1ddd51e3",
   "metadata": {},
   "outputs": [
    {
     "name": "stdout",
     "output_type": "stream",
     "text": [
      "Requirement already satisfied: pywaffle in z:\\plmppn\\anaconda\\lib\\site-packages (1.1.0)\n",
      "Requirement already satisfied: matplotlib in z:\\plmppn\\anaconda\\lib\\site-packages (from pywaffle) (3.5.1)\n",
      "Requirement already satisfied: fontawesomefree in z:\\plmppn\\anaconda\\lib\\site-packages (from pywaffle) (6.2.1)\n",
      "Requirement already satisfied: python-dateutil>=2.7 in z:\\plmppn\\anaconda\\lib\\site-packages (from matplotlib->pywaffle) (2.8.2)\n",
      "Requirement already satisfied: cycler>=0.10 in z:\\plmppn\\anaconda\\lib\\site-packages (from matplotlib->pywaffle) (0.11.0)\n",
      "Requirement already satisfied: pyparsing>=2.2.1 in z:\\plmppn\\anaconda\\lib\\site-packages (from matplotlib->pywaffle) (3.0.4)\n",
      "Requirement already satisfied: numpy>=1.17 in z:\\plmppn\\anaconda\\lib\\site-packages (from matplotlib->pywaffle) (1.21.5)\n",
      "Requirement already satisfied: kiwisolver>=1.0.1 in z:\\plmppn\\anaconda\\lib\\site-packages (from matplotlib->pywaffle) (1.3.2)\n",
      "Requirement already satisfied: packaging>=20.0 in z:\\plmppn\\anaconda\\lib\\site-packages (from matplotlib->pywaffle) (21.3)\n",
      "Requirement already satisfied: fonttools>=4.22.0 in z:\\plmppn\\anaconda\\lib\\site-packages (from matplotlib->pywaffle) (4.25.0)\n",
      "Requirement already satisfied: pillow>=6.2.0 in z:\\plmppn\\anaconda\\lib\\site-packages (from matplotlib->pywaffle) (9.0.1)\n",
      "Requirement already satisfied: six>=1.5 in z:\\plmppn\\anaconda\\lib\\site-packages (from python-dateutil>=2.7->matplotlib->pywaffle) (1.16.0)\n",
      "Note: you may need to restart the kernel to use updated packages.\n"
     ]
    }
   ],
   "source": [
    "pip install pywaffle"
   ]
  },
  {
   "cell_type": "code",
   "execution_count": 47,
   "id": "4493dd70",
   "metadata": {},
   "outputs": [],
   "source": [
    "from pylab import *\n",
    "import pandas as pd\n",
    "import seaborn as sns\n",
    "from pywaffle import Waffle\n",
    "from sklearn.linear_model import LinearRegression"
   ]
  },
  {
   "cell_type": "markdown",
   "id": "8a468e34",
   "metadata": {},
   "source": [
    "# Loading Dataset"
   ]
  },
  {
   "cell_type": "code",
   "execution_count": 4,
   "id": "11820911",
   "metadata": {},
   "outputs": [],
   "source": [
    "df = pd.read_csv('Sleep_Efficiency.csv')"
   ]
  },
  {
   "cell_type": "code",
   "execution_count": 5,
   "id": "4d853531",
   "metadata": {},
   "outputs": [
    {
     "data": {
      "text/html": [
       "<div>\n",
       "<style scoped>\n",
       "    .dataframe tbody tr th:only-of-type {\n",
       "        vertical-align: middle;\n",
       "    }\n",
       "\n",
       "    .dataframe tbody tr th {\n",
       "        vertical-align: top;\n",
       "    }\n",
       "\n",
       "    .dataframe thead th {\n",
       "        text-align: right;\n",
       "    }\n",
       "</style>\n",
       "<table border=\"1\" class=\"dataframe\">\n",
       "  <thead>\n",
       "    <tr style=\"text-align: right;\">\n",
       "      <th></th>\n",
       "      <th>ID</th>\n",
       "      <th>Age</th>\n",
       "      <th>Gender</th>\n",
       "      <th>Bedtime</th>\n",
       "      <th>Wakeup time</th>\n",
       "      <th>Sleep duration</th>\n",
       "      <th>Sleep efficiency</th>\n",
       "      <th>REM sleep percentage</th>\n",
       "      <th>Deep sleep percentage</th>\n",
       "      <th>Light sleep percentage</th>\n",
       "      <th>Awakenings</th>\n",
       "      <th>Caffeine consumption</th>\n",
       "      <th>Alcohol consumption</th>\n",
       "      <th>Smoking status</th>\n",
       "      <th>Exercise frequency</th>\n",
       "    </tr>\n",
       "  </thead>\n",
       "  <tbody>\n",
       "    <tr>\n",
       "      <th>0</th>\n",
       "      <td>1</td>\n",
       "      <td>65</td>\n",
       "      <td>Female</td>\n",
       "      <td>2021-03-06 01:00:00</td>\n",
       "      <td>2021-03-06 07:00:00</td>\n",
       "      <td>6.0</td>\n",
       "      <td>0.88</td>\n",
       "      <td>18</td>\n",
       "      <td>70</td>\n",
       "      <td>10</td>\n",
       "      <td>0.0</td>\n",
       "      <td>0.0</td>\n",
       "      <td>0.0</td>\n",
       "      <td>Yes</td>\n",
       "      <td>3.0</td>\n",
       "    </tr>\n",
       "    <tr>\n",
       "      <th>1</th>\n",
       "      <td>2</td>\n",
       "      <td>69</td>\n",
       "      <td>Male</td>\n",
       "      <td>2021-12-05 02:00:00</td>\n",
       "      <td>2021-12-05 09:00:00</td>\n",
       "      <td>7.0</td>\n",
       "      <td>0.66</td>\n",
       "      <td>24</td>\n",
       "      <td>28</td>\n",
       "      <td>53</td>\n",
       "      <td>3.0</td>\n",
       "      <td>0.0</td>\n",
       "      <td>3.0</td>\n",
       "      <td>Yes</td>\n",
       "      <td>3.0</td>\n",
       "    </tr>\n",
       "    <tr>\n",
       "      <th>2</th>\n",
       "      <td>3</td>\n",
       "      <td>40</td>\n",
       "      <td>Female</td>\n",
       "      <td>2021-05-25 21:30:00</td>\n",
       "      <td>2021-05-25 05:30:00</td>\n",
       "      <td>8.0</td>\n",
       "      <td>0.89</td>\n",
       "      <td>20</td>\n",
       "      <td>70</td>\n",
       "      <td>10</td>\n",
       "      <td>1.0</td>\n",
       "      <td>0.0</td>\n",
       "      <td>0.0</td>\n",
       "      <td>No</td>\n",
       "      <td>3.0</td>\n",
       "    </tr>\n",
       "    <tr>\n",
       "      <th>3</th>\n",
       "      <td>4</td>\n",
       "      <td>40</td>\n",
       "      <td>Female</td>\n",
       "      <td>2021-11-03 02:30:00</td>\n",
       "      <td>2021-11-03 08:30:00</td>\n",
       "      <td>6.0</td>\n",
       "      <td>0.51</td>\n",
       "      <td>28</td>\n",
       "      <td>25</td>\n",
       "      <td>52</td>\n",
       "      <td>3.0</td>\n",
       "      <td>50.0</td>\n",
       "      <td>5.0</td>\n",
       "      <td>Yes</td>\n",
       "      <td>1.0</td>\n",
       "    </tr>\n",
       "    <tr>\n",
       "      <th>4</th>\n",
       "      <td>5</td>\n",
       "      <td>57</td>\n",
       "      <td>Male</td>\n",
       "      <td>2021-03-13 01:00:00</td>\n",
       "      <td>2021-03-13 09:00:00</td>\n",
       "      <td>8.0</td>\n",
       "      <td>0.76</td>\n",
       "      <td>27</td>\n",
       "      <td>55</td>\n",
       "      <td>18</td>\n",
       "      <td>3.0</td>\n",
       "      <td>0.0</td>\n",
       "      <td>3.0</td>\n",
       "      <td>No</td>\n",
       "      <td>3.0</td>\n",
       "    </tr>\n",
       "  </tbody>\n",
       "</table>\n",
       "</div>"
      ],
      "text/plain": [
       "   ID  Age  Gender              Bedtime          Wakeup time  Sleep duration  \\\n",
       "0   1   65  Female  2021-03-06 01:00:00  2021-03-06 07:00:00             6.0   \n",
       "1   2   69    Male  2021-12-05 02:00:00  2021-12-05 09:00:00             7.0   \n",
       "2   3   40  Female  2021-05-25 21:30:00  2021-05-25 05:30:00             8.0   \n",
       "3   4   40  Female  2021-11-03 02:30:00  2021-11-03 08:30:00             6.0   \n",
       "4   5   57    Male  2021-03-13 01:00:00  2021-03-13 09:00:00             8.0   \n",
       "\n",
       "   Sleep efficiency  REM sleep percentage  Deep sleep percentage  \\\n",
       "0              0.88                    18                     70   \n",
       "1              0.66                    24                     28   \n",
       "2              0.89                    20                     70   \n",
       "3              0.51                    28                     25   \n",
       "4              0.76                    27                     55   \n",
       "\n",
       "   Light sleep percentage  Awakenings  Caffeine consumption  \\\n",
       "0                      10         0.0                   0.0   \n",
       "1                      53         3.0                   0.0   \n",
       "2                      10         1.0                   0.0   \n",
       "3                      52         3.0                  50.0   \n",
       "4                      18         3.0                   0.0   \n",
       "\n",
       "   Alcohol consumption Smoking status  Exercise frequency  \n",
       "0                  0.0            Yes                 3.0  \n",
       "1                  3.0            Yes                 3.0  \n",
       "2                  0.0             No                 3.0  \n",
       "3                  5.0            Yes                 1.0  \n",
       "4                  3.0             No                 3.0  "
      ]
     },
     "execution_count": 5,
     "metadata": {},
     "output_type": "execute_result"
    }
   ],
   "source": [
    "df.head()"
   ]
  },
  {
   "cell_type": "markdown",
   "id": "43e7e0ed",
   "metadata": {},
   "source": [
    "# Understanding the Dataset"
   ]
  },
  {
   "cell_type": "code",
   "execution_count": 6,
   "id": "9b2b417b",
   "metadata": {},
   "outputs": [
    {
     "data": {
      "text/plain": [
       "(452, 15)"
      ]
     },
     "execution_count": 6,
     "metadata": {},
     "output_type": "execute_result"
    }
   ],
   "source": [
    "df.shape"
   ]
  },
  {
   "cell_type": "code",
   "execution_count": 7,
   "id": "742492a1",
   "metadata": {},
   "outputs": [
    {
     "data": {
      "text/plain": [
       "Index(['ID', 'Age', 'Gender', 'Bedtime', 'Wakeup time', 'Sleep duration',\n",
       "       'Sleep efficiency', 'REM sleep percentage', 'Deep sleep percentage',\n",
       "       'Light sleep percentage', 'Awakenings', 'Caffeine consumption',\n",
       "       'Alcohol consumption', 'Smoking status', 'Exercise frequency'],\n",
       "      dtype='object')"
      ]
     },
     "execution_count": 7,
     "metadata": {},
     "output_type": "execute_result"
    }
   ],
   "source": [
    "df.columns"
   ]
  },
  {
   "cell_type": "code",
   "execution_count": 8,
   "id": "92aef1c2",
   "metadata": {},
   "outputs": [
    {
     "name": "stdout",
     "output_type": "stream",
     "text": [
      "<class 'pandas.core.frame.DataFrame'>\n",
      "RangeIndex: 452 entries, 0 to 451\n",
      "Data columns (total 15 columns):\n",
      " #   Column                  Non-Null Count  Dtype  \n",
      "---  ------                  --------------  -----  \n",
      " 0   ID                      452 non-null    int64  \n",
      " 1   Age                     452 non-null    int64  \n",
      " 2   Gender                  452 non-null    object \n",
      " 3   Bedtime                 452 non-null    object \n",
      " 4   Wakeup time             452 non-null    object \n",
      " 5   Sleep duration          452 non-null    float64\n",
      " 6   Sleep efficiency        452 non-null    float64\n",
      " 7   REM sleep percentage    452 non-null    int64  \n",
      " 8   Deep sleep percentage   452 non-null    int64  \n",
      " 9   Light sleep percentage  452 non-null    int64  \n",
      " 10  Awakenings              432 non-null    float64\n",
      " 11  Caffeine consumption    427 non-null    float64\n",
      " 12  Alcohol consumption     436 non-null    float64\n",
      " 13  Smoking status          452 non-null    object \n",
      " 14  Exercise frequency      446 non-null    float64\n",
      "dtypes: float64(6), int64(5), object(4)\n",
      "memory usage: 53.1+ KB\n"
     ]
    }
   ],
   "source": [
    "df.info()"
   ]
  },
  {
   "cell_type": "code",
   "execution_count": 9,
   "id": "0ecd3598",
   "metadata": {},
   "outputs": [
    {
     "data": {
      "text/plain": [
       "ID                        0.000000\n",
       "Age                       0.000000\n",
       "Gender                    0.000000\n",
       "Bedtime                   0.000000\n",
       "Wakeup time               0.000000\n",
       "Sleep duration            0.000000\n",
       "Sleep efficiency          0.000000\n",
       "REM sleep percentage      0.000000\n",
       "Deep sleep percentage     0.000000\n",
       "Light sleep percentage    0.000000\n",
       "Awakenings                0.044248\n",
       "Caffeine consumption      0.055310\n",
       "Alcohol consumption       0.035398\n",
       "Smoking status            0.000000\n",
       "Exercise frequency        0.013274\n",
       "dtype: float64"
      ]
     },
     "execution_count": 9,
     "metadata": {},
     "output_type": "execute_result"
    }
   ],
   "source": [
    "#Knowing the percentage of the null values\n",
    "df.isnull().sum()/df.shape[0]"
   ]
  },
  {
   "cell_type": "markdown",
   "id": "144a0d74",
   "metadata": {},
   "source": [
    "# Data pre-processing"
   ]
  },
  {
   "cell_type": "raw",
   "id": "cf244397",
   "metadata": {},
   "source": [
    "Since the percentage of null values in every column of df is <5, they need not be removed and can be ignored."
   ]
  },
  {
   "cell_type": "code",
   "execution_count": 10,
   "id": "0e3b69aa",
   "metadata": {},
   "outputs": [],
   "source": [
    "#Duplicates\n",
    "df.drop_duplicates(inplace=True)\n"
   ]
  },
  {
   "cell_type": "code",
   "execution_count": 52,
   "id": "2e7837c5",
   "metadata": {},
   "outputs": [
    {
     "data": {
      "text/plain": [
       "(452, 15)"
      ]
     },
     "execution_count": 52,
     "metadata": {},
     "output_type": "execute_result"
    }
   ],
   "source": [
    "df.shape"
   ]
  },
  {
   "cell_type": "raw",
   "id": "18a5912a",
   "metadata": {},
   "source": [
    "This dataset didn't have any duplicates."
   ]
  },
  {
   "cell_type": "raw",
   "id": "6e9ebba5",
   "metadata": {},
   "source": [
    "The columns Bedtime and wakeuptime contain the date along with the time. Dates can be discarded."
   ]
  },
  {
   "cell_type": "code",
   "execution_count": 12,
   "id": "09cf32a5",
   "metadata": {},
   "outputs": [],
   "source": [
    "#Editing the columns\n",
    "def edit(i):\n",
    "    i = int(i[11:13])\n",
    "    return i\n",
    "    \n",
    "    "
   ]
  },
  {
   "cell_type": "code",
   "execution_count": 13,
   "id": "44d55303",
   "metadata": {},
   "outputs": [
    {
     "name": "stdout",
     "output_type": "stream",
     "text": [
      "[1, 2, 21, 2, 1, 21, 21, 0, 2, 1, 0, 22, 2, 1, 1, 22, 1, 23, 0, 0, 0, 2, 22, 2, 0, 0, 0, 2, 21, 22, 0, 0, 0, 0, 21, 1, 22, 0, 0, 2, 22, 1, 0, 22, 23, 1, 0, 0, 0, 21, 22, 2, 1, 1, 1, 22, 1, 2, 1, 21, 2, 22, 21, 21, 1, 1, 0, 1, 0, 22, 2, 23, 21, 2, 22, 0, 21, 2, 22, 2, 1, 21, 2, 22, 22, 23, 0, 0, 2, 0, 2, 21, 21, 22, 0, 2, 21, 23, 2, 1, 0, 1, 0, 23, 23, 22, 21, 0, 23, 0, 0, 23, 23, 1, 0, 0, 0, 21, 22, 21, 22, 1, 0, 1, 2, 22, 0, 23, 23, 21, 0, 0, 22, 21, 23, 0, 0, 2, 2, 0, 22, 21, 22, 21, 2, 1, 23, 0, 21, 2, 1, 23, 23, 2, 2, 1, 21, 21, 1, 0, 2, 21, 22, 0, 2, 22, 23, 22, 23, 1, 21, 21, 23, 2, 22, 22, 2, 2, 0, 23, 2, 21, 21, 0, 21, 23, 0, 0, 2, 1, 0, 22, 0, 2, 21, 2, 0, 2, 1, 22, 0, 2, 0, 23, 22, 21, 1, 2, 22, 2, 0, 1, 23, 0, 0, 23, 21, 0, 1, 1, 21, 23, 0, 2, 23, 1, 22, 21, 0, 22, 1, 23, 23, 1, 1, 21, 21, 1, 1, 22, 22, 0, 2, 0, 22, 1, 22, 22, 0, 0, 21, 0, 2, 21, 1, 2, 0, 22, 22, 21, 22, 22, 21, 0, 22, 2, 0, 22, 1, 0, 0, 21, 1, 0, 22, 23, 22, 21, 2, 22, 0, 2, 21, 23, 2, 23, 22, 21, 23, 22, 22, 21, 22, 22, 23, 1, 0, 0, 23, 21, 22, 0, 0, 2, 0, 0, 21, 0, 1, 21, 23, 22, 1, 23, 22, 22, 0, 21, 0, 0, 23, 23, 21, 0, 1, 1, 0, 23, 22, 0, 22, 21, 1, 22, 23, 0, 22, 22, 2, 22, 22, 0, 1, 2, 21, 0, 22, 0, 1, 21, 21, 0, 21, 22, 22, 2, 22, 0, 22, 1, 0, 0, 23, 1, 0, 1, 23, 2, 1, 1, 22, 2, 22, 23, 1, 2, 22, 0, 0, 22, 21, 23, 21, 22, 21, 0, 2, 21, 0, 23, 23, 0, 23, 21, 2, 21, 1, 2, 1, 2, 21, 1, 22, 21, 2, 2, 22, 0, 0, 23, 2, 0, 1, 0, 0, 0, 22, 22, 22, 0, 21, 22, 21, 0, 0, 21, 23, 23, 1, 22, 0, 23, 1, 21, 23, 22, 21, 1, 1, 23, 21, 0, 1, 2, 0, 23, 0, 22, 21, 23, 21, 2]\n"
     ]
    }
   ],
   "source": [
    "l = list(df['Bedtime'])\n",
    "bedtime = []\n",
    "for i in l:\n",
    "    bedtime.append(edit(i))\n",
    "\n",
    "print(bedtime)\n",
    "\n",
    "    \n",
    "    "
   ]
  },
  {
   "cell_type": "code",
   "execution_count": 14,
   "id": "546f7be0",
   "metadata": {},
   "outputs": [],
   "source": [
    "df['Bedtime'] = bedtime"
   ]
  },
  {
   "cell_type": "code",
   "execution_count": 15,
   "id": "9c072878",
   "metadata": {},
   "outputs": [],
   "source": [
    "l = list(df['Wakeup time'])\n",
    "wakeup = [ ]\n",
    "for i in l:\n",
    "    wakeup.append(edit(i))\n",
    "\n",
    "df['Wakeup time'] = wakeup\n",
    "    "
   ]
  },
  {
   "cell_type": "code",
   "execution_count": 16,
   "id": "a38f8c97",
   "metadata": {},
   "outputs": [
    {
     "data": {
      "text/html": [
       "<div>\n",
       "<style scoped>\n",
       "    .dataframe tbody tr th:only-of-type {\n",
       "        vertical-align: middle;\n",
       "    }\n",
       "\n",
       "    .dataframe tbody tr th {\n",
       "        vertical-align: top;\n",
       "    }\n",
       "\n",
       "    .dataframe thead th {\n",
       "        text-align: right;\n",
       "    }\n",
       "</style>\n",
       "<table border=\"1\" class=\"dataframe\">\n",
       "  <thead>\n",
       "    <tr style=\"text-align: right;\">\n",
       "      <th></th>\n",
       "      <th>ID</th>\n",
       "      <th>Age</th>\n",
       "      <th>Gender</th>\n",
       "      <th>Bedtime</th>\n",
       "      <th>Wakeup time</th>\n",
       "      <th>Sleep duration</th>\n",
       "      <th>Sleep efficiency</th>\n",
       "      <th>REM sleep percentage</th>\n",
       "      <th>Deep sleep percentage</th>\n",
       "      <th>Light sleep percentage</th>\n",
       "      <th>Awakenings</th>\n",
       "      <th>Caffeine consumption</th>\n",
       "      <th>Alcohol consumption</th>\n",
       "      <th>Smoking status</th>\n",
       "      <th>Exercise frequency</th>\n",
       "    </tr>\n",
       "  </thead>\n",
       "  <tbody>\n",
       "    <tr>\n",
       "      <th>0</th>\n",
       "      <td>1</td>\n",
       "      <td>65</td>\n",
       "      <td>Female</td>\n",
       "      <td>1</td>\n",
       "      <td>7</td>\n",
       "      <td>6.0</td>\n",
       "      <td>0.88</td>\n",
       "      <td>18</td>\n",
       "      <td>70</td>\n",
       "      <td>10</td>\n",
       "      <td>0.0</td>\n",
       "      <td>0.0</td>\n",
       "      <td>0.0</td>\n",
       "      <td>Yes</td>\n",
       "      <td>3.0</td>\n",
       "    </tr>\n",
       "    <tr>\n",
       "      <th>1</th>\n",
       "      <td>2</td>\n",
       "      <td>69</td>\n",
       "      <td>Male</td>\n",
       "      <td>2</td>\n",
       "      <td>9</td>\n",
       "      <td>7.0</td>\n",
       "      <td>0.66</td>\n",
       "      <td>24</td>\n",
       "      <td>28</td>\n",
       "      <td>53</td>\n",
       "      <td>3.0</td>\n",
       "      <td>0.0</td>\n",
       "      <td>3.0</td>\n",
       "      <td>Yes</td>\n",
       "      <td>3.0</td>\n",
       "    </tr>\n",
       "    <tr>\n",
       "      <th>2</th>\n",
       "      <td>3</td>\n",
       "      <td>40</td>\n",
       "      <td>Female</td>\n",
       "      <td>21</td>\n",
       "      <td>5</td>\n",
       "      <td>8.0</td>\n",
       "      <td>0.89</td>\n",
       "      <td>20</td>\n",
       "      <td>70</td>\n",
       "      <td>10</td>\n",
       "      <td>1.0</td>\n",
       "      <td>0.0</td>\n",
       "      <td>0.0</td>\n",
       "      <td>No</td>\n",
       "      <td>3.0</td>\n",
       "    </tr>\n",
       "    <tr>\n",
       "      <th>3</th>\n",
       "      <td>4</td>\n",
       "      <td>40</td>\n",
       "      <td>Female</td>\n",
       "      <td>2</td>\n",
       "      <td>8</td>\n",
       "      <td>6.0</td>\n",
       "      <td>0.51</td>\n",
       "      <td>28</td>\n",
       "      <td>25</td>\n",
       "      <td>52</td>\n",
       "      <td>3.0</td>\n",
       "      <td>50.0</td>\n",
       "      <td>5.0</td>\n",
       "      <td>Yes</td>\n",
       "      <td>1.0</td>\n",
       "    </tr>\n",
       "    <tr>\n",
       "      <th>4</th>\n",
       "      <td>5</td>\n",
       "      <td>57</td>\n",
       "      <td>Male</td>\n",
       "      <td>1</td>\n",
       "      <td>9</td>\n",
       "      <td>8.0</td>\n",
       "      <td>0.76</td>\n",
       "      <td>27</td>\n",
       "      <td>55</td>\n",
       "      <td>18</td>\n",
       "      <td>3.0</td>\n",
       "      <td>0.0</td>\n",
       "      <td>3.0</td>\n",
       "      <td>No</td>\n",
       "      <td>3.0</td>\n",
       "    </tr>\n",
       "  </tbody>\n",
       "</table>\n",
       "</div>"
      ],
      "text/plain": [
       "   ID  Age  Gender  Bedtime  Wakeup time  Sleep duration  Sleep efficiency  \\\n",
       "0   1   65  Female        1            7             6.0              0.88   \n",
       "1   2   69    Male        2            9             7.0              0.66   \n",
       "2   3   40  Female       21            5             8.0              0.89   \n",
       "3   4   40  Female        2            8             6.0              0.51   \n",
       "4   5   57    Male        1            9             8.0              0.76   \n",
       "\n",
       "   REM sleep percentage  Deep sleep percentage  Light sleep percentage  \\\n",
       "0                    18                     70                      10   \n",
       "1                    24                     28                      53   \n",
       "2                    20                     70                      10   \n",
       "3                    28                     25                      52   \n",
       "4                    27                     55                      18   \n",
       "\n",
       "   Awakenings  Caffeine consumption  Alcohol consumption Smoking status  \\\n",
       "0         0.0                   0.0                  0.0            Yes   \n",
       "1         3.0                   0.0                  3.0            Yes   \n",
       "2         1.0                   0.0                  0.0             No   \n",
       "3         3.0                  50.0                  5.0            Yes   \n",
       "4         3.0                   0.0                  3.0             No   \n",
       "\n",
       "   Exercise frequency  \n",
       "0                 3.0  \n",
       "1                 3.0  \n",
       "2                 3.0  \n",
       "3                 1.0  \n",
       "4                 3.0  "
      ]
     },
     "execution_count": 16,
     "metadata": {},
     "output_type": "execute_result"
    }
   ],
   "source": [
    "df.head()"
   ]
  },
  {
   "cell_type": "code",
   "execution_count": 17,
   "id": "3bb49fb9",
   "metadata": {},
   "outputs": [
    {
     "name": "stdout",
     "output_type": "stream",
     "text": [
      "     No  Yes\n",
      "0     0    1\n",
      "1     0    1\n",
      "2     1    0\n",
      "3     0    1\n",
      "4     1    0\n",
      "..   ..  ...\n",
      "447   1    0\n",
      "448   1    0\n",
      "449   0    1\n",
      "450   1    0\n",
      "451   1    0\n",
      "\n",
      "[452 rows x 2 columns]\n"
     ]
    }
   ],
   "source": [
    "#converting categorical data into numerical data\n",
    "dummies = pd.get_dummies(df['Smoking status'])\n",
    "print(dummies)"
   ]
  },
  {
   "cell_type": "code",
   "execution_count": 18,
   "id": "80e441be",
   "metadata": {},
   "outputs": [],
   "source": [
    "df = df.join(dummies)"
   ]
  },
  {
   "cell_type": "code",
   "execution_count": 19,
   "id": "d2c75538",
   "metadata": {},
   "outputs": [
    {
     "data": {
      "text/html": [
       "<div>\n",
       "<style scoped>\n",
       "    .dataframe tbody tr th:only-of-type {\n",
       "        vertical-align: middle;\n",
       "    }\n",
       "\n",
       "    .dataframe tbody tr th {\n",
       "        vertical-align: top;\n",
       "    }\n",
       "\n",
       "    .dataframe thead th {\n",
       "        text-align: right;\n",
       "    }\n",
       "</style>\n",
       "<table border=\"1\" class=\"dataframe\">\n",
       "  <thead>\n",
       "    <tr style=\"text-align: right;\">\n",
       "      <th></th>\n",
       "      <th>ID</th>\n",
       "      <th>Age</th>\n",
       "      <th>Gender</th>\n",
       "      <th>Bedtime</th>\n",
       "      <th>Wakeup time</th>\n",
       "      <th>Sleep duration</th>\n",
       "      <th>Sleep efficiency</th>\n",
       "      <th>REM sleep percentage</th>\n",
       "      <th>Deep sleep percentage</th>\n",
       "      <th>Light sleep percentage</th>\n",
       "      <th>Awakenings</th>\n",
       "      <th>Caffeine consumption</th>\n",
       "      <th>Alcohol consumption</th>\n",
       "      <th>Smoking status</th>\n",
       "      <th>Exercise frequency</th>\n",
       "      <th>No</th>\n",
       "      <th>Yes</th>\n",
       "    </tr>\n",
       "  </thead>\n",
       "  <tbody>\n",
       "    <tr>\n",
       "      <th>0</th>\n",
       "      <td>1</td>\n",
       "      <td>65</td>\n",
       "      <td>Female</td>\n",
       "      <td>1</td>\n",
       "      <td>7</td>\n",
       "      <td>6.0</td>\n",
       "      <td>0.88</td>\n",
       "      <td>18</td>\n",
       "      <td>70</td>\n",
       "      <td>10</td>\n",
       "      <td>0.0</td>\n",
       "      <td>0.0</td>\n",
       "      <td>0.0</td>\n",
       "      <td>Yes</td>\n",
       "      <td>3.0</td>\n",
       "      <td>0</td>\n",
       "      <td>1</td>\n",
       "    </tr>\n",
       "    <tr>\n",
       "      <th>1</th>\n",
       "      <td>2</td>\n",
       "      <td>69</td>\n",
       "      <td>Male</td>\n",
       "      <td>2</td>\n",
       "      <td>9</td>\n",
       "      <td>7.0</td>\n",
       "      <td>0.66</td>\n",
       "      <td>24</td>\n",
       "      <td>28</td>\n",
       "      <td>53</td>\n",
       "      <td>3.0</td>\n",
       "      <td>0.0</td>\n",
       "      <td>3.0</td>\n",
       "      <td>Yes</td>\n",
       "      <td>3.0</td>\n",
       "      <td>0</td>\n",
       "      <td>1</td>\n",
       "    </tr>\n",
       "    <tr>\n",
       "      <th>2</th>\n",
       "      <td>3</td>\n",
       "      <td>40</td>\n",
       "      <td>Female</td>\n",
       "      <td>21</td>\n",
       "      <td>5</td>\n",
       "      <td>8.0</td>\n",
       "      <td>0.89</td>\n",
       "      <td>20</td>\n",
       "      <td>70</td>\n",
       "      <td>10</td>\n",
       "      <td>1.0</td>\n",
       "      <td>0.0</td>\n",
       "      <td>0.0</td>\n",
       "      <td>No</td>\n",
       "      <td>3.0</td>\n",
       "      <td>1</td>\n",
       "      <td>0</td>\n",
       "    </tr>\n",
       "    <tr>\n",
       "      <th>3</th>\n",
       "      <td>4</td>\n",
       "      <td>40</td>\n",
       "      <td>Female</td>\n",
       "      <td>2</td>\n",
       "      <td>8</td>\n",
       "      <td>6.0</td>\n",
       "      <td>0.51</td>\n",
       "      <td>28</td>\n",
       "      <td>25</td>\n",
       "      <td>52</td>\n",
       "      <td>3.0</td>\n",
       "      <td>50.0</td>\n",
       "      <td>5.0</td>\n",
       "      <td>Yes</td>\n",
       "      <td>1.0</td>\n",
       "      <td>0</td>\n",
       "      <td>1</td>\n",
       "    </tr>\n",
       "    <tr>\n",
       "      <th>4</th>\n",
       "      <td>5</td>\n",
       "      <td>57</td>\n",
       "      <td>Male</td>\n",
       "      <td>1</td>\n",
       "      <td>9</td>\n",
       "      <td>8.0</td>\n",
       "      <td>0.76</td>\n",
       "      <td>27</td>\n",
       "      <td>55</td>\n",
       "      <td>18</td>\n",
       "      <td>3.0</td>\n",
       "      <td>0.0</td>\n",
       "      <td>3.0</td>\n",
       "      <td>No</td>\n",
       "      <td>3.0</td>\n",
       "      <td>1</td>\n",
       "      <td>0</td>\n",
       "    </tr>\n",
       "  </tbody>\n",
       "</table>\n",
       "</div>"
      ],
      "text/plain": [
       "   ID  Age  Gender  Bedtime  Wakeup time  Sleep duration  Sleep efficiency  \\\n",
       "0   1   65  Female        1            7             6.0              0.88   \n",
       "1   2   69    Male        2            9             7.0              0.66   \n",
       "2   3   40  Female       21            5             8.0              0.89   \n",
       "3   4   40  Female        2            8             6.0              0.51   \n",
       "4   5   57    Male        1            9             8.0              0.76   \n",
       "\n",
       "   REM sleep percentage  Deep sleep percentage  Light sleep percentage  \\\n",
       "0                    18                     70                      10   \n",
       "1                    24                     28                      53   \n",
       "2                    20                     70                      10   \n",
       "3                    28                     25                      52   \n",
       "4                    27                     55                      18   \n",
       "\n",
       "   Awakenings  Caffeine consumption  Alcohol consumption Smoking status  \\\n",
       "0         0.0                   0.0                  0.0            Yes   \n",
       "1         3.0                   0.0                  3.0            Yes   \n",
       "2         1.0                   0.0                  0.0             No   \n",
       "3         3.0                  50.0                  5.0            Yes   \n",
       "4         3.0                   0.0                  3.0             No   \n",
       "\n",
       "   Exercise frequency  No  Yes  \n",
       "0                 3.0   0    1  \n",
       "1                 3.0   0    1  \n",
       "2                 3.0   1    0  \n",
       "3                 1.0   0    1  \n",
       "4                 3.0   1    0  "
      ]
     },
     "execution_count": 19,
     "metadata": {},
     "output_type": "execute_result"
    }
   ],
   "source": [
    "df.head()"
   ]
  },
  {
   "cell_type": "code",
   "execution_count": 20,
   "id": "349dfc1f",
   "metadata": {},
   "outputs": [],
   "source": [
    "#dropping the 'No' column and renaming 'Yes' to 'Smoking status'\n",
    "df.drop(['No'],axis=\"columns\",inplace=True)"
   ]
  },
  {
   "cell_type": "code",
   "execution_count": 21,
   "id": "130a0d4e",
   "metadata": {},
   "outputs": [],
   "source": [
    "df.rename(columns={'Yes':'smoking status'},inplace=True)"
   ]
  },
  {
   "cell_type": "code",
   "execution_count": 22,
   "id": "db43d467",
   "metadata": {},
   "outputs": [
    {
     "data": {
      "text/html": [
       "<div>\n",
       "<style scoped>\n",
       "    .dataframe tbody tr th:only-of-type {\n",
       "        vertical-align: middle;\n",
       "    }\n",
       "\n",
       "    .dataframe tbody tr th {\n",
       "        vertical-align: top;\n",
       "    }\n",
       "\n",
       "    .dataframe thead th {\n",
       "        text-align: right;\n",
       "    }\n",
       "</style>\n",
       "<table border=\"1\" class=\"dataframe\">\n",
       "  <thead>\n",
       "    <tr style=\"text-align: right;\">\n",
       "      <th></th>\n",
       "      <th>ID</th>\n",
       "      <th>Age</th>\n",
       "      <th>Gender</th>\n",
       "      <th>Bedtime</th>\n",
       "      <th>Wakeup time</th>\n",
       "      <th>Sleep duration</th>\n",
       "      <th>Sleep efficiency</th>\n",
       "      <th>REM sleep percentage</th>\n",
       "      <th>Deep sleep percentage</th>\n",
       "      <th>Light sleep percentage</th>\n",
       "      <th>Awakenings</th>\n",
       "      <th>Caffeine consumption</th>\n",
       "      <th>Alcohol consumption</th>\n",
       "      <th>Smoking status</th>\n",
       "      <th>Exercise frequency</th>\n",
       "      <th>smoking status</th>\n",
       "    </tr>\n",
       "  </thead>\n",
       "  <tbody>\n",
       "    <tr>\n",
       "      <th>0</th>\n",
       "      <td>1</td>\n",
       "      <td>65</td>\n",
       "      <td>Female</td>\n",
       "      <td>1</td>\n",
       "      <td>7</td>\n",
       "      <td>6.0</td>\n",
       "      <td>0.88</td>\n",
       "      <td>18</td>\n",
       "      <td>70</td>\n",
       "      <td>10</td>\n",
       "      <td>0.0</td>\n",
       "      <td>0.0</td>\n",
       "      <td>0.0</td>\n",
       "      <td>Yes</td>\n",
       "      <td>3.0</td>\n",
       "      <td>1</td>\n",
       "    </tr>\n",
       "    <tr>\n",
       "      <th>1</th>\n",
       "      <td>2</td>\n",
       "      <td>69</td>\n",
       "      <td>Male</td>\n",
       "      <td>2</td>\n",
       "      <td>9</td>\n",
       "      <td>7.0</td>\n",
       "      <td>0.66</td>\n",
       "      <td>24</td>\n",
       "      <td>28</td>\n",
       "      <td>53</td>\n",
       "      <td>3.0</td>\n",
       "      <td>0.0</td>\n",
       "      <td>3.0</td>\n",
       "      <td>Yes</td>\n",
       "      <td>3.0</td>\n",
       "      <td>1</td>\n",
       "    </tr>\n",
       "    <tr>\n",
       "      <th>2</th>\n",
       "      <td>3</td>\n",
       "      <td>40</td>\n",
       "      <td>Female</td>\n",
       "      <td>21</td>\n",
       "      <td>5</td>\n",
       "      <td>8.0</td>\n",
       "      <td>0.89</td>\n",
       "      <td>20</td>\n",
       "      <td>70</td>\n",
       "      <td>10</td>\n",
       "      <td>1.0</td>\n",
       "      <td>0.0</td>\n",
       "      <td>0.0</td>\n",
       "      <td>No</td>\n",
       "      <td>3.0</td>\n",
       "      <td>0</td>\n",
       "    </tr>\n",
       "    <tr>\n",
       "      <th>3</th>\n",
       "      <td>4</td>\n",
       "      <td>40</td>\n",
       "      <td>Female</td>\n",
       "      <td>2</td>\n",
       "      <td>8</td>\n",
       "      <td>6.0</td>\n",
       "      <td>0.51</td>\n",
       "      <td>28</td>\n",
       "      <td>25</td>\n",
       "      <td>52</td>\n",
       "      <td>3.0</td>\n",
       "      <td>50.0</td>\n",
       "      <td>5.0</td>\n",
       "      <td>Yes</td>\n",
       "      <td>1.0</td>\n",
       "      <td>1</td>\n",
       "    </tr>\n",
       "    <tr>\n",
       "      <th>4</th>\n",
       "      <td>5</td>\n",
       "      <td>57</td>\n",
       "      <td>Male</td>\n",
       "      <td>1</td>\n",
       "      <td>9</td>\n",
       "      <td>8.0</td>\n",
       "      <td>0.76</td>\n",
       "      <td>27</td>\n",
       "      <td>55</td>\n",
       "      <td>18</td>\n",
       "      <td>3.0</td>\n",
       "      <td>0.0</td>\n",
       "      <td>3.0</td>\n",
       "      <td>No</td>\n",
       "      <td>3.0</td>\n",
       "      <td>0</td>\n",
       "    </tr>\n",
       "  </tbody>\n",
       "</table>\n",
       "</div>"
      ],
      "text/plain": [
       "   ID  Age  Gender  Bedtime  Wakeup time  Sleep duration  Sleep efficiency  \\\n",
       "0   1   65  Female        1            7             6.0              0.88   \n",
       "1   2   69    Male        2            9             7.0              0.66   \n",
       "2   3   40  Female       21            5             8.0              0.89   \n",
       "3   4   40  Female        2            8             6.0              0.51   \n",
       "4   5   57    Male        1            9             8.0              0.76   \n",
       "\n",
       "   REM sleep percentage  Deep sleep percentage  Light sleep percentage  \\\n",
       "0                    18                     70                      10   \n",
       "1                    24                     28                      53   \n",
       "2                    20                     70                      10   \n",
       "3                    28                     25                      52   \n",
       "4                    27                     55                      18   \n",
       "\n",
       "   Awakenings  Caffeine consumption  Alcohol consumption Smoking status  \\\n",
       "0         0.0                   0.0                  0.0            Yes   \n",
       "1         3.0                   0.0                  3.0            Yes   \n",
       "2         1.0                   0.0                  0.0             No   \n",
       "3         3.0                  50.0                  5.0            Yes   \n",
       "4         3.0                   0.0                  3.0             No   \n",
       "\n",
       "   Exercise frequency  smoking status  \n",
       "0                 3.0               1  \n",
       "1                 3.0               1  \n",
       "2                 3.0               0  \n",
       "3                 1.0               1  \n",
       "4                 3.0               0  "
      ]
     },
     "execution_count": 22,
     "metadata": {},
     "output_type": "execute_result"
    }
   ],
   "source": [
    "df.head()"
   ]
  },
  {
   "cell_type": "code",
   "execution_count": 23,
   "id": "36b70f42",
   "metadata": {},
   "outputs": [],
   "source": [
    "df.drop(['Smoking status'],axis=\"columns\",inplace=True)"
   ]
  },
  {
   "cell_type": "markdown",
   "id": "9c71b676",
   "metadata": {},
   "source": [
    "# Descriptive Statistics"
   ]
  },
  {
   "cell_type": "markdown",
   "id": "c2d69dbe",
   "metadata": {},
   "source": [
    "## Gender "
   ]
  },
  {
   "cell_type": "code",
   "execution_count": 24,
   "id": "4053057b",
   "metadata": {},
   "outputs": [
    {
     "data": {
      "text/plain": [
       "Text(0.5, 1.0, 'Gender Statistics')"
      ]
     },
     "execution_count": 24,
     "metadata": {},
     "output_type": "execute_result"
    },
    {
     "data": {
      "image/png": "[encoded data removed]",
      "text/plain": [
       "<Figure size 432x288 with 1 Axes>"
      ]
     },
     "metadata": {},
     "output_type": "display_data"
    }
   ],
   "source": [
    "#Doughnut graph\n",
    "gender = ['Male','Female']\n",
    "count = list(df['Gender'].value_counts())\n",
    "colors = ['LightGreen','Orange']\n",
    "pie(count,colors=colors,labels=gender,autopct=\"%1.1f%%\",pctdistance=0.85)\n",
    "\n",
    "center_circle = Circle((0,0),0.70,fc='white')\n",
    "fig = gcf()\n",
    "fig.gca().add_artist(center_circle)\n",
    "title(\"Gender Statistics\")"
   ]
  },
  {
   "cell_type": "markdown",
   "id": "db060ad0",
   "metadata": {},
   "source": [
    "## Visualization of Age column"
   ]
  },
  {
   "cell_type": "code",
   "execution_count": 25,
   "id": "ad899a28",
   "metadata": {},
   "outputs": [
    {
     "data": {
      "text/plain": [
       "<AxesSubplot:ylabel='Age'>"
      ]
     },
     "execution_count": 25,
     "metadata": {},
     "output_type": "execute_result"
    },
    {
     "data": {
      "image/png": "[encoded data removed]",
      "text/plain": [
       "<Figure size 432x288 with 1 Axes>"
      ]
     },
     "metadata": {
      "needs_background": "light"
     },
     "output_type": "display_data"
    }
   ],
   "source": [
    "#Boxplot\n",
    "sns.boxplot(y=\"Age\",data=df)"
   ]
  },
  {
   "cell_type": "markdown",
   "id": "202a84c3",
   "metadata": {},
   "source": [
    "## Sleep Duration"
   ]
  },
  {
   "cell_type": "code",
   "execution_count": 26,
   "id": "7d66c126",
   "metadata": {},
   "outputs": [
    {
     "data": {
      "text/plain": [
       "<AxesSubplot:xlabel='Sleep duration', ylabel='count'>"
      ]
     },
     "execution_count": 26,
     "metadata": {},
     "output_type": "execute_result"
    },
    {
     "data": {
      "image/png": "[encoded data removed]",
      "text/plain": [
       "<Figure size 432x288 with 1 Axes>"
      ]
     },
     "metadata": {
      "needs_background": "light"
     },
     "output_type": "display_data"
    }
   ],
   "source": [
    "#Countplot\n",
    "sns.countplot(x=\"Sleep duration\",data=df)"
   ]
  },
  {
   "cell_type": "markdown",
   "id": "f474e937",
   "metadata": {},
   "source": [
    "## Sleep Efficiency"
   ]
  },
  {
   "cell_type": "code",
   "execution_count": 27,
   "id": "69aaafe3",
   "metadata": {},
   "outputs": [
    {
     "data": {
      "text/plain": [
       "<AxesSubplot:ylabel='Sleep efficiency'>"
      ]
     },
     "execution_count": 27,
     "metadata": {},
     "output_type": "execute_result"
    },
    {
     "data": {
      "image/png": "[encoded data removed]",
      "text/plain": [
       "<Figure size 432x288 with 1 Axes>"
      ]
     },
     "metadata": {
      "needs_background": "light"
     },
     "output_type": "display_data"
    }
   ],
   "source": [
    "#Boxplot\n",
    "sns.boxplot(data=df,y=\"Sleep efficiency\")\n"
   ]
  },
  {
   "cell_type": "markdown",
   "id": "30760695",
   "metadata": {},
   "source": [
    "## Rapid Eye Movement sleep"
   ]
  },
  {
   "cell_type": "code",
   "execution_count": 28,
   "id": "37ee4f8e",
   "metadata": {},
   "outputs": [
    {
     "data": {
      "text/plain": [
       "<AxesSubplot:ylabel='REM sleep percentage'>"
      ]
     },
     "execution_count": 28,
     "metadata": {},
     "output_type": "execute_result"
    },
    {
     "data": {
      "image/png": "[encoded data removed]",
      "text/plain": [
       "<Figure size 432x288 with 1 Axes>"
      ]
     },
     "metadata": {
      "needs_background": "light"
     },
     "output_type": "display_data"
    }
   ],
   "source": [
    "sns.boxplot(y=\"REM sleep percentage\",data=df)"
   ]
  },
  {
   "cell_type": "markdown",
   "id": "02ace941",
   "metadata": {},
   "source": [
    "## Deep sleep percentage"
   ]
  },
  {
   "cell_type": "code",
   "execution_count": 29,
   "id": "424a8922",
   "metadata": {},
   "outputs": [
    {
     "data": {
      "text/plain": [
       "<AxesSubplot:ylabel='Deep sleep percentage'>"
      ]
     },
     "execution_count": 29,
     "metadata": {},
     "output_type": "execute_result"
    },
    {
     "data": {
      "image/png": "[encoded data removed]",
      "text/plain": [
       "<Figure size 432x288 with 1 Axes>"
      ]
     },
     "metadata": {
      "needs_background": "light"
     },
     "output_type": "display_data"
    }
   ],
   "source": [
    "sns.boxplot(y=\"Deep sleep percentage\",data=df)"
   ]
  },
  {
   "cell_type": "markdown",
   "id": "2b69f2ff",
   "metadata": {},
   "source": [
    "## Light sleep percentage"
   ]
  },
  {
   "cell_type": "code",
   "execution_count": 30,
   "id": "b3bbe4c1",
   "metadata": {},
   "outputs": [
    {
     "data": {
      "text/plain": [
       "<AxesSubplot:ylabel='Light sleep percentage'>"
      ]
     },
     "execution_count": 30,
     "metadata": {},
     "output_type": "execute_result"
    },
    {
     "data": {
      "image/png": "[encoded data removed]",
      "text/plain": [
       "<Figure size 432x288 with 1 Axes>"
      ]
     },
     "metadata": {
      "needs_background": "light"
     },
     "output_type": "display_data"
    }
   ],
   "source": [
    "sns.boxplot(y=\"Light sleep percentage\",data=df)"
   ]
  },
  {
   "cell_type": "markdown",
   "id": "a9979f9b",
   "metadata": {},
   "source": [
    "## Awakenings"
   ]
  },
  {
   "cell_type": "code",
   "execution_count": 31,
   "id": "2f1abe38",
   "metadata": {},
   "outputs": [
    {
     "data": {
      "text/plain": [
       "<AxesSubplot:ylabel='Awakenings'>"
      ]
     },
     "execution_count": 31,
     "metadata": {},
     "output_type": "execute_result"
    },
    {
     "data": {
      "image/png": "[encoded data removed]",
      "text/plain": [
       "<Figure size 432x288 with 1 Axes>"
      ]
     },
     "metadata": {
      "needs_background": "light"
     },
     "output_type": "display_data"
    }
   ],
   "source": [
    "sns.boxplot(y=\"Awakenings\",data=df)"
   ]
  },
  {
   "cell_type": "markdown",
   "id": "051adbcf",
   "metadata": {},
   "source": [
    "# Diagnostic Analysis"
   ]
  },
  {
   "cell_type": "markdown",
   "id": "e012a21e",
   "metadata": {},
   "source": [
    "## Age and Sleep efficiency"
   ]
  },
  {
   "cell_type": "code",
   "execution_count": 32,
   "id": "fc4e3aaf",
   "metadata": {},
   "outputs": [
    {
     "data": {
      "image/png": "[encoded data removed]",
      "text/plain": [
       "<Figure size 432x288 with 1 Axes>"
      ]
     },
     "metadata": {
      "needs_background": "light"
     },
     "output_type": "display_data"
    }
   ],
   "source": [
    "x = df['Age']\n",
    "y = df['Sleep efficiency']\n",
    "title('Age vs Sleep efficiency')\n",
    "xlabel('Age')\n",
    "ylabel('Sleep efficiency')\n",
    "\n",
    "scatter(x,y)\n",
    "show()"
   ]
  },
  {
   "cell_type": "raw",
   "id": "573b635a",
   "metadata": {},
   "source": [
    "Age and sleep efficiency don't seem to relate much i.e., people with almost same ages can have drastically different sleep efficiency."
   ]
  },
  {
   "cell_type": "markdown",
   "id": "6cdb48f6",
   "metadata": {},
   "source": [
    "## Gender and sleep efficiency"
   ]
  },
  {
   "cell_type": "code",
   "execution_count": 33,
   "id": "1d6cac06",
   "metadata": {},
   "outputs": [
    {
     "data": {
      "text/plain": [
       "<AxesSubplot:xlabel='Gender', ylabel='Sleep efficiency'>"
      ]
     },
     "execution_count": 33,
     "metadata": {},
     "output_type": "execute_result"
    },
    {
     "data": {
      "image/png": "[encoded data removed]",
      "text/plain": [
       "<Figure size 432x288 with 1 Axes>"
      ]
     },
     "metadata": {
      "needs_background": "light"
     },
     "output_type": "display_data"
    }
   ],
   "source": [
    "sns.scatterplot(data=df,x=\"Gender\",y=\"Sleep efficiency\",hue=\"Gender\")"
   ]
  },
  {
   "cell_type": "markdown",
   "id": "8a7295e2",
   "metadata": {},
   "source": [
    "Both the genders have about all values of sleep efficiency."
   ]
  },
  {
   "cell_type": "markdown",
   "id": "25fda21a",
   "metadata": {},
   "source": [
    "## Sleep duration and sleep efficiency"
   ]
  },
  {
   "cell_type": "code",
   "execution_count": 35,
   "id": "5167c00a",
   "metadata": {},
   "outputs": [
    {
     "data": {
      "image/png": "[encoded data removed]",
      "text/plain": [
       "<Figure size 432x288 with 1 Axes>"
      ]
     },
     "metadata": {
      "needs_background": "light"
     },
     "output_type": "display_data"
    }
   ],
   "source": [
    "x = df['Sleep duration']\n",
    "y = df['Sleep efficiency']\n",
    "title('Sleep duration vs sleep efficiency')\n",
    "xlabel('Sleep duration')\n",
    "ylabel('Sleep efficiency')\n",
    "scatter(x,y)\n",
    "show()"
   ]
  },
  {
   "cell_type": "raw",
   "id": "46f3c698",
   "metadata": {},
   "source": [
    "There isn't any relation between the number of sleeping hours  and the quality of sleep. "
   ]
  },
  {
   "cell_type": "markdown",
   "id": "ff30ab70",
   "metadata": {},
   "source": [
    "## Rapid Eye Movement and sleep efficiency"
   ]
  },
  {
   "cell_type": "code",
   "execution_count": 36,
   "id": "8e6f5d1f",
   "metadata": {},
   "outputs": [
    {
     "data": {
      "image/png": "[encoded data removed]",
      "text/plain": [
       "<Figure size 432x288 with 1 Axes>"
      ]
     },
     "metadata": {
      "needs_background": "light"
     },
     "output_type": "display_data"
    }
   ],
   "source": [
    "x = df['REM sleep percentage']\n",
    "y = df['Sleep efficiency']\n",
    "title('REM vs sleep efficiency')\n",
    "xlabel('REM percentage')\n",
    "ylabel('Sleep efficiency')\n",
    "scatter(x,y)\n",
    "show()"
   ]
  },
  {
   "cell_type": "raw",
   "id": "a1b02980",
   "metadata": {},
   "source": [
    "REM and sleep efficiency doesn't appear to have any relation."
   ]
  },
  {
   "cell_type": "markdown",
   "id": "edbcd950",
   "metadata": {},
   "source": [
    "## Deep sleep percentage and sleep efficiency"
   ]
  },
  {
   "cell_type": "code",
   "execution_count": 37,
   "id": "7e21a03c",
   "metadata": {},
   "outputs": [
    {
     "data": {
      "image/png": "[encoded data removed]",
      "text/plain": [
       "<Figure size 432x288 with 1 Axes>"
      ]
     },
     "metadata": {
      "needs_background": "light"
     },
     "output_type": "display_data"
    }
   ],
   "source": [
    "x = df['Deep sleep percentage']\n",
    "y = df['Sleep efficiency']\n",
    "scatter(x,y)\n",
    "title('Deep sleep percentage vs Sleep efficiency')\n",
    "xlabel('Deep sleep percentage')\n",
    "ylabel('Sleep efficiency')\n",
    "show()"
   ]
  },
  {
   "cell_type": "raw",
   "id": "f56f372a",
   "metadata": {},
   "source": [
    "People who slept for atleast 55 percent of their sleeping time in deep sleep had an efficiency equal to or above 0.7\n",
    "People who slept fot atmost 40 percent of their sleeping time in deep sleep had an efficiency below 0.7"
   ]
  },
  {
   "cell_type": "markdown",
   "id": "3216041d",
   "metadata": {},
   "source": [
    "## Light sleep percentage and sleep efficiency"
   ]
  },
  {
   "cell_type": "code",
   "execution_count": 38,
   "id": "d2e1f737",
   "metadata": {},
   "outputs": [
    {
     "data": {
      "image/png": "[encoded data removed]",
      "text/plain": [
       "<Figure size 432x288 with 1 Axes>"
      ]
     },
     "metadata": {
      "needs_background": "light"
     },
     "output_type": "display_data"
    }
   ],
   "source": [
    "x = df['Light sleep percentage']\n",
    "y = df['Sleep efficiency']\n",
    "scatter(x,y)\n",
    "title('Light sleep percentage vs sleep efficiency')\n",
    "xlabel('Light sleep percentage')\n",
    "ylabel('Sleep efficiency')\n",
    "show()"
   ]
  },
  {
   "cell_type": "raw",
   "id": "67796f15",
   "metadata": {},
   "source": [
    "<25 % of their sleeping time to Light sleep - High efficiency (>=70%)\n",
    ">45 % of their sleeping time to Light sleep - Low efficiency (<70%)"
   ]
  },
  {
   "cell_type": "markdown",
   "id": "190ae429",
   "metadata": {},
   "source": [
    "## Awakenings and sleep efficiency"
   ]
  },
  {
   "cell_type": "code",
   "execution_count": 39,
   "id": "1ec93fc5",
   "metadata": {},
   "outputs": [
    {
     "data": {
      "text/plain": [
       "<AxesSubplot:xlabel='Awakenings', ylabel='Sleep efficiency'>"
      ]
     },
     "execution_count": 39,
     "metadata": {},
     "output_type": "execute_result"
    },
    {
     "data": {
      "image/png": "[encoded data removed]",
      "text/plain": [
       "<Figure size 432x288 with 1 Axes>"
      ]
     },
     "metadata": {
      "needs_background": "light"
     },
     "output_type": "display_data"
    }
   ],
   "source": [
    "#barplot\n",
    "sns.barplot(x='Awakenings', y='Sleep efficiency',data=df)"
   ]
  },
  {
   "cell_type": "markdown",
   "id": "462005dd",
   "metadata": {},
   "source": [
    "Awakenings and sleep efficiency appears to have a linear relationship"
   ]
  },
  {
   "cell_type": "markdown",
   "id": "75c03619",
   "metadata": {},
   "source": [
    "## Caffeine consumption and sleep efficiency"
   ]
  },
  {
   "cell_type": "code",
   "execution_count": 40,
   "id": "3a8bc7c7",
   "metadata": {},
   "outputs": [
    {
     "data": {
      "image/png": "[encoded data removed]",
      "text/plain": [
       "<Figure size 432x288 with 1 Axes>"
      ]
     },
     "metadata": {
      "needs_background": "light"
     },
     "output_type": "display_data"
    }
   ],
   "source": [
    "x = df['Caffeine consumption']\n",
    "y = df['Sleep efficiency']\n",
    "scatter(x,y)\n",
    "title('Caffeine consumption vs Sleep efficiency')\n",
    "xlabel('Caffeine consumption')\n",
    "ylabel('Sleep efficiency')\n",
    "show()"
   ]
  },
  {
   "cell_type": "raw",
   "id": "b1135539",
   "metadata": {},
   "source": [
    "People with caffeine consumption >100 appear to have higher sleep efficiency"
   ]
  },
  {
   "cell_type": "markdown",
   "id": "0bf3ba06",
   "metadata": {},
   "source": [
    "## Smoking status and sleep efficiency"
   ]
  },
  {
   "cell_type": "code",
   "execution_count": 41,
   "id": "ba4a6324",
   "metadata": {},
   "outputs": [
    {
     "data": {
      "text/plain": [
       "<AxesSubplot:xlabel='smoking status', ylabel='Sleep efficiency'>"
      ]
     },
     "execution_count": 41,
     "metadata": {},
     "output_type": "execute_result"
    },
    {
     "data": {
      "image/png": "[encoded data removed]",
      "text/plain": [
       "<Figure size 432x288 with 1 Axes>"
      ]
     },
     "metadata": {
      "needs_background": "light"
     },
     "output_type": "display_data"
    }
   ],
   "source": [
    "#barplot\n",
    "sns.barplot(x='smoking status',y='Sleep efficiency',data=df)"
   ]
  },
  {
   "cell_type": "markdown",
   "id": "fdabdd89",
   "metadata": {},
   "source": [
    "## Exercise frequency and sleep efficiency"
   ]
  },
  {
   "cell_type": "code",
   "execution_count": 79,
   "id": "fd8a3425",
   "metadata": {},
   "outputs": [
    {
     "data": {
      "image/png": "[encoded data removed]",
      "text/plain": [
       "<Figure size 432x288 with 1 Axes>"
      ]
     },
     "metadata": {
      "needs_background": "light"
     },
     "output_type": "display_data"
    }
   ],
   "source": [
    "x = df['Exercise frequency']\n",
    "y = df['Sleep efficiency']\n",
    "scatter(x,y)\n",
    "title('Exercise frequency vs sleep efficiency')\n",
    "xlabel('Exercise freq')\n",
    "ylabel('Sleep efficiency')\n",
    "show()"
   ]
  }
 ],
 "metadata": {
  "kernelspec": {
   "display_name": "Python 3 (ipykernel)",
   "language": "python",
   "name": "python3"
  },
  "language_info": {
   "codemirror_mode": {
    "name": "ipython",
    "version": 3
   },
   "file_extension": ".py",
   "mimetype": "text/x-python",
   "name": "python",
   "nbconvert_exporter": "python",
   "pygments_lexer": "ipython3",
   "version": "3.9.12"
  }
 },
 "nbformat": 4,
 "nbformat_minor": 5
}
