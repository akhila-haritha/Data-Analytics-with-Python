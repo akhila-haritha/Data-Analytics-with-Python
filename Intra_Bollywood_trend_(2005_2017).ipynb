{
  "nbformat": 4,
  "nbformat_minor": 0,
  "metadata": {
    "colab": {
      "provenance": []
    },
    "kernelspec": {
      "name": "python3",
      "display_name": "Python 3"
    },
    "language_info": {
      "name": "python"
    }
  },
  "cells": [
    {
      "cell_type": "markdown",
      "source": [
        "\n",
        "OBJECTIVES- \n",
        "1.Did people prefer going to a theatre on a holiday or on a normal day(working day)?\n",
        "\n",
        "2.Did people welcome remakes of films?\n",
        "\n",
        "3.To know the response to remakes through out the period of 13 years.\n",
        "\n",
        "4.To know the genres which had the craziest response in every year of the 13 years.\n",
        "\n",
        "5.How many of the movies had a new actor/new director/new music director?\n",
        "\n",
        "6.Which actor was the most popular in the entire period?\n",
        "\n",
        "7.Which director was the most popular in the entire period?\n",
        "\n",
        "\n",
        "\n"
      ],
      "metadata": {
        "id": "CRGDHZ2B1LDy"
      }
    },
    {
      "cell_type": "code",
      "execution_count": null,
      "metadata": {
        "id": "x9Ja1rATzi0e"
      },
      "outputs": [],
      "source": [
        "#importing libraries\n",
        "import pandas as pd\n",
        "import numpy as np\n",
        "import matplotlib.pyplot as plt\n",
        "import seaborn as sns"
      ]
    },
    {
      "cell_type": "code",
      "source": [
        "#mounting drive\n",
        "from google.colab import drive\n",
        "drive.mount('/content/drive/')"
      ],
      "metadata": {
        "colab": {
          "base_uri": "https://localhost:8080/"
        },
        "id": "s6QdNQxk0C6S",
        "outputId": "7bdd71fa-7a3e-448c-c56f-5b3c112a3bc0"
      },
      "execution_count": null,
      "outputs": [
        {
          "output_type": "stream",
          "name": "stdout",
          "text": [
            "Mounted at /content/drive/\n"
          ]
        }
      ]
    },
    {
      "cell_type": "code",
      "source": [
        "#Reading and storing the csv as a dataframe\n",
        "df = pd.read_csv('/content/drive/MyDrive/Data for repository.csv')"
      ],
      "metadata": {
        "id": "nYZjoCxb0ZiP"
      },
      "execution_count": null,
      "outputs": []
    },
    {
      "cell_type": "markdown",
      "source": [
        "Know the Contents"
      ],
      "metadata": {
        "id": "dPUCutMs0262"
      }
    },
    {
      "cell_type": "code",
      "source": [
        "#The 1st 5 rows\n",
        "df.head()"
      ],
      "metadata": {
        "colab": {
          "base_uri": "https://localhost:8080/",
          "height": 302
        },
        "id": "8T9tLib306mq",
        "outputId": "93f8d5d5-bb83-44f9-9998-22fed74c9d55"
      },
      "execution_count": null,
      "outputs": [
        {
          "output_type": "execute_result",
          "data": {
            "text/plain": [
              "         Movie Name Release Period Whether Remake Whether Franchise     Genre  \\\n",
              "0       Golden Boys         Normal             No                No  suspense   \n",
              "1     Kaccha Limboo        Holiday             No                No     drama   \n",
              "2  Not A Love Story        Holiday             No                No  thriller   \n",
              "3        Qaidi Band        Holiday             No                No     drama   \n",
              "4         Chaatwali        Holiday             No                No     adult   \n",
              "\n",
              "  New Actor New Director New Music Director         Lead Star  \\\n",
              "0       Yes           No                 No      Jeet Goswami   \n",
              "1       Yes           No                Yes  Karan Bhanushali   \n",
              "2        No           No                 No        Mahie Gill   \n",
              "3       Yes           No                 No        Aadar Jain   \n",
              "4       Yes          Yes                Yes        Aadil Khan   \n",
              "\n",
              "          Director   Music Director  Number of Screens  Revenue(INR)  \\\n",
              "0       Ravi Varma    Baba Jagirdar                  5       5000000   \n",
              "1    Sagar Ballary  Amardeep Nijjer                 75      15000000   \n",
              "2  Ram Gopal Verma   Sandeep Chowta                525      75000000   \n",
              "3     Habib Faisal     Amit Trivedi                800     210000000   \n",
              "4       Aadil Khan     Babloo Ustad                  1       1000000   \n",
              "\n",
              "   Budget(INR)  \n",
              "0        85000  \n",
              "1       825000  \n",
              "2     56700000  \n",
              "3      4500000  \n",
              "4      1075000  "
            ],
            "text/html": [
              "\n",
              "  <div id=\"df-c82b2f35-eea3-4894-a349-df2ab3b63478\">\n",
              "    <div class=\"colab-df-container\">\n",
              "      <div>\n",
              "<style scoped>\n",
              "    .dataframe tbody tr th:only-of-type {\n",
              "        vertical-align: middle;\n",
              "    }\n",
              "\n",
              "    .dataframe tbody tr th {\n",
              "        vertical-align: top;\n",
              "    }\n",
              "\n",
              "    .dataframe thead th {\n",
              "        text-align: right;\n",
              "    }\n",
              "</style>\n",
              "<table border=\"1\" class=\"dataframe\">\n",
              "  <thead>\n",
              "    <tr style=\"text-align: right;\">\n",
              "      <th></th>\n",
              "      <th>Movie Name</th>\n",
              "      <th>Release Period</th>\n",
              "      <th>Whether Remake</th>\n",
              "      <th>Whether Franchise</th>\n",
              "      <th>Genre</th>\n",
              "      <th>New Actor</th>\n",
              "      <th>New Director</th>\n",
              "      <th>New Music Director</th>\n",
              "      <th>Lead Star</th>\n",
              "      <th>Director</th>\n",
              "      <th>Music Director</th>\n",
              "      <th>Number of Screens</th>\n",
              "      <th>Revenue(INR)</th>\n",
              "      <th>Budget(INR)</th>\n",
              "    </tr>\n",
              "  </thead>\n",
              "  <tbody>\n",
              "    <tr>\n",
              "      <th>0</th>\n",
              "      <td>Golden Boys</td>\n",
              "      <td>Normal</td>\n",
              "      <td>No</td>\n",
              "      <td>No</td>\n",
              "      <td>suspense</td>\n",
              "      <td>Yes</td>\n",
              "      <td>No</td>\n",
              "      <td>No</td>\n",
              "      <td>Jeet Goswami</td>\n",
              "      <td>Ravi Varma</td>\n",
              "      <td>Baba Jagirdar</td>\n",
              "      <td>5</td>\n",
              "      <td>5000000</td>\n",
              "      <td>85000</td>\n",
              "    </tr>\n",
              "    <tr>\n",
              "      <th>1</th>\n",
              "      <td>Kaccha Limboo</td>\n",
              "      <td>Holiday</td>\n",
              "      <td>No</td>\n",
              "      <td>No</td>\n",
              "      <td>drama</td>\n",
              "      <td>Yes</td>\n",
              "      <td>No</td>\n",
              "      <td>Yes</td>\n",
              "      <td>Karan Bhanushali</td>\n",
              "      <td>Sagar Ballary</td>\n",
              "      <td>Amardeep Nijjer</td>\n",
              "      <td>75</td>\n",
              "      <td>15000000</td>\n",
              "      <td>825000</td>\n",
              "    </tr>\n",
              "    <tr>\n",
              "      <th>2</th>\n",
              "      <td>Not A Love Story</td>\n",
              "      <td>Holiday</td>\n",
              "      <td>No</td>\n",
              "      <td>No</td>\n",
              "      <td>thriller</td>\n",
              "      <td>No</td>\n",
              "      <td>No</td>\n",
              "      <td>No</td>\n",
              "      <td>Mahie Gill</td>\n",
              "      <td>Ram Gopal Verma</td>\n",
              "      <td>Sandeep Chowta</td>\n",
              "      <td>525</td>\n",
              "      <td>75000000</td>\n",
              "      <td>56700000</td>\n",
              "    </tr>\n",
              "    <tr>\n",
              "      <th>3</th>\n",
              "      <td>Qaidi Band</td>\n",
              "      <td>Holiday</td>\n",
              "      <td>No</td>\n",
              "      <td>No</td>\n",
              "      <td>drama</td>\n",
              "      <td>Yes</td>\n",
              "      <td>No</td>\n",
              "      <td>No</td>\n",
              "      <td>Aadar Jain</td>\n",
              "      <td>Habib Faisal</td>\n",
              "      <td>Amit Trivedi</td>\n",
              "      <td>800</td>\n",
              "      <td>210000000</td>\n",
              "      <td>4500000</td>\n",
              "    </tr>\n",
              "    <tr>\n",
              "      <th>4</th>\n",
              "      <td>Chaatwali</td>\n",
              "      <td>Holiday</td>\n",
              "      <td>No</td>\n",
              "      <td>No</td>\n",
              "      <td>adult</td>\n",
              "      <td>Yes</td>\n",
              "      <td>Yes</td>\n",
              "      <td>Yes</td>\n",
              "      <td>Aadil Khan</td>\n",
              "      <td>Aadil Khan</td>\n",
              "      <td>Babloo Ustad</td>\n",
              "      <td>1</td>\n",
              "      <td>1000000</td>\n",
              "      <td>1075000</td>\n",
              "    </tr>\n",
              "  </tbody>\n",
              "</table>\n",
              "</div>\n",
              "      <button class=\"colab-df-convert\" onclick=\"convertToInteractive('df-c82b2f35-eea3-4894-a349-df2ab3b63478')\"\n",
              "              title=\"Convert this dataframe to an interactive table.\"\n",
              "              style=\"display:none;\">\n",
              "        \n",
              "  <svg xmlns=\"http://www.w3.org/2000/svg\" height=\"24px\"viewBox=\"0 0 24 24\"\n",
              "       width=\"24px\">\n",
              "    <path d=\"M0 0h24v24H0V0z\" fill=\"none\"/>\n",
              "    <path d=\"M18.56 5.44l.94 2.06.94-2.06 2.06-.94-2.06-.94-.94-2.06-.94 2.06-2.06.94zm-11 1L8.5 8.5l.94-2.06 2.06-.94-2.06-.94L8.5 2.5l-.94 2.06-2.06.94zm10 10l.94 2.06.94-2.06 2.06-.94-2.06-.94-.94-2.06-.94 2.06-2.06.94z\"/><path d=\"M17.41 7.96l-1.37-1.37c-.4-.4-.92-.59-1.43-.59-.52 0-1.04.2-1.43.59L10.3 9.45l-7.72 7.72c-.78.78-.78 2.05 0 2.83L4 21.41c.39.39.9.59 1.41.59.51 0 1.02-.2 1.41-.59l7.78-7.78 2.81-2.81c.8-.78.8-2.07 0-2.86zM5.41 20L4 18.59l7.72-7.72 1.47 1.35L5.41 20z\"/>\n",
              "  </svg>\n",
              "      </button>\n",
              "      \n",
              "  <style>\n",
              "    .colab-df-container {\n",
              "      display:flex;\n",
              "      flex-wrap:wrap;\n",
              "      gap: 12px;\n",
              "    }\n",
              "\n",
              "    .colab-df-convert {\n",
              "      background-color: #E8F0FE;\n",
              "      border: none;\n",
              "      border-radius: 50%;\n",
              "      cursor: pointer;\n",
              "      display: none;\n",
              "      fill: #1967D2;\n",
              "      height: 32px;\n",
              "      padding: 0 0 0 0;\n",
              "      width: 32px;\n",
              "    }\n",
              "\n",
              "    .colab-df-convert:hover {\n",
              "      background-color: #E2EBFA;\n",
              "      box-shadow: 0px 1px 2px rgba(60, 64, 67, 0.3), 0px 1px 3px 1px rgba(60, 64, 67, 0.15);\n",
              "      fill: #174EA6;\n",
              "    }\n",
              "\n",
              "    [theme=dark] .colab-df-convert {\n",
              "      background-color: #3B4455;\n",
              "      fill: #D2E3FC;\n",
              "    }\n",
              "\n",
              "    [theme=dark] .colab-df-convert:hover {\n",
              "      background-color: #434B5C;\n",
              "      box-shadow: 0px 1px 3px 1px rgba(0, 0, 0, 0.15);\n",
              "      filter: drop-shadow(0px 1px 2px rgba(0, 0, 0, 0.3));\n",
              "      fill: #FFFFFF;\n",
              "    }\n",
              "  </style>\n",
              "\n",
              "      <script>\n",
              "        const buttonEl =\n",
              "          document.querySelector('#df-c82b2f35-eea3-4894-a349-df2ab3b63478 button.colab-df-convert');\n",
              "        buttonEl.style.display =\n",
              "          google.colab.kernel.accessAllowed ? 'block' : 'none';\n",
              "\n",
              "        async function convertToInteractive(key) {\n",
              "          const element = document.querySelector('#df-c82b2f35-eea3-4894-a349-df2ab3b63478');\n",
              "          const dataTable =\n",
              "            await google.colab.kernel.invokeFunction('convertToInteractive',\n",
              "                                                     [key], {});\n",
              "          if (!dataTable) return;\n",
              "\n",
              "          const docLinkHtml = 'Like what you see? Visit the ' +\n",
              "            '<a target=\"_blank\" href=https://colab.research.google.com/notebooks/data_table.ipynb>data table notebook</a>'\n",
              "            + ' to learn more about interactive tables.';\n",
              "          element.innerHTML = '';\n",
              "          dataTable['output_type'] = 'display_data';\n",
              "          await google.colab.output.renderOutput(dataTable, element);\n",
              "          const docLink = document.createElement('div');\n",
              "          docLink.innerHTML = docLinkHtml;\n",
              "          element.appendChild(docLink);\n",
              "        }\n",
              "      </script>\n",
              "    </div>\n",
              "  </div>\n",
              "  "
            ]
          },
          "metadata": {},
          "execution_count": 9
        }
      ]
    },
    {
      "cell_type": "code",
      "source": [
        "df.tail()"
      ],
      "metadata": {
        "colab": {
          "base_uri": "https://localhost:8080/",
          "height": 354
        },
        "id": "UHqKi6Ku-Baj",
        "outputId": "349a96ca-5ae0-447d-9195-a198e7ac0724"
      },
      "execution_count": null,
      "outputs": [
        {
          "output_type": "execute_result",
          "data": {
            "text/plain": [
              "                             Movie Name Release Period Whether Remake  \\\n",
              "1693                         Fight Club        Holiday             No   \n",
              "1694                 Strings Of Paasion         Normal             No   \n",
              "1695              Dunno Y Na Jaane Kyun         Normal             No   \n",
              "1696  Taj Mahal - An Eternal Love Story         Normal             No   \n",
              "1697                   Mr. Hot Mr. Kool         Normal             No   \n",
              "\n",
              "     Whether Franchise   Genre New Actor New Director New Music Director  \\\n",
              "1693                No  action        No          Yes                 No   \n",
              "1694                No   drama        No          Yes                Yes   \n",
              "1695                No   drama        No           No                 No   \n",
              "1696                No   drama        No          Yes                 No   \n",
              "1697                No  comedy        No           No                Yes   \n",
              "\n",
              "        Lead Star               Director  Music Director  Number of Screens  \\\n",
              "1693   Zayed Khan          Vikram Chopra          Pritam                375   \n",
              "1694  Zeenat Aman  Sanghamitra Chaudhuri      Dev Sikdar                 10   \n",
              "1695  Zeenat Aman          Sanjay Sharma          Nikhil                 20   \n",
              "1696  Zulfi Sayed             Akbar Khan         Naushad                135   \n",
              "1697  Zulfi Sayed           Partho Ghosh  Rishi - Ranjit                 30   \n",
              "\n",
              "      Revenue(INR)  Budget(INR)  \n",
              "1693      82500000     88862500  \n",
              "1694       8000000        70000  \n",
              "1695      12500000       850000  \n",
              "1696     100000000     31065000  \n",
              "1697      27500000      1300000  "
            ],
            "text/html": [
              "\n",
              "  <div id=\"df-06ffac4a-8144-428f-9105-186693bcf1cf\">\n",
              "    <div class=\"colab-df-container\">\n",
              "      <div>\n",
              "<style scoped>\n",
              "    .dataframe tbody tr th:only-of-type {\n",
              "        vertical-align: middle;\n",
              "    }\n",
              "\n",
              "    .dataframe tbody tr th {\n",
              "        vertical-align: top;\n",
              "    }\n",
              "\n",
              "    .dataframe thead th {\n",
              "        text-align: right;\n",
              "    }\n",
              "</style>\n",
              "<table border=\"1\" class=\"dataframe\">\n",
              "  <thead>\n",
              "    <tr style=\"text-align: right;\">\n",
              "      <th></th>\n",
              "      <th>Movie Name</th>\n",
              "      <th>Release Period</th>\n",
              "      <th>Whether Remake</th>\n",
              "      <th>Whether Franchise</th>\n",
              "      <th>Genre</th>\n",
              "      <th>New Actor</th>\n",
              "      <th>New Director</th>\n",
              "      <th>New Music Director</th>\n",
              "      <th>Lead Star</th>\n",
              "      <th>Director</th>\n",
              "      <th>Music Director</th>\n",
              "      <th>Number of Screens</th>\n",
              "      <th>Revenue(INR)</th>\n",
              "      <th>Budget(INR)</th>\n",
              "    </tr>\n",
              "  </thead>\n",
              "  <tbody>\n",
              "    <tr>\n",
              "      <th>1693</th>\n",
              "      <td>Fight Club</td>\n",
              "      <td>Holiday</td>\n",
              "      <td>No</td>\n",
              "      <td>No</td>\n",
              "      <td>action</td>\n",
              "      <td>No</td>\n",
              "      <td>Yes</td>\n",
              "      <td>No</td>\n",
              "      <td>Zayed Khan</td>\n",
              "      <td>Vikram Chopra</td>\n",
              "      <td>Pritam</td>\n",
              "      <td>375</td>\n",
              "      <td>82500000</td>\n",
              "      <td>88862500</td>\n",
              "    </tr>\n",
              "    <tr>\n",
              "      <th>1694</th>\n",
              "      <td>Strings Of Paasion</td>\n",
              "      <td>Normal</td>\n",
              "      <td>No</td>\n",
              "      <td>No</td>\n",
              "      <td>drama</td>\n",
              "      <td>No</td>\n",
              "      <td>Yes</td>\n",
              "      <td>Yes</td>\n",
              "      <td>Zeenat Aman</td>\n",
              "      <td>Sanghamitra Chaudhuri</td>\n",
              "      <td>Dev Sikdar</td>\n",
              "      <td>10</td>\n",
              "      <td>8000000</td>\n",
              "      <td>70000</td>\n",
              "    </tr>\n",
              "    <tr>\n",
              "      <th>1695</th>\n",
              "      <td>Dunno Y Na Jaane Kyun</td>\n",
              "      <td>Normal</td>\n",
              "      <td>No</td>\n",
              "      <td>No</td>\n",
              "      <td>drama</td>\n",
              "      <td>No</td>\n",
              "      <td>No</td>\n",
              "      <td>No</td>\n",
              "      <td>Zeenat Aman</td>\n",
              "      <td>Sanjay Sharma</td>\n",
              "      <td>Nikhil</td>\n",
              "      <td>20</td>\n",
              "      <td>12500000</td>\n",
              "      <td>850000</td>\n",
              "    </tr>\n",
              "    <tr>\n",
              "      <th>1696</th>\n",
              "      <td>Taj Mahal - An Eternal Love Story</td>\n",
              "      <td>Normal</td>\n",
              "      <td>No</td>\n",
              "      <td>No</td>\n",
              "      <td>drama</td>\n",
              "      <td>No</td>\n",
              "      <td>Yes</td>\n",
              "      <td>No</td>\n",
              "      <td>Zulfi Sayed</td>\n",
              "      <td>Akbar Khan</td>\n",
              "      <td>Naushad</td>\n",
              "      <td>135</td>\n",
              "      <td>100000000</td>\n",
              "      <td>31065000</td>\n",
              "    </tr>\n",
              "    <tr>\n",
              "      <th>1697</th>\n",
              "      <td>Mr. Hot Mr. Kool</td>\n",
              "      <td>Normal</td>\n",
              "      <td>No</td>\n",
              "      <td>No</td>\n",
              "      <td>comedy</td>\n",
              "      <td>No</td>\n",
              "      <td>No</td>\n",
              "      <td>Yes</td>\n",
              "      <td>Zulfi Sayed</td>\n",
              "      <td>Partho Ghosh</td>\n",
              "      <td>Rishi - Ranjit</td>\n",
              "      <td>30</td>\n",
              "      <td>27500000</td>\n",
              "      <td>1300000</td>\n",
              "    </tr>\n",
              "  </tbody>\n",
              "</table>\n",
              "</div>\n",
              "      <button class=\"colab-df-convert\" onclick=\"convertToInteractive('df-06ffac4a-8144-428f-9105-186693bcf1cf')\"\n",
              "              title=\"Convert this dataframe to an interactive table.\"\n",
              "              style=\"display:none;\">\n",
              "        \n",
              "  <svg xmlns=\"http://www.w3.org/2000/svg\" height=\"24px\"viewBox=\"0 0 24 24\"\n",
              "       width=\"24px\">\n",
              "    <path d=\"M0 0h24v24H0V0z\" fill=\"none\"/>\n",
              "    <path d=\"M18.56 5.44l.94 2.06.94-2.06 2.06-.94-2.06-.94-.94-2.06-.94 2.06-2.06.94zm-11 1L8.5 8.5l.94-2.06 2.06-.94-2.06-.94L8.5 2.5l-.94 2.06-2.06.94zm10 10l.94 2.06.94-2.06 2.06-.94-2.06-.94-.94-2.06-.94 2.06-2.06.94z\"/><path d=\"M17.41 7.96l-1.37-1.37c-.4-.4-.92-.59-1.43-.59-.52 0-1.04.2-1.43.59L10.3 9.45l-7.72 7.72c-.78.78-.78 2.05 0 2.83L4 21.41c.39.39.9.59 1.41.59.51 0 1.02-.2 1.41-.59l7.78-7.78 2.81-2.81c.8-.78.8-2.07 0-2.86zM5.41 20L4 18.59l7.72-7.72 1.47 1.35L5.41 20z\"/>\n",
              "  </svg>\n",
              "      </button>\n",
              "      \n",
              "  <style>\n",
              "    .colab-df-container {\n",
              "      display:flex;\n",
              "      flex-wrap:wrap;\n",
              "      gap: 12px;\n",
              "    }\n",
              "\n",
              "    .colab-df-convert {\n",
              "      background-color: #E8F0FE;\n",
              "      border: none;\n",
              "      border-radius: 50%;\n",
              "      cursor: pointer;\n",
              "      display: none;\n",
              "      fill: #1967D2;\n",
              "      height: 32px;\n",
              "      padding: 0 0 0 0;\n",
              "      width: 32px;\n",
              "    }\n",
              "\n",
              "    .colab-df-convert:hover {\n",
              "      background-color: #E2EBFA;\n",
              "      box-shadow: 0px 1px 2px rgba(60, 64, 67, 0.3), 0px 1px 3px 1px rgba(60, 64, 67, 0.15);\n",
              "      fill: #174EA6;\n",
              "    }\n",
              "\n",
              "    [theme=dark] .colab-df-convert {\n",
              "      background-color: #3B4455;\n",
              "      fill: #D2E3FC;\n",
              "    }\n",
              "\n",
              "    [theme=dark] .colab-df-convert:hover {\n",
              "      background-color: #434B5C;\n",
              "      box-shadow: 0px 1px 3px 1px rgba(0, 0, 0, 0.15);\n",
              "      filter: drop-shadow(0px 1px 2px rgba(0, 0, 0, 0.3));\n",
              "      fill: #FFFFFF;\n",
              "    }\n",
              "  </style>\n",
              "\n",
              "      <script>\n",
              "        const buttonEl =\n",
              "          document.querySelector('#df-06ffac4a-8144-428f-9105-186693bcf1cf button.colab-df-convert');\n",
              "        buttonEl.style.display =\n",
              "          google.colab.kernel.accessAllowed ? 'block' : 'none';\n",
              "\n",
              "        async function convertToInteractive(key) {\n",
              "          const element = document.querySelector('#df-06ffac4a-8144-428f-9105-186693bcf1cf');\n",
              "          const dataTable =\n",
              "            await google.colab.kernel.invokeFunction('convertToInteractive',\n",
              "                                                     [key], {});\n",
              "          if (!dataTable) return;\n",
              "\n",
              "          const docLinkHtml = 'Like what you see? Visit the ' +\n",
              "            '<a target=\"_blank\" href=https://colab.research.google.com/notebooks/data_table.ipynb>data table notebook</a>'\n",
              "            + ' to learn more about interactive tables.';\n",
              "          element.innerHTML = '';\n",
              "          dataTable['output_type'] = 'display_data';\n",
              "          await google.colab.output.renderOutput(dataTable, element);\n",
              "          const docLink = document.createElement('div');\n",
              "          docLink.innerHTML = docLinkHtml;\n",
              "          element.appendChild(docLink);\n",
              "        }\n",
              "      </script>\n",
              "    </div>\n",
              "  </div>\n",
              "  "
            ]
          },
          "metadata": {},
          "execution_count": 20
        }
      ]
    },
    {
      "cell_type": "code",
      "source": [
        "#shape shows the number of rows(movies) and the number of columns(factors) in the dataset\n",
        "df.shape"
      ],
      "metadata": {
        "colab": {
          "base_uri": "https://localhost:8080/"
        },
        "id": "jx0AYcaj8Ye9",
        "outputId": "8cc86460-4405-4a06-8ac7-04512dfab097"
      },
      "execution_count": null,
      "outputs": [
        {
          "output_type": "execute_result",
          "data": {
            "text/plain": [
              "(1698, 14)"
            ]
          },
          "metadata": {},
          "execution_count": 11
        }
      ]
    },
    {
      "cell_type": "code",
      "source": [
        "#What are the columns?\n",
        "df.columns"
      ],
      "metadata": {
        "colab": {
          "base_uri": "https://localhost:8080/"
        },
        "id": "2FqeUMLs9Zc9",
        "outputId": "032621ac-7673-403e-973c-bdcbfadaa191"
      },
      "execution_count": null,
      "outputs": [
        {
          "output_type": "execute_result",
          "data": {
            "text/plain": [
              "Index(['Movie Name', 'Release Period', 'Whether Remake', 'Whether Franchise',\n",
              "       'Genre', 'New Actor', 'New Director', 'New Music Director', 'Lead Star',\n",
              "       'Director', 'Music Director', 'Number of Screens', 'Revenue(INR)',\n",
              "       'Budget(INR)'],\n",
              "      dtype='object')"
            ]
          },
          "metadata": {},
          "execution_count": 14
        }
      ]
    },
    {
      "cell_type": "code",
      "source": [
        "#Movie title is not important for any of the objectives. So,it can be dropped.\n",
        "df.drop('Movie Name',axis = 1)\n",
        "\n"
      ],
      "metadata": {
        "colab": {
          "base_uri": "https://localhost:8080/",
          "height": 537
        },
        "id": "_P8wHRRL1Hss",
        "outputId": "8e9d123d-e4b7-407a-e0c9-d5404e42eac1"
      },
      "execution_count": null,
      "outputs": [
        {
          "output_type": "execute_result",
          "data": {
            "text/plain": [
              "     Release Period Whether Remake Whether Franchise     Genre New Actor  \\\n",
              "0            Normal             No                No  suspense       Yes   \n",
              "1           Holiday             No                No     drama       Yes   \n",
              "2           Holiday             No                No  thriller        No   \n",
              "3           Holiday             No                No     drama       Yes   \n",
              "4           Holiday             No                No     adult       Yes   \n",
              "...             ...            ...               ...       ...       ...   \n",
              "1693        Holiday             No                No    action        No   \n",
              "1694         Normal             No                No     drama        No   \n",
              "1695         Normal             No                No     drama        No   \n",
              "1696         Normal             No                No     drama        No   \n",
              "1697         Normal             No                No    comedy        No   \n",
              "\n",
              "     New Director New Music Director         Lead Star               Director  \\\n",
              "0              No                 No      Jeet Goswami             Ravi Varma   \n",
              "1              No                Yes  Karan Bhanushali          Sagar Ballary   \n",
              "2              No                 No        Mahie Gill        Ram Gopal Verma   \n",
              "3              No                 No        Aadar Jain           Habib Faisal   \n",
              "4             Yes                Yes        Aadil Khan             Aadil Khan   \n",
              "...           ...                ...               ...                    ...   \n",
              "1693          Yes                 No        Zayed Khan          Vikram Chopra   \n",
              "1694          Yes                Yes       Zeenat Aman  Sanghamitra Chaudhuri   \n",
              "1695           No                 No       Zeenat Aman          Sanjay Sharma   \n",
              "1696          Yes                 No       Zulfi Sayed             Akbar Khan   \n",
              "1697           No                Yes       Zulfi Sayed           Partho Ghosh   \n",
              "\n",
              "       Music Director  Number of Screens  Revenue(INR)  Budget(INR)  \n",
              "0       Baba Jagirdar                  5       5000000        85000  \n",
              "1     Amardeep Nijjer                 75      15000000       825000  \n",
              "2      Sandeep Chowta                525      75000000     56700000  \n",
              "3        Amit Trivedi                800     210000000      4500000  \n",
              "4        Babloo Ustad                  1       1000000      1075000  \n",
              "...               ...                ...           ...          ...  \n",
              "1693           Pritam                375      82500000     88862500  \n",
              "1694       Dev Sikdar                 10       8000000        70000  \n",
              "1695           Nikhil                 20      12500000       850000  \n",
              "1696          Naushad                135     100000000     31065000  \n",
              "1697   Rishi - Ranjit                 30      27500000      1300000  \n",
              "\n",
              "[1698 rows x 13 columns]"
            ],
            "text/html": [
              "\n",
              "  <div id=\"df-46607391-1ec4-4714-9674-6a40614fde1a\">\n",
              "    <div class=\"colab-df-container\">\n",
              "      <div>\n",
              "<style scoped>\n",
              "    .dataframe tbody tr th:only-of-type {\n",
              "        vertical-align: middle;\n",
              "    }\n",
              "\n",
              "    .dataframe tbody tr th {\n",
              "        vertical-align: top;\n",
              "    }\n",
              "\n",
              "    .dataframe thead th {\n",
              "        text-align: right;\n",
              "    }\n",
              "</style>\n",
              "<table border=\"1\" class=\"dataframe\">\n",
              "  <thead>\n",
              "    <tr style=\"text-align: right;\">\n",
              "      <th></th>\n",
              "      <th>Release Period</th>\n",
              "      <th>Whether Remake</th>\n",
              "      <th>Whether Franchise</th>\n",
              "      <th>Genre</th>\n",
              "      <th>New Actor</th>\n",
              "      <th>New Director</th>\n",
              "      <th>New Music Director</th>\n",
              "      <th>Lead Star</th>\n",
              "      <th>Director</th>\n",
              "      <th>Music Director</th>\n",
              "      <th>Number of Screens</th>\n",
              "      <th>Revenue(INR)</th>\n",
              "      <th>Budget(INR)</th>\n",
              "    </tr>\n",
              "  </thead>\n",
              "  <tbody>\n",
              "    <tr>\n",
              "      <th>0</th>\n",
              "      <td>Normal</td>\n",
              "      <td>No</td>\n",
              "      <td>No</td>\n",
              "      <td>suspense</td>\n",
              "      <td>Yes</td>\n",
              "      <td>No</td>\n",
              "      <td>No</td>\n",
              "      <td>Jeet Goswami</td>\n",
              "      <td>Ravi Varma</td>\n",
              "      <td>Baba Jagirdar</td>\n",
              "      <td>5</td>\n",
              "      <td>5000000</td>\n",
              "      <td>85000</td>\n",
              "    </tr>\n",
              "    <tr>\n",
              "      <th>1</th>\n",
              "      <td>Holiday</td>\n",
              "      <td>No</td>\n",
              "      <td>No</td>\n",
              "      <td>drama</td>\n",
              "      <td>Yes</td>\n",
              "      <td>No</td>\n",
              "      <td>Yes</td>\n",
              "      <td>Karan Bhanushali</td>\n",
              "      <td>Sagar Ballary</td>\n",
              "      <td>Amardeep Nijjer</td>\n",
              "      <td>75</td>\n",
              "      <td>15000000</td>\n",
              "      <td>825000</td>\n",
              "    </tr>\n",
              "    <tr>\n",
              "      <th>2</th>\n",
              "      <td>Holiday</td>\n",
              "      <td>No</td>\n",
              "      <td>No</td>\n",
              "      <td>thriller</td>\n",
              "      <td>No</td>\n",
              "      <td>No</td>\n",
              "      <td>No</td>\n",
              "      <td>Mahie Gill</td>\n",
              "      <td>Ram Gopal Verma</td>\n",
              "      <td>Sandeep Chowta</td>\n",
              "      <td>525</td>\n",
              "      <td>75000000</td>\n",
              "      <td>56700000</td>\n",
              "    </tr>\n",
              "    <tr>\n",
              "      <th>3</th>\n",
              "      <td>Holiday</td>\n",
              "      <td>No</td>\n",
              "      <td>No</td>\n",
              "      <td>drama</td>\n",
              "      <td>Yes</td>\n",
              "      <td>No</td>\n",
              "      <td>No</td>\n",
              "      <td>Aadar Jain</td>\n",
              "      <td>Habib Faisal</td>\n",
              "      <td>Amit Trivedi</td>\n",
              "      <td>800</td>\n",
              "      <td>210000000</td>\n",
              "      <td>4500000</td>\n",
              "    </tr>\n",
              "    <tr>\n",
              "      <th>4</th>\n",
              "      <td>Holiday</td>\n",
              "      <td>No</td>\n",
              "      <td>No</td>\n",
              "      <td>adult</td>\n",
              "      <td>Yes</td>\n",
              "      <td>Yes</td>\n",
              "      <td>Yes</td>\n",
              "      <td>Aadil Khan</td>\n",
              "      <td>Aadil Khan</td>\n",
              "      <td>Babloo Ustad</td>\n",
              "      <td>1</td>\n",
              "      <td>1000000</td>\n",
              "      <td>1075000</td>\n",
              "    </tr>\n",
              "    <tr>\n",
              "      <th>...</th>\n",
              "      <td>...</td>\n",
              "      <td>...</td>\n",
              "      <td>...</td>\n",
              "      <td>...</td>\n",
              "      <td>...</td>\n",
              "      <td>...</td>\n",
              "      <td>...</td>\n",
              "      <td>...</td>\n",
              "      <td>...</td>\n",
              "      <td>...</td>\n",
              "      <td>...</td>\n",
              "      <td>...</td>\n",
              "      <td>...</td>\n",
              "    </tr>\n",
              "    <tr>\n",
              "      <th>1693</th>\n",
              "      <td>Holiday</td>\n",
              "      <td>No</td>\n",
              "      <td>No</td>\n",
              "      <td>action</td>\n",
              "      <td>No</td>\n",
              "      <td>Yes</td>\n",
              "      <td>No</td>\n",
              "      <td>Zayed Khan</td>\n",
              "      <td>Vikram Chopra</td>\n",
              "      <td>Pritam</td>\n",
              "      <td>375</td>\n",
              "      <td>82500000</td>\n",
              "      <td>88862500</td>\n",
              "    </tr>\n",
              "    <tr>\n",
              "      <th>1694</th>\n",
              "      <td>Normal</td>\n",
              "      <td>No</td>\n",
              "      <td>No</td>\n",
              "      <td>drama</td>\n",
              "      <td>No</td>\n",
              "      <td>Yes</td>\n",
              "      <td>Yes</td>\n",
              "      <td>Zeenat Aman</td>\n",
              "      <td>Sanghamitra Chaudhuri</td>\n",
              "      <td>Dev Sikdar</td>\n",
              "      <td>10</td>\n",
              "      <td>8000000</td>\n",
              "      <td>70000</td>\n",
              "    </tr>\n",
              "    <tr>\n",
              "      <th>1695</th>\n",
              "      <td>Normal</td>\n",
              "      <td>No</td>\n",
              "      <td>No</td>\n",
              "      <td>drama</td>\n",
              "      <td>No</td>\n",
              "      <td>No</td>\n",
              "      <td>No</td>\n",
              "      <td>Zeenat Aman</td>\n",
              "      <td>Sanjay Sharma</td>\n",
              "      <td>Nikhil</td>\n",
              "      <td>20</td>\n",
              "      <td>12500000</td>\n",
              "      <td>850000</td>\n",
              "    </tr>\n",
              "    <tr>\n",
              "      <th>1696</th>\n",
              "      <td>Normal</td>\n",
              "      <td>No</td>\n",
              "      <td>No</td>\n",
              "      <td>drama</td>\n",
              "      <td>No</td>\n",
              "      <td>Yes</td>\n",
              "      <td>No</td>\n",
              "      <td>Zulfi Sayed</td>\n",
              "      <td>Akbar Khan</td>\n",
              "      <td>Naushad</td>\n",
              "      <td>135</td>\n",
              "      <td>100000000</td>\n",
              "      <td>31065000</td>\n",
              "    </tr>\n",
              "    <tr>\n",
              "      <th>1697</th>\n",
              "      <td>Normal</td>\n",
              "      <td>No</td>\n",
              "      <td>No</td>\n",
              "      <td>comedy</td>\n",
              "      <td>No</td>\n",
              "      <td>No</td>\n",
              "      <td>Yes</td>\n",
              "      <td>Zulfi Sayed</td>\n",
              "      <td>Partho Ghosh</td>\n",
              "      <td>Rishi - Ranjit</td>\n",
              "      <td>30</td>\n",
              "      <td>27500000</td>\n",
              "      <td>1300000</td>\n",
              "    </tr>\n",
              "  </tbody>\n",
              "</table>\n",
              "<p>1698 rows × 13 columns</p>\n",
              "</div>\n",
              "      <button class=\"colab-df-convert\" onclick=\"convertToInteractive('df-46607391-1ec4-4714-9674-6a40614fde1a')\"\n",
              "              title=\"Convert this dataframe to an interactive table.\"\n",
              "              style=\"display:none;\">\n",
              "        \n",
              "  <svg xmlns=\"http://www.w3.org/2000/svg\" height=\"24px\"viewBox=\"0 0 24 24\"\n",
              "       width=\"24px\">\n",
              "    <path d=\"M0 0h24v24H0V0z\" fill=\"none\"/>\n",
              "    <path d=\"M18.56 5.44l.94 2.06.94-2.06 2.06-.94-2.06-.94-.94-2.06-.94 2.06-2.06.94zm-11 1L8.5 8.5l.94-2.06 2.06-.94-2.06-.94L8.5 2.5l-.94 2.06-2.06.94zm10 10l.94 2.06.94-2.06 2.06-.94-2.06-.94-.94-2.06-.94 2.06-2.06.94z\"/><path d=\"M17.41 7.96l-1.37-1.37c-.4-.4-.92-.59-1.43-.59-.52 0-1.04.2-1.43.59L10.3 9.45l-7.72 7.72c-.78.78-.78 2.05 0 2.83L4 21.41c.39.39.9.59 1.41.59.51 0 1.02-.2 1.41-.59l7.78-7.78 2.81-2.81c.8-.78.8-2.07 0-2.86zM5.41 20L4 18.59l7.72-7.72 1.47 1.35L5.41 20z\"/>\n",
              "  </svg>\n",
              "      </button>\n",
              "      \n",
              "  <style>\n",
              "    .colab-df-container {\n",
              "      display:flex;\n",
              "      flex-wrap:wrap;\n",
              "      gap: 12px;\n",
              "    }\n",
              "\n",
              "    .colab-df-convert {\n",
              "      background-color: #E8F0FE;\n",
              "      border: none;\n",
              "      border-radius: 50%;\n",
              "      cursor: pointer;\n",
              "      display: none;\n",
              "      fill: #1967D2;\n",
              "      height: 32px;\n",
              "      padding: 0 0 0 0;\n",
              "      width: 32px;\n",
              "    }\n",
              "\n",
              "    .colab-df-convert:hover {\n",
              "      background-color: #E2EBFA;\n",
              "      box-shadow: 0px 1px 2px rgba(60, 64, 67, 0.3), 0px 1px 3px 1px rgba(60, 64, 67, 0.15);\n",
              "      fill: #174EA6;\n",
              "    }\n",
              "\n",
              "    [theme=dark] .colab-df-convert {\n",
              "      background-color: #3B4455;\n",
              "      fill: #D2E3FC;\n",
              "    }\n",
              "\n",
              "    [theme=dark] .colab-df-convert:hover {\n",
              "      background-color: #434B5C;\n",
              "      box-shadow: 0px 1px 3px 1px rgba(0, 0, 0, 0.15);\n",
              "      filter: drop-shadow(0px 1px 2px rgba(0, 0, 0, 0.3));\n",
              "      fill: #FFFFFF;\n",
              "    }\n",
              "  </style>\n",
              "\n",
              "      <script>\n",
              "        const buttonEl =\n",
              "          document.querySelector('#df-46607391-1ec4-4714-9674-6a40614fde1a button.colab-df-convert');\n",
              "        buttonEl.style.display =\n",
              "          google.colab.kernel.accessAllowed ? 'block' : 'none';\n",
              "\n",
              "        async function convertToInteractive(key) {\n",
              "          const element = document.querySelector('#df-46607391-1ec4-4714-9674-6a40614fde1a');\n",
              "          const dataTable =\n",
              "            await google.colab.kernel.invokeFunction('convertToInteractive',\n",
              "                                                     [key], {});\n",
              "          if (!dataTable) return;\n",
              "\n",
              "          const docLinkHtml = 'Like what you see? Visit the ' +\n",
              "            '<a target=\"_blank\" href=https://colab.research.google.com/notebooks/data_table.ipynb>data table notebook</a>'\n",
              "            + ' to learn more about interactive tables.';\n",
              "          element.innerHTML = '';\n",
              "          dataTable['output_type'] = 'display_data';\n",
              "          await google.colab.output.renderOutput(dataTable, element);\n",
              "          const docLink = document.createElement('div');\n",
              "          docLink.innerHTML = docLinkHtml;\n",
              "          element.appendChild(docLink);\n",
              "        }\n",
              "      </script>\n",
              "    </div>\n",
              "  </div>\n",
              "  "
            ]
          },
          "metadata": {},
          "execution_count": 18
        }
      ]
    },
    {
      "cell_type": "code",
      "source": [
        "#Know about the dataset (non-null and null values)\n",
        "df.info()"
      ],
      "metadata": {
        "colab": {
          "base_uri": "https://localhost:8080/"
        },
        "id": "LMdQM_d7-rbH",
        "outputId": "e7f14b9a-3e44-4343-fad7-aef911f62869"
      },
      "execution_count": null,
      "outputs": [
        {
          "output_type": "stream",
          "name": "stdout",
          "text": [
            "<class 'pandas.core.frame.DataFrame'>\n",
            "RangeIndex: 1698 entries, 0 to 1697\n",
            "Data columns (total 14 columns):\n",
            " #   Column              Non-Null Count  Dtype \n",
            "---  ------              --------------  ----- \n",
            " 0   Movie Name          1698 non-null   object\n",
            " 1   Release Period      1698 non-null   object\n",
            " 2   Whether Remake      1698 non-null   object\n",
            " 3   Whether Franchise   1698 non-null   object\n",
            " 4   Genre               1698 non-null   object\n",
            " 5   New Actor           1698 non-null   object\n",
            " 6   New Director        1698 non-null   object\n",
            " 7   New Music Director  1698 non-null   object\n",
            " 8   Lead Star           1698 non-null   object\n",
            " 9   Director            1698 non-null   object\n",
            " 10  Music Director      1698 non-null   object\n",
            " 11  Number of Screens   1698 non-null   int64 \n",
            " 12  Revenue(INR)        1698 non-null   int64 \n",
            " 13  Budget(INR)         1698 non-null   int64 \n",
            "dtypes: int64(3), object(11)\n",
            "memory usage: 185.8+ KB\n"
          ]
        }
      ]
    },
    {
      "cell_type": "code",
      "source": [
        "#This dataset doesn't have any null values.\n",
        "#Remove the duplicates.\n",
        "df.drop_duplicates(inplace = True)\n",
        "df.shape"
      ],
      "metadata": {
        "colab": {
          "base_uri": "https://localhost:8080/"
        },
        "id": "7lOEH-UC-0_c",
        "outputId": "167b0702-77af-4e9a-8f81-0d6f4b533bf7"
      },
      "execution_count": null,
      "outputs": [
        {
          "output_type": "execute_result",
          "data": {
            "text/plain": [
              "(1696, 14)"
            ]
          },
          "metadata": {},
          "execution_count": 24
        }
      ]
    },
    {
      "cell_type": "code",
      "source": [
        "#2 rows have been eliminated. They were duplicates."
      ],
      "metadata": {
        "id": "BoHU5dv7_HPx"
      },
      "execution_count": null,
      "outputs": []
    },
    {
      "cell_type": "markdown",
      "source": [
        "Cleaning columns"
      ],
      "metadata": {
        "id": "X2-uFzoM_g1J"
      }
    },
    {
      "cell_type": "code",
      "source": [
        "print(df['Release Period'].unique())                #Movies were released either on a Normal day or on a Holiday"
      ],
      "metadata": {
        "colab": {
          "base_uri": "https://localhost:8080/"
        },
        "id": "-3o5bDBh_i-1",
        "outputId": "f3d646a5-65ea-4923-d1cc-c6a0d2893e15"
      },
      "execution_count": null,
      "outputs": [
        {
          "output_type": "stream",
          "name": "stdout",
          "text": [
            "['Normal' 'Holiday']\n"
          ]
        }
      ]
    },
    {
      "cell_type": "code",
      "source": [
        "print(df['Whether Remake'].unique())            #relevant values"
      ],
      "metadata": {
        "colab": {
          "base_uri": "https://localhost:8080/"
        },
        "id": "GA24JSPeAQ2_",
        "outputId": "13baa65e-b8f5-4414-aa52-bacb37a6036d"
      },
      "execution_count": null,
      "outputs": [
        {
          "output_type": "stream",
          "name": "stdout",
          "text": [
            "['No' 'Yes']\n"
          ]
        }
      ]
    },
    {
      "cell_type": "code",
      "source": [
        "print(df['Whether Franchise'].unique())       #relevant values"
      ],
      "metadata": {
        "colab": {
          "base_uri": "https://localhost:8080/"
        },
        "id": "RlY6d-Q8AeNf",
        "outputId": "2a0acd38-20f9-472c-ffe8-6cb5a8c3b30c"
      },
      "execution_count": null,
      "outputs": [
        {
          "output_type": "stream",
          "name": "stdout",
          "text": [
            "['No' 'Yes']\n"
          ]
        }
      ]
    },
    {
      "cell_type": "code",
      "source": [
        "print(df['Genre'].unique())               #relevant values"
      ],
      "metadata": {
        "colab": {
          "base_uri": "https://localhost:8080/"
        },
        "id": "ddTi9unzAqa1",
        "outputId": "9a7aa115-762e-4964-a4ab-9c015ab192ad"
      },
      "execution_count": null,
      "outputs": [
        {
          "output_type": "stream",
          "name": "stdout",
          "text": [
            "['suspense' 'drama' 'thriller' 'adult' 'comedy' 'action' 'love_story'\n",
            " 'rom__com' 'horror' 'fantasy' 'masala' 'mythological' 'animation'\n",
            " 'documentary']\n"
          ]
        }
      ]
    },
    {
      "cell_type": "code",
      "source": [
        "print(df['New Actor'].unique())         #relevant values"
      ],
      "metadata": {
        "colab": {
          "base_uri": "https://localhost:8080/"
        },
        "id": "qloXf5ljA6PC",
        "outputId": "b9865ed1-e768-468e-bcfc-f02f5425c8d5"
      },
      "execution_count": null,
      "outputs": [
        {
          "output_type": "stream",
          "name": "stdout",
          "text": [
            "['Yes' 'No']\n"
          ]
        }
      ]
    },
    {
      "cell_type": "code",
      "source": [
        "print(df['New Director'].unique())      #relevant values"
      ],
      "metadata": {
        "colab": {
          "base_uri": "https://localhost:8080/"
        },
        "id": "bJAb-_7SBEib",
        "outputId": "2a64668c-48d5-4840-e199-6a7ada5875cf"
      },
      "execution_count": null,
      "outputs": [
        {
          "output_type": "stream",
          "name": "stdout",
          "text": [
            "['No' 'Yes']\n"
          ]
        }
      ]
    },
    {
      "cell_type": "code",
      "source": [
        "print(df['New Music Director'].unique())        #relevant values"
      ],
      "metadata": {
        "colab": {
          "base_uri": "https://localhost:8080/"
        },
        "id": "7VayEdd-BNDE",
        "outputId": "8b56d5c8-820a-42b8-9b81-b5df9c68d42e"
      },
      "execution_count": null,
      "outputs": [
        {
          "output_type": "stream",
          "name": "stdout",
          "text": [
            "['No' 'Yes']\n"
          ]
        }
      ]
    },
    {
      "cell_type": "code",
      "source": [
        "print(df['Lead Star'].unique())             #All strings only"
      ],
      "metadata": {
        "colab": {
          "base_uri": "https://localhost:8080/"
        },
        "id": "1N97hKbDBV7t",
        "outputId": "61ce6db0-fd98-4e36-a4cb-506d1405e761"
      },
      "execution_count": null,
      "outputs": [
        {
          "output_type": "stream",
          "name": "stdout",
          "text": [
            "['Jeet Goswami' 'Karan Bhanushali' 'Mahie Gill' 'Aadar Jain' 'Aadil Khan'\n",
            " 'Aakar Kaushik' 'Aakash' 'Aamir Bashir' 'Aamir Khan' 'Aanamika Bawa'\n",
            " 'Aarun Nagar' 'Aaryan' 'Aasad Mirza' 'Aashish Chanana'\n",
            " 'Aashish Chaudhary' 'Aasif Albela' 'Aatri Kumar' 'Abhay Bakshi'\n",
            " 'Abhay Deol' 'Abhijeet Sawant' 'Abhinav Shukla' 'Abhishek Anand'\n",
            " 'Abhishek Bachchan' 'Abhishek Gupta' 'Abhishek Sharma' 'Abhishek Urade'\n",
            " 'Adah Sharma' 'Adam Bedi' 'Adhvik Mahajan' 'Adhyayan Suman'\n",
            " 'Adil Hussain' 'Aditi Inamdar' 'Aditi Sharma' 'Aditya Narayan'\n",
            " 'Aditya Om' 'Aditya Roy Kapoor' 'Aditya Samanta' 'Aditya Shrivastava'\n",
            " 'Affi Khan' 'Afsar Khan' 'Aftab Shivdasani' 'Ahsaas Channa'\n",
            " 'Aishwarya Rai' 'Ajay Devgn' 'Ajay Jadeja' 'Ajay Kumar' 'Ajay Shukla'\n",
            " 'Ajay Sinh Rathod' 'Ajay Soni' 'Ajaz Khan' 'Akanksha Puri' 'Akash'\n",
            " 'Akbar Khan' 'Akshay Kapoor' 'Akshay Kumar' 'Akshay Oberoi'\n",
            " 'Akshaye Khanna' 'Akshita' 'Aksshat' 'Al Amin' 'Ali Fazal' 'Ali Zafar'\n",
            " 'Alia Bhatt' 'Alia Shah' 'Alma Grey' 'Amaan Khan' 'Aman Sagar'\n",
            " 'Amar Sidhu' 'Amarjeet' 'Amit Hotchandani' 'Amit Kapoor' 'Amit Pachori'\n",
            " 'Amit Purohit' 'Amit Rao' 'Amit Riyaan' 'Amit Sadh' 'Amit Sharma'\n",
            " 'Amitabh Bachchan' 'Anand Tiwari' 'Anant Mahadevan' 'Ananya Khare'\n",
            " 'Anara Gupta' 'Anay' 'Anil Kapoor' 'Anirudh Loka' 'Anita Kanwal'\n",
            " 'Ankur Khanna' 'Ankush Choudhary' 'Anmol Singh' 'Anshuman Jha'\n",
            " 'Antara Mali' 'Anu Kapoor' 'Anu Kashyap' 'Anubhav Anand' 'Anuj Mishra'\n",
            " 'Anuj Pandit' 'Anuj Sawhney' 'Anuj Saxena' 'Anupam Kher' 'Apurv Ratan'\n",
            " 'Arayan Singh' 'Arbaaz Khan' 'Arif Zakaria' 'Arjun Chakraborty'\n",
            " 'Arjun Gaur' 'Arjun Kapoor' 'Arjun Punj' 'Arjun Rampal' 'Armaan Jain'\n",
            " 'Arman' 'Arsh Deol' 'Arshad Warsi' 'Arunoday Singh' 'Arvindo'\n",
            " 'Arya Babbar' 'Aryan Singh' 'Aryan Vaid' 'Aryeman Ramsay'\n",
            " 'Aseem Ali Khan' 'Asha Bhonsle' 'Ashima Sharma' 'Ashish Lal'\n",
            " 'Ashmit Patel' 'Ashok Kumar' 'Ashraf Khan' 'Ashrita Agarwaal'\n",
            " 'Ashutosh Rana' 'Attin Bhalla' 'Atul Kulkarni' 'Aushim Khetarpal'\n",
            " 'Avinash Bhargava' 'Ayaan Ahmad' 'Ayesha Takia' 'Ayub Khan'\n",
            " 'Ayushman Khurana' 'Azim' 'Barun Sobti' 'Bhagyashree' 'Bharat'\n",
            " 'Bhoop Yaduvanshi' 'Bipasha Basu' 'Biswaroop Roy Chowdhary' 'Bobby Deol'\n",
            " 'Bobby Khan' 'Boman Irani' 'Buali Shah' 'Celina Jaitley' 'Chahat Khanna'\n",
            " 'Chaitanya Naidu' 'Chaman Jackson' 'Chandan Roy Sanyal'\n",
            " 'Chandrachur Singh' 'Chinmay Mandlekar' 'Chirag Paswan' 'Chirag Patil'\n",
            " 'Cyrus Broacha' 'Danny Denzongpa' 'Darshan Jariwala' 'Darsheel Safary'\n",
            " 'Debashree' 'Deep' 'Deep Bhattacharya' 'Deepak Dobriyal' 'Deepal Shaw'\n",
            " 'Deepika Padukone' 'Deepshika' 'Deepti Naval' 'Delzad Hiwale' 'Dev Anand'\n",
            " 'Dev Gill' 'Devasish Ray' 'Devi' 'Dhananjay' 'Dhanush' 'Dharmendra'\n",
            " 'Dheren Kushesh Rusto' 'Dia Mirza' 'Dibyendu Bhattacharya'\n",
            " 'Diljit Dosanjh' 'Dilzan Wadia' 'Dimple Kapadia' 'Dimple Sevak'\n",
            " 'Dinesh Mehta' 'Dino Morea' 'Disha Chaudhary' 'Divvj Kak' 'Divya Dutta'\n",
            " 'Eijaz Khan' 'Eisha Deol' 'Emraan Hashmi' 'Faheem Ul Haq' 'Faisal Khan'\n",
            " 'Fardeen Khan' 'Farhan Akhtar' 'Farooque Shaikh' 'Farrukh Jaffar'\n",
            " 'Fatima' 'Fawad Khan' 'Gagan Nimesh' 'Ganesh Venkatraman' 'Garry Gill'\n",
            " 'Gashmeer Mahajani' 'Gaurav Bajaj' 'Gaurav Kakkar' 'Gaurav Kapur'\n",
            " 'Gauri Angel' 'Gautam Gupta' 'Gautam Jadhav' 'Gayatri Patel'\n",
            " 'Geoffrey Broderick' 'Girish Taurani' 'Govinda' 'Gracy Singh'\n",
            " 'Guddi Maruti' 'Gul Panag' 'Gulshan Rana' 'Gulzar Inder Chahal' 'Gunj'\n",
            " 'Gurdeep Mehndi' 'Gurmeet Ram Rahim Singh' 'Gursewak Mann' 'Hameed Khan'\n",
            " 'Harish Raj' 'Harman Baweja' 'Harsh Chhaya' 'Harsh Mayar'\n",
            " 'Harshvardhan Deo' 'Harshvardhan Kapoor' 'Harshvardhan Rane'\n",
            " 'Hema Malini' 'Hemant Pandey' 'Himansh Kohli' 'Himanshu Bhatt'\n",
            " 'Himanshu Malik' 'Himesh Reshammiya' 'Hina Rehman' 'Hitesh Agrawal'\n",
            " 'Hithaishaini' 'Hrishita Bhatt' 'Hrithik Roshan' 'Hussain Dalal'\n",
            " 'Hussain Kuwajerwala' 'Hyder Ali' 'Ihad Khan' 'Imaad Shah' 'Imran'\n",
            " 'Imran Khan' 'Irfan Choudhary' 'Irrfan Khan' 'Isaiah' 'Isha Koppikar'\n",
            " 'Ishaan Manhaas' 'Ishaan Tandon' 'Izabelle Leite' 'J.B. Rana'\n",
            " 'J.D. Chakravarthi' 'Jackie Shroff' 'Jacky Bhagnani' 'Jai Kalra'\n",
            " 'Jason Lewis' 'Jatin Khurana' 'Javed Jaffrey' 'Jaya Bachchan' 'Jeetendra'\n",
            " 'Jimmy Shergill' 'John Abraham' 'Joysen Gupta' 'Juhi Chawla' 'Jyoti Dev'\n",
            " 'K.Gauri' 'Kabir Sawhney' 'Kaif Khan' 'Kailash Manav' 'Kajol'\n",
            " 'Kalaynji Jana' 'Kalki Koechlin' 'Kalpana Pandit' 'Kamaal R. Khan'\n",
            " 'Kamal Hassan' 'Kanan Malhotra' 'Kangana Ranaut' 'Kanwaljeet'\n",
            " 'Kapil Jhaveri' 'Kapil Sharma' 'Karan Grover' 'Karan Hakku' 'Karan Mehra'\n",
            " 'Karan Sharma' 'Karanvir Sharma' 'Kareena Kapoor' 'Karisma Kapoor'\n",
            " 'Karron Mallik' 'Kartik Aryan' 'Kartik Tiwari' 'Kashish' 'Kashmira Shah'\n",
            " 'Kavin Dave' 'Kay Kay Menon' 'Kaya Bunti' 'Khushboo Khan' 'Kiran Janjani'\n",
            " 'Kiran Karmarkar' 'Kirran Sharad' 'Kirron Kher' 'Kirti Kulhari'\n",
            " 'Koel Puri' 'Kohinoor Khan' 'Konkona Sen Sharma' 'Kranti Redkar'\n",
            " 'Krishna' 'Krishna Abhishek' 'Kumaar Aadarsh' 'Kumar Jai Baliyaan'\n",
            " 'Kunal Kapoor' 'Kunal Khemu' 'Kush Khurana' 'Laala Khan' 'Leander Paes'\n",
            " 'Lee Williiams' 'Leeza Mangaldas' 'Linus Roach' 'Lucky Ali' 'Luke Kenny'\n",
            " 'Luv Sinha' 'Maanas Srivastava' 'Madhoo' 'Madhuri Dixit'\n",
            " 'Mahakshay Chakraborty' 'Mahesh' 'Mahima Chaudhary' 'Mallika Sherawat'\n",
            " 'Mammootty' 'Manav Sohal' 'Manav Vij' 'Mandira Bedi' 'Manish Chaudhary'\n",
            " 'Manish Paul' 'Manisha Koirala' 'Manoj Amarnani' 'Manoj Bajpai'\n",
            " 'Manoj Pandey' 'Manoranjan Jha' 'Manzar Sehbai' 'Mashaal Durrani'\n",
            " 'Mashhoor Amrohi' 'Master Shams' 'Meera' 'Meghna Naidu'\n",
            " 'Mehrunnisa Hassan' 'Melanie Kannokada' 'Mighty' 'Mika Singh'\n",
            " 'Mikaal Zulfikaar' 'Milind Gunaji' 'Mink' 'Mishti' 'Mithun Chakraborty'\n",
            " 'Mohammad Iqbal Khan' 'Mohd. Samad' 'Mohit Ahlawat' 'Mohit Chauhan'\n",
            " 'Mohit Sharma' 'Mohsin' 'Mohsin Khan' 'Monali Thakur' 'Monalisa'\n",
            " 'Mrinal Kulkarni' 'Mrunmayee Lagoo' 'Mukesh R.K. Chouksey'\n",
            " 'Mukesh Tiwari' 'Mukesh Vyas' 'Munish Khan' 'Munsif Qureshi'\n",
            " 'Mustafa Burmawalla' 'Muzahid Khan' 'Muzammil Ibrahim' 'Nafe Khan'\n",
            " 'Nakul Vaid' 'Nana Patekar' 'Nandita Das' 'Narayan Singh Sisodia'\n",
            " 'Nargis Bagheri' 'Narinder Samra' 'Naseer Khan' 'Naseeruddin Shah'\n",
            " 'Nassar Abdulla' 'Nataliya Kozhenova' 'Natasha Sikka' 'Navdip Singh'\n",
            " 'Naveen Kasturia' 'Navin Prabhakar' 'Nawazuddin Siddiqui' 'Neha Dhupia'\n",
            " 'Neha Sharma' 'Neil Nitin Mukesh' 'Nidhi Gill' 'Nikhil Dwivedi'\n",
            " 'Nilesh Kumar' 'Nilesh Sahay' 'Nilu Thakur' 'Nisha Triloki'\n",
            " 'Nishan Nanaiah' 'Nishant Dahiya' 'Nishant Sharma' 'Nishi Verma'\n",
            " 'Nishigandha Wad' 'Nithiin' 'Nitika Sharma' 'Om Puri'\n",
            " 'Omkar Das Manikpuri' 'Pankaj Badra' 'Pankaj Kapoor' 'Paoli Dam'\n",
            " 'Paras Chhabra' 'Paresh Rawal' 'Paritosh Goswami' 'Parmeet Sethi'\n",
            " 'Parmita Katkar' 'Partho A. Gupte' 'Parvathy Omanakuttan' 'Parvin Dabas'\n",
            " 'Parzan Dastur' 'Patralekha' 'Payal Rohatgi' 'Phool Singh' 'Piu Chauhan'\n",
            " 'Poonam Dasgupta' 'Poonam Pandey' 'Prabhas' 'Prabhu Deva'\n",
            " 'Prajakt Rebeloma' 'Prakash Sagar' 'Prashant Narayanan' 'Prateik Babbar'\n",
            " 'Pravin Dabbas' 'Preeti Jhangiani' 'Preity Zinta' 'Prince Amit'\n",
            " 'Prithvi Soni' 'Pritika Chawla' 'Priya Singh' 'Priyanka'\n",
            " 'Priyanka Chopra' 'Priyanshu Chatterjee' 'Pulkit Samrat'\n",
            " 'Puneet Singh Ratn' 'Purab Kohli' 'Purav Bhandare' 'Puru Chibber'\n",
            " 'Pushkar Jog' 'R. Madhavan' 'Sachin Tendulkar' 'Raai Laxmi'\n",
            " 'Radhika Apte' 'Rafiq Batcha' 'Raghuvir Yadav' 'Rahil Tandon' 'Rahul'\n",
            " 'Rahul Bagga' 'Rahul Bose' 'Rahul Khanna' 'Rahul Pendkalkar' 'Rahul Roy'\n",
            " 'Rahul Singh' 'Rahul Sood' 'Raj Babbar' 'Raj Gautam' 'Raj Rajawat'\n",
            " 'Raj Singh Chaudhary' 'Raj Tandon' 'Raj Tara' 'Raj Verma' 'Raj Zutshi'\n",
            " 'Rajan Verma' 'Rajat Bedi' 'Rajat Kapoor' 'Rajbeer Singh'\n",
            " 'Rajeev Khandelwal' 'Rajeev Raj' 'Rajeev Verma' 'Rajendraprasad'\n",
            " 'Rajesh Bhardwaj' 'Rajesh Khanna' 'Rajesh Kumar' 'Rajesh Pathak'\n",
            " 'Rajesh Sabharwal' 'Rajesh Shringharpure' 'Rajesh Tiwari' 'Raji James'\n",
            " 'Rajit Kapoor' 'Rajiv Roda' 'Rajkummar Rao' 'Rajneesh Duggal'\n",
            " 'Rajpal Yadav' 'Rajveer Dutt' 'Rajveer Sharma' 'Rakesh' 'Rakesh Bapat'\n",
            " 'Rakhi Vohra' 'Ram Charan' 'Ramesh Goyal' 'Ranbir Kapoor' 'Randeep Hooda'\n",
            " 'Rani Mukherjee' 'Rannvijay Singh' 'Ranveer Singh' 'Ranvir Shorey'\n",
            " 'Rashmi Somvanshi' 'Rasika Dugal' 'Raveena Tandon' 'Ravi Ahlawat'\n",
            " 'Ravi Arora' 'Ravi Kapoor' 'Ravi Kissen' 'Ravish Pandey' 'Raza Murad'\n",
            " 'Rehaan Khan' 'Rehal Khan' 'Rehan Khan' 'Rekha' 'Rekha Gautam'\n",
            " 'Rekha Rana' 'Reshma Singh' 'Richa Chaddha' 'Rikkee' 'Rishabh'\n",
            " 'Rishi Bhutani' 'Rishi Kapoor' 'Rishi Rehan' 'Rishi Verma' 'Rita S. Roy'\n",
            " 'Riteish Deshmukh' 'Ritesh Raghuvanshi' 'Rituparna Sengupta' 'Riya Sen'\n",
            " 'Riya Vij' 'Rohan Jardosh' 'Rohit Roy' 'Romit Raaj' 'Ronak Bhatia'\n",
            " 'Ronit Roy' 'Roopa Ganguly' 'Ruslan Mumtaz' 'Saahib' 'Sachiin Joshi'\n",
            " 'Sachin' 'Sachin Khedekar' 'Saagar Bhatia' 'Sachit Patil'\n",
            " 'Sadashiv Amrapurkar' 'Sagar' 'Sahil Anand' 'Sahil Khan' 'Sahil Mehta'\n",
            " 'Sahil Pathan' 'Sahil Prem' 'Saif Ali Khan' 'Sail Hasan'\n",
            " 'Saksham Kulkarni' 'Saleem Ahmed' 'Saleem Ansari' 'Salim Gaur'\n",
            " 'Salman Khan' 'Samapika' 'Sameer Aftab' 'Sameer Dattani'\n",
            " 'Sameer Dharmadhikari' 'Sameer Sarkit' 'Samir Aftab' 'Samir Kochhar'\n",
            " 'Sanam Khan' 'Sandeep Bharadwaj' 'Sandeep Kulkarni' 'Sandhya Mridul'\n",
            " 'Sangram Singh' 'Sanjay Dutt' 'Sanjay Kapoor' 'Sanjay Kumar'\n",
            " 'Sanjay Mishra' 'Sanjay Pundir' 'Sanjay Suri' 'Sankalp Shrivastava'\n",
            " 'Sanket More' 'Santosh Barmola' 'Sapna' 'Saqib Saleem' 'Sarah Jane Dias'\n",
            " 'Sarat Pujari' 'Sarika' 'Sarita Joshi' 'Sartaj Singh Pannu'\n",
            " 'Sarvar Ahuja' 'Sasho Satiiysh Saarathy' 'Satnam Kaur' 'Saurabh Malik'\n",
            " 'Seema Parihar' 'Seth Daksh' 'Shaad Randhawa' 'Shaadab Khan'\n",
            " 'Shaarib Hashmi' 'Shabaaz Khan' 'Shabana Azmi' 'Shahana Chaterjee'\n",
            " 'Shahid Kapoor' 'Shahnawaz Khan' 'Shahrukh Khan' 'Shahzad Pathan'\n",
            " 'Shakeela' 'Sharad Malhotra' 'Sharad Ponkshe' 'Sharman Joshi'\n",
            " 'Sharmila Tagore' 'Shatrughan Sinha' 'Shawar Ali' 'Sheena Nayar'\n",
            " 'Sheetal Pathak' 'Sherlyn Chopra' 'Shevum Shetty' 'Shilpa Shetty'\n",
            " 'Shiney Ahuja' 'Shital Shah' 'Shiv Darshan' 'Shraddha Kapoor'\n",
            " 'Shreela Majumder' 'Shreyas Talpade' 'Shubh' 'Shubh Mukherjee'\n",
            " 'Shweta Bhardwaj' 'Siddhant Kumar' 'Siddharth' 'Siddharth Dhawan'\n",
            " 'Siddharth Gupta' 'Siddharth Koirala' 'Sidhant Kapur' 'Sidharth Malhotra'\n",
            " 'Sikander Kher' 'Simone Singh' 'Simran' 'Smeep Kang' 'Smriti Singh'\n",
            " 'Soha Ali Khan' 'Sohail Khan' 'Sohrab Ardeshir' 'Sonakshi Sinha'\n",
            " 'Sonali Kulkarni' 'Sonam Kapoor' 'Sonu Pahuja' 'Sonu Sood'\n",
            " 'Sooraj Pancholi' 'Sridevi' 'Subrat Dutta' 'Suchhi Kumar' 'Sudeep'\n",
            " 'Sudesh Berry' 'Sudhanshu Pandey' 'Suhail Karim' 'Sukhwinder Singh'\n",
            " 'Suman Ranganathan' 'Sumeet Nijhawan' 'Suneil Shetty' 'Sunil Grover'\n",
            " 'Sunil Pal' 'Sunny Deol' 'Sunny Gill' 'Sunny Leone' 'Sunny Singh'\n",
            " 'Supriya Pathak' 'Suraj Dev Sahu' 'Suriya' 'Surveen Chawla'\n",
            " 'Susanna Mohan' 'Sushant Singh' 'Sushant Singh Rajput' 'Sushma Sharma'\n",
            " 'Sushmita Sen' 'Swanand Kirkire' 'Swara Bhaskar' 'Swaraaj Singh'\n",
            " 'Swaroop Kanchi' 'Swati Sharma' 'Swati Verma' 'Sween Sharma'\n",
            " 'Swini Khara' 'Taapsee Pannu' 'Tabu' 'Tanuj Virwani' 'Tanushree'\n",
            " 'Tanushree Datta' 'Tanveer Ahmed' 'Tanveer Hashmi' 'Tanya Oberoi'\n",
            " 'Tara Sharma' 'Tarun Arora' 'Tarun Khanna' 'Tejasvita Kapoor'\n",
            " 'Tejaswini Sarkar' 'Tena Desae' 'Tia Bajpai' 'Tiger Shroff' 'Tina'\n",
            " 'Tina Gujjar' 'Tom Alter' 'Trimala Adhikari' 'Tulip Joshi'\n",
            " 'Tushar Jalota' 'Tusshar Kapoor' 'Uday Chopra' 'Udita Goswami'\n",
            " 'Ujwal Chopra' 'Umed Khandelwal' 'Upasna Singh' 'Urmila'\n",
            " 'Urmila Matondkar' 'Uttar Kumar' 'Uunnat Duutt' 'V.P. Singh'\n",
            " 'Vaishali Rawat' 'Varun Dhawan' 'Vasundhara Das' 'Vatsal Sheth'\n",
            " 'Veena Malik' 'Veer' 'Vega Tamotia' 'Vicky Kaushal' 'Victor Banerjee'\n",
            " 'Vidya Balan' 'Vidyut Jammwal' 'Vijay Bhaskar' 'Vijay Raaz'\n",
            " 'Vijay Saxena' 'Vikram' 'Vikram Aditya' 'Vikram Chatwal' 'Vikram Kumar'\n",
            " 'Vikram Singh' 'Vikrant Mahajan' 'Vinay Anand' 'Vinay Arora'\n",
            " 'Vinay Pathak' 'Vinay Virmani' \"Vincent D'Onofrio\" 'Vineeth'\n",
            " 'Vinit Bhardwaj' 'Vinod Khanna' 'Vinod Painter' 'Vinod Sherawat'\n",
            " 'Vippino' 'Vir Das' 'Vishaw Kashyap' 'Vivek Oberoi' 'Vivek Sudarshan'\n",
            " 'Waqar Khan' 'Yash Gera' 'Yatin Karyekar' 'Yogendra Chouhan'\n",
            " 'Yugboah Garewal' 'Yugraj Jain' 'Yukta Mookhey' 'Zaira Wasim'\n",
            " 'Zakir Hussain' 'Zarine Khan' 'Zayed Khan' 'Zeenat Aman' 'Zulfi Sayed']\n"
          ]
        }
      ]
    },
    {
      "cell_type": "code",
      "source": [
        "print(df['Director'].unique())\n",
        "df['Director'].shape"
      ],
      "metadata": {
        "colab": {
          "base_uri": "https://localhost:8080/"
        },
        "id": "WYlerVxwBwlU",
        "outputId": "d4214a7b-b07f-4ece-cf95-02dcf6b82f58"
      },
      "execution_count": null,
      "outputs": [
        {
          "output_type": "stream",
          "name": "stdout",
          "text": [
            "['Ravi Varma' 'Sagar Ballary' 'Ram Gopal Verma' ... 'Vikram Chopra'\n",
            " 'Sanghamitra Chaudhuri' 'Akbar Khan']\n"
          ]
        },
        {
          "output_type": "execute_result",
          "data": {
            "text/plain": [
              "(1696,)"
            ]
          },
          "metadata": {},
          "execution_count": 39
        }
      ]
    },
    {
      "cell_type": "code",
      "source": [
        "print(df['Music Director'].unique())        #All Strings only"
      ],
      "metadata": {
        "colab": {
          "base_uri": "https://localhost:8080/"
        },
        "id": "sf7H03tVCSxY",
        "outputId": "96b373cc-4d20-4be2-b231-4e341d759307"
      },
      "execution_count": null,
      "outputs": [
        {
          "output_type": "stream",
          "name": "stdout",
          "text": [
            "['Baba Jagirdar' 'Amardeep Nijjer' 'Sandeep Chowta' 'Amit Trivedi'\n",
            " 'Babloo Ustad' 'Avinash Baghel' 'Dharma' 'Amir Ali' 'A.R. Rehman'\n",
            " 'Shankar - Ehsaan - Loy' 'Jatin - Lalit' 'Pritam' 'Shantanu Moitra'\n",
            " 'Ajay - Atul' 'Ram Sampath' 'Shabab Azmi' 'Ashish Donald' 'S. Paul'\n",
            " 'Jatin Pandit' 'Sajid - Wajid' 'Chirantan Bhatt' 'Sahil Patil' 'Udbhav'\n",
            " 'Sneha Khanwalkar' 'Sandesh Shandilya' 'Sohail Sen' 'Jayesh Gandhi'\n",
            " 'Vishal - Shekhar' 'Himesh Reshammiya' 'Santosh Singh' 'John Stewart'\n",
            " 'Anand Raj Anand' 'Dhruv Ghanekar' 'Suresh Kumar' 'Rupesh Pathak'\n",
            " 'Pravin Damle' 'Sangeet - Siddharth' 'Zubeen Garg' 'Amar Mohile'\n",
            " 'Vishal Bhardwaj' 'Hanif Sheikh' 'Gaurav Dagaonkar' 'Sukhwinder Singh'\n",
            " 'Zakir Hussain' 'Ganesh Kumaresh' 'Salim - Sulaiman' 'Tabun Sutradhar'\n",
            " 'Nazam Sheraz' 'Nikhil Kamath' 'Mithoon' 'Anu Malik' 'Aadesh Shrivastava'\n",
            " 'Shivam Farhaan' 'C.L. John' 'Ankur Tewari' 'Nitin Raikwar' 'RDB'\n",
            " 'Nirmal - Shekhar' 'Mahesh Balraj' 'Jasleen Royal' 'Viju Shah'\n",
            " 'Ankit Tiwari' 'Raghav Sachar' 'Ashish Pandit' 'Honey Singh' 'DJ Chetas'\n",
            " 'Abhishek Ray' 'Harish Sharma' 'Raja Pandit' 'Amjad - Nadeem'\n",
            " 'Mike Mitra' 'Vaishnav Deva' 'Dilshad' 'Amal Malik' 'Ashok Bhadra'\n",
            " 'Meet Bros' 'Nadeem - Shravan' 'Sachin - Jigar' 'Mika Singh' 'M.M. Kreem'\n",
            " 'G.V. Prakash Kumar' 'Vickey Prasad' 'Manj Musik' 'Shamir Tandon'\n",
            " 'Manmeet Singh' 'Debjit Bera' 'Piyush Kanojia' 'Vidyasagar' 'Benson Baby'\n",
            " 'Daniel B. George' 'Naveed Zafar' 'Harpreet' 'Ali Zafar' ' Amit Trivedi'\n",
            " 'Bappi Lahiri' 'Sunna Wehrmeijer' 'Tasawar Azmi' 'Amar - Akbar'\n",
            " 'Chander Makwana' 'Tapan' 'Tarun' 'Sayyed Ahmed' 'Avi Raaj'\n",
            " 'Pravin Kumar' 'Agnee' 'Mani Shankar' 'Abhishek - Akshay' 'Jayant Aaryan'\n",
            " 'Akash Chopra' 'Anupam Roy' 'R.D. Burman' 'Ilaiyaraja' 'Bappi - Tutal'\n",
            " 'Prasanna Shekhar' ' Ram Shankar' 'Sanjoy Das' 'Monty Sharma'\n",
            " 'Manish Tipu' 'Sanjoy Chowdhary' 'Ram Shankar' 'Iqbal Darbar' 'Anay'\n",
            " 'Divyang Arora' 'Rajat Dholakia' 'Ajit Parab' 'Sajid Salam' 'Sushmit Sen'\n",
            " 'Josh' 'Shiv Prakash Mishra' 'Sanjay Dhakan' 'Daboo Malik' 'Udhav Ohja'\n",
            " 'Vikram Khajuria' 'Jeet Ganguly' 'Bappa Lahiri' 'Channi Singh'\n",
            " 'Siddharth - Suhas' 'Abu Malik' 'Sushil Dalai' 'Babu Kishen' 'Raju Singh'\n",
            " 'Raaj Aashoo' 'Shubayu' 'Imraan Khan' 'Rishi Rich' 'Amartya Rahut'\n",
            " 'Sunil Jha' 'Gurnam Singh Mann' 'Vishnu Narayan' 'Labh Junjua'\n",
            " 'Rochak Kohli' 'Rajesh Roshan' 'Krsna' 'Ravi Pawar' 'Bobby Rehman'\n",
            " 'Anand - Milind' 'Tauseef Akhtar' 'Vijay Kapoor' 'Vishwanath Dixit'\n",
            " 'Nishad Vaidya' 'Rajendra Shiv' 'Nithin R. Shankar' 'Naresh Karwala'\n",
            " 'Durga - Natraj' 'Shankar - Jaikishen' 'Atul Sriva' 'Madhumay'\n",
            " 'Jaidev Kumar' 'Lisa Stanislawski' 'Sachin Gupta' 'M.G. Sreekumar'\n",
            " 'Surinder Bachan' 'Pravin More' 'Tapas Relia' 'Samira Koppikar'\n",
            " 'Raghu Dixit' 'Vayu' 'Mikey McCleary' 'Mangesh Dhakde'\n",
            " 'Shailendra - Sayanti' 'Ravi Shukla' 'Nirmal Pawar' 'Kavita Seth'\n",
            " 'Tony Kakkar' 'Manjit Arora' 'Gourov Dasgupta' 'Babbu Mann'\n",
            " 'Sawan Kumar Sawan' 'Jassi Katyal' 'Saurabh Malhotra' 'Bali Brahmbhatt'\n",
            " 'Atif Afzal' 'Ronit Chatterji' 'Kartik Shah' 'Shailendra Barve'\n",
            " 'Shankar Sahney' 'John P. Varkey' 'Raj Sen' 'Haricharan Verma'\n",
            " 'Vivek Philip' 'Sanjay Pathak' 'Dev Sikander' 'Mathias Duplessy'\n",
            " 'Reeg Deb' 'Debajyoti Mishra' 'Darshan Dave' 'Sanjay Jaydip'\n",
            " 'Narendra Sharma' 'Ravindra Jain' 'Mahesh Naik' 'Jatinder Shah'\n",
            " 'R.K. Pandit' 'Alokananda Dasgupta' 'Jona Kampa' 'Shahank Phadnis'\n",
            " 'John T. Hunt' 'Abhi - Raj' 'Ranjit Barot' 'Lalit Pandit' 'Farzan Faaiz'\n",
            " 'Ali Ghani' 'Nikhil - Vinay' 'Vivek Prakash' 'Raju Rao' 'Taufiq Qureshi'\n",
            " 'Santokh Singh' ' Vishal - Shekhar' 'Kamran Ahmed' 'Yuvan Shankar Raja'\n",
            " 'Roop Kumar Rathod' 'Toshi - Sharib' 'Gulraj Singh' 'Rashid Khan'\n",
            " 'Rajesh S.S' 'Manasi Scott' 'Gaurav Godkhindi' 'Sidhant Mathur'\n",
            " 'Rohit Sharma' 'Lava Kumar S.R.' 'Faizan Hussain' 'Ali Vasudev'\n",
            " 'Munni Raj' 'Madhu Bhosle' 'Vipin Mishra' 'Sony Chandy' 'Kamini Khanna'\n",
            " 'Shabbir Ahmed' 'Arvind Haldipur' 'Kuldeep Singh' 'Abu Zar' 'Ravee Jule'\n",
            " 'Shivam Bagchi' 'Sudhakar Sharma' 'Billu' 'Daler Mehndi'\n",
            " 'Gurmeet Ram Rahim Singh' 'C.P. Aslam' 'Vasu Dixit' 'Vinay Kapadia'\n",
            " 'Susmit Bose' 'Raj - Prakash' 'Hriju Roy' 'Varsha' 'Sunil Kashyap'\n",
            " 'Satish - Ajay' 'Gunwant Sharma' 'Manikanth Kadari'\n",
            " 'Sanjay Leela Bhansali' 'Swarathma' 'Talaash - Band Of Seekers'\n",
            " 'Sunil Singh' 'Imaad Shah' 'Vishal - Shekhar ' 'Bhajan Sopori'\n",
            " 'Lesle Lewis' 'Nishat Khan' 'Nitin Kumar Gupta' 'Jalalludin Khan'\n",
            " 'Adam Avil - Eddie Avil' 'Param' 'Aabfm' 'Vinay Tiwari'\n",
            " 'Jaideep Choudhury' 'Anwar Hussain' 'Santosh Sharma' 'Jazzy Bains'\n",
            " 'Prashant Singh' 'Baba Sehgal' 'Shashi Pritam' 'Reeky Dev'\n",
            " 'Matt Robertson' 'Usha Uthup' 'Khayyam' 'Uttam Singh' 'Rabbi Shergill'\n",
            " 'J.D. Singh - Rajan' 'Arun Bhairav' 'Harris Jayraj' 'Bombay Rockers'\n",
            " 'Aman' 'Sandarbh' 'Naren Chandavarkar' 'Mike Paul Hughes' 'Nikhil'\n",
            " 'Dilip Sen' 'Sanjeev Srivastava' 'Runa Rizvi' 'Dr. Zeus'\n",
            " 'Sahil Fatehpuri' 'Afsar - Sajid' 'Sudheer - Milind' 'Clinton Cerejo'\n",
            " 'Hitesh Sonik' 'Amresh Shahabadi' 'Faiz ur Rehmen' 'Sandeep - Surya'\n",
            " 'Indian Ocean' 'Piyush Mishra' 'Faizal Qureshi' 'Samir Phatarpekar'\n",
            " 'Vinay Jaiswal' 'Inder Bawra' 'Sayad Ali' 'Shiv - Ram' 'Niranjan - Saket'\n",
            " 'Laxmi - Vasant' 'Rahul Ranade' 'Jaan Nissar Lone' 'Randolph Correa'\n",
            " 'Kaushal Inamdar' 'Liyaqat Asmmen' 'Zubunnisa Bangash' 'Sawan Datta'\n",
            " 'Nandlal Nayak' 'Deepak Pandit' 'A.K. Alrin' 'Ravi Chopra'\n",
            " 'Aditya Shankar' 'Veivek Asthaana' 'Rana Mazumder' 'Roshan Machado'\n",
            " 'Pranay Rijia' 'Dheeraj Sen' 'Sanjeev Chorasiya' 'Lahu Madhav'\n",
            " 'Mark Kilian' 'Caralisa Monteiro' 'Adnan Sami' 'Chiradeep Dasgupta'\n",
            " 'Soumik Sen' 'Yasin Darbar' 'N.K. Nandan' 'Onkar Singh'\n",
            " ' Sneha Khanwalkar' 'Nitin Arora' 'Karan Kulkarni' 'Imran Wasim'\n",
            " 'Leonard Victor' 'K.P.' 'Dan Omelia' 'Sanjeev - Darshan'\n",
            " 'Abhijeet - Kuljeet' 'Pranit' 'Laxmi Pawan' 'Sujeet Shetty'\n",
            " 'Manan Munjal' 'Anaamik' 'Sikander Khan' 'Palash Sen'\n",
            " 'Dilip Sen - Sameer Sen' 'Karthik - Arjun' 'Anand Modak'\n",
            " 'Ashish Manchanda' 'Shriram Shankar' 'Nashraj Chigre' 'Rajiv Thanvi'\n",
            " 'Sumit Telang' 'Tukaram' 'Tanishk' 'Deen Mohammad' 'Vivek Priyadarshan'\n",
            " 'Goutam Ghose' 'Ravi' 'Prem Bhandari' 'Kailash Kher' 'Neeraj Shridhar'\n",
            " 'Shri Rangaras' 'Shibani Kashyap' 'Sunil Patni' 'Arfaaz Kagalwala' 'Dinu'\n",
            " 'R. Anandh' 'Saurabh Mukherjee' 'Chand Sadhwani' 'D. Sushant'\n",
            " 'Ashish Keskar' 'Arjuna Harjai' 'Pramod Chillal' 'Anil Hajaria'\n",
            " 'Ujjwal Thengdi' 'Sanjay Basu' 'Annujj Kappoo' 'Nizam Khan'\n",
            " 'Tarannum Malik' 'Ramen Barua' 'Harshit Saxena' 'Sujeet Chaubey'\n",
            " 'Anil Mohile' 'Arun Daga' 'Usha Khanna' 'Bhupesh Sawai' 'Nayab - Raja'\n",
            " 'Manoj Tikaria' 'Shujaat Hussain Khan' 'Sudeep Banerjee' 'Mychael Danna'\n",
            " 'Raj Hans' 'Darshan Kaher' 'Vasuda Sharma' 'Ghulam Ali Chander'\n",
            " 'Shashi Suman' 'Kumar Sanu' 'Shree - Isshq' 'G.J. Singh' 'Bikram Ghosh'\n",
            " 'Saii - Piiyush' 'Surj RDB' 'Tubby Parik' 'Atif Ali'\n",
            " 'Praveen Duth Stephen' 'S. Prabhath' 'Manoj Santoshi' 'Sagar Desai'\n",
            " 'Ashutosh Phatak' 'Zubin Balaporia' 'Kishore Parashar' 'Nazakat - Shujat'\n",
            " 'Sunil Khosla' 'Ahmed Hussain' 'Rajan Bawa' 'Madan Atram'\n",
            " 'Abhijeet Kumar' 'Luv - Kush' 'Subhi' 'Chandraprakash Dwivedi'\n",
            " 'Arun Bakshi' 'Mahesh Sharma' 'Gajendra Verma' 'Vishal Vaid'\n",
            " 'Suraj Kumar' 'Arpan-Sumit' 'Nandu Honap' 'Bhai Pawar' 'Prashant Kumar'\n",
            " 'Ashraf Fani' 'Ismail Darbar' 'Bipin Panchal' 'Rooshin Dalal' 'Jam 8'\n",
            " 'Agnel Roman' 'Arko Pravo Mukherjee' 'Nitz - Sony' 'Vijay Verma'\n",
            " 'Nishadh Chandra' 'Chinar-Mahesh' 'Raees Khan' 'Kabir' 'Dinesh Arjuna'\n",
            " ' Pritam' 'Kshitij Tarey' 'Satya' 'Shiraz Uppal' 'Manan'\n",
            " 'Kaushal Mahavir' 'Karan Gour' 'Fuzon' 'Issan Manik' 'Siddhant Madhav'\n",
            " 'Akshay Bafila' 'Tasavar Azmi' 'Pramod Tripathi' 'Romilla Mukherjee'\n",
            " 'Suresh Mathur' 'Prakash Prabhakar' 'Praveen Bhardwaj' 'Uttsava Anand'\n",
            " 'Uttankk V. Vorra' 'Aditya Gaud' 'Parampara Band' 'Santosh Anand'\n",
            " 'Neel Dutt' 'Amit Kasaria' 'Santhosh Narayanan' 'Itek Bhutani'\n",
            " 'Kamran Khan' 'Gurudutt Sahil' 'Bishakh - Kanish' 'DJ Aqeel'\n",
            " 'Asheesh Thadani' 'Sur Rhyeal' 'Prawaldeep' 'Mahesh - Vinod'\n",
            " 'Sushil Lalji' 'Onkar Shinde' 'Munnawar Azmi' 'Astitva - The Band'\n",
            " 'Vikram Negi' 'Kinky Ronald' 'Visshuraj' 'Prakash - Ashish - Veeru'\n",
            " 'Vinod - Prakash - Ashish' 'Sankalp Shrivastava' 'Swapnil Salkar'\n",
            " 'Akshaya Mohanty' 'Claver Menezes' 'Ved Nair' 'Nitish Pires' 'Manoj Negi'\n",
            " 'Sonam - Nitin - Subir' 'Babla Mehta' 'Aslam Keyi' 'Arijit Datta'\n",
            " 'Raj Inder Raj' 'Jyotishka Dasgupta' 'Michael Cohen' 'Neel Murgai'\n",
            " 'Ankur Mukherjee' 'Vikrant Mathur' 'Brooklyn Shanti' 'Manish'\n",
            " 'Dharam - Sandeep' 'Gourav - Roshin' 'Soumik Datta' 'Aqeel'\n",
            " 'Justin - Uday' 'Abid Shah' 'Nadeem Saifi' 'Pinak Bhattacharya'\n",
            " 'Vivek Asthana' 'Parichay' 'Adnan Dhool' 'Bilal Saeed' 'Abheer Mukherjee'\n",
            " 'Vinay Prasanna' 'Baadshah' 'Prabuddha Banerjee' 'Uday Ramdas'\n",
            " 'Vishal Khurana' 'Rakesh Trivedi' 'Sameer Phaterpekar'\n",
            " 'Bhoopi - Kanakraj' 'Parvez - Subhash' 'Superbia' 'Sonu Nigam'\n",
            " 'Sukhshinder Shinda' 'Uzair Jaswal' 'Vivek Kar' 'Munish Makhija'\n",
            " 'Deepak Shah' 'Navraj Baskota' 'Rohit Sinha' 'Mode AKA' 'Avinash Pathak'\n",
            " 'Rohan - Vinayak' 'Indraneel Hariharan' 'Amit Mishra' 'Aashish Dwivedi'\n",
            " 'Swaroop Kanchi' 'Sahil Rayyan' 'Harish Mangoli' 'Sunil Bhatia'\n",
            " 'Pandit Jalwa Prasad' 'Pradeep Kumar Das' 'Afsar' 'Rajib - Mounaa'\n",
            " 'Babli Haq' 'Rahul B. Seth' 'Harendra Panijar' 'Raja Ali' 'Mustafa Zahid'\n",
            " 'Anand Singh' 'Serge Eisen' 'Brince Bora' 'Paresh A. Shah'\n",
            " 'Umed Khandelwal' 'Suman - Sudeep' 'Mukesh Verma' 'A.R. Saxena'\n",
            " 'Santosh Mehta' 'Omkar Rana' 'B.S. Akhilesh' 'Akhil Sachdeva'\n",
            " 'Virag Mishra' 'DJ Sheizwood' 'Pramod Nair' 'Ashu Pathak'\n",
            " ' Clinton Cerejo' 'Santanu Ghatak' 'Mannan Shaah' 'Abu Murali'\n",
            " 'Nutan-Pankaj' 'Dudal Sakia' 'J. Subhash' 'Wayne Sharpe' 'Lalit Sen'\n",
            " 'Gaurav Dayal' 'Siddharth Madhay' 'Aziz Ali' 'Sangeeta Pant'\n",
            " 'Shivangi Kashyap' 'Malhar' ' Rohit Kulkarni' 'John Debney' 'Anurag Ware'\n",
            " 'Sushant - Shankar' 'Akbar Sami' 'Kapil Jangir' 'Rahul Gupta' 'Strings'\n",
            " 'Neeraj Shrivastava' 'Praveen Kunwar' 'Sanjay Gite' 'Rajesh Pillay'\n",
            " 'Hirju Roy' 'Aman Shlok' 'Baman' 'Faridkot' 'Dev Sikdar' 'Naushad'\n",
            " 'Rishi - Ranjit']\n"
          ]
        }
      ]
    },
    {
      "cell_type": "code",
      "source": [
        "print(df['Number of Screens'].unique())             #relevant values"
      ],
      "metadata": {
        "colab": {
          "base_uri": "https://localhost:8080/"
        },
        "id": "W8wokElMCSsh",
        "outputId": "70d42f88-87ca-46a9-cde6-7ace61853be8"
      },
      "execution_count": null,
      "outputs": [
        {
          "output_type": "stream",
          "name": "stdout",
          "text": [
            "[   5   75  525  800    1   10    2   30 1550  500  675  650 4250 1750\n",
            " 3600  600 2550 3650   20   25  325   50  400  110 1000  350  140  200\n",
            "   40 1250  250 1900 1100  750 1350  475  950 1650    8  300    6  225\n",
            "  175  550   70 1500 1150 1400  125 1300   55  275  100   90 2950 1050\n",
            " 2000 1850 2850 2250 3350  425 2650 1200 1950  925  900 2050 2500 3500\n",
            " 3300 3150  450  625   60  850 1800 2800 2750 2200 3400 3100 2300  825\n",
            " 1600 2450  575 1450 2100 1700  700  775  180   15  375   45   80   65\n",
            "   85  260  875  150  235   35   12    4 2400  285  975    3    7  255\n",
            "  240  210 2700 2600 3250  135  160   18  165 3200 3000  105    9  115\n",
            " 3950  725 2150  130  190 2900 2350   95 4350 4600 4100 4400 3800 3700\n",
            " 4200 3850 3450  270  290 3900  120]\n"
          ]
        }
      ]
    },
    {
      "cell_type": "code",
      "source": [
        "print(df['Revenue(INR)'].unique())          #relevant values"
      ],
      "metadata": {
        "colab": {
          "base_uri": "https://localhost:8080/"
        },
        "id": "bWLK5AZmDjpU",
        "outputId": "411f616b-c27b-4cea-eae2-44de7cd70657"
      },
      "execution_count": null,
      "outputs": [
        {
          "output_type": "stream",
          "name": "stdout",
          "text": [
            "[   5000000   15000000   75000000  210000000    1000000    1500000\n",
            "  520000000  180000000  370000000  300000000 1320000000  770000000\n",
            " 1220000000  280000000  710000000 1750000000    5500000    6500000\n",
            "   17500000   12500000   40000000    9000000  110000000  120000000\n",
            "   50000000  200000000   32500000  100000000   35000000  250000000\n",
            "   45000000  550000000  340000000  390000000  430000000  220000000\n",
            "  480000000  310000000  125000000  270000000  400000000    2000000\n",
            "   60000000   42500000   72500000   55000000   10000000   37500000\n",
            "   22500000   90000000  320000000  150000000   80000000   57500000\n",
            "  230000000 1030000000   95000000  670000000  460000000  140000000\n",
            "  290000000  135000000  350000000  900000000  620000000  930000000\n",
            "  730000000  380000000  410000000  500000000  660000000 1050000000\n",
            " 1420000000  680000000  130000000  260000000    2500000   47500000\n",
            "    4000000  860000000  610000000  800000000  700000000  630000000\n",
            "  450000000  810000000  970000000 1120000000  790000000 1000000000\n",
            "  750000000  910000000  170000000  600000000  540000000  650000000\n",
            "  360000000  470000000  720000000  830000000  160000000  510000000\n",
            "   85000000  190000000  240000000    7500000   77500000  105000000\n",
            "   25000000    1250000   27500000    8000000  490000000   62500000\n",
            "  420000000    6000000    3000000   30000000   52500000    4250000\n",
            "   70000000   20000000  580000000   28200000   67500000  115000000\n",
            "    7000000    4500000   65000000  530000000   39000000  820000000\n",
            " 1380000000  950000000  890000000  740000000 1600000000 1080000000\n",
            "   97500000     325000    9500000    3500000     750000   92500000\n",
            "    8500000 1700000000 1950000000  330000000 1310000000 1180000000\n",
            "  870000000  980000000  440000000  640000000  880000000 1450000000\n",
            "  940000000  560000000  570000000 2100000000  840000000  920000000\n",
            " 1250000000 1350000000 1400000000 1020000000 1800000000  690000000\n",
            " 1300000000 1500000000  760000000 1190000000  850000000 1200000000\n",
            " 1270000000 1150000000 1650000000  780000000    1200000 1100000000\n",
            "     500000  590000000  145000000   82500000]\n"
          ]
        }
      ]
    },
    {
      "cell_type": "code",
      "source": [
        "print(df['Budget(INR)'].unique())"
      ],
      "metadata": {
        "colab": {
          "base_uri": "https://localhost:8080/"
        },
        "id": "sxQQ8JhwD-QX",
        "outputId": "285045fc-a954-4637-906f-181e5d0b782b"
      },
      "execution_count": null,
      "outputs": [
        {
          "output_type": "stream",
          "name": "stdout",
          "text": [
            "[   85000   825000 56700000 ... 15800000 88862500 31065000]\n"
          ]
        }
      ]
    },
    {
      "cell_type": "markdown",
      "source": [
        "Data is Cleaned. \n",
        "Visualising the Data"
      ],
      "metadata": {
        "id": "lNBmFxMgGDO4"
      }
    },
    {
      "cell_type": "markdown",
      "source": [
        "Did people prefer going out to a theatre on a Normal day or a Holiday??"
      ],
      "metadata": {
        "id": "wfviZjLOGxes"
      }
    },
    {
      "cell_type": "code",
      "source": [
        "plt.figure(figsize = (10,10))\n",
        "ax = sns.countplot(df['Release Period'])"
      ],
      "metadata": {
        "colab": {
          "base_uri": "https://localhost:8080/",
          "height": 661
        },
        "id": "IoiQdQF_Ldet",
        "outputId": "755372c9-8bb4-4499-f451-9028108f6d74"
      },
      "execution_count": null,
      "outputs": [
        {
          "output_type": "stream",
          "name": "stderr",
          "text": [
            "/usr/local/lib/python3.7/dist-packages/seaborn/_decorators.py:43: FutureWarning: Pass the following variable as a keyword arg: x. From version 0.12, the only valid positional argument will be `data`, and passing other arguments without an explicit keyword will result in an error or misinterpretation.\n",
            "  FutureWarning\n"
          ]
        },
        {
          "output_type": "display_data",
          "data": {
            "text/plain": [
              "<Figure size 720x720 with 1 Axes>"
            ],
            "image/png": "[encoded data removed]"
          },
          "metadata": {
            "needs_background": "light"
          }
        }
      ]
    },
    {
      "cell_type": "code",
      "source": [
        "#Many people preferred Normal days than a Holiday"
      ],
      "metadata": {
        "id": "c631XjXkNr_P"
      },
      "execution_count": null,
      "outputs": []
    },
    {
      "cell_type": "markdown",
      "source": [
        "To find out whether people welcomed remakes "
      ],
      "metadata": {
        "id": "61SK5FSVN_AF"
      }
    },
    {
      "cell_type": "code",
      "source": [
        "plt.figure(figsize = (10,10))\n",
        "bx = sns.countplot(df['Whether Remake'])\n",
        "\n"
      ],
      "metadata": {
        "colab": {
          "base_uri": "https://localhost:8080/",
          "height": 661
        },
        "id": "NAVsrVWLOda8",
        "outputId": "bf766a03-0e0c-4fef-c527-df4be29787a1"
      },
      "execution_count": null,
      "outputs": [
        {
          "output_type": "stream",
          "name": "stderr",
          "text": [
            "/usr/local/lib/python3.7/dist-packages/seaborn/_decorators.py:43: FutureWarning: Pass the following variable as a keyword arg: x. From version 0.12, the only valid positional argument will be `data`, and passing other arguments without an explicit keyword will result in an error or misinterpretation.\n",
            "  FutureWarning\n"
          ]
        },
        {
          "output_type": "display_data",
          "data": {
            "text/plain": [
              "<Figure size 720x720 with 1 Axes>"
            ],
            "image/png": "[encoded data removed]"
          },
          "metadata": {
            "needs_background": "light"
          }
        }
      ]
    },
    {
      "cell_type": "code",
      "source": [
        "#People did not prefer remakes"
      ],
      "metadata": {
        "id": "2Kqk6LO4O0oB"
      },
      "execution_count": null,
      "outputs": []
    },
    {
      "cell_type": "markdown",
      "source": [
        "Which Genre was the craziesttt during the 13 yrs"
      ],
      "metadata": {
        "id": "JICEup7kO9BI"
      }
    },
    {
      "cell_type": "code",
      "source": [
        "plt.figure(figsize = (30,10))\n",
        "cx = sns.countplot(df['Genre'])"
      ],
      "metadata": {
        "colab": {
          "base_uri": "https://localhost:8080/",
          "height": 554
        },
        "id": "aliQFuN1PCp4",
        "outputId": "371aa182-1a2f-4b14-c770-d97a2a98ad6b"
      },
      "execution_count": null,
      "outputs": [
        {
          "output_type": "stream",
          "name": "stderr",
          "text": [
            "/usr/local/lib/python3.7/dist-packages/seaborn/_decorators.py:43: FutureWarning: Pass the following variable as a keyword arg: x. From version 0.12, the only valid positional argument will be `data`, and passing other arguments without an explicit keyword will result in an error or misinterpretation.\n",
            "  FutureWarning\n"
          ]
        },
        {
          "output_type": "display_data",
          "data": {
            "text/plain": [
              "<Figure size 2160x720 with 1 Axes>"
            ],
            "image/png": "[encoded data removed]"
          },
          "metadata": {
            "needs_background": "light"
          }
        }
      ]
    },
    {
      "cell_type": "markdown",
      "source": [
        "How many movies had new actors??"
      ],
      "metadata": {
        "id": "BHlpfIJ7Pbvh"
      }
    },
    {
      "cell_type": "code",
      "source": [
        "plt.figure(figsize = (10,10))\n",
        "dx = sns.countplot(df['New Actor'])\n"
      ],
      "metadata": {
        "colab": {
          "base_uri": "https://localhost:8080/",
          "height": 661
        },
        "id": "seT0jRG_PhEo",
        "outputId": "bdcaf7f4-b082-4b3a-98ef-adfca3e73556"
      },
      "execution_count": null,
      "outputs": [
        {
          "output_type": "stream",
          "name": "stderr",
          "text": [
            "/usr/local/lib/python3.7/dist-packages/seaborn/_decorators.py:43: FutureWarning: Pass the following variable as a keyword arg: x. From version 0.12, the only valid positional argument will be `data`, and passing other arguments without an explicit keyword will result in an error or misinterpretation.\n",
            "  FutureWarning\n"
          ]
        },
        {
          "output_type": "display_data",
          "data": {
            "text/plain": [
              "<Figure size 720x720 with 1 Axes>"
            ],
            "image/png": "[encoded data removed]"
          },
          "metadata": {
            "needs_background": "light"
          }
        }
      ]
    },
    {
      "cell_type": "markdown",
      "source": [
        "How many films had new film director??"
      ],
      "metadata": {
        "id": "8LLR-Gh8Pxm1"
      }
    },
    {
      "cell_type": "code",
      "source": [
        "plt.figure(figsize= (10,10))\n",
        "ex = sns.countplot(df['New Director'])"
      ],
      "metadata": {
        "colab": {
          "base_uri": "https://localhost:8080/",
          "height": 661
        },
        "id": "MtINWsPOP080",
        "outputId": "fdfe3c50-c7ad-4ad5-b326-65ba7c7250ab"
      },
      "execution_count": null,
      "outputs": [
        {
          "output_type": "stream",
          "name": "stderr",
          "text": [
            "/usr/local/lib/python3.7/dist-packages/seaborn/_decorators.py:43: FutureWarning: Pass the following variable as a keyword arg: x. From version 0.12, the only valid positional argument will be `data`, and passing other arguments without an explicit keyword will result in an error or misinterpretation.\n",
            "  FutureWarning\n"
          ]
        },
        {
          "output_type": "display_data",
          "data": {
            "text/plain": [
              "<Figure size 720x720 with 1 Axes>"
            ],
            "image/png": "[encoded data removed]"
          },
          "metadata": {
            "needs_background": "light"
          }
        }
      ]
    }
  ]
}