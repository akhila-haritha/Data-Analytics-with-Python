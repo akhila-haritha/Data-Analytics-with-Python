{
  "nbformat": 4,
  "nbformat_minor": 0,
  "metadata": {
    "colab": {
      "provenance": []
    },
    "kernelspec": {
      "name": "python3",
      "display_name": "Python 3"
    },
    "language_info": {
      "name": "python"
    }
  },
  "cells": [
    {
      "cell_type": "markdown",
      "source": [
        "## Importing Libraries\n"
      ],
      "metadata": {
        "id": "F77-yaJ0dKRJ"
      }
    },
    {
      "cell_type": "code",
      "execution_count": null,
      "metadata": {
        "id": "vp1BktpedITP"
      },
      "outputs": [],
      "source": [
        "import pandas as pd\n",
        "import numpy as np\n",
        "import matplotlib.pyplot as plt\n",
        "import seaborn as sns\n",
        "from scipy.stats import pearsonr"
      ]
    },
    {
      "cell_type": "markdown",
      "source": [
        "## Loading Dataset\n"
      ],
      "metadata": {
        "id": "WnNyFU-gdW4Y"
      }
    },
    {
      "cell_type": "code",
      "source": [
        "from google.colab import drive\n",
        "drive.mount('/content/drive')\n",
        "df = pd.read_csv('/content/drive/MyDrive/spi.csv')"
      ],
      "metadata": {
        "colab": {
          "base_uri": "https://localhost:8080/"
        },
        "id": "exg_hxPpdZI7",
        "outputId": "53cde8c2-9d00-4a00-8415-b00d8e339c8e"
      },
      "execution_count": null,
      "outputs": [
        {
          "output_type": "stream",
          "name": "stdout",
          "text": [
            "Mounted at /content/drive\n"
          ]
        }
      ]
    },
    {
      "cell_type": "markdown",
      "source": [
        "## Printing Dataset"
      ],
      "metadata": {
        "id": "tDb_YX_8dto4"
      }
    },
    {
      "cell_type": "code",
      "source": [
        "df.head()"
      ],
      "metadata": {
        "colab": {
          "base_uri": "https://localhost:8080/",
          "height": 270
        },
        "id": "cpH0-jk1dtFU",
        "outputId": "19020747-e51e-450d-d1c2-3b96e380d7ef"
      },
      "execution_count": null,
      "outputs": [
        {
          "output_type": "execute_result",
          "data": {
            "text/plain": [
              "   spi_rank      country  spi_score  basic_human_needs  wellbeing  \\\n",
              "0       1.0       Norway      92.63              95.29      93.30   \n",
              "1       2.0      Finland      92.26              95.62      93.09   \n",
              "2       3.0      Denmark      92.15              95.30      92.74   \n",
              "3       4.0      Iceland      91.78              96.66      93.65   \n",
              "4       5.0  Switzerland      91.78              95.25      93.80   \n",
              "\n",
              "   opportunity  basic_nutri_med_care  water_sanitation  shelter  \\\n",
              "0        89.30                 98.81             98.33    93.75   \n",
              "1        88.07                 98.99             99.26    96.48   \n",
              "2        88.41                 98.62             98.21    94.92   \n",
              "3        85.04                 98.99             98.82    93.16   \n",
              "4        86.28                 98.72             98.96    92.97   \n",
              "\n",
              "   personal_safety  access_basic_knowledge  access_info_comm  health_wellness  \\\n",
              "0            90.29                   98.66             95.80            89.32   \n",
              "1            87.75                   96.32             95.14            85.73   \n",
              "2            89.46                   97.44             98.18            85.15   \n",
              "3            95.66                   99.51             93.12            91.02   \n",
              "4            90.35                   98.60             95.07            91.50   \n",
              "\n",
              "   env_quality  personal_rights  personal_freedom_choice  inclusiveness  \\\n",
              "0        89.44            96.34                    91.16          83.77   \n",
              "1        95.15            96.13                    88.10          82.81   \n",
              "2        90.20            97.08                    90.03          81.64   \n",
              "3        90.93            95.14                    88.01          77.63   \n",
              "4        90.05            96.69                    90.65          74.81   \n",
              "\n",
              "   access_adv_edu  \n",
              "0           85.92  \n",
              "1           85.23  \n",
              "2           84.89  \n",
              "3           79.39  \n",
              "4           82.99  "
            ],
            "text/html": [
              "\n",
              "  <div id=\"df-cc202749-21a7-424b-8721-e76672993f07\">\n",
              "    <div class=\"colab-df-container\">\n",
              "      <div>\n",
              "<style scoped>\n",
              "    .dataframe tbody tr th:only-of-type {\n",
              "        vertical-align: middle;\n",
              "    }\n",
              "\n",
              "    .dataframe tbody tr th {\n",
              "        vertical-align: top;\n",
              "    }\n",
              "\n",
              "    .dataframe thead th {\n",
              "        text-align: right;\n",
              "    }\n",
              "</style>\n",
              "<table border=\"1\" class=\"dataframe\">\n",
              "  <thead>\n",
              "    <tr style=\"text-align: right;\">\n",
              "      <th></th>\n",
              "      <th>spi_rank</th>\n",
              "      <th>country</th>\n",
              "      <th>spi_score</th>\n",
              "      <th>basic_human_needs</th>\n",
              "      <th>wellbeing</th>\n",
              "      <th>opportunity</th>\n",
              "      <th>basic_nutri_med_care</th>\n",
              "      <th>water_sanitation</th>\n",
              "      <th>shelter</th>\n",
              "      <th>personal_safety</th>\n",
              "      <th>access_basic_knowledge</th>\n",
              "      <th>access_info_comm</th>\n",
              "      <th>health_wellness</th>\n",
              "      <th>env_quality</th>\n",
              "      <th>personal_rights</th>\n",
              "      <th>personal_freedom_choice</th>\n",
              "      <th>inclusiveness</th>\n",
              "      <th>access_adv_edu</th>\n",
              "    </tr>\n",
              "  </thead>\n",
              "  <tbody>\n",
              "    <tr>\n",
              "      <th>0</th>\n",
              "      <td>1.0</td>\n",
              "      <td>Norway</td>\n",
              "      <td>92.63</td>\n",
              "      <td>95.29</td>\n",
              "      <td>93.30</td>\n",
              "      <td>89.30</td>\n",
              "      <td>98.81</td>\n",
              "      <td>98.33</td>\n",
              "      <td>93.75</td>\n",
              "      <td>90.29</td>\n",
              "      <td>98.66</td>\n",
              "      <td>95.80</td>\n",
              "      <td>89.32</td>\n",
              "      <td>89.44</td>\n",
              "      <td>96.34</td>\n",
              "      <td>91.16</td>\n",
              "      <td>83.77</td>\n",
              "      <td>85.92</td>\n",
              "    </tr>\n",
              "    <tr>\n",
              "      <th>1</th>\n",
              "      <td>2.0</td>\n",
              "      <td>Finland</td>\n",
              "      <td>92.26</td>\n",
              "      <td>95.62</td>\n",
              "      <td>93.09</td>\n",
              "      <td>88.07</td>\n",
              "      <td>98.99</td>\n",
              "      <td>99.26</td>\n",
              "      <td>96.48</td>\n",
              "      <td>87.75</td>\n",
              "      <td>96.32</td>\n",
              "      <td>95.14</td>\n",
              "      <td>85.73</td>\n",
              "      <td>95.15</td>\n",
              "      <td>96.13</td>\n",
              "      <td>88.10</td>\n",
              "      <td>82.81</td>\n",
              "      <td>85.23</td>\n",
              "    </tr>\n",
              "    <tr>\n",
              "      <th>2</th>\n",
              "      <td>3.0</td>\n",
              "      <td>Denmark</td>\n",
              "      <td>92.15</td>\n",
              "      <td>95.30</td>\n",
              "      <td>92.74</td>\n",
              "      <td>88.41</td>\n",
              "      <td>98.62</td>\n",
              "      <td>98.21</td>\n",
              "      <td>94.92</td>\n",
              "      <td>89.46</td>\n",
              "      <td>97.44</td>\n",
              "      <td>98.18</td>\n",
              "      <td>85.15</td>\n",
              "      <td>90.20</td>\n",
              "      <td>97.08</td>\n",
              "      <td>90.03</td>\n",
              "      <td>81.64</td>\n",
              "      <td>84.89</td>\n",
              "    </tr>\n",
              "    <tr>\n",
              "      <th>3</th>\n",
              "      <td>4.0</td>\n",
              "      <td>Iceland</td>\n",
              "      <td>91.78</td>\n",
              "      <td>96.66</td>\n",
              "      <td>93.65</td>\n",
              "      <td>85.04</td>\n",
              "      <td>98.99</td>\n",
              "      <td>98.82</td>\n",
              "      <td>93.16</td>\n",
              "      <td>95.66</td>\n",
              "      <td>99.51</td>\n",
              "      <td>93.12</td>\n",
              "      <td>91.02</td>\n",
              "      <td>90.93</td>\n",
              "      <td>95.14</td>\n",
              "      <td>88.01</td>\n",
              "      <td>77.63</td>\n",
              "      <td>79.39</td>\n",
              "    </tr>\n",
              "    <tr>\n",
              "      <th>4</th>\n",
              "      <td>5.0</td>\n",
              "      <td>Switzerland</td>\n",
              "      <td>91.78</td>\n",
              "      <td>95.25</td>\n",
              "      <td>93.80</td>\n",
              "      <td>86.28</td>\n",
              "      <td>98.72</td>\n",
              "      <td>98.96</td>\n",
              "      <td>92.97</td>\n",
              "      <td>90.35</td>\n",
              "      <td>98.60</td>\n",
              "      <td>95.07</td>\n",
              "      <td>91.50</td>\n",
              "      <td>90.05</td>\n",
              "      <td>96.69</td>\n",
              "      <td>90.65</td>\n",
              "      <td>74.81</td>\n",
              "      <td>82.99</td>\n",
              "    </tr>\n",
              "  </tbody>\n",
              "</table>\n",
              "</div>\n",
              "      <button class=\"colab-df-convert\" onclick=\"convertToInteractive('df-cc202749-21a7-424b-8721-e76672993f07')\"\n",
              "              title=\"Convert this dataframe to an interactive table.\"\n",
              "              style=\"display:none;\">\n",
              "        \n",
              "  <svg xmlns=\"http://www.w3.org/2000/svg\" height=\"24px\"viewBox=\"0 0 24 24\"\n",
              "       width=\"24px\">\n",
              "    <path d=\"M0 0h24v24H0V0z\" fill=\"none\"/>\n",
              "    <path d=\"M18.56 5.44l.94 2.06.94-2.06 2.06-.94-2.06-.94-.94-2.06-.94 2.06-2.06.94zm-11 1L8.5 8.5l.94-2.06 2.06-.94-2.06-.94L8.5 2.5l-.94 2.06-2.06.94zm10 10l.94 2.06.94-2.06 2.06-.94-2.06-.94-.94-2.06-.94 2.06-2.06.94z\"/><path d=\"M17.41 7.96l-1.37-1.37c-.4-.4-.92-.59-1.43-.59-.52 0-1.04.2-1.43.59L10.3 9.45l-7.72 7.72c-.78.78-.78 2.05 0 2.83L4 21.41c.39.39.9.59 1.41.59.51 0 1.02-.2 1.41-.59l7.78-7.78 2.81-2.81c.8-.78.8-2.07 0-2.86zM5.41 20L4 18.59l7.72-7.72 1.47 1.35L5.41 20z\"/>\n",
              "  </svg>\n",
              "      </button>\n",
              "      \n",
              "  <style>\n",
              "    .colab-df-container {\n",
              "      display:flex;\n",
              "      flex-wrap:wrap;\n",
              "      gap: 12px;\n",
              "    }\n",
              "\n",
              "    .colab-df-convert {\n",
              "      background-color: #E8F0FE;\n",
              "      border: none;\n",
              "      border-radius: 50%;\n",
              "      cursor: pointer;\n",
              "      display: none;\n",
              "      fill: #1967D2;\n",
              "      height: 32px;\n",
              "      padding: 0 0 0 0;\n",
              "      width: 32px;\n",
              "    }\n",
              "\n",
              "    .colab-df-convert:hover {\n",
              "      background-color: #E2EBFA;\n",
              "      box-shadow: 0px 1px 2px rgba(60, 64, 67, 0.3), 0px 1px 3px 1px rgba(60, 64, 67, 0.15);\n",
              "      fill: #174EA6;\n",
              "    }\n",
              "\n",
              "    [theme=dark] .colab-df-convert {\n",
              "      background-color: #3B4455;\n",
              "      fill: #D2E3FC;\n",
              "    }\n",
              "\n",
              "    [theme=dark] .colab-df-convert:hover {\n",
              "      background-color: #434B5C;\n",
              "      box-shadow: 0px 1px 3px 1px rgba(0, 0, 0, 0.15);\n",
              "      filter: drop-shadow(0px 1px 2px rgba(0, 0, 0, 0.3));\n",
              "      fill: #FFFFFF;\n",
              "    }\n",
              "  </style>\n",
              "\n",
              "      <script>\n",
              "        const buttonEl =\n",
              "          document.querySelector('#df-cc202749-21a7-424b-8721-e76672993f07 button.colab-df-convert');\n",
              "        buttonEl.style.display =\n",
              "          google.colab.kernel.accessAllowed ? 'block' : 'none';\n",
              "\n",
              "        async function convertToInteractive(key) {\n",
              "          const element = document.querySelector('#df-cc202749-21a7-424b-8721-e76672993f07');\n",
              "          const dataTable =\n",
              "            await google.colab.kernel.invokeFunction('convertToInteractive',\n",
              "                                                     [key], {});\n",
              "          if (!dataTable) return;\n",
              "\n",
              "          const docLinkHtml = 'Like what you see? Visit the ' +\n",
              "            '<a target=\"_blank\" href=https://colab.research.google.com/notebooks/data_table.ipynb>data table notebook</a>'\n",
              "            + ' to learn more about interactive tables.';\n",
              "          element.innerHTML = '';\n",
              "          dataTable['output_type'] = 'display_data';\n",
              "          await google.colab.output.renderOutput(dataTable, element);\n",
              "          const docLink = document.createElement('div');\n",
              "          docLink.innerHTML = docLinkHtml;\n",
              "          element.appendChild(docLink);\n",
              "        }\n",
              "      </script>\n",
              "    </div>\n",
              "  </div>\n",
              "  "
            ]
          },
          "metadata": {},
          "execution_count": 3
        }
      ]
    },
    {
      "cell_type": "code",
      "source": [
        "df.shape"
      ],
      "metadata": {
        "colab": {
          "base_uri": "https://localhost:8080/"
        },
        "id": "rez3qri6dyOf",
        "outputId": "bcedba6f-d424-4139-bbb3-9aef5cc27431"
      },
      "execution_count": null,
      "outputs": [
        {
          "output_type": "execute_result",
          "data": {
            "text/plain": [
              "(169, 18)"
            ]
          },
          "metadata": {},
          "execution_count": 4
        }
      ]
    },
    {
      "cell_type": "code",
      "source": [
        "df.info()                 #no null values"
      ],
      "metadata": {
        "colab": {
          "base_uri": "https://localhost:8080/"
        },
        "id": "_5AU0Crzd2__",
        "outputId": "3fd63603-d5d0-47c6-cf6b-c58a0fc7f19e"
      },
      "execution_count": null,
      "outputs": [
        {
          "output_type": "stream",
          "name": "stdout",
          "text": [
            "<class 'pandas.core.frame.DataFrame'>\n",
            "RangeIndex: 169 entries, 0 to 168\n",
            "Data columns (total 18 columns):\n",
            " #   Column                   Non-Null Count  Dtype  \n",
            "---  ------                   --------------  -----  \n",
            " 0   spi_rank                 168 non-null    float64\n",
            " 1   country                  169 non-null    object \n",
            " 2   spi_score                169 non-null    float64\n",
            " 3   basic_human_needs        169 non-null    float64\n",
            " 4   wellbeing                169 non-null    float64\n",
            " 5   opportunity              169 non-null    float64\n",
            " 6   basic_nutri_med_care     169 non-null    float64\n",
            " 7   water_sanitation         169 non-null    float64\n",
            " 8   shelter                  169 non-null    float64\n",
            " 9   personal_safety          169 non-null    float64\n",
            " 10  access_basic_knowledge   169 non-null    float64\n",
            " 11  access_info_comm         169 non-null    float64\n",
            " 12  health_wellness          169 non-null    float64\n",
            " 13  env_quality              169 non-null    float64\n",
            " 14  personal_rights          169 non-null    float64\n",
            " 15  personal_freedom_choice  169 non-null    float64\n",
            " 16  inclusiveness            169 non-null    float64\n",
            " 17  access_adv_edu           169 non-null    float64\n",
            "dtypes: float64(17), object(1)\n",
            "memory usage: 23.9+ KB\n"
          ]
        }
      ]
    },
    {
      "cell_type": "code",
      "source": [
        "df.drop_duplicates(inplace = True)\n",
        "df.shape                        #no duplicate values"
      ],
      "metadata": {
        "colab": {
          "base_uri": "https://localhost:8080/"
        },
        "id": "AekrIdGrd73T",
        "outputId": "f353625b-a64c-4a9d-def7-e39ef44449c8"
      },
      "execution_count": null,
      "outputs": [
        {
          "output_type": "execute_result",
          "data": {
            "text/plain": [
              "(169, 18)"
            ]
          },
          "metadata": {},
          "execution_count": 8
        }
      ]
    },
    {
      "cell_type": "markdown",
      "source": [
        "## Descriptive Statistics and Visualisation"
      ],
      "metadata": {
        "id": "1C0vxOJveU9s"
      }
    },
    {
      "cell_type": "code",
      "source": [
        "df.describe()"
      ],
      "metadata": {
        "colab": {
          "base_uri": "https://localhost:8080/",
          "height": 364
        },
        "id": "g6kq6JnmeXbm",
        "outputId": "0ba10345-0e28-4de7-de40-db3ae1a505cb"
      },
      "execution_count": null,
      "outputs": [
        {
          "output_type": "execute_result",
          "data": {
            "text/plain": [
              "         spi_rank   spi_score  basic_human_needs   wellbeing  opportunity  \\\n",
              "count  168.000000  169.000000         169.000000  169.000000   169.000000   \n",
              "mean    84.500000   67.433136          76.142959   67.774379    58.381657   \n",
              "std     48.641546   15.012150          16.252248   15.397385    15.805868   \n",
              "min      1.000000   32.500000          29.910000   34.170000    23.370000   \n",
              "25%     42.750000   55.170000          62.650000   55.480000    47.900000   \n",
              "50%     84.500000   68.090000          82.460000   67.350000    56.440000   \n",
              "75%    126.250000   78.810000          88.700000   79.200000    69.480000   \n",
              "max    168.000000   92.630000          96.850000   93.800000    89.300000   \n",
              "\n",
              "       basic_nutri_med_care  water_sanitation     shelter  personal_safety  \\\n",
              "count            169.000000        169.000000  169.000000       169.000000   \n",
              "mean              84.705976         76.122840   77.088166        66.656509   \n",
              "std               14.414040         23.408526   18.811647        14.404784   \n",
              "min               36.420000         14.800000   26.790000        29.460000   \n",
              "25%               72.420000         57.060000   64.570000        55.810000   \n",
              "50%               91.330000         86.150000   87.300000        67.210000   \n",
              "75%               96.720000         96.750000   90.620000        76.340000   \n",
              "max               98.990000         99.270000   96.870000        96.180000   \n",
              "\n",
              "       access_basic_knowledge  access_info_comm  health_wellness  env_quality  \\\n",
              "count              169.000000        169.000000       169.000000   169.000000   \n",
              "mean                74.758698         66.822367        62.325562    67.189704   \n",
              "std                 19.464110         20.382707        16.034389    14.340080   \n",
              "min                 23.140000          6.810000        21.030000    23.950000   \n",
              "25%                 61.560000         52.110000        49.530000    58.290000   \n",
              "50%                 79.080000         70.280000        62.370000    67.280000   \n",
              "75%                 91.220000         82.750000        73.330000    77.540000   \n",
              "max                 99.510000         98.180000        92.100000    95.150000   \n",
              "\n",
              "       personal_rights  personal_freedom_choice  inclusiveness  access_adv_edu  \n",
              "count       169.000000               169.000000     169.000000      169.000000  \n",
              "mean         69.627811                62.908343      46.802840       54.188166  \n",
              "std          21.535655                15.078164      17.008499       18.564111  \n",
              "min          14.880000                26.670000       4.260000       19.700000  \n",
              "25%          54.010000                52.670000      34.300000       36.230000  \n",
              "50%          71.200000                62.420000      47.240000       54.320000  \n",
              "75%          88.660000                73.790000      58.150000       68.470000  \n",
              "max          97.910000                91.160000      83.770000       89.600000  "
            ],
            "text/html": [
              "\n",
              "  <div id=\"df-0e7948c9-5ca6-4f17-b62a-0510ffc5ac37\">\n",
              "    <div class=\"colab-df-container\">\n",
              "      <div>\n",
              "<style scoped>\n",
              "    .dataframe tbody tr th:only-of-type {\n",
              "        vertical-align: middle;\n",
              "    }\n",
              "\n",
              "    .dataframe tbody tr th {\n",
              "        vertical-align: top;\n",
              "    }\n",
              "\n",
              "    .dataframe thead th {\n",
              "        text-align: right;\n",
              "    }\n",
              "</style>\n",
              "<table border=\"1\" class=\"dataframe\">\n",
              "  <thead>\n",
              "    <tr style=\"text-align: right;\">\n",
              "      <th></th>\n",
              "      <th>spi_rank</th>\n",
              "      <th>spi_score</th>\n",
              "      <th>basic_human_needs</th>\n",
              "      <th>wellbeing</th>\n",
              "      <th>opportunity</th>\n",
              "      <th>basic_nutri_med_care</th>\n",
              "      <th>water_sanitation</th>\n",
              "      <th>shelter</th>\n",
              "      <th>personal_safety</th>\n",
              "      <th>access_basic_knowledge</th>\n",
              "      <th>access_info_comm</th>\n",
              "      <th>health_wellness</th>\n",
              "      <th>env_quality</th>\n",
              "      <th>personal_rights</th>\n",
              "      <th>personal_freedom_choice</th>\n",
              "      <th>inclusiveness</th>\n",
              "      <th>access_adv_edu</th>\n",
              "    </tr>\n",
              "  </thead>\n",
              "  <tbody>\n",
              "    <tr>\n",
              "      <th>count</th>\n",
              "      <td>168.000000</td>\n",
              "      <td>169.000000</td>\n",
              "      <td>169.000000</td>\n",
              "      <td>169.000000</td>\n",
              "      <td>169.000000</td>\n",
              "      <td>169.000000</td>\n",
              "      <td>169.000000</td>\n",
              "      <td>169.000000</td>\n",
              "      <td>169.000000</td>\n",
              "      <td>169.000000</td>\n",
              "      <td>169.000000</td>\n",
              "      <td>169.000000</td>\n",
              "      <td>169.000000</td>\n",
              "      <td>169.000000</td>\n",
              "      <td>169.000000</td>\n",
              "      <td>169.000000</td>\n",
              "      <td>169.000000</td>\n",
              "    </tr>\n",
              "    <tr>\n",
              "      <th>mean</th>\n",
              "      <td>84.500000</td>\n",
              "      <td>67.433136</td>\n",
              "      <td>76.142959</td>\n",
              "      <td>67.774379</td>\n",
              "      <td>58.381657</td>\n",
              "      <td>84.705976</td>\n",
              "      <td>76.122840</td>\n",
              "      <td>77.088166</td>\n",
              "      <td>66.656509</td>\n",
              "      <td>74.758698</td>\n",
              "      <td>66.822367</td>\n",
              "      <td>62.325562</td>\n",
              "      <td>67.189704</td>\n",
              "      <td>69.627811</td>\n",
              "      <td>62.908343</td>\n",
              "      <td>46.802840</td>\n",
              "      <td>54.188166</td>\n",
              "    </tr>\n",
              "    <tr>\n",
              "      <th>std</th>\n",
              "      <td>48.641546</td>\n",
              "      <td>15.012150</td>\n",
              "      <td>16.252248</td>\n",
              "      <td>15.397385</td>\n",
              "      <td>15.805868</td>\n",
              "      <td>14.414040</td>\n",
              "      <td>23.408526</td>\n",
              "      <td>18.811647</td>\n",
              "      <td>14.404784</td>\n",
              "      <td>19.464110</td>\n",
              "      <td>20.382707</td>\n",
              "      <td>16.034389</td>\n",
              "      <td>14.340080</td>\n",
              "      <td>21.535655</td>\n",
              "      <td>15.078164</td>\n",
              "      <td>17.008499</td>\n",
              "      <td>18.564111</td>\n",
              "    </tr>\n",
              "    <tr>\n",
              "      <th>min</th>\n",
              "      <td>1.000000</td>\n",
              "      <td>32.500000</td>\n",
              "      <td>29.910000</td>\n",
              "      <td>34.170000</td>\n",
              "      <td>23.370000</td>\n",
              "      <td>36.420000</td>\n",
              "      <td>14.800000</td>\n",
              "      <td>26.790000</td>\n",
              "      <td>29.460000</td>\n",
              "      <td>23.140000</td>\n",
              "      <td>6.810000</td>\n",
              "      <td>21.030000</td>\n",
              "      <td>23.950000</td>\n",
              "      <td>14.880000</td>\n",
              "      <td>26.670000</td>\n",
              "      <td>4.260000</td>\n",
              "      <td>19.700000</td>\n",
              "    </tr>\n",
              "    <tr>\n",
              "      <th>25%</th>\n",
              "      <td>42.750000</td>\n",
              "      <td>55.170000</td>\n",
              "      <td>62.650000</td>\n",
              "      <td>55.480000</td>\n",
              "      <td>47.900000</td>\n",
              "      <td>72.420000</td>\n",
              "      <td>57.060000</td>\n",
              "      <td>64.570000</td>\n",
              "      <td>55.810000</td>\n",
              "      <td>61.560000</td>\n",
              "      <td>52.110000</td>\n",
              "      <td>49.530000</td>\n",
              "      <td>58.290000</td>\n",
              "      <td>54.010000</td>\n",
              "      <td>52.670000</td>\n",
              "      <td>34.300000</td>\n",
              "      <td>36.230000</td>\n",
              "    </tr>\n",
              "    <tr>\n",
              "      <th>50%</th>\n",
              "      <td>84.500000</td>\n",
              "      <td>68.090000</td>\n",
              "      <td>82.460000</td>\n",
              "      <td>67.350000</td>\n",
              "      <td>56.440000</td>\n",
              "      <td>91.330000</td>\n",
              "      <td>86.150000</td>\n",
              "      <td>87.300000</td>\n",
              "      <td>67.210000</td>\n",
              "      <td>79.080000</td>\n",
              "      <td>70.280000</td>\n",
              "      <td>62.370000</td>\n",
              "      <td>67.280000</td>\n",
              "      <td>71.200000</td>\n",
              "      <td>62.420000</td>\n",
              "      <td>47.240000</td>\n",
              "      <td>54.320000</td>\n",
              "    </tr>\n",
              "    <tr>\n",
              "      <th>75%</th>\n",
              "      <td>126.250000</td>\n",
              "      <td>78.810000</td>\n",
              "      <td>88.700000</td>\n",
              "      <td>79.200000</td>\n",
              "      <td>69.480000</td>\n",
              "      <td>96.720000</td>\n",
              "      <td>96.750000</td>\n",
              "      <td>90.620000</td>\n",
              "      <td>76.340000</td>\n",
              "      <td>91.220000</td>\n",
              "      <td>82.750000</td>\n",
              "      <td>73.330000</td>\n",
              "      <td>77.540000</td>\n",
              "      <td>88.660000</td>\n",
              "      <td>73.790000</td>\n",
              "      <td>58.150000</td>\n",
              "      <td>68.470000</td>\n",
              "    </tr>\n",
              "    <tr>\n",
              "      <th>max</th>\n",
              "      <td>168.000000</td>\n",
              "      <td>92.630000</td>\n",
              "      <td>96.850000</td>\n",
              "      <td>93.800000</td>\n",
              "      <td>89.300000</td>\n",
              "      <td>98.990000</td>\n",
              "      <td>99.270000</td>\n",
              "      <td>96.870000</td>\n",
              "      <td>96.180000</td>\n",
              "      <td>99.510000</td>\n",
              "      <td>98.180000</td>\n",
              "      <td>92.100000</td>\n",
              "      <td>95.150000</td>\n",
              "      <td>97.910000</td>\n",
              "      <td>91.160000</td>\n",
              "      <td>83.770000</td>\n",
              "      <td>89.600000</td>\n",
              "    </tr>\n",
              "  </tbody>\n",
              "</table>\n",
              "</div>\n",
              "      <button class=\"colab-df-convert\" onclick=\"convertToInteractive('df-0e7948c9-5ca6-4f17-b62a-0510ffc5ac37')\"\n",
              "              title=\"Convert this dataframe to an interactive table.\"\n",
              "              style=\"display:none;\">\n",
              "        \n",
              "  <svg xmlns=\"http://www.w3.org/2000/svg\" height=\"24px\"viewBox=\"0 0 24 24\"\n",
              "       width=\"24px\">\n",
              "    <path d=\"M0 0h24v24H0V0z\" fill=\"none\"/>\n",
              "    <path d=\"M18.56 5.44l.94 2.06.94-2.06 2.06-.94-2.06-.94-.94-2.06-.94 2.06-2.06.94zm-11 1L8.5 8.5l.94-2.06 2.06-.94-2.06-.94L8.5 2.5l-.94 2.06-2.06.94zm10 10l.94 2.06.94-2.06 2.06-.94-2.06-.94-.94-2.06-.94 2.06-2.06.94z\"/><path d=\"M17.41 7.96l-1.37-1.37c-.4-.4-.92-.59-1.43-.59-.52 0-1.04.2-1.43.59L10.3 9.45l-7.72 7.72c-.78.78-.78 2.05 0 2.83L4 21.41c.39.39.9.59 1.41.59.51 0 1.02-.2 1.41-.59l7.78-7.78 2.81-2.81c.8-.78.8-2.07 0-2.86zM5.41 20L4 18.59l7.72-7.72 1.47 1.35L5.41 20z\"/>\n",
              "  </svg>\n",
              "      </button>\n",
              "      \n",
              "  <style>\n",
              "    .colab-df-container {\n",
              "      display:flex;\n",
              "      flex-wrap:wrap;\n",
              "      gap: 12px;\n",
              "    }\n",
              "\n",
              "    .colab-df-convert {\n",
              "      background-color: #E8F0FE;\n",
              "      border: none;\n",
              "      border-radius: 50%;\n",
              "      cursor: pointer;\n",
              "      display: none;\n",
              "      fill: #1967D2;\n",
              "      height: 32px;\n",
              "      padding: 0 0 0 0;\n",
              "      width: 32px;\n",
              "    }\n",
              "\n",
              "    .colab-df-convert:hover {\n",
              "      background-color: #E2EBFA;\n",
              "      box-shadow: 0px 1px 2px rgba(60, 64, 67, 0.3), 0px 1px 3px 1px rgba(60, 64, 67, 0.15);\n",
              "      fill: #174EA6;\n",
              "    }\n",
              "\n",
              "    [theme=dark] .colab-df-convert {\n",
              "      background-color: #3B4455;\n",
              "      fill: #D2E3FC;\n",
              "    }\n",
              "\n",
              "    [theme=dark] .colab-df-convert:hover {\n",
              "      background-color: #434B5C;\n",
              "      box-shadow: 0px 1px 3px 1px rgba(0, 0, 0, 0.15);\n",
              "      filter: drop-shadow(0px 1px 2px rgba(0, 0, 0, 0.3));\n",
              "      fill: #FFFFFF;\n",
              "    }\n",
              "  </style>\n",
              "\n",
              "      <script>\n",
              "        const buttonEl =\n",
              "          document.querySelector('#df-0e7948c9-5ca6-4f17-b62a-0510ffc5ac37 button.colab-df-convert');\n",
              "        buttonEl.style.display =\n",
              "          google.colab.kernel.accessAllowed ? 'block' : 'none';\n",
              "\n",
              "        async function convertToInteractive(key) {\n",
              "          const element = document.querySelector('#df-0e7948c9-5ca6-4f17-b62a-0510ffc5ac37');\n",
              "          const dataTable =\n",
              "            await google.colab.kernel.invokeFunction('convertToInteractive',\n",
              "                                                     [key], {});\n",
              "          if (!dataTable) return;\n",
              "\n",
              "          const docLinkHtml = 'Like what you see? Visit the ' +\n",
              "            '<a target=\"_blank\" href=https://colab.research.google.com/notebooks/data_table.ipynb>data table notebook</a>'\n",
              "            + ' to learn more about interactive tables.';\n",
              "          element.innerHTML = '';\n",
              "          dataTable['output_type'] = 'display_data';\n",
              "          await google.colab.output.renderOutput(dataTable, element);\n",
              "          const docLink = document.createElement('div');\n",
              "          docLink.innerHTML = docLinkHtml;\n",
              "          element.appendChild(docLink);\n",
              "        }\n",
              "      </script>\n",
              "    </div>\n",
              "  </div>\n",
              "  "
            ]
          },
          "metadata": {},
          "execution_count": 9
        }
      ]
    },
    {
      "cell_type": "markdown",
      "source": [
        "### Regression plot - spi score and basic nutrition and medical care"
      ],
      "metadata": {
        "id": "YwZWGIF3gwfo"
      }
    },
    {
      "cell_type": "code",
      "source": [
        "sns.regplot(x='basic_nutri_med_care',y=\"spi_score\",data=df)\n",
        "plt.ylim(0,)"
      ],
      "metadata": {
        "colab": {
          "base_uri": "https://localhost:8080/",
          "height": 297
        },
        "id": "P2e5967hl8TW",
        "outputId": "ff78c9c0-22b0-4907-eceb-8d1ca739b202"
      },
      "execution_count": null,
      "outputs": [
        {
          "output_type": "execute_result",
          "data": {
            "text/plain": [
              "(0.0, 96.3409743979182)"
            ]
          },
          "metadata": {},
          "execution_count": 30
        },
        {
          "output_type": "display_data",
          "data": {
            "text/plain": [
              "<Figure size 432x288 with 1 Axes>"
            ],
            "image/png": "[encoded data removed]"
          },
          "metadata": {
            "needs_background": "light"
          }
        }
      ]
    },
    {
      "cell_type": "markdown",
      "source": [
        "### Regression plot - spi score and water & sanitation needs"
      ],
      "metadata": {
        "id": "iBko9rEgg8d1"
      }
    },
    {
      "cell_type": "code",
      "source": [
        "sns.regplot(x=\"water_sanitation\",y=\"spi_score\",data=df)\n",
        "plt.ylim(0,)"
      ],
      "metadata": {
        "colab": {
          "base_uri": "https://localhost:8080/",
          "height": 297
        },
        "id": "ERdnSW9qmQSj",
        "outputId": "07c34a73-b6e0-42f0-e8a3-a01821f1c05d"
      },
      "execution_count": null,
      "outputs": [
        {
          "output_type": "execute_result",
          "data": {
            "text/plain": [
              "(0.0, 95.77476381661627)"
            ]
          },
          "metadata": {},
          "execution_count": 31
        },
        {
          "output_type": "display_data",
          "data": {
            "text/plain": [
              "<Figure size 432x288 with 1 Axes>"
            ],
            "image/png": "[encoded data removed]"
          },
          "metadata": {
            "needs_background": "light"
          }
        }
      ]
    },
    {
      "cell_type": "markdown",
      "source": [
        "### Regression plot - Personal safety and spi score"
      ],
      "metadata": {
        "id": "LUr-8Dxwhygm"
      }
    },
    {
      "cell_type": "code",
      "source": [
        "sns.regplot(x=\"personal_safety\",y=\"spi_score\",data=df)\n",
        "plt.ylim(0,)"
      ],
      "metadata": {
        "colab": {
          "base_uri": "https://localhost:8080/",
          "height": 297
        },
        "id": "Px9eQyY4lqb2",
        "outputId": "8058cefc-86a0-419e-bd74-44b226a98cc1"
      },
      "execution_count": null,
      "outputs": [
        {
          "output_type": "execute_result",
          "data": {
            "text/plain": [
              "(0.0, 97.67155540908368)"
            ]
          },
          "metadata": {},
          "execution_count": 29
        },
        {
          "output_type": "display_data",
          "data": {
            "text/plain": [
              "<Figure size 432x288 with 1 Axes>"
            ],
            "image/png": "[encoded data removed]"
          },
          "metadata": {
            "needs_background": "light"
          }
        }
      ]
    },
    {
      "cell_type": "markdown",
      "source": [
        "### Regression plot - Opportunity and spi score"
      ],
      "metadata": {
        "id": "9l661_h0ipL_"
      }
    },
    {
      "cell_type": "code",
      "source": [
        "sns.regplot(x='opportunity',y='spi_score',data=df)\n",
        "plt.ylim(0,)"
      ],
      "metadata": {
        "colab": {
          "base_uri": "https://localhost:8080/",
          "height": 296
        },
        "id": "tMHie59NkxAZ",
        "outputId": "572719f0-1cb7-4db6-ab85-eb0f03f22ca0"
      },
      "execution_count": null,
      "outputs": [
        {
          "output_type": "execute_result",
          "data": {
            "text/plain": [
              "(0.0, 99.12209095141573)"
            ]
          },
          "metadata": {},
          "execution_count": 26
        },
        {
          "output_type": "display_data",
          "data": {
            "text/plain": [
              "<Figure size 432x288 with 1 Axes>"
            ],
            "image/png": "[encoded data removed]"
          },
          "metadata": {
            "needs_background": "light"
          }
        }
      ]
    },
    {
      "cell_type": "markdown",
      "source": [
        "### Regression plot - Basic human needs and spi score"
      ],
      "metadata": {
        "id": "xwWi3Qd8i9Zt"
      }
    },
    {
      "cell_type": "code",
      "source": [
        "sns.regplot(x='basic_human_needs',y = 'spi_score',data = df)\n",
        "plt.ylim(0,)                                          #There is a positive correlation between basic human needs and spi score"
      ],
      "metadata": {
        "colab": {
          "base_uri": "https://localhost:8080/",
          "height": 297
        },
        "id": "PMz2Zb0okNOJ",
        "outputId": "ae587a8f-89c9-4e39-f565-4c6fdf1d2c42"
      },
      "execution_count": null,
      "outputs": [
        {
          "output_type": "execute_result",
          "data": {
            "text/plain": [
              "(0.0, 96.0005531697347)"
            ]
          },
          "metadata": {},
          "execution_count": 25
        },
        {
          "output_type": "display_data",
          "data": {
            "text/plain": [
              "<Figure size 432x288 with 1 Axes>"
            ],
            "image/png": "[encoded data removed]"
          },
          "metadata": {
            "needs_background": "light"
          }
        }
      ]
    }
  ]
}